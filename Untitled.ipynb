{
 "cells": [
  {
   "cell_type": "code",
   "execution_count": 1,
   "metadata": {
    "collapsed": true
   },
   "outputs": [],
   "source": [
    "%gui qt5"
   ]
  },
  {
   "cell_type": "code",
   "execution_count": 2,
   "metadata": {
    "collapsed": false
   },
   "outputs": [],
   "source": [
    "from lib.ui import spectrum_widget_Qt5 as swidget\n",
    "import numpy as np\n",
    "import pyqtgraph as pg\n",
    "from lib.parsers import cameca"
   ]
  },
  {
   "cell_type": "code",
   "execution_count": 3,
   "metadata": {
    "collapsed": false,
    "scrolled": true
   },
   "outputs": [
    {
     "name": "stdout",
     "output_type": "stream",
     "text": [
      "n_item_offset:  76\n",
      "start_of_item at: 400\n",
      "item_definition starts at: 500\n",
      "array starts at: 572\n",
      "array_size: 1809600\n",
      "estimated size of one slice:  1809600\n",
      "780 580 4\n",
      "position after data: 1810172\n"
     ]
    }
   ],
   "source": [
    "cam_img = cameca.CamecaImage(r'Bojanowski/Image&Profiles/11_ROI1.impdat')"
   ]
  },
  {
   "cell_type": "code",
   "execution_count": 4,
   "metadata": {
    "collapsed": false
   },
   "outputs": [],
   "source": [
    "dts = cam_img.datasets[0]"
   ]
  },
  {
   "cell_type": "code",
   "execution_count": 11,
   "metadata": {
    "collapsed": false
   },
   "outputs": [
    {
     "data": {
      "text/plain": [
       "array([[[ 76,  76,  91,   0],\n",
       "        [ 69,  78,  86,   0],\n",
       "        [ 69,  90,  92,   0],\n",
       "        ..., \n",
       "        [ 26,  28,  30,   0],\n",
       "        [ 33,  35,  37,   0],\n",
       "        [ 39,  38,  40,   0]],\n",
       "\n",
       "       [[ 75,  67,  61,   0],\n",
       "        [ 77,  69,  67,   0],\n",
       "        [ 90,  81,  77,   0],\n",
       "        ..., \n",
       "        [ 23,  27,  30,   0],\n",
       "        [ 29,  33,  36,   0],\n",
       "        [ 32,  40,  42,   0]],\n",
       "\n",
       "       [[ 40,  68,  58,   0],\n",
       "        [ 39,  70,  63,   0],\n",
       "        [ 54,  81,  77,   0],\n",
       "        ..., \n",
       "        [ 20,  29,  28,   0],\n",
       "        [ 27,  36,  35,   0],\n",
       "        [ 25,  42,  47,   0]],\n",
       "\n",
       "       ..., \n",
       "       [[160, 152, 136,   0],\n",
       "        [168, 151, 137,   0],\n",
       "        [173, 144, 132,   0],\n",
       "        ..., \n",
       "        [126, 135, 134,   0],\n",
       "        [114, 123, 122,   0],\n",
       "        [117, 119, 104,   0]],\n",
       "\n",
       "       [[178, 158, 139,   0],\n",
       "        [163, 152, 136,   0],\n",
       "        [150, 142, 132,   0],\n",
       "        ..., \n",
       "        [167, 165, 143,   0],\n",
       "        [140, 138, 116,   0],\n",
       "        [138, 126, 107,   0]],\n",
       "\n",
       "       [[177, 159, 141,   0],\n",
       "        [167, 154, 137,   0],\n",
       "        [154, 146, 125,   0],\n",
       "        ..., \n",
       "        [158, 195, 188,   0],\n",
       "        [133, 170, 163,   0],\n",
       "        [134, 153, 148,   0]]], dtype=uint8)"
      ]
     },
     "execution_count": 11,
     "metadata": {},
     "output_type": "execute_result"
    }
   ],
   "source": [
    "dts.items[0]['data']"
   ]
  },
  {
   "cell_type": "code",
   "execution_count": 23,
   "metadata": {
    "collapsed": false
   },
   "outputs": [],
   "source": [
    "for i in range(dts.n_of_items):\n",
    "    pg.image(dts.items[i]['data'])"
   ]
  },
  {
   "cell_type": "code",
   "execution_count": 29,
   "metadata": {
    "collapsed": false
   },
   "outputs": [],
   "source": [
    "dts.items[0]['data'][:,:,3] = 255"
   ]
  },
  {
   "cell_type": "code",
   "execution_count": 3,
   "metadata": {
    "collapsed": false,
    "scrolled": true
   },
   "outputs": [
    {
     "name": "stdout",
     "output_type": "stream",
     "text": [
      "n_item_offset:  76\n",
      "start_of_item at: 406\n",
      "start_of_item at: 8870\n",
      "start_of_item at: 17334\n",
      "start_of_item at: 25798\n",
      "start_of_item at: 34262\n",
      "start_of_item at: 43404\n",
      "start_of_item at: 51868\n",
      "start_of_item at: 60332\n",
      "start_of_item at: 68796\n",
      "start_of_item at: 77260\n",
      "start_of_item at: 86403\n",
      "start_of_item at: 94867\n",
      "start_of_item at: 103331\n",
      "start_of_item at: 111795\n",
      "start_of_item at: 120259\n",
      "start_of_item at: 129407\n",
      "start_of_item at: 137871\n",
      "start_of_item at: 146335\n",
      "start_of_item at: 154799\n",
      "start_of_item at: 163263\n",
      "start_of_item at: 172414\n",
      "start_of_item at: 180878\n",
      "start_of_item at: 189342\n",
      "start_of_item at: 197806\n",
      "start_of_item at: 206270\n",
      "start_of_item at: 215418\n",
      "start_of_item at: 223882\n",
      "start_of_item at: 232346\n",
      "start_of_item at: 240810\n",
      "start_of_item at: 249274\n",
      "start_of_item at: 258417\n",
      "start_of_item at: 266881\n",
      "start_of_item at: 275345\n",
      "start_of_item at: 283809\n",
      "start_of_item at: 292273\n",
      "start_of_item at: 301417\n",
      "start_of_item at: 309881\n",
      "start_of_item at: 318345\n",
      "start_of_item at: 326809\n",
      "start_of_item at: 335273\n",
      "start_of_item at: 344417\n",
      "start_of_item at: 352881\n",
      "start_of_item at: 361345\n",
      "start_of_item at: 369809\n",
      "start_of_item at: 378273\n",
      "start_of_item at: 387416\n",
      "start_of_item at: 395880\n",
      "start_of_item at: 404344\n",
      "start_of_item at: 412808\n",
      "start_of_item at: 421272\n",
      "start_of_item at: 430414\n",
      "start_of_item at: 438878\n",
      "start_of_item at: 447342\n",
      "start_of_item at: 455806\n",
      "start_of_item at: 464270\n",
      "start_of_item at: 473411\n",
      "start_of_item at: 481875\n",
      "start_of_item at: 490339\n",
      "start_of_item at: 498803\n",
      "start_of_item at: 507267\n",
      "start_of_item at: 516410\n",
      "start_of_item at: 524874\n",
      "start_of_item at: 533338\n",
      "start_of_item at: 541802\n",
      "start_of_item at: 550266\n",
      "start_of_item at: 559410\n",
      "start_of_item at: 567874\n",
      "start_of_item at: 576338\n",
      "start_of_item at: 584802\n",
      "start_of_item at: 593266\n",
      "start_of_item at: 602413\n",
      "start_of_item at: 610877\n",
      "start_of_item at: 619341\n",
      "start_of_item at: 627805\n",
      "start_of_item at: 636269\n",
      "start_of_item at: 645412\n",
      "start_of_item at: 653876\n",
      "start_of_item at: 662340\n",
      "start_of_item at: 670804\n",
      "start_of_item at: 679268\n",
      "start_of_item at: 688410\n",
      "start_of_item at: 696874\n",
      "start_of_item at: 705338\n",
      "start_of_item at: 713802\n",
      "start_of_item at: 722266\n",
      "start_of_item at: 731408\n",
      "start_of_item at: 739872\n",
      "start_of_item at: 748336\n",
      "start_of_item at: 756800\n",
      "start_of_item at: 765264\n",
      "start_of_item at: 774405\n",
      "start_of_item at: 782869\n",
      "start_of_item at: 791333\n",
      "start_of_item at: 799797\n",
      "start_of_item at: 808261\n",
      "start_of_item at: 817402\n",
      "start_of_item at: 825866\n",
      "start_of_item at: 834330\n",
      "start_of_item at: 842794\n",
      "start_of_item at: 851258\n",
      "start_of_item at: 860399\n",
      "start_of_item at: 868863\n",
      "start_of_item at: 877327\n",
      "start_of_item at: 885791\n",
      "start_of_item at: 894255\n",
      "start_of_item at: 903401\n",
      "start_of_item at: 911865\n",
      "start_of_item at: 920329\n",
      "start_of_item at: 928793\n",
      "start_of_item at: 937257\n",
      "start_of_item at: 946399\n",
      "start_of_item at: 954863\n",
      "start_of_item at: 963327\n",
      "start_of_item at: 971791\n",
      "start_of_item at: 980255\n",
      "start_of_item at: 989407\n",
      "start_of_item at: 997871\n",
      "start_of_item at: 1006335\n",
      "start_of_item at: 1014799\n",
      "start_of_item at: 1023263\n",
      "start_of_item at: 1032405\n",
      "start_of_item at: 1040869\n",
      "start_of_item at: 1049333\n",
      "start_of_item at: 1057797\n",
      "start_of_item at: 1066261\n",
      "start_of_item at: 1075404\n",
      "start_of_item at: 1083868\n",
      "start_of_item at: 1092332\n",
      "start_of_item at: 1100796\n",
      "start_of_item at: 1109260\n",
      "start_of_item at: 1118402\n",
      "start_of_item at: 1126866\n",
      "start_of_item at: 1135330\n",
      "start_of_item at: 1143794\n",
      "start_of_item at: 1152258\n",
      "start_of_item at: 1161400\n",
      "start_of_item at: 1169864\n",
      "start_of_item at: 1178328\n",
      "start_of_item at: 1186792\n",
      "start_of_item at: 1195256\n",
      "start_of_item at: 1204400\n",
      "start_of_item at: 1212864\n",
      "start_of_item at: 1221328\n",
      "start_of_item at: 1229792\n",
      "start_of_item at: 1238256\n",
      "start_of_item at: 1247403\n",
      "start_of_item at: 1255867\n",
      "start_of_item at: 1264331\n",
      "start_of_item at: 1272795\n",
      "start_of_item at: 1281259\n",
      "start_of_item at: 1290403\n",
      "start_of_item at: 1298867\n",
      "start_of_item at: 1307331\n",
      "start_of_item at: 1315795\n",
      "start_of_item at: 1324259\n",
      "start_of_item at: 1333403\n",
      "start_of_item at: 1341867\n",
      "start_of_item at: 1350331\n",
      "start_of_item at: 1358795\n",
      "start_of_item at: 1367259\n",
      "start_of_item at: 1376401\n",
      "start_of_item at: 1384865\n",
      "start_of_item at: 1393329\n",
      "start_of_item at: 1401793\n",
      "start_of_item at: 1410257\n",
      "start_of_item at: 1419406\n",
      "start_of_item at: 1427870\n",
      "start_of_item at: 1436334\n",
      "start_of_item at: 1444798\n",
      "start_of_item at: 1453262\n",
      "start_of_item at: 1462412\n",
      "start_of_item at: 1470876\n",
      "start_of_item at: 1479340\n",
      "start_of_item at: 1487804\n",
      "start_of_item at: 1496268\n",
      "start_of_item at: 1505412\n",
      "start_of_item at: 1513876\n",
      "start_of_item at: 1522340\n",
      "start_of_item at: 1530804\n",
      "start_of_item at: 1539268\n",
      "start_of_item at: 1548411\n",
      "start_of_item at: 1556875\n",
      "start_of_item at: 1565339\n",
      "start_of_item at: 1573803\n",
      "start_of_item at: 1582267\n",
      "start_of_item at: 1591410\n",
      "start_of_item at: 1599874\n",
      "start_of_item at: 1608338\n",
      "start_of_item at: 1616802\n",
      "start_of_item at: 1625266\n",
      "start_of_item at: 1634409\n",
      "start_of_item at: 1642873\n",
      "start_of_item at: 1651337\n",
      "start_of_item at: 1659801\n",
      "start_of_item at: 1668265\n",
      "start_of_item at: 1677408\n",
      "start_of_item at: 1685872\n",
      "start_of_item at: 1694336\n",
      "start_of_item at: 1702800\n",
      "start_of_item at: 1711264\n",
      "start_of_item at: 1720407\n",
      "start_of_item at: 1728871\n",
      "start_of_item at: 1737335\n",
      "start_of_item at: 1745799\n",
      "start_of_item at: 1754263\n",
      "start_of_item at: 1763406\n",
      "start_of_item at: 1771870\n",
      "start_of_item at: 1780334\n",
      "start_of_item at: 1788798\n",
      "start_of_item at: 1797262\n",
      "start_of_item at: 1806405\n",
      "start_of_item at: 1814869\n",
      "start_of_item at: 1823333\n",
      "start_of_item at: 1831797\n",
      "start_of_item at: 1840261\n",
      "start_of_item at: 1849404\n",
      "start_of_item at: 1857868\n",
      "start_of_item at: 1866332\n",
      "start_of_item at: 1874796\n",
      "start_of_item at: 1883260\n",
      "start_of_item at: 1892403\n",
      "start_of_item at: 1900867\n",
      "start_of_item at: 1909331\n",
      "start_of_item at: 1917795\n",
      "start_of_item at: 1926259\n",
      "start_of_item at: 1935402\n",
      "start_of_item at: 1943866\n",
      "start_of_item at: 1952330\n",
      "start_of_item at: 1960794\n",
      "start_of_item at: 1969258\n",
      "start_of_item at: 1978401\n",
      "start_of_item at: 1986865\n",
      "start_of_item at: 1995329\n",
      "start_of_item at: 2003793\n",
      "start_of_item at: 2012257\n",
      "start_of_item at: 2021400\n",
      "start_of_item at: 2029864\n",
      "start_of_item at: 2038328\n",
      "start_of_item at: 2046792\n",
      "start_of_item at: 2055256\n",
      "start_of_item at: 2064399\n",
      "start_of_item at: 2072863\n",
      "start_of_item at: 2081327\n",
      "start_of_item at: 2089791\n",
      "start_of_item at: 2098255\n",
      "start_of_item at: 2107398\n",
      "start_of_item at: 2115862\n",
      "start_of_item at: 2124326\n",
      "start_of_item at: 2132790\n",
      "start_of_item at: 2141254\n",
      "start_of_item at: 2150396\n",
      "start_of_item at: 2158860\n",
      "start_of_item at: 2167324\n",
      "start_of_item at: 2175788\n",
      "start_of_item at: 2184252\n",
      "start_of_item at: 2193399\n",
      "start_of_item at: 2201863\n",
      "start_of_item at: 2210327\n",
      "start_of_item at: 2218791\n",
      "start_of_item at: 2227255\n",
      "start_of_item at: 2236402\n",
      "start_of_item at: 2244866\n",
      "start_of_item at: 2253330\n",
      "start_of_item at: 2261794\n",
      "start_of_item at: 2270258\n",
      "start_of_item at: 2279400\n",
      "start_of_item at: 2287864\n",
      "start_of_item at: 2296328\n",
      "start_of_item at: 2304792\n",
      "start_of_item at: 2313256\n"
     ]
    }
   ],
   "source": [
    "cam_wds = cameca.CamecaWDS('MEGA_WDS (2).wdsDat')"
   ]
  },
  {
   "cell_type": "code",
   "execution_count": 6,
   "metadata": {
    "collapsed": false
   },
   "outputs": [
    {
     "data": {
      "text/plain": [
       "<FileType.IMAGE_MAPPING_RESULT: 7>"
      ]
     },
     "execution_count": 6,
     "metadata": {},
     "output_type": "execute_result"
    }
   ],
   "source": [
    "cam_img.file_type"
   ]
  },
  {
   "cell_type": "code",
   "execution_count": 4,
   "metadata": {
    "collapsed": true
   },
   "outputs": [],
   "source": [
    "thing1 = swidget.EDSSpectraGUI(icon_size=24)"
   ]
  },
  {
   "cell_type": "code",
   "execution_count": 5,
   "metadata": {
    "collapsed": false
   },
   "outputs": [],
   "source": [
    "thing1.canvas.setLimits(xMax=200000)"
   ]
  },
  {
   "cell_type": "code",
   "execution_count": 6,
   "metadata": {
    "collapsed": false
   },
   "outputs": [],
   "source": [
    "thing1.show()"
   ]
  },
  {
   "cell_type": "code",
   "execution_count": 7,
   "metadata": {
    "collapsed": false
   },
   "outputs": [],
   "source": [
    "def set_wds(canvas, datasets, spect=0):\n",
    "    for i in datasets:\n",
    "        x = np.arange(i.items[spect]['wds_start_pos'],\n",
    "                      i.items[spect]['wds_start_pos'] + i.items[spect]['steps'] * i.items[spect]['step_size'],\n",
    "                      i.items[spect]['step_size'])\n",
    "        y = i.items[spect]['data']\n",
    "        itm = pg.PlotDataItem(x, y, name=i.comment,)\n",
    "        itm.sigClicked.connect(print_curve)\n",
    "        itm.setToolTip(i.comment)\n",
    "        itm.setAcceptHoverEvents(True)\n",
    "        canvas.addItem(itm)\n",
    "\n",
    "    canvas.set_xtal(i.items[spect]['2D'], i.items[spect]['K'])\n",
    "\n",
    "def print_curve(itm):\n",
    "    print(itm.name)\n"
   ]
  },
  {
   "cell_type": "code",
   "execution_count": 12,
   "metadata": {
    "collapsed": false
   },
   "outputs": [],
   "source": [
    "thing1.canvas.clear()"
   ]
  },
  {
   "cell_type": "code",
   "execution_count": 13,
   "metadata": {
    "collapsed": false
   },
   "outputs": [],
   "source": [
    "set_wds(thing1.canvas, cam_wds.datasets, 2)"
   ]
  },
  {
   "cell_type": "code",
   "execution_count": 14,
   "metadata": {
    "collapsed": false
   },
   "outputs": [],
   "source": [
    "def main_changed(m_line):\n",
    "    text1.setText(str(int(side_line1.value() - main_line.value())))\n",
    "    text2.setText(str(int(side_line2.value() - main_line.value())))\n",
    "    if len(thing1.canvas.p1.avgCurves) > 0:\n",
    "        x, y = thing1.canvas.p1.avgCurves[()][1].getData()\n",
    "        idx1 = (np.abs(x - side_line1.value())).argmin()\n",
    "        idx2 = (np.abs(x - side_line2.value())).argmin()\n",
    "        lenth = np.abs(x[idx2] - x[idx1])\n",
    "        height = np.abs(np.average(y[idx1-2:idx1+2]) - np.average(y[idx2-2:idx2+2]))\n",
    "        slope_text.setText('slope\\n{:.4f}'.format(height/lenth))\n",
    "    \n",
    "        \n",
    "\n",
    "main_line = pg.InfiniteLine(pos=40000, movable=True, pen=pg.mkPen('b', width=3))\n",
    "side_line1 = pg.InfiniteLine(pos=38000, movable=True, pen=pg.mkPen('b', width=1.5))\n",
    "side_line2 = pg.InfiniteLine(pos=42000, movable=True, pen=pg.mkPen('b', width=1.5))\n",
    "\n",
    "thing1.canvas.p1.addItem(main_line)\n",
    "thing1.canvas.p1.addItem(side_line1)\n",
    "thing1.canvas.p1.addItem(side_line2)\n",
    "\n",
    "text1 = pg.InfLineLabel(side_line1, movable=True, color='r')\n",
    "text2 = pg.InfLineLabel(side_line2, movable=True, color='r')\n",
    "slope_text = pg.InfLineLabel(main_line, movable=True, color='r')\n",
    "\n",
    "main_line.sigPositionChanged.connect(main_changed)\n",
    "side_line1.sigPositionChanged.connect(main_changed)\n",
    "side_line2.sigPositionChanged.connect(main_changed)"
   ]
  },
  {
   "cell_type": "code",
   "execution_count": 15,
   "metadata": {
    "collapsed": false
   },
   "outputs": [],
   "source": [
    "thing1.show()"
   ]
  },
  {
   "cell_type": "code",
   "execution_count": 41,
   "metadata": {
    "collapsed": false
   },
   "outputs": [],
   "source": [
    "avg_line = thing1.canvas.p1.avgCurves"
   ]
  },
  {
   "cell_type": "code",
   "execution_count": 42,
   "metadata": {
    "collapsed": false
   },
   "outputs": [],
   "source": [
    "avg_line[()][1].setPen(pg.mkPen('g', widht=2))"
   ]
  },
  {
   "cell_type": "code",
   "execution_count": 16,
   "metadata": {
    "collapsed": false
   },
   "outputs": [
    {
     "data": {
      "text/plain": [
       "0"
      ]
     },
     "execution_count": 16,
     "metadata": {},
     "output_type": "execute_result"
    }
   ],
   "source": [
    "len(avg_line)"
   ]
  },
  {
   "cell_type": "code",
   "execution_count": 17,
   "metadata": {
    "collapsed": false
   },
   "outputs": [
    {
     "ename": "KeyError",
     "evalue": "()",
     "output_type": "error",
     "traceback": [
      "\u001b[0;31m---------------------------------------------------------------------------\u001b[0m",
      "\u001b[0;31mKeyError\u001b[0m                                  Traceback (most recent call last)",
      "\u001b[0;32m<ipython-input-17-ec1bfb394c01>\u001b[0m in \u001b[0;36m<module>\u001b[0;34m()\u001b[0m\n\u001b[0;32m----> 1\u001b[0;31m \u001b[0ma\u001b[0m \u001b[0;34m=\u001b[0m \u001b[0mavg_line\u001b[0m\u001b[0;34m[\u001b[0m\u001b[0;34m(\u001b[0m\u001b[0;34m)\u001b[0m\u001b[0;34m]\u001b[0m\u001b[0;34m[\u001b[0m\u001b[0;36m1\u001b[0m\u001b[0;34m]\u001b[0m\u001b[0;34m\u001b[0m\u001b[0m\n\u001b[0m",
      "\u001b[0;31mKeyError\u001b[0m: ()"
     ]
    }
   ],
   "source": [
    "a = avg_line[()][1]"
   ]
  },
  {
   "cell_type": "code",
   "execution_count": 18,
   "metadata": {
    "collapsed": false
   },
   "outputs": [
    {
     "data": {
      "text/plain": [
       "38000"
      ]
     },
     "execution_count": 18,
     "metadata": {},
     "output_type": "execute_result"
    }
   ],
   "source": [
    "side_line1.value()"
   ]
  },
  {
   "cell_type": "code",
   "execution_count": 19,
   "metadata": {
    "collapsed": false
   },
   "outputs": [
    {
     "ename": "NameError",
     "evalue": "name 'a' is not defined",
     "output_type": "error",
     "traceback": [
      "\u001b[0;31m---------------------------------------------------------------------------\u001b[0m",
      "\u001b[0;31mNameError\u001b[0m                                 Traceback (most recent call last)",
      "\u001b[0;32m<ipython-input-19-1cf1c344ce43>\u001b[0m in \u001b[0;36m<module>\u001b[0;34m()\u001b[0m\n\u001b[0;32m----> 1\u001b[0;31m \u001b[0mx\u001b[0m\u001b[0;34m,\u001b[0m \u001b[0my\u001b[0m \u001b[0;34m=\u001b[0m \u001b[0ma\u001b[0m\u001b[0;34m.\u001b[0m\u001b[0mgetData\u001b[0m\u001b[0;34m(\u001b[0m\u001b[0;34m)\u001b[0m\u001b[0;34m\u001b[0m\u001b[0m\n\u001b[0m",
      "\u001b[0;31mNameError\u001b[0m: name 'a' is not defined"
     ]
    }
   ],
   "source": [
    "x, y = a.getData()"
   ]
  },
  {
   "cell_type": "code",
   "execution_count": 75,
   "metadata": {
    "collapsed": false,
    "scrolled": true
   },
   "outputs": [
    {
     "ename": "ValueError",
     "evalue": "The truth value of an array with more than one element is ambiguous. Use a.any() or a.all()",
     "output_type": "error",
     "traceback": [
      "\u001b[0;31m---------------------------------------------------------------------------\u001b[0m",
      "\u001b[0;31mValueError\u001b[0m                                Traceback (most recent call last)",
      "\u001b[0;32m<ipython-input-75-be4989e69841>\u001b[0m in \u001b[0;36m<module>\u001b[0;34m()\u001b[0m\n\u001b[0;32m----> 1\u001b[0;31m \u001b[0mnp\u001b[0m\u001b[0;34m.\u001b[0m\u001b[0maverage\u001b[0m\u001b[0;34m(\u001b[0m\u001b[0mx\u001b[0m\u001b[0;34m[\u001b[0m\u001b[0mnp\u001b[0m\u001b[0;34m.\u001b[0m\u001b[0mwhere\u001b[0m\u001b[0;34m(\u001b[0m\u001b[0;34m(\u001b[0m\u001b[0mside_line1\u001b[0m\u001b[0;34m.\u001b[0m\u001b[0mvalue\u001b[0m\u001b[0;34m(\u001b[0m\u001b[0;34m)\u001b[0m\u001b[0;34m-\u001b[0m\u001b[0;36m5\u001b[0m\u001b[0;34m)\u001b[0m\u001b[0;34m>\u001b[0m \u001b[0mx\u001b[0m \u001b[0;34m>\u001b[0m \u001b[0;34m(\u001b[0m\u001b[0mnp\u001b[0m\u001b[0;34m.\u001b[0m\u001b[0mwhere\u001b[0m\u001b[0;34m(\u001b[0m\u001b[0mside_line1\u001b[0m\u001b[0;34m.\u001b[0m\u001b[0mvalue\u001b[0m\u001b[0;34m(\u001b[0m\u001b[0;34m)\u001b[0m\u001b[0;34m+\u001b[0m\u001b[0;36m5\u001b[0m\u001b[0;34m)\u001b[0m\u001b[0;34m)\u001b[0m\u001b[0;34m)\u001b[0m\u001b[0;34m]\u001b[0m\u001b[0;34m)\u001b[0m\u001b[0;34m\u001b[0m\u001b[0m\n\u001b[0m",
      "\u001b[0;31mValueError\u001b[0m: The truth value of an array with more than one element is ambiguous. Use a.any() or a.all()"
     ]
    }
   ],
   "source": [
    "np.average(x[np.where((side_line1.value()-5)> x > (np.where(side_line1.value()+5)))])"
   ]
  },
  {
   "cell_type": "code",
   "execution_count": 77,
   "metadata": {
    "collapsed": false
   },
   "outputs": [],
   "source": [
    "idx = (np.abs(x-side_line1.value())).argmin()"
   ]
  },
  {
   "cell_type": "code",
   "execution_count": 79,
   "metadata": {
    "collapsed": false
   },
   "outputs": [
    {
     "data": {
      "text/plain": [
       "0.0"
      ]
     },
     "execution_count": 79,
     "metadata": {},
     "output_type": "execute_result"
    }
   ],
   "source": [
    "y[idx]"
   ]
  },
  {
   "cell_type": "code",
   "execution_count": 24,
   "metadata": {
    "collapsed": false
   },
   "outputs": [],
   "source": [
    "thing1.canvas.p1.recomputeAverages()"
   ]
  },
  {
   "cell_type": "code",
   "execution_count": 25,
   "metadata": {
    "collapsed": false
   },
   "outputs": [
    {
     "data": {
      "text/plain": [
       "{(): [19,\n",
       "  <pyqtgraph.graphicsItems.PlotDataItem.PlotDataItem at 0x7f62b46a14c8>]}"
      ]
     },
     "execution_count": 25,
     "metadata": {},
     "output_type": "execute_result"
    }
   ],
   "source": [
    "thing1.canvas.p1.avgCurves"
   ]
  },
  {
   "cell_type": "code",
   "execution_count": null,
   "metadata": {
    "collapsed": true
   },
   "outputs": [],
   "source": []
  }
 ],
 "metadata": {
  "kernelspec": {
   "display_name": "Python 3",
   "language": "python",
   "name": "python3"
  },
  "language_info": {
   "codemirror_mode": {
    "name": "ipython",
    "version": 3
   },
   "file_extension": ".py",
   "mimetype": "text/x-python",
   "name": "python",
   "nbconvert_exporter": "python",
   "pygments_lexer": "ipython3",
   "version": "3.5.2"
  }
 },
 "nbformat": 4,
 "nbformat_minor": 1
}

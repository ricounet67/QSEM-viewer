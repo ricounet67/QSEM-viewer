{
 "cells": [
  {
   "cell_type": "code",
   "execution_count": 1,
   "metadata": {},
   "outputs": [],
   "source": [
    "%gui qt5"
   ]
  },
  {
   "cell_type": "code",
   "execution_count": 2,
   "metadata": {},
   "outputs": [],
   "source": [
    "from lib.ui import spectrum_widget_Qt5 as swidget\n",
    "import numpy as np\n",
    "import pyqtgraph as pg\n",
    "from lib.parsers import cameca\n",
    "import PyQt5\n",
    "from scipy import signal"
   ]
  },
  {
   "cell_type": "markdown",
   "metadata": {},
   "source": [
    "## Constructing main window"
   ]
  },
  {
   "cell_type": "code",
   "execution_count": 3,
   "metadata": {},
   "outputs": [],
   "source": [
    "# pg.setConfigOptions(useOpenGL=True)  # this option makes it worse on 2nd generation i5-core with integrated gpu"
   ]
  },
  {
   "cell_type": "code",
   "execution_count": 3,
   "metadata": {},
   "outputs": [],
   "source": [
    "main_widget = PyQt5.QtWidgets.QWidget()\n",
    "main_widget.setWindowTitle('WDS Scan Viewer')\n",
    "main_layout = PyQt5.QtGui.QGridLayout(main_widget)\n",
    "main_widget.setLayout(main_layout)\n",
    "\n",
    "sample_list = PyQt5.QtWidgets.QListView()\n",
    "sample_list.setMaximumWidth(150)\n",
    "main_layout.addWidget(sample_list, 0, 0)\n",
    "alpha_spin = PyQt5.QtWidgets.QSpinBox()\n",
    "alpha_spin.setMaximum(255)\n",
    "main_layout.addWidget(alpha_spin, 1, 0)\n",
    "alpha_spin.setToolTip('alpha of curves (0 to 255)')\n",
    "alpha_spin.setValue(175)\n",
    "sub_widget = PyQt5.QtWidgets.QWidget()\n",
    "main_layout.addWidget(sub_widget, 0, 1, 2, 1)\n",
    "\n",
    "spec_widget = swidget.EDSSpectraGUI(initial_mode='wds', pet_opacity=0.91)\n",
    "spec_widget.canvas.setLimits(xMax=200000)\n",
    "\n",
    "spec_layout= PyQt5.QtGui.QHBoxLayout(sub_widget)\n",
    "sub_widget.setLayout(spec_layout)\n",
    "spec_layout.addWidget(spec_widget, 0)\n",
    "spec_widget.setParent(sub_widget)\n",
    "\n",
    "main_widget.show()"
   ]
  },
  {
   "cell_type": "markdown",
   "metadata": {},
   "source": [
    "## Parsing and loading data:"
   ]
  },
  {
   "cell_type": "code",
   "execution_count": 4,
   "metadata": {},
   "outputs": [],
   "source": [
    "cam_wds3 = cameca.CamecaWDS('../qbhm_datasets/spectra/MEGA_Full15kV.wdsDat')"
   ]
  },
  {
   "cell_type": "code",
   "execution_count": 5,
   "metadata": {},
   "outputs": [],
   "source": [
    "model = cameca.CamecaWDSListModel(cam_wds3)\n",
    "sample_list.setModel(model)\n",
    "selection_model = sample_list.selectionModel()\n",
    "sample_list.setSelectionMode(PyQt5.Qt.QAbstractItemView.ExtendedSelection)"
   ]
  },
  {
   "cell_type": "markdown",
   "metadata": {},
   "source": [
    "## Customized functions for WDS GUI"
   ]
  },
  {
   "cell_type": "code",
   "execution_count": 6,
   "metadata": {},
   "outputs": [],
   "source": [
    "items = {}\n",
    "selection_model = sample_list.selectionModel()\n",
    "\n",
    "def highlighter(selected, deselected):\n",
    "    for i in selected.indexes():\n",
    "        highlight_spectra(model.data(i, 0))\n",
    "    for j in deselected.indexes():\n",
    "        dehighlight_spectra(model.data(j, 0))\n",
    "\n",
    "def set_wds(canvas, datasets, spect=0, sav_gol=False):\n",
    "    items.clear()\n",
    "    try:\n",
    "        selection_model.selectionChanged.disconnect(highlighter)\n",
    "    except TypeError:\n",
    "        print('signal from selection model not connected')\n",
    "    try:\n",
    "        model.dataChanged.disconnect(change_visibility)\n",
    "    except TypeError:\n",
    "        print('signal from model not connected')\n",
    "    try:\n",
    "        alpha_spin.valueChanged.disconnect(change_global_alpha)\n",
    "    except TypeError:\n",
    "        print('signal from alpha spin box not connected')\n",
    "        \n",
    "    for i in datasets:\n",
    "        index = datasets.index(i)\n",
    "        x = np.arange(i.items[spect]['wds_start_pos'],\n",
    "                      i.items[spect]['wds_start_pos'] + i.items[spect]['steps'] * i.items[spect]['step_size'],\n",
    "                      i.items[spect]['step_size'],)\n",
    "        y = i.items[spect]['data']\n",
    "        if isinstance(sav_gol, tuple):\n",
    "            y = signal.savgol_filter(y, sav_gol[0], sav_gol[1])\n",
    "        itm = pg.PlotCurveItem(x, y, name=i.comment, pen=pg.mkPen(index))\n",
    "        itm.setClickable(True, width=2)\n",
    "        itm.sigClicked.connect(print_curve)\n",
    "        #itm.setToolTip(i.comment)\n",
    "        #itm.setAcceptHoverEvents(True)\n",
    "        canvas.addItem(itm)\n",
    "        if model.data(model.index(index), 10) == 0:\n",
    "            itm.hide()\n",
    "        items[i.comment] = itm\n",
    "\n",
    "    canvas.set_xtal(i.items[spect]['2D'], i.items[spect]['K'])\n",
    "    selection_model.selectionChanged.connect(highlighter)\n",
    "    model.dataChanged.connect(change_visibility)\n",
    "    alpha_spin.valueChanged.connect(change_global_alpha)\n",
    "    return items\n",
    "\n",
    "def change_global_alpha():\n",
    "    alpha_val = alpha_spin.value()\n",
    "    for i in items.values():\n",
    "        color = i.opts['pen'].color()\n",
    "        color.setAlpha(alpha_val)\n",
    "        i.setPen(color)\n",
    "\n",
    "def change_visibility(index):\n",
    "    name = model.data(index, 0)\n",
    "    state = model.data(index, 10)\n",
    "    if state == 2:\n",
    "        items[name].show()\n",
    "    elif state == 0:\n",
    "        items[name].hide()\n",
    "\n",
    "def print_curve(itm):\n",
    "    tw.setText(itm.name())\n",
    "    \n",
    "def highlight_spectra(label):\n",
    "    if label in items:\n",
    "        #items[label]._old_pen = items[label].opts['pen']\n",
    "        color = items[label].opts['pen'].color()\n",
    "        color.setAlpha(125)\n",
    "        items[label].setShadowPen(color, width=8)\n",
    "        items[label].setZValue(100.)\n",
    "        color.setAlpha(255)\n",
    "        items[label].setPen(color)\n",
    "    \n",
    "def dehighlight_spectra(label):\n",
    "    if label in items:\n",
    "        #items[label].setPen(items[label]._old_pen)\n",
    "        items[label].setShadowPen(None)\n",
    "        items[label].setZValue(0.0)\n",
    "        alpha_val = alpha_spin.value()\n",
    "        color = items[label].opts['pen'].color()\n",
    "        color.setAlpha(alpha_val)\n",
    "        items[label].setPen(color)"
   ]
  },
  {
   "cell_type": "code",
   "execution_count": 7,
   "metadata": {},
   "outputs": [
    {
     "name": "stdout",
     "output_type": "stream",
     "text": [
      "signal from selection model not connected\n",
      "signal from model not connected\n",
      "signal from alpha spin box not connected\n"
     ]
    }
   ],
   "source": [
    "list_stuff = set_wds(spec_widget.canvas,\n",
    "                     cam_wds3.datasets,\n",
    "                     spect=1,\n",
    "                     sav_gol=(7,3))\n"
   ]
  },
  {
   "cell_type": "code",
   "execution_count": 14,
   "metadata": {},
   "outputs": [],
   "source": [
    "spec_widget.canvas.clear()"
   ]
  },
  {
   "cell_type": "code",
   "execution_count": 16,
   "metadata": {},
   "outputs": [],
   "source": [
    "main_widget.show()"
   ]
  },
  {
   "cell_type": "code",
   "execution_count": null,
   "metadata": {},
   "outputs": [],
   "source": []
  }
 ],
 "metadata": {
  "kernelspec": {
   "display_name": "hyper",
   "language": "python",
   "name": "hyper"
  },
  "language_info": {
   "codemirror_mode": {
    "name": "ipython",
    "version": 3
   },
   "file_extension": ".py",
   "mimetype": "text/x-python",
   "name": "python",
   "nbconvert_exporter": "python",
   "pygments_lexer": "ipython3",
   "version": "3.6.8"
  }
 },
 "nbformat": 4,
 "nbformat_minor": 1
}

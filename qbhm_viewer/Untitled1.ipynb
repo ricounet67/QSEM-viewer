{
 "cells": [
  {
   "cell_type": "code",
   "execution_count": 1,
   "metadata": {
    "collapsed": true
   },
   "outputs": [],
   "source": [
    "%gui qt4"
   ]
  },
  {
   "cell_type": "code",
   "execution_count": 10,
   "metadata": {
    "collapsed": false
   },
   "outputs": [],
   "source": [
    "from PyQt4 import QtCore, QtGui\n",
    "import pyqtgraph as pg\n",
    "\n",
    "class TableModel(QtCore.QAbstractTableModel):\n",
    "    \"\"\"\n",
    "    A simple 5x4 table model to demonstrate the delegates\n",
    "    \"\"\"\n",
    "    def rowCount(self, parent=QtCore.QModelIndex()): return 5\n",
    "    def columnCount(self, parent=QtCore.QModelIndex()): return 4\n",
    "\n",
    "    def data(self, index, role=QtCore.Qt.DisplayRole):\n",
    "        if not index.isValid(): return None\n",
    "        if not role==QtCore.Qt.DisplayRole: return None\n",
    "        return \"{0:02d}\".format(index.row())\n",
    "        \n",
    "    def setData(self, index, value, role=QtCore.Qt.DisplayRole):\n",
    "        print(\"setData\", index.row(), index.column(), value)\n",
    "\n",
    "    def flags(self, index):\n",
    "        if (index.column() == 0):\n",
    "            return QtCore.Qt.ItemIsEditable | QtCore.Qt.ItemIsEnabled\n",
    "        else:\n",
    "            return QtCore.Qt.ItemIsEnabled\n",
    "\n",
    "class ButtonDelegate(QtGui.QItemDelegate):\n",
    "\n",
    "    def __init__(self, parent):\n",
    "        QtGui.QItemDelegate.__init__(self, parent)\n",
    "\n",
    "    def createEditor(self, parent, option, index):\n",
    "        combo = pg.ColorButton(parent)\n",
    "\n",
    "        #self.connect(combo, QtCore.SIGNAL(\"currentIndexChanged(int)\"), self, QtCore.SLOT(\"currentIndexChanged()\"))\n",
    "        combo.sigColorChanged.connect(self.currentIndexChanged)\n",
    "        return combo\n",
    "        \n",
    "    def setEditorData(self, editor, index):\n",
    "        editor.blockSignals(True)\n",
    "        #editor.setCurrentIndex(int(index.model().data(index)))\n",
    "        editor.blockSignals(False)\n",
    "        \n",
    "    def setModelData(self, editor, model, index):\n",
    "        model.setData(index, editor.color())\n",
    "        \n",
    "    @QtCore.pyqtSlot()\n",
    "    def currentIndexChanged(self):\n",
    "        self.commitData.emit(self.sender())\n",
    "\n",
    "class ComboDelegate(QtGui.QItemDelegate):\n",
    "    \"\"\"\n",
    "    A delegate that places a fully functioning QComboBox in every\n",
    "    cell of the column to which it's applied\n",
    "    \"\"\"\n",
    "    def __init__(self, parent):\n",
    "\n",
    "        QtGui.QItemDelegate.__init__(self, parent)\n",
    "        \n",
    "    def createEditor(self, parent, option, index):\n",
    "        combo = QtGui.QComboBox(parent)\n",
    "        li = []\n",
    "        li.append(\"Zero\")\n",
    "        li.append(\"One\")\n",
    "        li.append(\"Two\")\n",
    "        li.append(\"Three\")\n",
    "        li.append(\"Four\")\n",
    "        li.append(\"Five\")\n",
    "        combo.addItems(li)\n",
    "        self.connect(combo, QtCore.SIGNAL(\"currentIndexChanged(int)\"), self, QtCore.SLOT(\"currentIndexChanged()\"))\n",
    "        return combo\n",
    "        \n",
    "    def setEditorData(self, editor, index):\n",
    "        editor.blockSignals(True)\n",
    "        editor.setCurrentIndex(int(index.model().data(index)))\n",
    "        editor.blockSignals(False)\n",
    "        \n",
    "    def setModelData(self, editor, model, index):\n",
    "        model.setData(index, editor.currentIndex())\n",
    "        \n",
    "    @QtCore.pyqtSlot()\n",
    "    def currentIndexChanged(self):\n",
    "        self.commitData.emit(self.sender())\n",
    "\n",
    "class TableView(QtGui.QTableView):\n",
    "    \"\"\"\n",
    "    A simple table to demonstrate the QComboBox delegate.\n",
    "    \"\"\"\n",
    "    def __init__(self, *args, **kwargs):\n",
    "        QtGui.QTableView.__init__(self, *args, **kwargs)\n",
    "\n",
    "        # Set the delegate for column 0 of our table\n",
    "        # self.setItemDelegateForColumn(0, ButtonDelegate(self))\n",
    "        self.setItemDelegateForColumn(0, ComboDelegate(self))\n",
    "        self.setItemDelegateForColumn(1, ButtonDelegate(self))\n",
    "\n",
    "\n",
    "class Widget(QtGui.QWidget):\n",
    "    \"\"\"\n",
    "    A simple test widget to contain and own the model and table.\n",
    "    \"\"\"\n",
    "    def __init__(self, parent=None):\n",
    "        QtGui.QWidget.__init__(self, parent)\n",
    "        l=QtGui.QVBoxLayout(self)\n",
    "        self._tm=TableModel(self)\n",
    "        self._tv=TableView(self)\n",
    "        #self._tv.setGridStyle(QtCore.Qt.NoPen)\n",
    "        self._tv.setShowGrid(False)\n",
    "        self._tv.setAlternatingRowColors(True)\n",
    "        self._tv.setModel(self._tm)\n",
    "        for row in range(0, self._tm.rowCount()):\n",
    "            self._tv.openPersistentEditor(self._tm.index(row, 0))\n",
    "            self._tv.openPersistentEditor(self._tm.index(row, 1))\n",
    "        \n",
    "        l.addWidget(self._tv)"
   ]
  },
  {
   "cell_type": "code",
   "execution_count": 11,
   "metadata": {
    "collapsed": true
   },
   "outputs": [],
   "source": [
    "w = Widget()"
   ]
  },
  {
   "cell_type": "code",
   "execution_count": 12,
   "metadata": {
    "collapsed": false
   },
   "outputs": [
    {
     "name": "stdout",
     "output_type": "stream",
     "text": [
      "setData 0 0 0\n",
      "setData 0 1 <PyQt4.QtGui.QColor object at 0x7f34ba8b37b8>\n",
      "setData 0 1 <PyQt4.QtGui.QColor object at 0x7f34ba8b3c18>\n",
      "setData 0 1 <PyQt4.QtGui.QColor object at 0x7f34ba8b3cf8>\n",
      "setData 1 1 <PyQt4.QtGui.QColor object at 0x7f34ba8b3c18>\n",
      "setData 1 1 <PyQt4.QtGui.QColor object at 0x7f34ba8b36d8>\n",
      "setData 1 1 <PyQt4.QtGui.QColor object at 0x7f34ba8b3a58>\n",
      "setData 2 1 <PyQt4.QtGui.QColor object at 0x7f34ba8b3a58>\n",
      "setData 2 1 <PyQt4.QtGui.QColor object at 0x7f34ba8b3b38>\n",
      "setData 2 1 <PyQt4.QtGui.QColor object at 0x7f34ba8b3b38>\n",
      "setData 3 1 <PyQt4.QtGui.QColor object at 0x7f34ba8b3908>\n",
      "setData 3 1 <PyQt4.QtGui.QColor object at 0x7f34ba8b3b38>\n",
      "setData 3 1 <PyQt4.QtGui.QColor object at 0x7f34ba8b3e48>\n"
     ]
    }
   ],
   "source": [
    "w.show()"
   ]
  },
  {
   "cell_type": "code",
   "execution_count": null,
   "metadata": {
    "collapsed": true
   },
   "outputs": [],
   "source": []
  }
 ],
 "metadata": {
  "kernelspec": {
   "display_name": "Python 3",
   "language": "python",
   "name": "python3"
  },
  "language_info": {
   "codemirror_mode": {
    "name": "ipython",
    "version": 3
   },
   "file_extension": ".py",
   "mimetype": "text/x-python",
   "name": "python",
   "nbconvert_exporter": "python",
   "pygments_lexer": "ipython3",
   "version": "3.4.2"
  }
 },
 "nbformat": 4,
 "nbformat_minor": 0
}

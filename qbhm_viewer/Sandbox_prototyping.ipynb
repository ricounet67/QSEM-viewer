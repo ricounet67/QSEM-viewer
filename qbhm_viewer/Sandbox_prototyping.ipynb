{
 "cells": [
  {
   "cell_type": "code",
   "execution_count": 2,
   "metadata": {
    "collapsed": true
   },
   "outputs": [],
   "source": [
    "%gui qt4"
   ]
  },
  {
   "cell_type": "code",
   "execution_count": 3,
   "metadata": {
    "collapsed": true
   },
   "outputs": [],
   "source": [
    "import json"
   ]
  },
  {
   "cell_type": "code",
   "execution_count": 4,
   "metadata": {
    "collapsed": false
   },
   "outputs": [],
   "source": [
    "with open('configurations/gui_conf.json', 'r') as fn:\n",
    "    gui_config = json.loads(fn.read())"
   ]
  },
  {
   "cell_type": "code",
   "execution_count": 5,
   "metadata": {
    "collapsed": false
   },
   "outputs": [
    {
     "data": {
      "text/plain": [
       "{'show_hex_on_color': True, 'toolbar_icon_size': None}"
      ]
     },
     "execution_count": 5,
     "metadata": {},
     "output_type": "execute_result"
    }
   ],
   "source": [
    "gui_config"
   ]
  },
  {
   "cell_type": "code",
   "execution_count": 6,
   "metadata": {
    "collapsed": false
   },
   "outputs": [],
   "source": [
    "from gui import spectrum_widget as swidget"
   ]
  },
  {
   "cell_type": "code",
   "execution_count": 7,
   "metadata": {
    "collapsed": false
   },
   "outputs": [],
   "source": [
    "thing1 = swidget.EDSSpectraGUI(icon_size=32,pet_opacity=0.5)"
   ]
  },
  {
   "cell_type": "code",
   "execution_count": 8,
   "metadata": {
    "collapsed": true
   },
   "outputs": [],
   "source": [
    "thing2 = swidget.EDSSpectraGUI(icon_size=16,pet_opacity=0.9)"
   ]
  },
  {
   "cell_type": "code",
   "execution_count": 27,
   "metadata": {
    "collapsed": false
   },
   "outputs": [],
   "source": [
    "thing2.pet.setParent(None)"
   ]
  },
  {
   "cell_type": "code",
   "execution_count": 9,
   "metadata": {
    "collapsed": true
   },
   "outputs": [],
   "source": [
    "thing2.pet.show()"
   ]
  },
  {
   "cell_type": "code",
   "execution_count": 29,
   "metadata": {
    "collapsed": false
   },
   "outputs": [],
   "source": [
    "thing2.pet.setMinimumWidth(thing2.pet.horizontalHeader().length()+10)"
   ]
  },
  {
   "cell_type": "code",
   "execution_count": 19,
   "metadata": {
    "collapsed": false
   },
   "outputs": [
    {
     "data": {
      "text/plain": [
       "PyQt4.QtCore.QRect(0, 26, 699, 216)"
      ]
     },
     "execution_count": 19,
     "metadata": {},
     "output_type": "execute_result"
    }
   ],
   "source": [
    "thing1.setGeometry()"
   ]
  },
  {
   "cell_type": "code",
   "execution_count": 8,
   "metadata": {
    "collapsed": true
   },
   "outputs": [],
   "source": [
    "import os"
   ]
  },
  {
   "cell_type": "code",
   "execution_count": 10,
   "metadata": {
    "collapsed": false
   },
   "outputs": [],
   "source": [
    "from PyQt4 import QtCore, QtGui"
   ]
  },
  {
   "cell_type": "code",
   "execution_count": 11,
   "metadata": {
    "collapsed": false
   },
   "outputs": [],
   "source": [
    "import pyqtgraph as pg"
   ]
  },
  {
   "cell_type": "code",
   "execution_count": 12,
   "metadata": {
    "collapsed": false
   },
   "outputs": [],
   "source": [
    "w = QtGui.QMainWindow()\n",
    "cw = QtGui.QSplitter(QtCore.Qt.Vertical, w)\n",
    "w.setCentralWidget(cw)"
   ]
  },
  {
   "cell_type": "code",
   "execution_count": 13,
   "metadata": {
    "collapsed": false
   },
   "outputs": [],
   "source": [
    "cw.addWidget(QtGui.QPushButton())"
   ]
  },
  {
   "cell_type": "code",
   "execution_count": 14,
   "metadata": {
    "collapsed": true
   },
   "outputs": [],
   "source": [
    "cw.addWidget(thing2)"
   ]
  },
  {
   "cell_type": "code",
   "execution_count": 15,
   "metadata": {
    "collapsed": false
   },
   "outputs": [],
   "source": [
    "w.show()"
   ]
  },
  {
   "cell_type": "code",
   "execution_count": 35,
   "metadata": {
    "collapsed": false
   },
   "outputs": [
    {
     "data": {
      "text/plain": [
       "True"
      ]
     },
     "execution_count": 35,
     "metadata": {},
     "output_type": "execute_result"
    }
   ],
   "source": [
    "but.close()"
   ]
  },
  {
   "cell_type": "code",
   "execution_count": 17,
   "metadata": {
    "collapsed": true
   },
   "outputs": [],
   "source": [
    "w.show()"
   ]
  },
  {
   "cell_type": "code",
   "execution_count": 9,
   "metadata": {
    "collapsed": true
   },
   "outputs": [],
   "source": [
    "import numpy as np"
   ]
  },
  {
   "cell_type": "code",
   "execution_count": 2,
   "metadata": {
    "collapsed": false
   },
   "outputs": [],
   "source": [
    "item1 = pg.PlotCurveItem(clickable=True)"
   ]
  },
  {
   "cell_type": "code",
   "execution_count": 10,
   "metadata": {
    "collapsed": false
   },
   "outputs": [],
   "source": [
    "x = np.arange(-0.24,10,0.01)\n",
    "y = x * np.random.random(1024)"
   ]
  },
  {
   "cell_type": "code",
   "execution_count": 11,
   "metadata": {
    "collapsed": false
   },
   "outputs": [],
   "source": [
    "item1.setData(x, y, name='Thingy5')"
   ]
  },
  {
   "cell_type": "code",
   "execution_count": 110,
   "metadata": {
    "collapsed": false
   },
   "outputs": [],
   "source": [
    "thing.canvas.p1.addItem(item1)"
   ]
  },
  {
   "cell_type": "code",
   "execution_count": 146,
   "metadata": {
    "collapsed": false
   },
   "outputs": [],
   "source": [
    "class EDXListModel(QtCore.QAbstractTableModel):\n",
    "    def __init__(self, spectras=[[]], headers=['spectras','color'], parent=None):\n",
    "        QtCore.QAbstractTableModel.__init__(self, parent)\n",
    "        self._spectras = spectras\n",
    "        self._headers = headers\n",
    "    \n",
    "    def headerData(self, section, orientation, role):\n",
    "        \n",
    "        if role == QtCore.Qt.DisplayRole:\n",
    "            \n",
    "            if orientation == QtCore.Qt.Horizontal:\n",
    "                return self._headers[section]\n",
    "    \n",
    "    def rowCount(self, parent):\n",
    "        return len(self._spectras)\n",
    "    \n",
    "    def columnCount(self, parent):\n",
    "        return len(self._spectras[0])+1\n",
    "    \n",
    "    def data(self, index, role):\n",
    "        row = index.row()\n",
    "        column = index.column()\n",
    "        if column == 0:\n",
    "            if role == QtCore.Qt.EditRole:\n",
    "                if column == 0:\n",
    "                    return self._spectras[row][0].name()\n",
    "                elif column == 1:\n",
    "                    return self._spectras[row][0].opts['pen'].color()\n",
    "            \n",
    "        if role == QtCore.Qt.BackgroundRole:\n",
    "            if column == 1:\n",
    "                return QtGui.QBrush(self._spectras[row][0].opts['pen'].color())\n",
    "\n",
    "        if role == QtCore.Qt.DisplayRole:\n",
    "            if column == 0:\n",
    "                return self._spectras[row][0].name()\n",
    "            elif column == 1 and gui_config['show_hex_on_color']:\n",
    "                return self._spectras[row][0].opts['pen'].color()\n",
    "            else:\n",
    "                return self._spectras[row][column-1]\n",
    "            \n",
    "        \n",
    "    def flags(self, index):\n",
    "        if index.column() == 0:\n",
    "            return QtCore.Qt.ItemIsEnabled | QtCore.Qt.ItemIsEditable | QtCore.Qt.ItemIsSelectable\n",
    "        elif index.column() == 1:\n",
    "            return QtCore.Qt.ItemIsEnabled | QtCore.Qt.ItemIsEditable\n",
    "        else:\n",
    "            return QtCore.Qt.ItemIsEnabled\n",
    "        \n",
    "    def setData(self, index, value, role = QtCore.Qt.EditRole):\n",
    "        if role == QtCore.Qt.EditRole:\n",
    "            try:\n",
    "                row = index.row()\n",
    "                column= index.column()\n",
    "                if column == 0:\n",
    "                    self._spectras[row][0].opts['name'] = value\n",
    "                    self._spectras[row][0].setToolTip(value)\n",
    "                elif column == 1:\n",
    "                    self._spectras[row][0].opts['pen'].setColor(pg.mkColor(value))\n",
    "                    self._spectras[row][0].update()\n",
    "                else:\n",
    "                    self._spectras[row][column-1] = value\n",
    "                self.dataChanged.emit(index, index)\n",
    "                return True\n",
    "            except:\n",
    "                return False\n",
    "        return False\n",
    "    \n",
    "    def insertRows(self, position, rows, parent=QtCore.QModelIndex()):\n",
    "        \n",
    "        self.beginInsertRows(parent, position,\n",
    "                             position + rows - 1)\n",
    "        \n",
    "        column_count = len(self._spectras[0])\n",
    "        \n",
    "        for i in range(rows):\n",
    "            self._spectras.insert(position, [pg.PlotCurveItem(name='new')])\n",
    "            for j in range(column_count-1):\n",
    "                self._spectras[position].insert(j+1, 0.0)\n",
    "        \n",
    "        self.endInsertRows()\n",
    "        \n",
    "        return True\n",
    "    \n",
    "    def removeRows(self, position, rows, parent=QtCore.QModelIndex()):\n",
    "        self.beginRemoveRows(parent, position,\n",
    "                             position + rows - 1)\n",
    "        \n",
    "        for i in range(rows):\n",
    "            value = self._spectras[position]\n",
    "            self._spectras.remove(value)\n",
    "        \n",
    "        self.endRemoveRows()\n",
    "        \n",
    "        return True\n",
    "    \n",
    "    def insertColumns(self, position, columns, parent = QtCore.QModelIndex(), headers=[]):\n",
    "        self.beginInsertColumns(parent, position, position + columns -1)\n",
    "        \n",
    "        row_count = len(self._spectras)\n",
    "        \n",
    "        for i in range(columns):\n",
    "            self._headers.insert(position, headers[i])\n",
    "            for j in range(row_count):\n",
    "                self._spectras[j].insert(position, 0.0)\n",
    "                \n",
    "        self.endInsertColumns()\n",
    "        \n",
    "        return True\n",
    "    \n",
    "    def removeColumns(self, position, columns, parent=QtCore.QModelIndex()):\n",
    "        self.beginRemoveColumns(parent, position,\n",
    "                             position + columns - 1)\n",
    "        \n",
    "        row_count = len(self._spectras)\n",
    "        \n",
    "        for j in range(columns):\n",
    "            self._headers.remove(self._headers[position])\n",
    "            for i in range(row_count):\n",
    "                value = self._spectras[i][position]\n",
    "                self._spectras[i].remove(value)\n",
    "        \n",
    "        self.endRemoveColumns()\n",
    "        \n",
    "        return True"
   ]
  },
  {
   "cell_type": "code",
   "execution_count": null,
   "metadata": {
    "collapsed": true
   },
   "outputs": [],
   "source": [
    "GenericEDSItem(object):\n",
    "    def __init__(self, stuff):\n",
    "        self.eds_spectra = None\n",
    "        self.\n",
    "        "
   ]
  },
  {
   "cell_type": "code",
   "execution_count": 147,
   "metadata": {
    "collapsed": false
   },
   "outputs": [],
   "source": [
    "model = EDXListModel(spectras=[[item1]])"
   ]
  },
  {
   "cell_type": "code",
   "execution_count": 148,
   "metadata": {
    "collapsed": false
   },
   "outputs": [],
   "source": [
    "thing.spectra_list.setModel(model)\n",
    "#listView.setModel(model)\n",
    "tableView.setModel(model)"
   ]
  },
  {
   "cell_type": "code",
   "execution_count": 104,
   "metadata": {
    "collapsed": true
   },
   "outputs": [],
   "source": [
    "tableView = QtGui.QTableView()\n",
    "tableView.show()"
   ]
  },
  {
   "cell_type": "code",
   "execution_count": 123,
   "metadata": {
    "collapsed": false
   },
   "outputs": [],
   "source": [
    "itemthing = model._spectras[0][0]"
   ]
  },
  {
   "cell_type": "code",
   "execution_count": null,
   "metadata": {
    "collapsed": true
   },
   "outputs": [],
   "source": [
    "item1.update()"
   ]
  },
  {
   "cell_type": "code",
   "execution_count": 145,
   "metadata": {
    "collapsed": false
   },
   "outputs": [],
   "source": [
    "parentio = item1.parentItem()\n",
    "parentio.update()"
   ]
  },
  {
   "cell_type": "code",
   "execution_count": 144,
   "metadata": {
    "collapsed": false
   },
   "outputs": [],
   "source": [
    "parpar = parentio.parentItem()\n",
    "parpar.update()"
   ]
  },
  {
   "cell_type": "code",
   "execution_count": 146,
   "metadata": {
    "collapsed": false
   },
   "outputs": [],
   "source": [
    "item1.show()"
   ]
  },
  {
   "cell_type": "code",
   "execution_count": 135,
   "metadata": {
    "collapsed": false,
    "scrolled": true
   },
   "outputs": [
    {
     "data": {
      "text/plain": [
       "PyQt4.QtCore.QRectF(-0.24, -0.20359824149171718, 10.23000000000001, 9.747530133175472)"
      ]
     },
     "execution_count": 135,
     "metadata": {},
     "output_type": "execute_result"
    }
   ],
   "source": [
    "hh.boundingRect()"
   ]
  },
  {
   "cell_type": "code",
   "execution_count": 186,
   "metadata": {
    "collapsed": false
   },
   "outputs": [
    {
     "data": {
      "text/plain": [
       "True"
      ]
     },
     "execution_count": 186,
     "metadata": {},
     "output_type": "execute_result"
    }
   ],
   "source": [
    "model.insertColumns(1, 1, headers=['af4b4'])"
   ]
  },
  {
   "cell_type": "code",
   "execution_count": 101,
   "metadata": {
    "collapsed": false
   },
   "outputs": [
    {
     "data": {
      "text/plain": [
       "True"
      ]
     },
     "execution_count": 101,
     "metadata": {},
     "output_type": "execute_result"
    }
   ],
   "source": [
    "model.insertRows(1,5)"
   ]
  },
  {
   "cell_type": "code",
   "execution_count": 188,
   "metadata": {
    "collapsed": false
   },
   "outputs": [
    {
     "data": {
      "text/plain": [
       "True"
      ]
     },
     "execution_count": 188,
     "metadata": {},
     "output_type": "execute_result"
    }
   ],
   "source": [
    "model.removeColumns(1, 2)"
   ]
  },
  {
   "cell_type": "code",
   "execution_count": 216,
   "metadata": {
    "collapsed": false
   },
   "outputs": [],
   "source": [
    "pg.PlotCurveItem??"
   ]
  },
  {
   "cell_type": "code",
   "execution_count": 238,
   "metadata": {
    "collapsed": false
   },
   "outputs": [],
   "source": [
    "pen = item1.opts['pen']"
   ]
  },
  {
   "cell_type": "code",
   "execution_count": 248,
   "metadata": {
    "collapsed": false
   },
   "outputs": [],
   "source": [
    "pen.setColor(QtCore.Qt.red)"
   ]
  },
  {
   "cell_type": "code",
   "execution_count": 237,
   "metadata": {
    "collapsed": true
   },
   "outputs": [],
   "source": [
    "pixmap = QtGui.QPixmap(26, 26)\n"
   ]
  },
  {
   "cell_type": "code",
   "execution_count": 241,
   "metadata": {
    "collapsed": true
   },
   "outputs": [],
   "source": [
    "pixmap.fill(pen.color())"
   ]
  },
  {
   "cell_type": "code",
   "execution_count": 255,
   "metadata": {
    "collapsed": false
   },
   "outputs": [],
   "source": [
    "item1.setToolTip"
   ]
  },
  {
   "cell_type": "code",
   "execution_count": 130,
   "metadata": {
    "collapsed": false
   },
   "outputs": [
    {
     "data": {
      "text/plain": [
       "True"
      ]
     },
     "execution_count": 130,
     "metadata": {},
     "output_type": "execute_result"
    }
   ],
   "source": [
    "model.insertRows(1, 5)"
   ]
  },
  {
   "cell_type": "code",
   "execution_count": 136,
   "metadata": {
    "collapsed": false
   },
   "outputs": [
    {
     "ename": "NameError",
     "evalue": "name 'rows' is not defined",
     "output_type": "error",
     "traceback": [
      "\u001b[1;31m---------------------------------------------------------------------------\u001b[0m",
      "\u001b[1;31mNameError\u001b[0m                                 Traceback (most recent call last)",
      "\u001b[1;32m<ipython-input-121-e466f3df3453>\u001b[0m in \u001b[0;36mremoveColumns\u001b[1;34m(self, position, columns, parent)\u001b[0m\n\u001b[0;32m    113\u001b[0m         \u001b[0mrow_count\u001b[0m \u001b[1;33m=\u001b[0m \u001b[0mlen\u001b[0m\u001b[1;33m(\u001b[0m\u001b[0mself\u001b[0m\u001b[1;33m.\u001b[0m\u001b[0m_spectras\u001b[0m\u001b[1;33m)\u001b[0m\u001b[1;33m\u001b[0m\u001b[0m\n\u001b[0;32m    114\u001b[0m \u001b[1;33m\u001b[0m\u001b[0m\n\u001b[1;32m--> 115\u001b[1;33m         \u001b[1;32mfor\u001b[0m \u001b[0mi\u001b[0m \u001b[1;32min\u001b[0m \u001b[0mrange\u001b[0m\u001b[1;33m(\u001b[0m\u001b[0mrows\u001b[0m\u001b[1;33m)\u001b[0m\u001b[1;33m:\u001b[0m\u001b[1;33m\u001b[0m\u001b[0m\n\u001b[0m\u001b[0;32m    116\u001b[0m             \u001b[1;32mfor\u001b[0m \u001b[0mj\u001b[0m \u001b[1;32min\u001b[0m \u001b[0mrange\u001b[0m\u001b[1;33m(\u001b[0m\u001b[0mcolumns\u001b[0m\u001b[1;33m)\u001b[0m\u001b[1;33m:\u001b[0m\u001b[1;33m\u001b[0m\u001b[0m\n\u001b[0;32m    117\u001b[0m                 \u001b[0mvalue\u001b[0m \u001b[1;33m=\u001b[0m \u001b[0mself\u001b[0m\u001b[1;33m.\u001b[0m\u001b[0m_spectras\u001b[0m\u001b[1;33m[\u001b[0m\u001b[0mi\u001b[0m\u001b[1;33m]\u001b[0m\u001b[1;33m[\u001b[0m\u001b[0mposition\u001b[0m\u001b[1;33m]\u001b[0m\u001b[1;33m\u001b[0m\u001b[0m\n",
      "\u001b[1;31mNameError\u001b[0m: name 'rows' is not defined"
     ]
    },
    {
     "data": {
      "text/plain": [
       "False"
      ]
     },
     "execution_count": 136,
     "metadata": {},
     "output_type": "execute_result"
    }
   ],
   "source": [
    "model.removeColumn(1)"
   ]
  },
  {
   "cell_type": "code",
   "execution_count": 133,
   "metadata": {
    "collapsed": true
   },
   "outputs": [],
   "source": [
    "listView = QtGui.QListView()"
   ]
  },
  {
   "cell_type": "code",
   "execution_count": 39,
   "metadata": {
    "collapsed": false
   },
   "outputs": [],
   "source": [
    "listView.setModel(model)"
   ]
  },
  {
   "cell_type": "code",
   "execution_count": 22,
   "metadata": {
    "collapsed": false
   },
   "outputs": [],
   "source": [
    "listView.show()"
   ]
  },
  {
   "cell_type": "code",
   "execution_count": 228,
   "metadata": {
    "collapsed": false
   },
   "outputs": [],
   "source": [
    "tableView.setItemDelegateForColumn(1, ButtonDelegate(tableView))"
   ]
  },
  {
   "cell_type": "code",
   "execution_count": 163,
   "metadata": {
    "collapsed": false
   },
   "outputs": [],
   "source": [
    "class TableView(QtGui.QTableView):\n",
    "    \"\"\"\n",
    "    A simple table to demonstrate the QComboBox delegate.\n",
    "    \"\"\"\n",
    "    def __init__(self, *args, model=None, **kwargs):\n",
    "        QtGui.QTableView.__init__(self, *args, **kwargs)\n",
    "        self.setModel(model)\n",
    "        self.setContextMenuPolicy(QtCore.Qt.DefaultContextMenu)\n",
    "        # Set the delegate for column 1 of our table\n",
    "        #self.setItemDelegateForColumn(1, ButtonDelegate(self))\n",
    "        #self.initial_editor()\n",
    "    \n",
    "    #def initial_editor(self):\n",
    "    #    for row in range(self.model().rowCount(self)):\n",
    "    #        self.openPersistentEditor(self.model().index(row, 1))\n",
    "    #    \n",
    "    #def add_editor(self, index):\n",
    "    #    row = index.row()\n",
    "    #    self.openPersistentEditor(index(row, 1))\n",
    "    #        \n",
    "    #def remove_editor(self, index):\n",
    "    #    row = index.row()\n",
    "    #    self.closePersistentEditor(index(row, 1))\n",
    "    def contextMenuEvent(self, event):\n",
    "        handled = False\n",
    "        index = self.indexAt(event.pos())\n",
    "        menu = QtGui.QMenu()\n",
    "        #an action for everyone\n",
    "        every = QtGui.QAction(\"I'm for everyone\", menu)\n",
    "        if index.column() == 1:  #treat the Nth column special row...\n",
    "            action_1 = QtGui.QAction(\"Something Awesome\", menu)\n",
    "            action_2 = QtGui.QAction(\"Something Else Awesome\", menu)\n",
    "            menu.addActions([action_1, action_2])\n",
    "            handled = True\n",
    "            pass\n",
    "\n",
    "        if handled:\n",
    "            menu.addAction(every)\n",
    "            menu.exec_(event.globalPos())\n",
    "            event.accept() #TELL QT IVE HANDLED THIS THING\n",
    "            pass\n",
    "        else:\n",
    "            event.ignore() #GIVE SOMEONE ELSE A CHANCE TO HANDLE IT\n",
    "            pass\n",
    "        return\n",
    "            \n",
    "    def openAction(self, row, column):\n",
    "        pass\n",
    "\n",
    "    def deleteSelected(self):\n",
    "        # TODO\n",
    "        pass  "
   ]
  },
  {
   "cell_type": "code",
   "execution_count": 161,
   "metadata": {
    "collapsed": false
   },
   "outputs": [],
   "source": [
    "tableView.show()"
   ]
  },
  {
   "cell_type": "code",
   "execution_count": 164,
   "metadata": {
    "collapsed": false
   },
   "outputs": [],
   "source": [
    "tableView = TableView(model=model)\n",
    "tableView.show()"
   ]
  },
  {
   "cell_type": "code",
   "execution_count": 44,
   "metadata": {
    "collapsed": false
   },
   "outputs": [],
   "source": [
    "tableView.setModel(model)"
   ]
  },
  {
   "cell_type": "code",
   "execution_count": 383,
   "metadata": {
    "collapsed": false
   },
   "outputs": [
    {
     "data": {
      "text/plain": [
       "<PyQt4.QtCore.QModelIndex at 0x7ff57e577978>"
      ]
     },
     "execution_count": 383,
     "metadata": {},
     "output_type": "execute_result"
    }
   ],
   "source": [
    "model.index(0,0)"
   ]
  },
  {
   "cell_type": "code",
   "execution_count": 382,
   "metadata": {
    "collapsed": false
   },
   "outputs": [
    {
     "data": {
      "text/plain": [
       "<PyQt4.QtCore.QModelIndex at 0x7ff57e562978>"
      ]
     },
     "execution_count": 382,
     "metadata": {},
     "output_type": "execute_result"
    }
   ],
   "source": [
    "tableView.model().index(0,0)"
   ]
  },
  {
   "cell_type": "code",
   "execution_count": 24,
   "metadata": {
    "collapsed": false
   },
   "outputs": [],
   "source": [
    "tableView.setModel(model)\n",
    "#for row in range(model.rowCount(tableView)):\n",
    "#    tableView.openPersistentEditor(model.index(row, 1))"
   ]
  },
  {
   "cell_type": "code",
   "execution_count": 31,
   "metadata": {
    "collapsed": false
   },
   "outputs": [
    {
     "ename": "AttributeError",
     "evalue": "'TableView' object has no attribute 'update_color'",
     "output_type": "error",
     "traceback": [
      "\u001b[1;31m---------------------------------------------------------------------------\u001b[0m",
      "\u001b[1;31mAttributeError\u001b[0m                            Traceback (most recent call last)",
      "\u001b[1;32m<ipython-input-31-8a5bc4cb718e>\u001b[0m in \u001b[0;36m<module>\u001b[1;34m()\u001b[0m\n\u001b[1;32m----> 1\u001b[1;33m \u001b[0mtableView\u001b[0m\u001b[1;33m.\u001b[0m\u001b[0mupdate_color\u001b[0m\u001b[1;33m(\u001b[0m\u001b[1;33m)\u001b[0m\u001b[1;33m\u001b[0m\u001b[0m\n\u001b[0m",
      "\u001b[1;31mAttributeError\u001b[0m: 'TableView' object has no attribute 'update_color'"
     ]
    }
   ],
   "source": [
    "tableView.update_color()"
   ]
  },
  {
   "cell_type": "code",
   "execution_count": 32,
   "metadata": {
    "collapsed": false
   },
   "outputs": [],
   "source": [
    "tableView.setEditTriggers(QtGui.QAbstractItemView.AllEditTriggers)"
   ]
  },
  {
   "cell_type": "code",
   "execution_count": 34,
   "metadata": {
    "collapsed": false
   },
   "outputs": [],
   "source": [
    "aa = QtGui.QAbstractItemView.editTriggers(tableView)"
   ]
  },
  {
   "cell_type": "code",
   "execution_count": 37,
   "metadata": {
    "collapsed": false
   },
   "outputs": [
    {
     "data": {
      "text/plain": [
       "PyQt4.QtGui.QStyledItemDelegate"
      ]
     },
     "execution_count": 37,
     "metadata": {},
     "output_type": "execute_result"
    }
   ],
   "source": [
    "QtGui.QStyledItemDelegate"
   ]
  },
  {
   "cell_type": "code",
   "execution_count": 268,
   "metadata": {
    "collapsed": false
   },
   "outputs": [
    {
     "data": {
      "text/plain": [
       "<__main__.EDXListModel at 0x7ff57e594288>"
      ]
     },
     "execution_count": 268,
     "metadata": {},
     "output_type": "execute_result"
    }
   ],
   "source": [
    "tableView.model()"
   ]
  },
  {
   "cell_type": "code",
   "execution_count": 348,
   "metadata": {
    "collapsed": false
   },
   "outputs": [],
   "source": [
    "tableView.update_color()"
   ]
  },
  {
   "cell_type": "code",
   "execution_count": 37,
   "metadata": {
    "collapsed": false
   },
   "outputs": [
    {
     "data": {
      "text/plain": [
       "True"
      ]
     },
     "execution_count": 37,
     "metadata": {},
     "output_type": "execute_result"
    }
   ],
   "source": [
    "model.insertRows(1,2)"
   ]
  },
  {
   "cell_type": "code",
   "execution_count": 359,
   "metadata": {
    "collapsed": false
   },
   "outputs": [
    {
     "data": {
      "text/plain": [
       "0"
      ]
     },
     "execution_count": 359,
     "metadata": {},
     "output_type": "execute_result"
    }
   ],
   "source": [
    "tableView."
   ]
  },
  {
   "cell_type": "code",
   "execution_count": 63,
   "metadata": {
    "collapsed": false
   },
   "outputs": [
    {
     "data": {
      "text/plain": [
       "[[<pyqtgraph.graphicsItems.PlotCurveItem.PlotCurveItem at 0x7ff583215438>,\n",
       "  '56',\n",
       "  '5'],\n",
       " [<pyqtgraph.graphicsItems.PlotCurveItem.PlotCurveItem at 0x7ff58332d318>,\n",
       "  0.0],\n",
       " [<pyqtgraph.graphicsItems.PlotCurveItem.PlotCurveItem at 0x7ff5831bf5e8>]]"
      ]
     },
     "execution_count": 63,
     "metadata": {},
     "output_type": "execute_result"
    }
   ],
   "source": [
    "model._spectras"
   ]
  },
  {
   "cell_type": "code",
   "execution_count": 96,
   "metadata": {
    "collapsed": true
   },
   "outputs": [],
   "source": [
    "a = pandas.DataFrame()"
   ]
  },
  {
   "cell_type": "code",
   "execution_count": 99,
   "metadata": {
    "collapsed": false
   },
   "outputs": [],
   "source": [
    "a = a.append(['thingy','thingsy','awesome'])"
   ]
  },
  {
   "cell_type": "code",
   "execution_count": 115,
   "metadata": {
    "collapsed": false
   },
   "outputs": [],
   "source": [
    "a = pandas.concat([a, pandas.DataFrame([item1, item1, item1])], axis=1)"
   ]
  },
  {
   "cell_type": "code",
   "execution_count": 117,
   "metadata": {
    "collapsed": false
   },
   "outputs": [
    {
     "data": {
      "text/plain": [
       "0     thingy\n",
       "1    thingsy\n",
       "2     awsome\n",
       "Name: spectra, dtype: object"
      ]
     },
     "execution_count": 117,
     "metadata": {},
     "output_type": "execute_result"
    }
   ],
   "source": [
    "a.spectra"
   ]
  },
  {
   "cell_type": "code",
   "execution_count": 114,
   "metadata": {
    "collapsed": false
   },
   "outputs": [
    {
     "ename": "TypeError",
     "evalue": "append() got an unexpected keyword argument 'index'",
     "output_type": "error",
     "traceback": [
      "\u001b[1;31m---------------------------------------------------------------------------\u001b[0m",
      "\u001b[1;31mTypeError\u001b[0m                                 Traceback (most recent call last)",
      "\u001b[1;32m<ipython-input-114-87bc8931c10e>\u001b[0m in \u001b[0;36m<module>\u001b[1;34m()\u001b[0m\n\u001b[1;32m----> 1\u001b[1;33m \u001b[0ma\u001b[0m\u001b[1;33m.\u001b[0m\u001b[0mappend\u001b[0m\u001b[1;33m(\u001b[0m\u001b[1;33m[\u001b[0m\u001b[0mitem1\u001b[0m\u001b[1;33m,\u001b[0m \u001b[0mitem1\u001b[0m\u001b[1;33m,\u001b[0m \u001b[0mitem1\u001b[0m\u001b[1;33m]\u001b[0m\u001b[1;33m,\u001b[0m \u001b[0mindex\u001b[0m\u001b[1;33m=\u001b[0m\u001b[1;33m[\u001b[0m\u001b[1;36m0\u001b[0m\u001b[1;33m,\u001b[0m\u001b[1;36m1\u001b[0m\u001b[1;33m,\u001b[0m\u001b[1;36m2\u001b[0m\u001b[1;33m]\u001b[0m \u001b[1;33m)\u001b[0m\u001b[1;33m\u001b[0m\u001b[0m\n\u001b[0m",
      "\u001b[1;31mTypeError\u001b[0m: append() got an unexpected keyword argument 'index'"
     ]
    }
   ],
   "source": [
    "a.append([item1, item1, item1], index=[0,1,2] )"
   ]
  },
  {
   "cell_type": "code",
   "execution_count": 189,
   "metadata": {
    "collapsed": true
   },
   "outputs": [],
   "source": [
    "hdhd = [1,2,3,4,5,6,7,8]"
   ]
  },
  {
   "cell_type": "code",
   "execution_count": 190,
   "metadata": {
    "collapsed": false
   },
   "outputs": [
    {
     "data": {
      "text/plain": [
       "5"
      ]
     },
     "execution_count": 190,
     "metadata": {},
     "output_type": "execute_result"
    }
   ],
   "source": [
    "hdhd.pop(4)"
   ]
  },
  {
   "cell_type": "code",
   "execution_count": 200,
   "metadata": {
    "collapsed": false
   },
   "outputs": [
    {
     "data": {
      "text/plain": [
       "<function QPen.setColor>"
      ]
     },
     "execution_count": 200,
     "metadata": {},
     "output_type": "execute_result"
    }
   ],
   "source": [
    "item1.opts['pen'].setColor"
   ]
  },
  {
   "cell_type": "code",
   "execution_count": 61,
   "metadata": {
    "collapsed": true
   },
   "outputs": [],
   "source": []
  },
  {
   "cell_type": "code",
   "execution_count": null,
   "metadata": {
    "collapsed": true
   },
   "outputs": [],
   "source": [
    "class ColorDelegate(QtGui.QAbstractItemDelegate):\n",
    "    def __init__(self, parent):\n",
    "        QtGui.QItemDelegate.__init__(self, parent)\n",
    "        \n",
    "    def paint(self, painter, option, index):\n",
    "        if index.column() == 1:\n",
    "            "
   ]
  },
  {
   "cell_type": "code",
   "execution_count": 15,
   "metadata": {
    "collapsed": true
   },
   "outputs": [],
   "source": [
    "class ButtonDelegate(QtGui.QStyledItemDelegate):\n",
    "\n",
    "    def __init__(self, parent):\n",
    "        QtGui.QItemDelegate.__init__(self, parent)\n",
    "\n",
    "    def createEditor(self, parent, option, index):\n",
    "        combo = pg.ColorButton(parent, index.data())\n",
    "\n",
    "        #self.connect(combo, QtCore.SIGNAL(\"currentIndexChanged(int)\"), self, QtCore.SLOT(\"currentIndexChanged()\"))\n",
    "        combo.sigColorChanged.connect(self.currentIndexChanged)\n",
    "        return combo\n",
    "        \n",
    "    def setEditorData(self, editor, index):\n",
    "        editor.blockSignals(True)\n",
    "        #editor.setColor(index.data(index))\n",
    "        editor.blockSignals(False)\n",
    "        \n",
    "    def setModelData(self, editor, model, index):\n",
    "        model.setData(index, editor.color())\n",
    "        \n",
    "    @QtCore.pyqtSlot()\n",
    "    def currentIndexChanged(self):\n",
    "        self.commitData.emit(self.sender())"
   ]
  },
  {
   "cell_type": "code",
   "execution_count": 211,
   "metadata": {
    "collapsed": true
   },
   "outputs": [],
   "source": [
    "class ButtonDelegate(QtGui.QItemDelegate):\n",
    "\n",
    "    def __init__(self, parent):\n",
    "        QtGui.QItemDelegate.__init__(self, parent)\n",
    "\n",
    "    def createEditor(self, parent, option, index):\n",
    "        combo = pg.ColorButton(parent, index.data())\n",
    "\n",
    "        #self.connect(combo, QtCore.SIGNAL(\"currentIndexChanged(int)\"), self, QtCore.SLOT(\"currentIndexChanged()\"))\n",
    "        combo.clicked.connect(self.currentIndexChanged)\n",
    "        return combo\n",
    "        \n",
    "    def setEditorData(self, editor, index):\n",
    "        editor.blockSignals(True)\n",
    "        editor.setColor(int(index.model().data(index)))\n",
    "        editor.blockSignals(False)\n",
    "        \n",
    "    def setModelData(self, editor, model, index):\n",
    "        model.setData(index, editor.color())\n",
    "        \n",
    "    @QtCore.pyqtSlot()\n",
    "    def currentIndexChanged(self):\n",
    "        self.commitData.emit(self.sender())"
   ]
  },
  {
   "cell_type": "code",
   "execution_count": 202,
   "metadata": {
    "collapsed": true
   },
   "outputs": [],
   "source": [
    "but = pg.ColorButton()"
   ]
  },
  {
   "cell_type": "code",
   "execution_count": 203,
   "metadata": {
    "collapsed": true
   },
   "outputs": [],
   "source": [
    "but.show()"
   ]
  },
  {
   "cell_type": "code",
   "execution_count": 208,
   "metadata": {
    "collapsed": false
   },
   "outputs": [],
   "source": [
    "but.setColor(pg.mkColor('r'))"
   ]
  },
  {
   "cell_type": "code",
   "execution_count": 207,
   "metadata": {
    "collapsed": false
   },
   "outputs": [
    {
     "data": {
      "text/plain": [
       "<PyQt4.QtGui.QColor at 0x7ff587983588>"
      ]
     },
     "execution_count": 207,
     "metadata": {},
     "output_type": "execute_result"
    }
   ],
   "source": [
    "pg.mkColor('r')"
   ]
  },
  {
   "cell_type": "code",
   "execution_count": 210,
   "metadata": {
    "collapsed": false
   },
   "outputs": [
    {
     "data": {
      "text/plain": [
       "<PyQt4.QtGui.QColor at 0x7ff57ee8cf98>"
      ]
     },
     "execution_count": 210,
     "metadata": {},
     "output_type": "execute_result"
    }
   ],
   "source": [
    "but.color()"
   ]
  },
  {
   "cell_type": "code",
   "execution_count": 234,
   "metadata": {
    "collapsed": false
   },
   "outputs": [],
   "source": [
    "kaka = ButtonDelegate(None)"
   ]
  },
  {
   "cell_type": "code",
   "execution_count": 235,
   "metadata": {
    "collapsed": false
   },
   "outputs": [
    {
     "data": {
      "text/plain": [
       "<__main__.ButtonDelegate at 0x7ff57ecd0ee8>"
      ]
     },
     "execution_count": 235,
     "metadata": {},
     "output_type": "execute_result"
    }
   ],
   "source": []
  },
  {
   "cell_type": "code",
   "execution_count": 236,
   "metadata": {
    "collapsed": false
   },
   "outputs": [
    {
     "ename": "TypeError",
     "evalue": "colorSelected() missing 1 required positional argument: 'color'",
     "output_type": "error",
     "traceback": [
      "\u001b[1;31m---------------------------------------------------------------------------\u001b[0m",
      "\u001b[1;31mTypeError\u001b[0m                                 Traceback (most recent call last)",
      "\u001b[1;32m<ipython-input-236-b29f564d5c8f>\u001b[0m in \u001b[0;36m<module>\u001b[1;34m()\u001b[0m\n\u001b[1;32m----> 1\u001b[1;33m \u001b[0mbut\u001b[0m\u001b[1;33m.\u001b[0m\u001b[0mcolorSelected\u001b[0m\u001b[1;33m(\u001b[0m\u001b[1;33m)\u001b[0m\u001b[1;33m\u001b[0m\u001b[0m\n\u001b[0m",
      "\u001b[1;31mTypeError\u001b[0m: colorSelected() missing 1 required positional argument: 'color'"
     ]
    }
   ],
   "source": [
    "but.sigColorChanged."
   ]
  },
  {
   "cell_type": "code",
   "execution_count": 325,
   "metadata": {
    "collapsed": false
   },
   "outputs": [],
   "source": [
    "index = model.index(0,1)"
   ]
  },
  {
   "cell_type": "code",
   "execution_count": 329,
   "metadata": {
    "collapsed": false
   },
   "outputs": [
    {
     "data": {
      "text/plain": [
       "<PyQt4.QtGui.QColor at 0x7ff57e577748>"
      ]
     },
     "execution_count": 329,
     "metadata": {},
     "output_type": "execute_result"
    }
   ],
   "source": [
    "index.data()"
   ]
  },
  {
   "cell_type": "code",
   "execution_count": 5,
   "metadata": {
    "collapsed": false
   },
   "outputs": [
    {
     "ename": "SyntaxError",
     "evalue": "invalid syntax (<ipython-input-5-e3e1f4881366>, line 1)",
     "output_type": "error",
     "traceback": [
      "\u001b[1;36m  File \u001b[1;32m\"<ipython-input-5-e3e1f4881366>\"\u001b[1;36m, line \u001b[1;32m1\u001b[0m\n\u001b[1;33m    TableView.\u001b[0m\n\u001b[1;37m              ^\u001b[0m\n\u001b[1;31mSyntaxError\u001b[0m\u001b[1;31m:\u001b[0m invalid syntax\n"
     ]
    }
   ],
   "source": [
    "TableView."
   ]
  },
  {
   "cell_type": "code",
   "execution_count": 12,
   "metadata": {
    "collapsed": false
   },
   "outputs": [],
   "source": [
    "class ComboBox(QtGui.QWidget):\n",
    "    def __init__(self, color_dict, parent=None):\n",
    "        QtGui.QWidget.__init__(self, parent)\n",
    "        # setGeometry(x_pos, y_pos, width, height)\n",
    "        self.setGeometry(320, 200, 340, 220)\n",
    "        self.setWindowTitle('Select a color from the combo box')\n",
    "        self.combo = QtGui.QComboBox(self)\n",
    "        self.frame = QtGui.QFrame(self)\n",
    "        self.frame.setFrameStyle(QtGui.QFrame.Box | QtGui.QFrame.Sunken)\n",
    "        grid = QtGui.QGridLayout()\n",
    "        # addWidget(QWidget, row, column, rowSpan, columnSpan)\n",
    "        grid.addWidget(self.combo, 1, 1, 1, 1)\n",
    "        grid.addWidget(self.frame, 1, 2, 3, 2)\n",
    "        self.setLayout(grid)\n",
    "        self.color_dict = color_dict\n",
    "        # create a sorted color list\n",
    "        self.color_list = sorted(color_dict.keys())\n",
    "        # load the combobox\n",
    "        for color in self.color_list:\n",
    "            self.combo.addItem(color)\n",
    "        # bind/connect selection to an action method\n",
    "        self.connect(self.combo, QtCore.SIGNAL('currentIndexChanged(QString)'),\n",
    "            self.changedIndex)\n",
    "    def changedIndex(self, value):\n",
    "        \"\"\"\n",
    "        item in the combox has been changed/selected\n",
    "        \"\"\"\n",
    "        #print(\"value = %s\" % value)  # test\n",
    "        color = value\n",
    "        # change color of widget self.frame\n",
    "        style_str = \"QWidget {background-color: %s}\"\n",
    "        self.frame.setStyleSheet(style_str % self.color_dict[color])\n",
    "# colors are in HTML '#RRGGBB' format --> Red, Green, Blue hex 00 to ff\n",
    "color_dict = {\n",
    "'red': '#ff0000',\n",
    "'green': '#00ff00',\n",
    "'blue': '#0000ff',\n",
    "'yellow': '#ffff00',\n",
    "'gold': '#ffd700',\n",
    "'pink': '#ffc0cb',\n",
    "'bisque': '#ffe4c4',\n",
    "'ivory': '#fffff0',\n",
    "'black': '#000000',\n",
    "'white': '#ffffff',\n",
    "'violet': '#ee82ee',\n",
    "'silver': '#c0c0c0',\n",
    "'forestgreen': '#228b22',\n",
    "'brown': '#a52a3a',\n",
    "'chocolate': '#d2691e',\n",
    "'azure': '#fffff0',\n",
    "'orange': '#ffa500'\n",
    "}\n",
    "\n",
    "combo = ComboBox(color_dict)\n",
    "combo.show()"
   ]
  },
  {
   "cell_type": "code",
   "execution_count": 13,
   "metadata": {
    "collapsed": true
   },
   "outputs": [],
   "source": [
    "asdasd = QtGui.QColorDialog()"
   ]
  },
  {
   "cell_type": "code",
   "execution_count": 14,
   "metadata": {
    "collapsed": true
   },
   "outputs": [],
   "source": [
    "asdasd.show()"
   ]
  },
  {
   "cell_type": "code",
   "execution_count": null,
   "metadata": {
    "collapsed": true
   },
   "outputs": [],
   "source": [
    "class QtColorPicker(QtGui.QPushButton):\n",
    "    sigColorChanging = QtCore.Signal(object)  ## emitted whenever a new color is picked in the color dialog\n",
    "    sigColorChanged = QtCore.Signal(object)   ## emitted when the selected color is accepted (user clicks OK)\n",
    "    \n",
    "    def __init__(self, parent=None, columns=-1, enableColorDialog=True, color=):\n",
    "        QtGui.QPushButton.__init__(self, parent)"
   ]
  },
  {
   "cell_type": "code",
   "execution_count": 10,
   "metadata": {
    "collapsed": true
   },
   "outputs": [],
   "source": [
    "class ColorButton(QtGui.QPushButton):\n",
    "    \"\"\"\n",
    "    **Bases:** QtGui.QPushButton\n",
    "    \n",
    "    Button displaying a color and allowing the user to select a new color.\n",
    "    \n",
    "    ====================== ============================================================\n",
    "    **Signals:**\n",
    "    sigColorChanging(self) emitted whenever a new color is picked in the color dialog\n",
    "    sigColorChanged(self)  emitted when the selected color is accepted (user clicks OK)\n",
    "    ====================== ============================================================\n",
    "    \"\"\"\n",
    "    sigColorChanging = QtCore.Signal(object)  ## emitted whenever a new color is picked in the color dialog\n",
    "    sigColorChanged = QtCore.Signal(object)   ## emitted when the selected color is accepted (user clicks OK)\n",
    "    \n",
    "    def __init__(self, parent=None, color=(128,128,128)):\n",
    "        QtGui.QPushButton.__init__(self, parent)\n",
    "        self.setColor(color)\n",
    "        self.colorDialog = QtGui.QColorDialog()\n",
    "        self.colorDialog.setOption(QtGui.QColorDialog.ShowAlphaChannel, True)\n",
    "        self.colorDialog.setOption(QtGui.QColorDialog.DontUseNativeDialog, True)\n",
    "        self.colorDialog.currentColorChanged.connect(self.dialogColorChanged)\n",
    "        self.colorDialog.rejected.connect(self.colorRejected)\n",
    "        self.colorDialog.colorSelected.connect(self.colorSelected)\n",
    "        #QtCore.QObject.connect(self.colorDialog, QtCore.SIGNAL('currentColorChanged(const QColor&)'), self.currentColorChanged)\n",
    "        #QtCore.QObject.connect(self.colorDialog, QtCore.SIGNAL('rejected()'), self.currentColorRejected)\n",
    "        self.clicked.connect(self.selectColor)\n",
    "        self.setMinimumHeight(15)\n",
    "        self.setMinimumWidth(15)\n",
    "        \n",
    "    def paintEvent(self, ev):\n",
    "        QtGui.QPushButton.paintEvent(self, ev)\n",
    "        p = QtGui.QPainter(self)\n",
    "        rect = self.rect().adjusted(6, 6, -6, -6)\n",
    "        ## draw white base, then texture for indicating transparency, then actual color\n",
    "        p.setBrush(pg.mkBrush('w'))\n",
    "        p.drawRect(rect)\n",
    "        p.setBrush(QtGui.QBrush(QtCore.Qt.DiagCrossPattern))\n",
    "        p.drawRect(rect)\n",
    "        p.setBrush(pg.mkBrush(self._color))\n",
    "        p.drawRect(rect)\n",
    "        p.end()\n",
    "    \n",
    "    def setColor(self, color, finished=True):\n",
    "        \"\"\"Sets the button's color and emits both sigColorChanged and sigColorChanging.\"\"\"\n",
    "        self._color = pg.mkColor(color)\n",
    "        if finished:\n",
    "            self.sigColorChanged.emit(self)\n",
    "        else:\n",
    "            self.sigColorChanging.emit(self)\n",
    "        self.update()\n",
    "        \n",
    "    def selectColor(self):\n",
    "        self.origColor = self.color()\n",
    "        self.colorDialog.setCurrentColor(self.color())\n",
    "        self.colorDialog.open()\n",
    "        \n",
    "    def dialogColorChanged(self, color):\n",
    "        if color.isValid():\n",
    "            self.setColor(color, finished=False)\n",
    "            \n",
    "    def colorRejected(self):\n",
    "        self.setColor(self.origColor, finished=False)\n",
    "    \n",
    "    def colorSelected(self, color):\n",
    "        self.setColor(self._color, finished=True)\n",
    "    \n",
    "    def saveState(self):\n",
    "        return pg.colorTuple(self._color)\n",
    "        \n",
    "    def restoreState(self, state):\n",
    "        self.setColor(state)\n",
    "        \n",
    "    def color(self, mode='qcolor'):\n",
    "        color = pg.mkColor(self._color)\n",
    "        if mode == 'qcolor':\n",
    "            return color\n",
    "        elif mode == 'byte':\n",
    "            return (color.red(), color.green(), color.blue(), color.alpha())\n",
    "        elif mode == 'float':\n",
    "            return (color.red()/255., color.green()/255., color.blue()/255., color.alpha()/255.)\n",
    "\n",
    "    def widgetGroupInterface(self):\n",
    "        return (self.sigColorChanged, ColorButton.saveState, ColorButton.restoreState)"
   ]
  },
  {
   "cell_type": "code",
   "execution_count": 11,
   "metadata": {
    "collapsed": true
   },
   "outputs": [],
   "source": [
    "kaka = ColorButton()\n",
    "kaka.show()"
   ]
  },
  {
   "cell_type": "code",
   "execution_count": 8,
   "metadata": {
    "collapsed": false
   },
   "outputs": [
    {
     "ename": "ImportError",
     "evalue": "No module named 'PyKDE4'",
     "output_type": "error",
     "traceback": [
      "\u001b[1;31m---------------------------------------------------------------------------\u001b[0m",
      "\u001b[1;31mImportError\u001b[0m                               Traceback (most recent call last)",
      "\u001b[1;32m<ipython-input-8-63766842a16f>\u001b[0m in \u001b[0;36m<module>\u001b[1;34m()\u001b[0m\n\u001b[1;32m----> 1\u001b[1;33m \u001b[1;32mfrom\u001b[0m \u001b[0mPyKDE4\u001b[0m\u001b[1;33m.\u001b[0m\u001b[0mkdeui\u001b[0m \u001b[1;32mimport\u001b[0m \u001b[0mKColorCells\u001b[0m\u001b[1;33m\u001b[0m\u001b[0m\n\u001b[0m",
      "\u001b[1;31mImportError\u001b[0m: No module named 'PyKDE4'"
     ]
    }
   ],
   "source": [
    "from PyKDE4.kdeui import KColorCells"
   ]
  },
  {
   "cell_type": "code",
   "execution_count": 15,
   "metadata": {
    "collapsed": true
   },
   "outputs": [],
   "source": [
    "img_dummy = pg.ImageItem()\n",
    "plt_dummy = pg.PlotCurveItem()"
   ]
  },
  {
   "cell_type": "code",
   "execution_count": 34,
   "metadata": {
    "collapsed": false
   },
   "outputs": [
    {
     "data": {
      "text/plain": [
       "True"
      ]
     },
     "execution_count": 34,
     "metadata": {},
     "output_type": "execute_result"
    }
   ],
   "source": [
    "type(img_dummy) == pg.ImageItem"
   ]
  },
  {
   "cell_type": "code",
   "execution_count": null,
   "metadata": {
    "collapsed": true
   },
   "outputs": [],
   "source": [
    "class "
   ]
  },
  {
   "cell_type": "code",
   "execution_count": null,
   "metadata": {
    "collapsed": true
   },
   "outputs": [],
   "source": [
    "class EDSTableItem(object):\n",
    "    def __init__(self, pg_object):\n",
    "        self.pg_object = pg_object\n",
    "        if type(pg_object) == pg.ImageItem:\n",
    "            self.item_type = 'image'\n",
    "        elif type(pg_object\n",
    "        "
   ]
  }
 ],
 "metadata": {
  "kernelspec": {
   "display_name": "Python 3",
   "language": "python",
   "name": "python3"
  },
  "language_info": {
   "codemirror_mode": {
    "name": "ipython",
    "version": 3
   },
   "file_extension": ".py",
   "mimetype": "text/x-python",
   "name": "python",
   "nbconvert_exporter": "python",
   "pygments_lexer": "ipython3",
   "version": "3.4.2"
  }
 },
 "nbformat": 4,
 "nbformat_minor": 0
}

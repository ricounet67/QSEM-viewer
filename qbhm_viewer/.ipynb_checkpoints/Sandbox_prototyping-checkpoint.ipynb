{
 "cells": [
  {
   "cell_type": "code",
   "execution_count": 1,
   "metadata": {
    "collapsed": true
   },
   "outputs": [],
   "source": [
    "%gui qt4"
   ]
  },
  {
   "cell_type": "code",
   "execution_count": 1,
   "metadata": {
    "collapsed": true
   },
   "outputs": [],
   "source": [
    "%gui qt5"
   ]
  },
  {
   "cell_type": "code",
   "execution_count": 2,
   "metadata": {
    "collapsed": true
   },
   "outputs": [],
   "source": [
    "from PyQt5 import QtCore, QtGui, Qt"
   ]
  },
  {
   "cell_type": "code",
   "execution_count": 3,
   "metadata": {
    "collapsed": false
   },
   "outputs": [],
   "source": [
    "from gui import element_table_Qt5 as tab"
   ]
  },
  {
   "cell_type": "code",
   "execution_count": 4,
   "metadata": {
    "collapsed": false
   },
   "outputs": [],
   "source": [
    "a = tab.ElementTableGUI(preenabled=['Al', 'Si'])"
   ]
  },
  {
   "cell_type": "code",
   "execution_count": 5,
   "metadata": {
    "collapsed": false
   },
   "outputs": [],
   "source": [
    "import pyqtgraph as pg"
   ]
  },
  {
   "cell_type": "code",
   "execution_count": 5,
   "metadata": {
    "collapsed": false
   },
   "outputs": [],
   "source": [
    "a.show()"
   ]
  },
  {
   "cell_type": "code",
   "execution_count": 7,
   "metadata": {
    "collapsed": false
   },
   "outputs": [],
   "source": [
    "h = a.cellWidget(1,13)"
   ]
  },
  {
   "cell_type": "code",
   "execution_count": 8,
   "metadata": {
    "collapsed": false
   },
   "outputs": [],
   "source": [
    "h.setAutoFillBackground(True)"
   ]
  },
  {
   "cell_type": "code",
   "execution_count": 7,
   "metadata": {
    "collapsed": false
   },
   "outputs": [],
   "source": [
    "pal = h.palette()"
   ]
  },
  {
   "cell_type": "code",
   "execution_count": 10,
   "metadata": {
    "collapsed": false
   },
   "outputs": [],
   "source": [
    "h.setStyleSheet(\"\"\"font: bold; background-color: red; border: none; \"\"\")"
   ]
  },
  {
   "cell_type": "code",
   "execution_count": 2,
   "metadata": {
    "collapsed": true
   },
   "outputs": [],
   "source": [
    "import json"
   ]
  },
  {
   "cell_type": "code",
   "execution_count": 3,
   "metadata": {
    "collapsed": false
   },
   "outputs": [],
   "source": [
    "with open('configurations/gui_conf.json', 'r') as fn:\n",
    "    gui_config = json.loads(fn.read())"
   ]
  },
  {
   "cell_type": "code",
   "execution_count": 1,
   "metadata": {
    "collapsed": true
   },
   "outputs": [],
   "source": [
    "from utils import xray_util as xu"
   ]
  },
  {
   "cell_type": "code",
   "execution_count": 11,
   "metadata": {
    "collapsed": false
   },
   "outputs": [
    {
     "data": {
      "text/plain": [
       "[['Ka', 3.6917, 0.9379209167360651],\n",
       " ['Kb', 4.0127, 0.1073906212785063],\n",
       " ['Ll', 0.3027, 0.21410225159050816],\n",
       " ['Ln', 0.3063, 0.04967823131288333]]"
      ]
     },
     "execution_count": 11,
     "metadata": {},
     "output_type": "execute_result"
    }
   ],
   "source": [
    "xu.xray_lines_for_plot('Ca', hv=15)"
   ]
  },
  {
   "cell_type": "code",
   "execution_count": 2,
   "metadata": {
    "collapsed": false
   },
   "outputs": [
    {
     "data": {
      "text/plain": [
       "{'Ac': {'Atomic_properties': {'Xray_lines': {'Ka': {'energy (keV)': 90.884,\n",
       "     'weight': 1.0},\n",
       "    'Kb': {'energy (keV)': 102.846, 'weight': 0.15},\n",
       "    'La': {'energy (keV)': 12.652, 'weight': 1.0},\n",
       "    'Lb1': {'energy (keV)': 15.713, 'weight': 0.4},\n",
       "    'Lb2': {'energy (keV)': 15.234, 'weight': 0.236},\n",
       "    'Lb3': {'energy (keV)': 15.931, 'weight': 0.06},\n",
       "    'Lg1': {'energy (keV)': 18.4083, 'weight': 0.08},\n",
       "    'Lg3': {'energy (keV)': 18.95, 'weight': 0.017},\n",
       "    'Ll': {'energy (keV)': 10.869, 'weight': 0.06549},\n",
       "    'Ln': {'energy (keV)': 14.0812, 'weight': 0.0133},\n",
       "    'M2N4': {'energy (keV)': 3.9811, 'weight': 0.00674},\n",
       "    'M3O4': {'energy (keV)': 3.82586, 'weight': 0.01},\n",
       "    'M3O5': {'energy (keV)': 3.83206, 'weight': 0.01},\n",
       "    'Ma': {'energy (keV)': 2.9239330000000003, 'weight': 1.0},\n",
       "    'Mb': {'energy (keV)': 3.06626, 'weight': 0.64124},\n",
       "    'Mg': {'energy (keV)': 3.272, 'weight': 0.33505},\n",
       "    'Mz': {'energy (keV)': 2.329, 'weight': 0.03512}}},\n",
       "  'General_properties': {'Z': 89, 'atomic_weight': 227, 'name': 'actinium'},\n",
       "  'Physical_properties': {'density (g/cm^3)': 10.07}},\n",
       " 'Ag': {'Atomic_properties': {'Binding_energies': {'M2': {'factor': 0.5,\n",
       "     'filename': 'Ag.M3',\n",
       "     'onset_energy (eV)': 602.0,\n",
       "     'relevance': 'Minor'},\n",
       "    'M3': {'factor': 1,\n",
       "     'filename': 'Ag.M3',\n",
       "     'onset_energy (eV)': 571.0,\n",
       "     'relevance': 'Minor'},\n",
       "    'M4': {'factor': 0.6666666666666666,\n",
       "     'filename': 'Ag.M5',\n",
       "     'onset_energy (eV)': 373.0,\n",
       "     'relevance': 'Major'},\n",
       "    'M5': {'factor': 1,\n",
       "     'filename': 'Ag.M5',\n",
       "     'onset_energy (eV)': 367.0,\n",
       "     'relevance': 'Major'}},\n",
       "   'Xray_lines': {'Ka': {'energy (keV)': 22.1629, 'weight': 1.0},\n",
       "    'Kb': {'energy (keV)': 24.9426, 'weight': 0.15},\n",
       "    'La': {'energy (keV)': 2.9844, 'weight': 1.0},\n",
       "    'Lb1': {'energy (keV)': 3.1509, 'weight': 0.35175},\n",
       "    'Lb2': {'energy (keV)': 3.3478, 'weight': 0.1165},\n",
       "    'Lb3': {'energy (keV)': 3.2344, 'weight': 0.0737},\n",
       "    'Lb4': {'energy (keV)': 3.2034, 'weight': 0.0444},\n",
       "    'Lg1': {'energy (keV)': 3.5204, 'weight': 0.03735},\n",
       "    'Lg3': {'energy (keV)': 3.7499, 'weight': 0.014},\n",
       "    'Ll': {'energy (keV)': 2.6336, 'weight': 0.04129},\n",
       "    'Ln': {'energy (keV)': 2.8062, 'weight': 0.0131}}},\n",
       "  'General_properties': {'Z': 47, 'atomic_weight': 107.8682, 'name': 'silver'},\n",
       "  'Physical_properties': {'density (g/cm^3)': 10.49}},\n",
       " 'Al': {'Atomic_properties': {'Binding_energies': {'K': {'factor': 1,\n",
       "     'filename': 'Al.K1',\n",
       "     'onset_energy (eV)': 1560.0,\n",
       "     'relevance': 'Major'},\n",
       "    'L1': {'factor': 1,\n",
       "     'filename': 'Al.L1',\n",
       "     'onset_energy (eV)': 118.0,\n",
       "     'relevance': 'Minor'},\n",
       "    'L3': {'factor': 1,\n",
       "     'filename': 'Al.L3',\n",
       "     'onset_energy (eV)': 73.0,\n",
       "     'relevance': 'Major'}},\n",
       "   'Xray_lines': {'Ka': {'energy (keV)': 1.4865, 'weight': 1.0},\n",
       "    'Kb': {'energy (keV)': 1.5596, 'weight': 0.0132}}},\n",
       "  'General_properties': {'Z': 13,\n",
       "   'atomic_weight': 26.9815386,\n",
       "   'name': 'aluminum'},\n",
       "  'Physical_properties': {'density (g/cm^3)': 2.7}},\n",
       " 'Ar': {'Atomic_properties': {'Binding_energies': {'L1': {'factor': 1,\n",
       "     'filename': 'Ar.L1',\n",
       "     'onset_energy (eV)': 320.0,\n",
       "     'relevance': 'Minor'},\n",
       "    'L3': {'factor': 1,\n",
       "     'filename': 'Ar.L3',\n",
       "     'onset_energy (eV)': 245.0,\n",
       "     'relevance': 'Major'}},\n",
       "   'Xray_lines': {'Ka': {'energy (keV)': 2.9577, 'weight': 1.0},\n",
       "    'Kb': {'energy (keV)': 3.1905, 'weight': 0.10169}}},\n",
       "  'General_properties': {'Z': 18, 'atomic_weight': 39.948, 'name': 'argon'},\n",
       "  'Physical_properties': {'density (g/cm^3)': 0.001784}},\n",
       " 'As': {'Atomic_properties': {'Binding_energies': {'L1': {'factor': 1,\n",
       "     'filename': 'As.L1',\n",
       "     'onset_energy (eV)': 1526.0,\n",
       "     'relevance': 'Minor'},\n",
       "    'L2': {'factor': 0.5,\n",
       "     'filename': 'As.L3',\n",
       "     'onset_energy (eV)': 1359.0,\n",
       "     'relevance': 'Major'},\n",
       "    'L3': {'factor': 1,\n",
       "     'filename': 'As.L3',\n",
       "     'onset_energy (eV)': 1323.0,\n",
       "     'relevance': 'Major'}},\n",
       "   'Xray_lines': {'Ka': {'energy (keV)': 10.5436, 'weight': 1.0},\n",
       "    'Kb': {'energy (keV)': 11.7262, 'weight': 0.14589},\n",
       "    'La': {'energy (keV)': 1.2819, 'weight': 1.0},\n",
       "    'Lb1': {'energy (keV)': 1.3174, 'weight': 0.16704},\n",
       "    'Lb3': {'energy (keV)': 1.386, 'weight': 0.04769},\n",
       "    'Ll': {'energy (keV)': 1.1196, 'weight': 0.04929},\n",
       "    'Ln': {'energy (keV)': 1.1551, 'weight': 0.01929}}},\n",
       "  'General_properties': {'Z': 33, 'atomic_weight': 74.9216, 'name': 'arsenic'},\n",
       "  'Physical_properties': {'density (g/cm^3)': 5.727}},\n",
       " 'At': {'Atomic_properties': {'Xray_lines': {'Ka': {'energy (keV)': 81.5164,\n",
       "     'weight': 1.0},\n",
       "    'Kb': {'energy (keV)': 92.3039, 'weight': 0.15},\n",
       "    'La': {'energy (keV)': 11.4268, 'weight': 1.0},\n",
       "    'Lb1': {'energy (keV)': 13.876, 'weight': 0.38048},\n",
       "    'Lb2': {'energy (keV)': 13.73812, 'weight': 0.2305},\n",
       "    'Lb3': {'energy (keV)': 14.067, 'weight': 0.06},\n",
       "    'Lb4': {'energy (keV)': 13.485, 'weight': 0.05809},\n",
       "    'Lg1': {'energy (keV)': 16.2515, 'weight': 0.08},\n",
       "    'Lg3': {'energy (keV)': 16.753, 'weight': 0.017},\n",
       "    'Ll': {'energy (keV)': 9.8965, 'weight': 0.06179},\n",
       "    'Ln': {'energy (keV)': 12.4677, 'weight': 0.0132},\n",
       "    'M2N4': {'energy (keV)': 3.4748, 'weight': 0.00863},\n",
       "    'Mb': {'energy (keV)': 2.71162, 'weight': 0.64124},\n",
       "    'Mg': {'energy (keV)': 2.95061, 'weight': 0.21845},\n",
       "    'Mz': {'energy (keV)': 2.0467, 'weight': 0.00354}}},\n",
       "  'General_properties': {'Z': 85, 'atomic_weight': 210, 'name': 'astatine'},\n",
       "  'Physical_properties': {'density (g/cm^3)': 'NaN'}},\n",
       " 'Au': {'Atomic_properties': {'Binding_energies': {'M4': {'factor': 0.6666666666666666,\n",
       "     'filename': 'Au.M5',\n",
       "     'onset_energy (eV)': 2291.0,\n",
       "     'relevance': 'Major'},\n",
       "    'M5': {'factor': 1,\n",
       "     'filename': 'Au.M5',\n",
       "     'onset_energy (eV)': 2206.0,\n",
       "     'relevance': 'Major'}},\n",
       "   'Xray_lines': {'Ka': {'energy (keV)': 68.8062, 'weight': 1.0},\n",
       "    'Kb': {'energy (keV)': 77.9819, 'weight': 0.15},\n",
       "    'La': {'energy (keV)': 9.713, 'weight': 1.0},\n",
       "    'Lb1': {'energy (keV)': 11.4425, 'weight': 0.40151},\n",
       "    'Lb2': {'energy (keV)': 11.5848, 'weight': 0.21949},\n",
       "    'Lb3': {'energy (keV)': 11.6098, 'weight': 0.069},\n",
       "    'Lb4': {'energy (keV)': 11.205, 'weight': 0.0594},\n",
       "    'Lg1': {'energy (keV)': 13.3816, 'weight': 0.08407},\n",
       "    'Lg3': {'energy (keV)': 13.8074, 'weight': 0.0194},\n",
       "    'Ll': {'energy (keV)': 8.4938, 'weight': 0.0562},\n",
       "    'Ln': {'energy (keV)': 10.3087, 'weight': 0.01379},\n",
       "    'M2N4': {'energy (keV)': 2.7958, 'weight': 0.02901},\n",
       "    'M3O4': {'energy (keV)': 2.73469, 'weight': 0.005},\n",
       "    'M3O5': {'energy (keV)': 2.73621, 'weight': 0.01},\n",
       "    'Ma': {'energy (keV)': 2.1229, 'weight': 1.0},\n",
       "    'Mb': {'energy (keV)': 2.2047, 'weight': 0.59443},\n",
       "    'Mg': {'energy (keV)': 2.4091, 'weight': 0.08505},\n",
       "    'Mz': {'energy (keV)': 1.6603, 'weight': 0.01344}}},\n",
       "  'General_properties': {'Z': 79, 'atomic_weight': 196.966569, 'name': 'gold'},\n",
       "  'Physical_properties': {'density (g/cm^3)': 19.3}},\n",
       " 'B': {'Atomic_properties': {'Binding_energies': {'K': {'factor': 1,\n",
       "     'filename': 'B.K1',\n",
       "     'onset_energy (eV)': 188.0,\n",
       "     'relevance': 'Major'}},\n",
       "   'Xray_lines': {'Ka': {'energy (keV)': 0.1833, 'weight': 1.0}}},\n",
       "  'General_properties': {'Z': 5, 'atomic_weight': 10.811, 'name': 'boron'},\n",
       "  'Physical_properties': {'density (g/cm^3)': 2.46}},\n",
       " 'Ba': {'Atomic_properties': {'Binding_energies': {'M2': {'factor': 0.5,\n",
       "     'filename': 'Ba.M3',\n",
       "     'onset_energy (eV)': 1137.0,\n",
       "     'relevance': 'Minor'},\n",
       "    'M3': {'factor': 1,\n",
       "     'filename': 'Ba.M3',\n",
       "     'onset_energy (eV)': 1062.0,\n",
       "     'relevance': 'Minor'},\n",
       "    'M4': {'factor': 0.6666666666666666,\n",
       "     'filename': 'Ba.M5',\n",
       "     'onset_energy (eV)': 796.0,\n",
       "     'relevance': 'Major'},\n",
       "    'M5': {'factor': 1,\n",
       "     'filename': 'Ba.M5',\n",
       "     'onset_energy (eV)': 781.0,\n",
       "     'relevance': 'Major'},\n",
       "    'N4': {'factor': 0.6666666666666666,\n",
       "     'filename': 'Ba.N5',\n",
       "     'onset_energy (eV)': 90.0,\n",
       "     'relevance': 'Major'},\n",
       "    'N5': {'factor': 1,\n",
       "     'filename': 'Ba.N5',\n",
       "     'onset_energy (eV)': 90.0,\n",
       "     'relevance': 'Major'}},\n",
       "   'Xray_lines': {'Ka': {'energy (keV)': 32.1936, 'weight': 1.0},\n",
       "    'Kb': {'energy (keV)': 36.3784, 'weight': 0.15},\n",
       "    'La': {'energy (keV)': 4.4663, 'weight': 1.0},\n",
       "    'Lb1': {'energy (keV)': 4.8275, 'weight': 0.43048},\n",
       "    'Lb2': {'energy (keV)': 5.1571, 'weight': 0.1905},\n",
       "    'Lb3': {'energy (keV)': 4.9266, 'weight': 0.13779},\n",
       "    'Lb4': {'energy (keV)': 4.8521, 'weight': 0.08859},\n",
       "    'Lg1': {'energy (keV)': 5.5311, 'weight': 0.07487},\n",
       "    'Lg3': {'energy (keV)': 5.8091, 'weight': 0.0331},\n",
       "    'Ll': {'energy (keV)': 3.9542, 'weight': 0.04299},\n",
       "    'Ln': {'energy (keV)': 4.3308, 'weight': 0.0151}}},\n",
       "  'General_properties': {'Z': 56, 'atomic_weight': 137.327, 'name': 'barium'},\n",
       "  'Physical_properties': {'density (g/cm^3)': 3.51}},\n",
       " 'Be': {'Atomic_properties': {'Binding_energies': {'K': {'factor': 1,\n",
       "     'filename': 'Be.K1',\n",
       "     'onset_energy (eV)': 111.0,\n",
       "     'relevance': 'Major'}},\n",
       "   'Xray_lines': {'Ka': {'energy (keV)': 0.10258, 'weight': 1.0}}},\n",
       "  'General_properties': {'Z': 4,\n",
       "   'atomic_weight': 9.012182,\n",
       "   'name': 'beryllium'},\n",
       "  'Physical_properties': {'density (g/cm^3)': 1.848}},\n",
       " 'Bi': {'Atomic_properties': {'Binding_energies': {'M4': {'factor': 0.6666666666666666,\n",
       "     'filename': 'Bi.M5',\n",
       "     'onset_energy (eV)': 2688.0,\n",
       "     'relevance': 'Major'},\n",
       "    'M5': {'factor': 1,\n",
       "     'filename': 'Bi.M5',\n",
       "     'onset_energy (eV)': 2580.0,\n",
       "     'relevance': 'Major'}},\n",
       "   'Xray_lines': {'Ka': {'energy (keV)': 77.1073, 'weight': 1.0},\n",
       "    'Kb': {'energy (keV)': 87.349, 'weight': 0.15},\n",
       "    'La': {'energy (keV)': 10.839, 'weight': 1.0},\n",
       "    'Lb1': {'energy (keV)': 13.0235, 'weight': 0.4},\n",
       "    'Lb2': {'energy (keV)': 12.9786, 'weight': 0.2278},\n",
       "    'Lb3': {'energy (keV)': 13.2106, 'weight': 0.0607},\n",
       "    'Lb4': {'energy (keV)': 12.6912, 'weight': 0.05639},\n",
       "    'Lg1': {'energy (keV)': 15.2475, 'weight': 0.08},\n",
       "    'Lg3': {'energy (keV)': 15.7086, 'weight': 0.017},\n",
       "    'Ll': {'energy (keV)': 9.4195, 'weight': 0.06},\n",
       "    'Ln': {'energy (keV)': 11.712, 'weight': 0.0134},\n",
       "    'M2N4': {'energy (keV)': 3.2327, 'weight': 0.00863},\n",
       "    'M3O4': {'energy (keV)': 3.1504, 'weight': 0.01},\n",
       "    'M3O5': {'energy (keV)': 3.1525, 'weight': 0.01},\n",
       "    'Ma': {'energy (keV)': 2.4222, 'weight': 1.0},\n",
       "    'Mb': {'energy (keV)': 2.5257, 'weight': 0.64124},\n",
       "    'Mg': {'energy (keV)': 2.7369, 'weight': 0.21845},\n",
       "    'Mz': {'energy (keV)': 1.9007, 'weight': 0.0058}}},\n",
       "  'General_properties': {'Z': 83,\n",
       "   'atomic_weight': 208.9804,\n",
       "   'name': 'bismuth'},\n",
       "  'Physical_properties': {'density (g/cm^3)': 9.78}},\n",
       " 'Br': {'Atomic_properties': {'Binding_energies': {'L1': {'factor': 1,\n",
       "     'filename': 'Br.L1',\n",
       "     'onset_energy (eV)': 1782.0,\n",
       "     'relevance': 'Minor'},\n",
       "    'L2': {'factor': 0.5,\n",
       "     'filename': 'Br.L3',\n",
       "     'onset_energy (eV)': 1596.0,\n",
       "     'relevance': 'Major'},\n",
       "    'L3': {'factor': 1,\n",
       "     'filename': 'Br.L3',\n",
       "     'onset_energy (eV)': 1550.0,\n",
       "     'relevance': 'Major'}},\n",
       "   'Xray_lines': {'Ka': {'energy (keV)': 11.9238, 'weight': 1.0},\n",
       "    'Kb': {'energy (keV)': 13.2922, 'weight': 0.15289},\n",
       "    'La': {'energy (keV)': 1.4809, 'weight': 1.0},\n",
       "    'Lb1': {'energy (keV)': 1.5259, 'weight': 0.39175},\n",
       "    'Lb3': {'energy (keV)': 1.6005, 'weight': 0.04629},\n",
       "    'Ll': {'energy (keV)': 1.2934, 'weight': 0.0462},\n",
       "    'Ln': {'energy (keV)': 1.3395, 'weight': 0.0182}}},\n",
       "  'General_properties': {'Z': 35, 'atomic_weight': 79.904, 'name': 'bromine'},\n",
       "  'Physical_properties': {'density (g/cm^3)': 3.12}},\n",
       " 'C': {'Atomic_properties': {'Binding_energies': {'K': {'factor': 1,\n",
       "     'filename': 'C.K1',\n",
       "     'onset_energy (eV)': 284.0,\n",
       "     'relevance': 'Major'},\n",
       "    'K1a': {'factor': 1,\n",
       "     'filename': 'C.K1a',\n",
       "     'onset_energy (eV)': 284.0,\n",
       "     'relevance': 'Major'}},\n",
       "   'Xray_lines': {'Ka': {'energy (keV)': 0.2774, 'weight': 1.0}}},\n",
       "  'General_properties': {'Z': 6, 'atomic_weight': 12.0107, 'name': 'carbon'},\n",
       "  'Physical_properties': {'density (g/cm^3)': 2.26}},\n",
       " 'Ca': {'Atomic_properties': {'Binding_energies': {'L1': {'factor': 1,\n",
       "     'filename': 'Ca.L1',\n",
       "     'onset_energy (eV)': 438.0,\n",
       "     'relevance': 'Minor'},\n",
       "    'L2': {'factor': 0.5,\n",
       "     'filename': 'Ca.L3',\n",
       "     'onset_energy (eV)': 350.0,\n",
       "     'relevance': 'Major'},\n",
       "    'L3': {'factor': 1,\n",
       "     'filename': 'Ca.L3',\n",
       "     'onset_energy (eV)': 346.0,\n",
       "     'relevance': 'Major'}},\n",
       "   'Xray_lines': {'Ka': {'energy (keV)': 3.6917, 'weight': 1.0},\n",
       "    'Kb': {'energy (keV)': 4.0127, 'weight': 0.112},\n",
       "    'La': {'energy (keV)': 0.3464, 'weight': 0.0},\n",
       "    'Ll': {'energy (keV)': 0.3027, 'weight': 1.0},\n",
       "    'Ln': {'energy (keV)': 0.3063, 'weight': 0.23}}},\n",
       "  'General_properties': {'Z': 20, 'atomic_weight': 40.078, 'name': 'calcium'},\n",
       "  'Physical_properties': {'density (g/cm^3)': 1.55}},\n",
       " 'Cd': {'Atomic_properties': {'Binding_energies': {'M2': {'factor': 0.5,\n",
       "     'filename': 'Cd.M3',\n",
       "     'onset_energy (eV)': 651.0,\n",
       "     'relevance': 'Minor'},\n",
       "    'M3': {'factor': 1,\n",
       "     'filename': 'Cd.M3',\n",
       "     'onset_energy (eV)': 616.0,\n",
       "     'relevance': 'Minor'},\n",
       "    'M4': {'factor': 0.6666666666666666,\n",
       "     'filename': 'Cd.M5',\n",
       "     'onset_energy (eV)': 411.0,\n",
       "     'relevance': 'Major'},\n",
       "    'M5': {'factor': 1,\n",
       "     'filename': 'Cd.M5',\n",
       "     'onset_energy (eV)': 404.0,\n",
       "     'relevance': 'Major'}},\n",
       "   'Xray_lines': {'Ka': {'energy (keV)': 23.1737, 'weight': 1.0},\n",
       "    'Kb': {'energy (keV)': 26.0947, 'weight': 0.15},\n",
       "    'La': {'energy (keV)': 3.1338, 'weight': 1.0},\n",
       "    'Lb1': {'energy (keV)': 3.3165, 'weight': 0.35704},\n",
       "    'Lb2': {'energy (keV)': 3.5282, 'weight': 0.1288},\n",
       "    'Lb3': {'energy (keV)': 3.4015, 'weight': 0.07719},\n",
       "    'Lb4': {'energy (keV)': 3.3673, 'weight': 0.0469},\n",
       "    'Lg1': {'energy (keV)': 3.7177, 'weight': 0.0416},\n",
       "    'Lg3': {'energy (keV)': 3.9511, 'weight': 0.0151},\n",
       "    'Ll': {'energy (keV)': 2.7673, 'weight': 0.04169},\n",
       "    'Ln': {'energy (keV)': 2.9568, 'weight': 0.0132}}},\n",
       "  'General_properties': {'Z': 48, 'atomic_weight': 112.411, 'name': 'cadmium'},\n",
       "  'Physical_properties': {'density (g/cm^3)': 8.65}},\n",
       " 'Ce': {'Atomic_properties': {'Binding_energies': {'M2': {'factor': 0.5,\n",
       "     'filename': 'Ce.M3',\n",
       "     'onset_energy (eV)': 1273.0,\n",
       "     'relevance': 'Minor'},\n",
       "    'M3': {'factor': 1,\n",
       "     'filename': 'Ce.M3',\n",
       "     'onset_energy (eV)': 1185.0,\n",
       "     'relevance': 'Minor'},\n",
       "    'M4': {'factor': 0.6666666666666666,\n",
       "     'filename': 'Ce.M5',\n",
       "     'onset_energy (eV)': 901.0,\n",
       "     'relevance': 'Major'},\n",
       "    'M5': {'factor': 1,\n",
       "     'filename': 'Ce.M5',\n",
       "     'onset_energy (eV)': 883.0,\n",
       "     'relevance': 'Major'},\n",
       "    'N4': {'factor': 0.6666666666666666,\n",
       "     'filename': 'Ce.N5',\n",
       "     'onset_energy (eV)': 110.0,\n",
       "     'relevance': 'Major'},\n",
       "    'N5': {'factor': 1,\n",
       "     'filename': 'Ce.N5',\n",
       "     'onset_energy (eV)': 110.0,\n",
       "     'relevance': 'Major'}},\n",
       "   'Xray_lines': {'Ka': {'energy (keV)': 34.7196, 'weight': 1.0},\n",
       "    'Kb': {'energy (keV)': 39.2576, 'weight': 0.15},\n",
       "    'La': {'energy (keV)': 4.8401, 'weight': 1.0},\n",
       "    'Lb1': {'energy (keV)': 5.2629, 'weight': 0.43},\n",
       "    'Lb2': {'energy (keV)': 5.6134, 'weight': 0.19399},\n",
       "    'Lb3': {'energy (keV)': 5.3634, 'weight': 0.1325},\n",
       "    'Lb4': {'energy (keV)': 5.276, 'weight': 0.08699},\n",
       "    'Lg1': {'energy (keV)': 6.0542, 'weight': 0.0764},\n",
       "    'Lg3': {'energy (keV)': 6.3416, 'weight': 0.0324},\n",
       "    'Ll': {'energy (keV)': 4.2888, 'weight': 0.0436},\n",
       "    'Ln': {'energy (keV)': 4.7296, 'weight': 0.015},\n",
       "    'M2N4': {'energy (keV)': 1.1628, 'weight': 0.08},\n",
       "    'Ma': {'energy (keV)': 0.8455, 'weight': 1.0},\n",
       "    'Mb': {'energy (keV)': 0.8154, 'weight': 0.91},\n",
       "    'Mg': {'energy (keV)': 1.0754, 'weight': 0.5},\n",
       "    'Mz': {'energy (keV)': 0.6761, 'weight': 0.07}}},\n",
       "  'General_properties': {'Z': 58, 'atomic_weight': 140.116, 'name': 'cerium'},\n",
       "  'Physical_properties': {'density (g/cm^3)': 6.689}},\n",
       " 'Cl': {'Atomic_properties': {'Binding_energies': {'L1': {'factor': 1,\n",
       "     'filename': 'Cl.L1',\n",
       "     'onset_energy (eV)': 270.0,\n",
       "     'relevance': 'Minor'},\n",
       "    'L3': {'factor': 1,\n",
       "     'filename': 'Cl.L3',\n",
       "     'onset_energy (eV)': 200.0,\n",
       "     'relevance': 'Major'}},\n",
       "   'Xray_lines': {'Ka': {'energy (keV)': 2.6224, 'weight': 1.0},\n",
       "    'Kb': {'energy (keV)': 2.8156, 'weight': 0.0838}}},\n",
       "  'General_properties': {'Z': 17, 'atomic_weight': 35.453, 'name': 'chlorine'},\n",
       "  'Physical_properties': {'density (g/cm^3)': 0.003214}},\n",
       " 'Co': {'Atomic_properties': {'Binding_energies': {'L1': {'factor': 1,\n",
       "     'filename': 'Co.L1',\n",
       "     'onset_energy (eV)': 926.0,\n",
       "     'relevance': 'Minor'},\n",
       "    'L2': {'factor': 0.5,\n",
       "     'filename': 'Co.L3',\n",
       "     'onset_energy (eV)': 794.0,\n",
       "     'relevance': 'Major'},\n",
       "    'L3': {'factor': 1,\n",
       "     'filename': 'Co.L3',\n",
       "     'onset_energy (eV)': 779.0,\n",
       "     'relevance': 'Major'},\n",
       "    'M2': {'factor': 0.5,\n",
       "     'filename': 'Co.M3',\n",
       "     'onset_energy (eV)': 62.0,\n",
       "     'relevance': 'Major'},\n",
       "    'M3': {'factor': 1,\n",
       "     'filename': 'Co.M3',\n",
       "     'onset_energy (eV)': 62.0,\n",
       "     'relevance': 'Major'}},\n",
       "   'Xray_lines': {'Ka': {'energy (keV)': 6.9303, 'weight': 1.0},\n",
       "    'Kb': {'energy (keV)': 7.6494, 'weight': 0.1277},\n",
       "    'La': {'energy (keV)': 0.7757, 'weight': 1.0},\n",
       "    'Lb3': {'energy (keV)': 0.8661, 'weight': 0.0238},\n",
       "    'Ll': {'energy (keV)': 0.6779, 'weight': 0.2157},\n",
       "    'Ln': {'energy (keV)': 0.6929, 'weight': 0.0833}}},\n",
       "  'General_properties': {'Z': 27,\n",
       "   'atomic_weight': 58.933195,\n",
       "   'name': 'cobalt'},\n",
       "  'Physical_properties': {'density (g/cm^3)': 8.9}},\n",
       " 'Cr': {'Atomic_properties': {'Binding_energies': {'L1': {'factor': 1,\n",
       "     'filename': 'Cr.L1',\n",
       "     'onset_energy (eV)': 695.0,\n",
       "     'relevance': 'Minor'},\n",
       "    'L2': {'factor': 0.5,\n",
       "     'filename': 'Cr.L3',\n",
       "     'onset_energy (eV)': 584.0,\n",
       "     'relevance': 'Major'},\n",
       "    'L3': {'factor': 1,\n",
       "     'filename': 'Cr.L3',\n",
       "     'onset_energy (eV)': 575.0,\n",
       "     'relevance': 'Major'},\n",
       "    'M2': {'factor': 0.5,\n",
       "     'filename': 'Cr.M3',\n",
       "     'onset_energy (eV)': 48.0,\n",
       "     'relevance': 'Major'},\n",
       "    'M3': {'factor': 1,\n",
       "     'filename': 'Cr.M3',\n",
       "     'onset_energy (eV)': 48.0,\n",
       "     'relevance': 'Major'}},\n",
       "   'Xray_lines': {'Ka': {'energy (keV)': 5.4147, 'weight': 1.0},\n",
       "    'Kb': {'energy (keV)': 5.9467, 'weight': 0.134},\n",
       "    'La': {'energy (keV)': 0.5722, 'weight': 1.0},\n",
       "    'Lb3': {'energy (keV)': 0.6521, 'weight': 0.0309},\n",
       "    'Ll': {'energy (keV)': 0.5004, 'weight': 0.6903},\n",
       "    'Ln': {'energy (keV)': 0.5096, 'weight': 0.2353}}},\n",
       "  'General_properties': {'Z': 24,\n",
       "   'atomic_weight': 51.9961,\n",
       "   'name': 'chromium'},\n",
       "  'Physical_properties': {'density (g/cm^3)': 7.14}},\n",
       " 'Cs': {'Atomic_properties': {'Binding_energies': {'M2': {'factor': 0.5,\n",
       "     'filename': 'Cs.M3',\n",
       "     'onset_energy (eV)': 1065.0,\n",
       "     'relevance': 'Minor'},\n",
       "    'M3': {'factor': 1,\n",
       "     'filename': 'Cs.M3',\n",
       "     'onset_energy (eV)': 998.0,\n",
       "     'relevance': 'Minor'},\n",
       "    'M4': {'factor': 0.6666666666666666,\n",
       "     'filename': 'Cs.M5',\n",
       "     'onset_energy (eV)': 740.0,\n",
       "     'relevance': 'Major'},\n",
       "    'M5': {'factor': 1,\n",
       "     'filename': 'Cs.M5',\n",
       "     'onset_energy (eV)': 726.0,\n",
       "     'relevance': 'Major'},\n",
       "    'N4': {'factor': 0.6666666666666666,\n",
       "     'filename': 'Cs.N5',\n",
       "     'onset_energy (eV)': 78.0,\n",
       "     'relevance': 'Major'},\n",
       "    'N5': {'factor': 1,\n",
       "     'filename': 'Cs.N5',\n",
       "     'onset_energy (eV)': 78.0,\n",
       "     'relevance': 'Major'}},\n",
       "   'Xray_lines': {'Ka': {'energy (keV)': 30.9727, 'weight': 1.0},\n",
       "    'Kb': {'energy (keV)': 34.987, 'weight': 0.15},\n",
       "    'La': {'energy (keV)': 4.2864, 'weight': 1.0},\n",
       "    'Lb1': {'energy (keV)': 4.6199, 'weight': 0.42983},\n",
       "    'Lb2': {'energy (keV)': 4.9354, 'weight': 0.19589},\n",
       "    'Lb3': {'energy (keV)': 4.7167, 'weight': 0.1399},\n",
       "    'Lb4': {'energy (keV)': 4.6493, 'weight': 0.08869},\n",
       "    'Lg1': {'energy (keV)': 5.2806, 'weight': 0.07215},\n",
       "    'Lg3': {'energy (keV)': 5.5527, 'weight': 0.0325},\n",
       "    'Ll': {'energy (keV)': 3.7948, 'weight': 0.04269},\n",
       "    'Ln': {'energy (keV)': 4.1423, 'weight': 0.0152}}},\n",
       "  'General_properties': {'Z': 55,\n",
       "   'atomic_weight': 132.9054519,\n",
       "   'name': 'cesium'},\n",
       "  'Physical_properties': {'density (g/cm^3)': 1.879}},\n",
       " 'Cu': {'Atomic_properties': {'Binding_energies': {'L1': {'factor': 1,\n",
       "     'filename': 'Cu.L1',\n",
       "     'onset_energy (eV)': 1096.0,\n",
       "     'relevance': 'Minor'},\n",
       "    'L2': {'factor': 0.5,\n",
       "     'filename': 'Cu.L3',\n",
       "     'onset_energy (eV)': 951.0,\n",
       "     'relevance': 'Major'},\n",
       "    'L3': {'factor': 1,\n",
       "     'filename': 'Cu.L3',\n",
       "     'onset_energy (eV)': 931.0,\n",
       "     'relevance': 'Major'},\n",
       "    'M2': {'factor': 0.5,\n",
       "     'filename': 'Cu.M3',\n",
       "     'onset_energy (eV)': 74.0,\n",
       "     'relevance': 'Major'},\n",
       "    'M3': {'factor': 1,\n",
       "     'filename': 'Cu.M3',\n",
       "     'onset_energy (eV)': 74.0,\n",
       "     'relevance': 'Major'}},\n",
       "   'Xray_lines': {'Ka': {'energy (keV)': 8.0478, 'weight': 1.0},\n",
       "    'Kb': {'energy (keV)': 8.9053, 'weight': 0.13157},\n",
       "    'La': {'energy (keV)': 0.9295, 'weight': 1.0},\n",
       "    'Lb1': {'energy (keV)': 0.9494, 'weight': 0.03197},\n",
       "    'Lb3': {'energy (keV)': 1.0225, 'weight': 0.00114},\n",
       "    'Ll': {'energy (keV)': 0.8113, 'weight': 0.08401},\n",
       "    'Ln': {'energy (keV)': 0.8312, 'weight': 0.01984}}},\n",
       "  'General_properties': {'Z': 29, 'atomic_weight': 63.546, 'name': 'copper'},\n",
       "  'Physical_properties': {'density (g/cm^3)': 8.92}},\n",
       " 'Dy': {'Atomic_properties': {'Binding_energies': {'M2': {'factor': 0.5,\n",
       "     'filename': 'Dy.M3',\n",
       "     'onset_energy (eV)': 1842.0,\n",
       "     'relevance': 'Minor'},\n",
       "    'M3': {'factor': 1,\n",
       "     'filename': 'Dy.M3',\n",
       "     'onset_energy (eV)': 1676.0,\n",
       "     'relevance': 'Minor'},\n",
       "    'M4': {'factor': 0.6666666666666666,\n",
       "     'filename': 'Dy.M5',\n",
       "     'onset_energy (eV)': 1332.0,\n",
       "     'relevance': 'Major'},\n",
       "    'M5': {'factor': 1,\n",
       "     'filename': 'Dy.M5',\n",
       "     'onset_energy (eV)': 1295.0,\n",
       "     'relevance': 'Major'},\n",
       "    'N4': {'factor': 0.6666666666666666,\n",
       "     'filename': 'Dy.N5',\n",
       "     'onset_energy (eV)': 154.0,\n",
       "     'relevance': 'Major'},\n",
       "    'N5': {'factor': 1,\n",
       "     'filename': 'Dy.N5',\n",
       "     'onset_energy (eV)': 154.0,\n",
       "     'relevance': 'Major'}},\n",
       "   'Xray_lines': {'Ka': {'energy (keV)': 45.9984, 'weight': 1.0},\n",
       "    'Kb': {'energy (keV)': 52.1129, 'weight': 0.15},\n",
       "    'La': {'energy (keV)': 6.4952, 'weight': 1.0},\n",
       "    'Lb1': {'energy (keV)': 7.2481, 'weight': 0.444},\n",
       "    'Lb2': {'energy (keV)': 7.6359, 'weight': 0.2},\n",
       "    'Lb3': {'energy (keV)': 7.3702, 'weight': 0.12529},\n",
       "    'Lb4': {'energy (keV)': 7.204, 'weight': 0.0891},\n",
       "    'Lg1': {'energy (keV)': 8.4264, 'weight': 0.08295},\n",
       "    'Lg3': {'energy (keV)': 8.7529, 'weight': 0.0319},\n",
       "    'Ll': {'energy (keV)': 5.7433, 'weight': 0.0473},\n",
       "    'Ln': {'energy (keV)': 6.5338, 'weight': 0.01489},\n",
       "    'M2N4': {'energy (keV)': 1.6876, 'weight': 0.008},\n",
       "    'Ma': {'energy (keV)': 1.2907, 'weight': 1.0},\n",
       "    'Mb': {'energy (keV)': 1.3283, 'weight': 0.76},\n",
       "    'Mg': {'energy (keV)': 1.5214, 'weight': 0.08505},\n",
       "    'Mz': {'energy (keV)': 1.002, 'weight': 0.06}}},\n",
       "  'General_properties': {'Z': 66,\n",
       "   'atomic_weight': 162.5,\n",
       "   'name': 'dysprosium'},\n",
       "  'Physical_properties': {'density (g/cm^3)': 8.551}},\n",
       " 'Er': {'Atomic_properties': {'Binding_energies': {'M2': {'factor': 0.5,\n",
       "     'filename': 'Er.M3',\n",
       "     'onset_energy (eV)': 2006.0,\n",
       "     'relevance': 'Minor'},\n",
       "    'M3': {'factor': 1,\n",
       "     'filename': 'Er.M3',\n",
       "     'onset_energy (eV)': 1812.0,\n",
       "     'relevance': 'Minor'},\n",
       "    'M4': {'factor': 0.6666666666666666,\n",
       "     'filename': 'Er.M5',\n",
       "     'onset_energy (eV)': 1453.0,\n",
       "     'relevance': 'Major'},\n",
       "    'M5': {'factor': 1,\n",
       "     'filename': 'Er.M5',\n",
       "     'onset_energy (eV)': 1409.0,\n",
       "     'relevance': 'Major'},\n",
       "    'N4': {'factor': 0.6666666666666666,\n",
       "     'filename': 'Er.N5',\n",
       "     'onset_energy (eV)': 168.0,\n",
       "     'relevance': 'Major'},\n",
       "    'N5': {'factor': 1,\n",
       "     'filename': 'Er.N5',\n",
       "     'onset_energy (eV)': 168.0,\n",
       "     'relevance': 'Major'}},\n",
       "   'Xray_lines': {'Ka': {'energy (keV)': 49.1276, 'weight': 1.0},\n",
       "    'Kb': {'energy (keV)': 55.6737, 'weight': 0.15},\n",
       "    'La': {'energy (keV)': 6.9486, 'weight': 1.0},\n",
       "    'Lb1': {'energy (keV)': 7.811, 'weight': 0.45263},\n",
       "    'Lb2': {'energy (keV)': 8.1903, 'weight': 0.2005},\n",
       "    'Lb3': {'energy (keV)': 7.9395, 'weight': 0.1258},\n",
       "    'Lb4': {'energy (keV)': 7.7455, 'weight': 0.0922},\n",
       "    'Lg1': {'energy (keV)': 9.0876, 'weight': 0.08487},\n",
       "    'Lg3': {'energy (keV)': 9.4313, 'weight': 0.0324},\n",
       "    'Ll': {'energy (keV)': 6.1514, 'weight': 0.0482},\n",
       "    'Ln': {'energy (keV)': 7.0578, 'weight': 0.0153},\n",
       "    'M2N4': {'energy (keV)': 1.8291, 'weight': 0.0045},\n",
       "    'Ma': {'energy (keV)': 1.405, 'weight': 1.0},\n",
       "    'Mb': {'energy (keV)': 1.449, 'weight': 0.59443},\n",
       "    'Mg': {'energy (keV)': 1.6442, 'weight': 0.08505},\n",
       "    'Mz': {'energy (keV)': 1.0893, 'weight': 0.06}}},\n",
       "  'General_properties': {'Z': 68, 'atomic_weight': 167.259, 'name': 'erbium'},\n",
       "  'Physical_properties': {'density (g/cm^3)': 9.066}},\n",
       " 'Eu': {'Atomic_properties': {'Binding_energies': {'M2': {'factor': 0.5,\n",
       "     'filename': 'Eu.M3',\n",
       "     'onset_energy (eV)': 1614.0,\n",
       "     'relevance': 'Minor'},\n",
       "    'M3': {'factor': 1,\n",
       "     'filename': 'Eu.M3',\n",
       "     'onset_energy (eV)': 1481.0,\n",
       "     'relevance': 'Minor'},\n",
       "    'M4': {'factor': 0.6666666666666666,\n",
       "     'filename': 'Eu.M5',\n",
       "     'onset_energy (eV)': 1161.0,\n",
       "     'relevance': 'Major'},\n",
       "    'M5': {'factor': 1,\n",
       "     'filename': 'Eu.M5',\n",
       "     'onset_energy (eV)': 1131.0,\n",
       "     'relevance': 'Major'},\n",
       "    'N4': {'factor': 0.6666666666666666,\n",
       "     'filename': 'Eu.N5',\n",
       "     'onset_energy (eV)': 134.0,\n",
       "     'relevance': 'Major'},\n",
       "    'N5': {'factor': 1,\n",
       "     'filename': 'Eu.N5',\n",
       "     'onset_energy (eV)': 134.0,\n",
       "     'relevance': 'Major'}},\n",
       "   'Xray_lines': {'Ka': {'energy (keV)': 41.5421, 'weight': 1.0},\n",
       "    'Kb': {'energy (keV)': 47.0384, 'weight': 0.15},\n",
       "    'La': {'energy (keV)': 5.846, 'weight': 1.0},\n",
       "    'Lb1': {'energy (keV)': 6.4565, 'weight': 0.43904},\n",
       "    'Lb2': {'energy (keV)': 6.8437, 'weight': 0.1985},\n",
       "    'Lb3': {'energy (keV)': 6.5714, 'weight': 0.1265},\n",
       "    'Lb4': {'energy (keV)': 6.4381, 'weight': 0.0874},\n",
       "    'Lg1': {'energy (keV)': 7.4839, 'weight': 0.08064},\n",
       "    'Lg3': {'energy (keV)': 7.7954, 'weight': 0.0318},\n",
       "    'Ll': {'energy (keV)': 5.1769, 'weight': 0.04559},\n",
       "    'Ln': {'energy (keV)': 5.8171, 'weight': 0.015},\n",
       "    'M2N4': {'energy (keV)': 1.4807, 'weight': 0.013},\n",
       "    'Ma': {'energy (keV)': 1.0991, 'weight': 1.0},\n",
       "    'Mb': {'energy (keV)': 1.15769, 'weight': 0.87},\n",
       "    'Mg': {'energy (keV)': 1.3474, 'weight': 0.26},\n",
       "    'Mz': {'energy (keV)': 0.8743, 'weight': 0.06}}},\n",
       "  'General_properties': {'Z': 63,\n",
       "   'atomic_weight': 151.964,\n",
       "   'name': 'europium'},\n",
       "  'Physical_properties': {'density (g/cm^3)': 5.244}},\n",
       " 'F': {'Atomic_properties': {'Binding_energies': {'K': {'factor': 1,\n",
       "     'filename': 'F.K1',\n",
       "     'onset_energy (eV)': 685.0,\n",
       "     'relevance': 'Major'}},\n",
       "   'Xray_lines': {'Ka': {'energy (keV)': 0.6768, 'weight': 1.0}}},\n",
       "  'General_properties': {'Z': 9,\n",
       "   'atomic_weight': 18.9984032,\n",
       "   'name': 'fluorine'},\n",
       "  'Physical_properties': {'density (g/cm^3)': 0.001696}},\n",
       " 'Fe': {'Atomic_properties': {'Binding_energies': {'K': {'factor': 1,\n",
       "     'filename': 'Fe.K1',\n",
       "     'onset_energy (eV)': 7113.0,\n",
       "     'relevance': 'Minor'},\n",
       "    'L1': {'factor': 1,\n",
       "     'filename': 'Fe.L1',\n",
       "     'onset_energy (eV)': 846.0,\n",
       "     'relevance': 'Minor'},\n",
       "    'L2': {'factor': 0.5,\n",
       "     'filename': 'Fe.L3',\n",
       "     'onset_energy (eV)': 721.0,\n",
       "     'relevance': 'Major'},\n",
       "    'L3': {'factor': 1,\n",
       "     'filename': 'Fe.L3',\n",
       "     'onset_energy (eV)': 708.0,\n",
       "     'relevance': 'Major'},\n",
       "    'M2': {'factor': 0.5,\n",
       "     'filename': 'Fe.M3',\n",
       "     'onset_energy (eV)': 57.0,\n",
       "     'relevance': 'Major'},\n",
       "    'M3': {'factor': 1,\n",
       "     'filename': 'Fe.M3',\n",
       "     'onset_energy (eV)': 57.0,\n",
       "     'relevance': 'Major'}},\n",
       "   'Xray_lines': {'Ka': {'energy (keV)': 6.4039, 'weight': 1.0},\n",
       "    'Kb': {'energy (keV)': 7.058, 'weight': 0.1272},\n",
       "    'La': {'energy (keV)': 0.7045, 'weight': 1.0},\n",
       "    'Lb3': {'energy (keV)': 0.7921, 'weight': 0.02448},\n",
       "    'Ll': {'energy (keV)': 0.6152, 'weight': 0.3086},\n",
       "    'Ln': {'energy (keV)': 0.6282, 'weight': 0.12525}}},\n",
       "  'General_properties': {'Z': 26, 'atomic_weight': 55.845, 'name': 'iron'},\n",
       "  'Physical_properties': {'density (g/cm^3)': 7.874}},\n",
       " 'Fr': {'Atomic_properties': {'Xray_lines': {'Ka': {'energy (keV)': 86.1058,\n",
       "     'weight': 1.0},\n",
       "    'Kb': {'energy (keV)': 97.474, 'weight': 0.15},\n",
       "    'La': {'energy (keV)': 12.0315, 'weight': 1.0},\n",
       "    'Lb1': {'energy (keV)': 14.7703, 'weight': 0.38327},\n",
       "    'Lb2': {'energy (keV)': 14.4542, 'weight': 0.2337},\n",
       "    'Lb3': {'energy (keV)': 14.976, 'weight': 0.05969},\n",
       "    'Lb4': {'energy (keV)': 14.312, 'weight': 0.0603},\n",
       "    'Lg1': {'energy (keV)': 17.3032, 'weight': 0.08},\n",
       "    'Lg3': {'energy (keV)': 17.829, 'weight': 0.017},\n",
       "    'Ll': {'energy (keV)': 10.3792, 'weight': 0.06339},\n",
       "    'Ln': {'energy (keV)': 13.2545, 'weight': 0.0134},\n",
       "    'M2N4': {'energy (keV)': 3.7237, 'weight': 0.00674},\n",
       "    'Mb': {'energy (keV)': 2.88971, 'weight': 0.64124},\n",
       "    'Mg': {'energy (keV)': 3.086, 'weight': 0.21845},\n",
       "    'Mz': {'energy (keV)': 2.1897, 'weight': 0.0058}}},\n",
       "  'General_properties': {'Z': 87, 'atomic_weight': 223, 'name': 'francium'},\n",
       "  'Physical_properties': {'density (g/cm^3)': 'NaN'}},\n",
       " 'Ga': {'Atomic_properties': {'Binding_energies': {'L1': {'factor': 1,\n",
       "     'filename': 'Ga.L1',\n",
       "     'onset_energy (eV)': 1298.0,\n",
       "     'relevance': 'Minor'},\n",
       "    'L2': {'factor': 0.5,\n",
       "     'filename': 'Ga.L3',\n",
       "     'onset_energy (eV)': 1142.0,\n",
       "     'relevance': 'Major'},\n",
       "    'L3': {'factor': 1,\n",
       "     'filename': 'Ga.L3',\n",
       "     'onset_energy (eV)': 1115.0,\n",
       "     'relevance': 'Major'}},\n",
       "   'Xray_lines': {'Ka': {'energy (keV)': 9.2517, 'weight': 1.0},\n",
       "    'Kb': {'energy (keV)': 10.2642, 'weight': 0.1287},\n",
       "    'La': {'energy (keV)': 1.098, 'weight': 1.0},\n",
       "    'Lb1': {'energy (keV)': 1.1249, 'weight': 0.16704},\n",
       "    'Lb3': {'energy (keV)': 1.1948, 'weight': 0.0461},\n",
       "    'Ll': {'energy (keV)': 0.9573, 'weight': 0.0544},\n",
       "    'Ln': {'energy (keV)': 0.9842, 'weight': 0.02509}}},\n",
       "  'General_properties': {'Z': 31, 'atomic_weight': 69.723, 'name': 'gallium'},\n",
       "  'Physical_properties': {'density (g/cm^3)': 5.904}},\n",
       " 'Gd': {'Atomic_properties': {'Binding_energies': {'M2': {'factor': 0.5,\n",
       "     'filename': 'Gd.M3',\n",
       "     'onset_energy (eV)': 1688.0,\n",
       "     'relevance': 'Minor'},\n",
       "    'M3': {'factor': 1,\n",
       "     'filename': 'Gd.M3',\n",
       "     'onset_energy (eV)': 1544.0,\n",
       "     'relevance': 'Minor'},\n",
       "    'M4': {'factor': 0.6666666666666666,\n",
       "     'filename': 'Gd.M5',\n",
       "     'onset_energy (eV)': 1217.0,\n",
       "     'relevance': 'Major'},\n",
       "    'M5': {'factor': 1,\n",
       "     'filename': 'Gd.M5',\n",
       "     'onset_energy (eV)': 1185.0,\n",
       "     'relevance': 'Major'},\n",
       "    'N4': {'factor': 0.6666666666666666,\n",
       "     'filename': 'Gd.N5',\n",
       "     'onset_energy (eV)': 141.0,\n",
       "     'relevance': 'Major'},\n",
       "    'N5': {'factor': 1,\n",
       "     'filename': 'Gd.N5',\n",
       "     'onset_energy (eV)': 141.0,\n",
       "     'relevance': 'Major'}},\n",
       "   'Xray_lines': {'Ka': {'energy (keV)': 42.9963, 'weight': 1.0},\n",
       "    'Kb': {'energy (keV)': 48.6951, 'weight': 0.15},\n",
       "    'La': {'energy (keV)': 6.0576, 'weight': 1.0},\n",
       "    'Lb1': {'energy (keV)': 6.7131, 'weight': 0.44127},\n",
       "    'Lb2': {'energy (keV)': 7.1023, 'weight': 0.2014},\n",
       "    'Lb3': {'energy (keV)': 6.8316, 'weight': 0.1255},\n",
       "    'Lb4': {'energy (keV)': 6.6873, 'weight': 0.08789},\n",
       "    'Lg1': {'energy (keV)': 7.7898, 'weight': 0.08207},\n",
       "    'Lg3': {'energy (keV)': 8.1047, 'weight': 0.032},\n",
       "    'Ll': {'energy (keV)': 5.362, 'weight': 0.04629},\n",
       "    'Ln': {'energy (keV)': 6.0495, 'weight': 0.01489},\n",
       "    'M2N4': {'energy (keV)': 1.5478, 'weight': 0.014},\n",
       "    'Ma': {'energy (keV)': 1.17668, 'weight': 1.0},\n",
       "    'Mb': {'energy (keV)': 1.20792, 'weight': 0.88},\n",
       "    'Mg': {'energy (keV)': 1.4035, 'weight': 0.261},\n",
       "    'Mz': {'energy (keV)': 0.9143, 'weight': 0.06}}},\n",
       "  'General_properties': {'Z': 64,\n",
       "   'atomic_weight': 157.25,\n",
       "   'name': 'gadolinium'},\n",
       "  'Physical_properties': {'density (g/cm^3)': 7.901}},\n",
       " 'Ge': {'Atomic_properties': {'Binding_energies': {'L1': {'factor': 1,\n",
       "     'filename': 'Ge.L1',\n",
       "     'onset_energy (eV)': 1414.0,\n",
       "     'relevance': 'Minor'},\n",
       "    'L2': {'factor': 0.5,\n",
       "     'filename': 'Ge.L3',\n",
       "     'onset_energy (eV)': 1248.0,\n",
       "     'relevance': 'Major'},\n",
       "    'L3': {'factor': 1,\n",
       "     'filename': 'Ge.L3',\n",
       "     'onset_energy (eV)': 1217.0,\n",
       "     'relevance': 'Major'}},\n",
       "   'Xray_lines': {'Ka': {'energy (keV)': 9.8864, 'weight': 1.0},\n",
       "    'Kb': {'energy (keV)': 10.9823, 'weight': 0.1322},\n",
       "    'La': {'energy (keV)': 1.188, 'weight': 1.0},\n",
       "    'Lb1': {'energy (keV)': 1.2191, 'weight': 0.16704},\n",
       "    'Lb3': {'energy (keV)': 1.2935, 'weight': 0.04429},\n",
       "    'Ll': {'energy (keV)': 1.0367, 'weight': 0.0511},\n",
       "    'Ln': {'energy (keV)': 1.0678, 'weight': 0.02}}},\n",
       "  'General_properties': {'Z': 32, 'atomic_weight': 72.64, 'name': 'germanium'},\n",
       "  'Physical_properties': {'density (g/cm^3)': 5.323}},\n",
       " 'Hf': {'Atomic_properties': {'Binding_energies': {'M4': {'factor': 0.6666666666666666,\n",
       "     'filename': 'Hf.M5',\n",
       "     'onset_energy (eV)': 1716.0,\n",
       "     'relevance': 'Major'},\n",
       "    'M5': {'factor': 1,\n",
       "     'filename': 'Hf.M5',\n",
       "     'onset_energy (eV)': 1662.0,\n",
       "     'relevance': 'Major'}},\n",
       "   'Xray_lines': {'Ka': {'energy (keV)': 55.7901, 'weight': 1.0},\n",
       "    'Kb': {'energy (keV)': 63.2432, 'weight': 0.15},\n",
       "    'La': {'energy (keV)': 7.899, 'weight': 1.0},\n",
       "    'Lb1': {'energy (keV)': 9.023, 'weight': 0.46231},\n",
       "    'Lb2': {'energy (keV)': 9.347, 'weight': 0.2048},\n",
       "    'Lb3': {'energy (keV)': 9.1631, 'weight': 0.1316},\n",
       "    'Lb4': {'energy (keV)': 8.9053, 'weight': 0.10189},\n",
       "    'Lg1': {'energy (keV)': 10.5156, 'weight': 0.08968},\n",
       "    'Lg3': {'energy (keV)': 10.8903, 'weight': 0.0347},\n",
       "    'Ll': {'energy (keV)': 6.9598, 'weight': 0.05089},\n",
       "    'Ln': {'energy (keV)': 8.1385, 'weight': 0.0158},\n",
       "    'M2N4': {'energy (keV)': 2.1416, 'weight': 0.01},\n",
       "    'Ma': {'energy (keV)': 1.6446, 'weight': 1.0},\n",
       "    'Mb': {'energy (keV)': 1.6993, 'weight': 0.59443},\n",
       "    'Mg': {'energy (keV)': 1.8939, 'weight': 0.08505},\n",
       "    'Mz': {'energy (keV)': 1.2813, 'weight': 0.06}}},\n",
       "  'General_properties': {'Z': 72, 'atomic_weight': 178.49, 'name': 'hafnium'},\n",
       "  'Physical_properties': {'density (g/cm^3)': 13.31}},\n",
       " 'Hg': {'Atomic_properties': {'Binding_energies': {'M4': {'factor': 0.6666666666666666,\n",
       "     'filename': 'Hg.M5',\n",
       "     'onset_energy (eV)': 2385.0,\n",
       "     'relevance': 'Major'},\n",
       "    'M5': {'factor': 1,\n",
       "     'filename': 'Hg.M5',\n",
       "     'onset_energy (eV)': 2295.0,\n",
       "     'relevance': 'Major'}},\n",
       "   'Xray_lines': {'Ka': {'energy (keV)': 70.8184, 'weight': 1.0},\n",
       "    'Kb': {'energy (keV)': 80.2552, 'weight': 0.15},\n",
       "    'La': {'energy (keV)': 9.989, 'weight': 1.0},\n",
       "    'Lb1': {'energy (keV)': 11.8238, 'weight': 0.39504},\n",
       "    'Lb2': {'energy (keV)': 11.9241, 'weight': 0.2221},\n",
       "    'Lb3': {'energy (keV)': 11.9922, 'weight': 0.06469},\n",
       "    'Lb4': {'energy (keV)': 11.5608, 'weight': 0.0566},\n",
       "    'Lg1': {'energy (keV)': 13.8304, 'weight': 0.0832},\n",
       "    'Lg3': {'energy (keV)': 14.2683, 'weight': 0.0184},\n",
       "    'Ll': {'energy (keV)': 8.7223, 'weight': 0.05709},\n",
       "    'Ln': {'energy (keV)': 10.6471, 'weight': 0.0136},\n",
       "    'M2N4': {'energy (keV)': 2.9002, 'weight': 0.02901},\n",
       "    'M3O4': {'energy (keV)': 2.8407, 'weight': 0.005},\n",
       "    'M3O5': {'energy (keV)': 2.8407, 'weight': 0.01},\n",
       "    'Ma': {'energy (keV)': 2.1964, 'weight': 1.0},\n",
       "    'Mb': {'energy (keV)': 2.2827, 'weight': 0.64124},\n",
       "    'Mg': {'energy (keV)': 2.4873, 'weight': 0.08505},\n",
       "    'Mz': {'energy (keV)': 1.7239, 'weight': 0.01344}}},\n",
       "  'General_properties': {'Z': 80, 'atomic_weight': 200.59, 'name': 'mercury'},\n",
       "  'Physical_properties': {'density (g/cm^3)': 13.534}},\n",
       " 'Ho': {'Atomic_properties': {'Binding_energies': {'M2': {'factor': 0.5,\n",
       "     'filename': 'Ho.M3',\n",
       "     'onset_energy (eV)': 1923.0,\n",
       "     'relevance': 'Minor'},\n",
       "    'M3': {'factor': 1,\n",
       "     'filename': 'Ho.M3',\n",
       "     'onset_energy (eV)': 1741.0,\n",
       "     'relevance': 'Minor'},\n",
       "    'M4': {'factor': 0.6666666666666666,\n",
       "     'filename': 'Ho.M5',\n",
       "     'onset_energy (eV)': 1391.0,\n",
       "     'relevance': 'Major'},\n",
       "    'M5': {'factor': 1,\n",
       "     'filename': 'Ho.M5',\n",
       "     'onset_energy (eV)': 1351.0,\n",
       "     'relevance': 'Major'},\n",
       "    'N4': {'factor': 0.6666666666666666,\n",
       "     'filename': 'Ho.N5',\n",
       "     'onset_energy (eV)': 161.0,\n",
       "     'relevance': 'Major'},\n",
       "    'N5': {'factor': 1,\n",
       "     'filename': 'Ho.N5',\n",
       "     'onset_energy (eV)': 161.0,\n",
       "     'relevance': 'Major'}},\n",
       "   'Xray_lines': {'Ka': {'energy (keV)': 47.5466, 'weight': 1.0},\n",
       "    'Kb': {'energy (keV)': 53.8765, 'weight': 0.15},\n",
       "    'La': {'energy (keV)': 6.7197, 'weight': 1.0},\n",
       "    'Lb1': {'energy (keV)': 7.5263, 'weight': 0.45056},\n",
       "    'Lb2': {'energy (keV)': 7.9101, 'weight': 0.23563},\n",
       "    'Lb3': {'energy (keV)': 7.653, 'weight': 0.06},\n",
       "    'Lb4': {'energy (keV)': 7.4714, 'weight': 0.09039},\n",
       "    'Lg1': {'energy (keV)': 8.7568, 'weight': 0.08448},\n",
       "    'Lg3': {'energy (keV)': 9.0876, 'weight': 0.0321},\n",
       "    'Ll': {'energy (keV)': 5.9428, 'weight': 0.04759},\n",
       "    'Ln': {'energy (keV)': 6.7895, 'weight': 0.0151},\n",
       "    'M2N4': {'energy (keV)': 1.7618, 'weight': 0.072},\n",
       "    'Ma': {'energy (keV)': 1.3477, 'weight': 1.0},\n",
       "    'Mb': {'energy (keV)': 1.3878, 'weight': 0.59443},\n",
       "    'Mg': {'energy (keV)': 1.5802, 'weight': 0.1418},\n",
       "    'Mz': {'energy (keV)': 1.0448, 'weight': 0.6629}}},\n",
       "  'General_properties': {'Z': 67,\n",
       "   'atomic_weight': 164.93032,\n",
       "   'name': 'holmium'},\n",
       "  'Physical_properties': {'density (g/cm^3)': 8.795}},\n",
       " 'I': {'Atomic_properties': {'Binding_energies': {'M2': {'factor': 0.5,\n",
       "     'filename': 'I.M3',\n",
       "     'onset_energy (eV)': 930.0,\n",
       "     'relevance': 'Minor'},\n",
       "    'M3': {'factor': 1,\n",
       "     'filename': 'I.M3',\n",
       "     'onset_energy (eV)': 875.0,\n",
       "     'relevance': 'Minor'},\n",
       "    'M4': {'factor': 0.6666666666666666,\n",
       "     'filename': 'I.M5',\n",
       "     'onset_energy (eV)': 631.0,\n",
       "     'relevance': 'Major'},\n",
       "    'M5': {'factor': 1,\n",
       "     'filename': 'I.M5',\n",
       "     'onset_energy (eV)': 620.0,\n",
       "     'relevance': 'Major'}},\n",
       "   'Xray_lines': {'Ka': {'energy (keV)': 28.6123, 'weight': 1.0},\n",
       "    'Kb': {'energy (keV)': 32.2948, 'weight': 0.15},\n",
       "    'La': {'energy (keV)': 3.9377, 'weight': 1.0},\n",
       "    'Lb1': {'energy (keV)': 4.2208, 'weight': 0.43087},\n",
       "    'Lb2': {'energy (keV)': 4.5075, 'weight': 0.17059},\n",
       "    'Lb3': {'energy (keV)': 4.3135, 'weight': 0.1464},\n",
       "    'Lb4': {'energy (keV)': 4.2576, 'weight': 0.09189},\n",
       "    'Lg1': {'energy (keV)': 4.8025, 'weight': 0.06704},\n",
       "    'Lg3': {'energy (keV)': 5.0654, 'weight': 0.0327},\n",
       "    'Ll': {'energy (keV)': 3.485, 'weight': 0.0423},\n",
       "    'Ln': {'energy (keV)': 3.78, 'weight': 0.0154}}},\n",
       "  'General_properties': {'Z': 53,\n",
       "   'atomic_weight': 126.90447,\n",
       "   'name': 'iodine'},\n",
       "  'Physical_properties': {'density (g/cm^3)': 4.94}},\n",
       " 'In': {'Atomic_properties': {'Binding_energies': {'M2': {'factor': 0.5,\n",
       "     'filename': 'In.M3',\n",
       "     'onset_energy (eV)': 702.0,\n",
       "     'relevance': 'Minor'},\n",
       "    'M3': {'factor': 1,\n",
       "     'filename': 'In.M3',\n",
       "     'onset_energy (eV)': 664.0,\n",
       "     'relevance': 'Minor'},\n",
       "    'M4': {'factor': 0.6666666666666666,\n",
       "     'filename': 'In.M5',\n",
       "     'onset_energy (eV)': 451.0,\n",
       "     'relevance': 'Major'},\n",
       "    'M5': {'factor': 1,\n",
       "     'filename': 'In.M5',\n",
       "     'onset_energy (eV)': 443.0,\n",
       "     'relevance': 'Major'}},\n",
       "   'Xray_lines': {'Ka': {'energy (keV)': 24.2098, 'weight': 1.0},\n",
       "    'Kb': {'energy (keV)': 27.2756, 'weight': 0.15},\n",
       "    'La': {'energy (keV)': 3.287, 'weight': 1.0},\n",
       "    'Lb1': {'energy (keV)': 3.4872, 'weight': 0.3616},\n",
       "    'Lb2': {'energy (keV)': 3.7139, 'weight': 0.1371},\n",
       "    'Lb3': {'energy (keV)': 3.5732, 'weight': 0.08779},\n",
       "    'Lb4': {'energy (keV)': 3.5353, 'weight': 0.05349},\n",
       "    'Lg1': {'energy (keV)': 3.9218, 'weight': 0.04535},\n",
       "    'Lg3': {'energy (keV)': 4.1601, 'weight': 0.0177},\n",
       "    'Ll': {'energy (keV)': 2.9045, 'weight': 0.0415},\n",
       "    'Ln': {'energy (keV)': 3.1124, 'weight': 0.0132}}},\n",
       "  'General_properties': {'Z': 49, 'atomic_weight': 114.818, 'name': 'indium'},\n",
       "  'Physical_properties': {'density (g/cm^3)': 7.31}},\n",
       " 'Ir': {'Atomic_properties': {'Binding_energies': {'M4': {'factor': 0.6666666666666666,\n",
       "     'filename': 'Ir.M5',\n",
       "     'onset_energy (eV)': 2116.0,\n",
       "     'relevance': 'Major'},\n",
       "    'M5': {'factor': 1,\n",
       "     'filename': 'Ir.M5',\n",
       "     'onset_energy (eV)': 2040.0,\n",
       "     'relevance': 'Major'}},\n",
       "   'Xray_lines': {'Ka': {'energy (keV)': 64.8958, 'weight': 1.0},\n",
       "    'Kb': {'energy (keV)': 73.5603, 'weight': 0.15},\n",
       "    'La': {'energy (keV)': 9.1748, 'weight': 1.0},\n",
       "    'Lb1': {'energy (keV)': 10.708, 'weight': 0.4168},\n",
       "    'Lb2': {'energy (keV)': 10.9203, 'weight': 0.216},\n",
       "    'Lb3': {'energy (keV)': 10.8678, 'weight': 0.0874},\n",
       "    'Lb4': {'energy (keV)': 10.5098, 'weight': 0.07269},\n",
       "    'Lg1': {'energy (keV)': 12.5127, 'weight': 0.08543},\n",
       "    'Lg3': {'energy (keV)': 12.9242, 'weight': 0.024},\n",
       "    'Ll': {'energy (keV)': 8.0415, 'weight': 0.05429},\n",
       "    'Ln': {'energy (keV)': 9.6504, 'weight': 0.01429},\n",
       "    'M2N4': {'energy (keV)': 2.5973, 'weight': 0.02901},\n",
       "    'M3O4': {'energy (keV)': 2.54264, 'weight': 0.005},\n",
       "    'M3O5': {'energy (keV)': 2.54385, 'weight': 0.01},\n",
       "    'Ma': {'energy (keV)': 1.9799, 'weight': 1.0},\n",
       "    'Mb': {'energy (keV)': 2.0527, 'weight': 0.59443},\n",
       "    'Mg': {'energy (keV)': 2.2558, 'weight': 0.08505},\n",
       "    'Mz': {'energy (keV)': 1.5461, 'weight': 0.01344}}},\n",
       "  'General_properties': {'Z': 77, 'atomic_weight': 192.217, 'name': 'iridium'},\n",
       "  'Physical_properties': {'density (g/cm^3)': 22.56}},\n",
       " 'K': {'Atomic_properties': {'Binding_energies': {'L1': {'factor': 1,\n",
       "     'filename': 'K.L1',\n",
       "     'onset_energy (eV)': 377.0,\n",
       "     'relevance': 'Minor'},\n",
       "    'L1a': {'factor': 1,\n",
       "     'filename': 'K.L1a',\n",
       "     'onset_energy (eV)': 377.0,\n",
       "     'relevance': 'Minor'},\n",
       "    'L2': {'factor': 0.5,\n",
       "     'filename': 'K.L3',\n",
       "     'onset_energy (eV)': 296.0,\n",
       "     'relevance': 'Major'},\n",
       "    'L3': {'factor': 1,\n",
       "     'filename': 'K.L3',\n",
       "     'onset_energy (eV)': 294.0,\n",
       "     'relevance': 'Major'}},\n",
       "   'Xray_lines': {'Ka': {'energy (keV)': 3.3138, 'weight': 1.0},\n",
       "    'Kb': {'energy (keV)': 3.5896, 'weight': 0.1039}}},\n",
       "  'General_properties': {'Z': 19,\n",
       "   'atomic_weight': 39.0983,\n",
       "   'name': 'potassium'},\n",
       "  'Physical_properties': {'density (g/cm^3)': 0.856}},\n",
       " 'Kr': {'Atomic_properties': {'Binding_energies': {'L1': {'factor': 1,\n",
       "     'filename': 'Kr.L1',\n",
       "     'onset_energy (eV)': 1921.0,\n",
       "     'relevance': 'Minor'},\n",
       "    'L2': {'factor': 0.5,\n",
       "     'filename': 'Kr.L3',\n",
       "     'onset_energy (eV)': 1727.0,\n",
       "     'relevance': 'Major'},\n",
       "    'L3': {'factor': 1,\n",
       "     'filename': 'Kr.L3',\n",
       "     'onset_energy (eV)': 1675.0,\n",
       "     'relevance': 'Major'},\n",
       "    'M4': {'factor': 0.6666666666666666,\n",
       "     'filename': 'Kr.M5',\n",
       "     'onset_energy (eV)': 89.0,\n",
       "     'relevance': 'Major'},\n",
       "    'M5': {'factor': 1,\n",
       "     'filename': 'Kr.M5',\n",
       "     'onset_energy (eV)': 89.0,\n",
       "     'relevance': 'Major'}},\n",
       "   'Xray_lines': {'Ka': {'energy (keV)': 12.6507, 'weight': 1.0},\n",
       "    'Kb': {'energy (keV)': 14.1118, 'weight': 0.1538},\n",
       "    'La': {'energy (keV)': 1.586, 'weight': 1.0},\n",
       "    'Lb1': {'energy (keV)': 1.6383, 'weight': 0.39031},\n",
       "    'Lb3': {'energy (keV)': 1.7072, 'weight': 0.0465},\n",
       "    'Lg3': {'energy (keV)': 1.921, 'weight': 0.005},\n",
       "    'Ll': {'energy (keV)': 1.38657, 'weight': 0.04509},\n",
       "    'Ln': {'energy (keV)': 1.43887, 'weight': 0.0175}}},\n",
       "  'General_properties': {'Z': 36, 'atomic_weight': 83.798, 'name': 'krypton'},\n",
       "  'Physical_properties': {'density (g/cm^3)': 0.00375}},\n",
       " 'La': {'Atomic_properties': {'Binding_energies': {'M2': {'factor': 0.5,\n",
       "     'filename': 'La.M3',\n",
       "     'onset_energy (eV)': 1204.0,\n",
       "     'relevance': 'Minor'},\n",
       "    'M3': {'factor': 1,\n",
       "     'filename': 'La.M3',\n",
       "     'onset_energy (eV)': 1123.0,\n",
       "     'relevance': 'Minor'},\n",
       "    'M4': {'factor': 0.6666666666666666,\n",
       "     'filename': 'La.M5',\n",
       "     'onset_energy (eV)': 849.0,\n",
       "     'relevance': 'Major'},\n",
       "    'M5': {'factor': 1,\n",
       "     'filename': 'La.M5',\n",
       "     'onset_energy (eV)': 832.0,\n",
       "     'relevance': 'Major'},\n",
       "    'N4': {'factor': 0.6666666666666666,\n",
       "     'filename': 'La.N5',\n",
       "     'onset_energy (eV)': 99.0,\n",
       "     'relevance': 'Major'},\n",
       "    'N5': {'factor': 1,\n",
       "     'filename': 'La.N5',\n",
       "     'onset_energy (eV)': 99.0,\n",
       "     'relevance': 'Major'}},\n",
       "   'Xray_lines': {'Ka': {'energy (keV)': 33.4419, 'weight': 1.0},\n",
       "    'Kb': {'energy (keV)': 37.8012, 'weight': 0.15},\n",
       "    'La': {'energy (keV)': 4.651, 'weight': 1.0},\n",
       "    'Lb1': {'energy (keV)': 5.0421, 'weight': 0.42631},\n",
       "    'Lb2': {'energy (keV)': 5.3838, 'weight': 0.19579},\n",
       "    'Lb3': {'energy (keV)': 5.1429, 'weight': 0.1341},\n",
       "    'Lb4': {'energy (keV)': 5.0619, 'weight': 0.0872},\n",
       "    'Lg1': {'energy (keV)': 5.7917, 'weight': 0.07656},\n",
       "    'Lg3': {'energy (keV)': 6.0749, 'weight': 0.0329},\n",
       "    'Ll': {'energy (keV)': 4.1214, 'weight': 0.0432},\n",
       "    'Ln': {'energy (keV)': 4.5293, 'weight': 0.015},\n",
       "    'M2N4': {'energy (keV)': 1.1055, 'weight': 0.022},\n",
       "    'Ma': {'energy (keV)': 0.8173, 'weight': 1.0},\n",
       "    'Mb': {'energy (keV)': 0.8162, 'weight': 0.9},\n",
       "    'Mg': {'energy (keV)': 1.0245, 'weight': 0.4},\n",
       "    'Mz': {'energy (keV)': 0.6403, 'weight': 0.06}}},\n",
       "  'General_properties': {'Z': 57,\n",
       "   'atomic_weight': 138.90547,\n",
       "   'name': 'lanthanum'},\n",
       "  'Physical_properties': {'density (g/cm^3)': 6.146}},\n",
       " 'Lu': {'Atomic_properties': {'Binding_energies': {'M2': {'factor': 0.5,\n",
       "     'filename': 'Lu.M3',\n",
       "     'onset_energy (eV)': 2263.0,\n",
       "     'relevance': 'Minor'},\n",
       "    'M3': {'factor': 1,\n",
       "     'filename': 'Lu.M3',\n",
       "     'onset_energy (eV)': 2024.0,\n",
       "     'relevance': 'Minor'},\n",
       "    'M4': {'factor': 0.6666666666666666,\n",
       "     'filename': 'Lu.M5',\n",
       "     'onset_energy (eV)': 1639.0,\n",
       "     'relevance': 'Major'},\n",
       "    'M5': {'factor': 1,\n",
       "     'filename': 'Lu.M5',\n",
       "     'onset_energy (eV)': 1588.0,\n",
       "     'relevance': 'Major'},\n",
       "    'N4': {'factor': 0.6666666666666666,\n",
       "     'filename': 'Lu.N5',\n",
       "     'onset_energy (eV)': 195.0,\n",
       "     'relevance': 'Major'},\n",
       "    'N5': {'factor': 1,\n",
       "     'filename': 'Lu.N5',\n",
       "     'onset_energy (eV)': 195.0,\n",
       "     'relevance': 'Major'}},\n",
       "   'Xray_lines': {'Ka': {'energy (keV)': 54.0697, 'weight': 1.0},\n",
       "    'Kb': {'energy (keV)': 61.2902, 'weight': 0.15},\n",
       "    'La': {'energy (keV)': 7.6556, 'weight': 1.0},\n",
       "    'Lb1': {'energy (keV)': 8.7092, 'weight': 0.46975},\n",
       "    'Lb2': {'energy (keV)': 9.0491, 'weight': 0.20359},\n",
       "    'Lb3': {'energy (keV)': 8.8468, 'weight': 0.13099},\n",
       "    'Lb4': {'energy (keV)': 8.6069, 'weight': 0.0996},\n",
       "    'Lg1': {'energy (keV)': 10.1438, 'weight': 0.08968},\n",
       "    'Lg3': {'energy (keV)': 10.5111, 'weight': 0.0342},\n",
       "    'Ll': {'energy (keV)': 6.7529, 'weight': 0.05009},\n",
       "    'Ln': {'energy (keV)': 7.8574, 'weight': 0.016},\n",
       "    'M2N4': {'energy (keV)': 2.0587, 'weight': 0.01},\n",
       "    'Ma': {'energy (keV)': 1.5816, 'weight': 1.0},\n",
       "    'Mb': {'energy (keV)': 1.6325, 'weight': 0.59443},\n",
       "    'Mg': {'energy (keV)': 1.8286, 'weight': 0.08505},\n",
       "    'Mz': {'energy (keV)': 1.2292, 'weight': 0.06}}},\n",
       "  'General_properties': {'Z': 71,\n",
       "   'atomic_weight': 174.9668,\n",
       "   'name': 'lutetium'},\n",
       "  'Physical_properties': {'density (g/cm^3)': 9.841}},\n",
       " 'Mg': {'Atomic_properties': {'Binding_energies': {'K': {'factor': 1,\n",
       "     'filename': 'Mg.K1',\n",
       "     'onset_energy (eV)': 1305.0,\n",
       "     'relevance': 'Major'},\n",
       "    'L1': {'factor': 1,\n",
       "     'filename': 'Mg.L1',\n",
       "     'onset_energy (eV)': 89.0,\n",
       "     'relevance': 'Minor'},\n",
       "    'L2': {'factor': 0.5,\n",
       "     'filename': 'Mg.L3',\n",
       "     'onset_energy (eV)': 51.0,\n",
       "     'relevance': 'Major'},\n",
       "    'L3': {'factor': 1,\n",
       "     'filename': 'Mg.L3',\n",
       "     'onset_energy (eV)': 51.0,\n",
       "     'relevance': 'Major'}},\n",
       "   'Xray_lines': {'Ka': {'energy (keV)': 1.2536, 'weight': 1.0},\n",
       "    'Kb': {'energy (keV)': 1.305, 'weight': 0.01}}},\n",
       "  'General_properties': {'Z': 12,\n",
       "   'atomic_weight': 24.305,\n",
       "   'name': 'magnesium'},\n",
       "  'Physical_properties': {'density (g/cm^3)': 1.738}},\n",
       " 'Mn': {'Atomic_properties': {'Binding_energies': {'L1': {'factor': 1,\n",
       "     'filename': 'Mn.L1',\n",
       "     'onset_energy (eV)': 769.0,\n",
       "     'relevance': 'Minor'},\n",
       "    'L2': {'factor': 0.5,\n",
       "     'filename': 'Mn.L3',\n",
       "     'onset_energy (eV)': 651.0,\n",
       "     'relevance': 'Major'},\n",
       "    'L3': {'factor': 1,\n",
       "     'filename': 'Mn.L3',\n",
       "     'onset_energy (eV)': 640.0,\n",
       "     'relevance': 'Major'},\n",
       "    'M2': {'factor': 0.5,\n",
       "     'filename': 'Mn.M3',\n",
       "     'onset_energy (eV)': 51.0,\n",
       "     'relevance': 'Major'},\n",
       "    'M3': {'factor': 1,\n",
       "     'filename': 'Mn.M3',\n",
       "     'onset_energy (eV)': 51.0,\n",
       "     'relevance': 'Major'}},\n",
       "   'Xray_lines': {'Ka': {'energy (keV)': 5.8987, 'weight': 1.0},\n",
       "    'Kb': {'energy (keV)': 6.4904, 'weight': 0.1252},\n",
       "    'La': {'energy (keV)': 0.63316, 'weight': 1.0},\n",
       "    'Lb3': {'energy (keV)': 0.7204, 'weight': 0.0263},\n",
       "    'Ll': {'energy (keV)': 0.5564, 'weight': 0.3898},\n",
       "    'Ln': {'energy (keV)': 0.5675, 'weight': 0.1898}}},\n",
       "  'General_properties': {'Z': 25,\n",
       "   'atomic_weight': 54.938045,\n",
       "   'name': 'manganese'},\n",
       "  'Physical_properties': {'density (g/cm^3)': 7.47}},\n",
       " 'Mo': {'Atomic_properties': {'Binding_energies': {'L1': {'factor': 1,\n",
       "     'filename': 'Mo.L1',\n",
       "     'onset_energy (eV)': 2866.0,\n",
       "     'relevance': 'Minor'},\n",
       "    'L2': {'factor': 0.5,\n",
       "     'filename': 'Mo.L3',\n",
       "     'onset_energy (eV)': 2625.0,\n",
       "     'relevance': 'Major'},\n",
       "    'L3': {'factor': 1,\n",
       "     'filename': 'Mo.L3',\n",
       "     'onset_energy (eV)': 2520.0,\n",
       "     'relevance': 'Major'},\n",
       "    'M2': {'factor': 0.5,\n",
       "     'filename': 'Mo.M3',\n",
       "     'onset_energy (eV)': 410.0,\n",
       "     'relevance': 'Minor'},\n",
       "    'M3': {'factor': 1,\n",
       "     'filename': 'Mo.M3',\n",
       "     'onset_energy (eV)': 392.0,\n",
       "     'relevance': 'Minor'},\n",
       "    'M4': {'factor': 0.6666666666666666,\n",
       "     'filename': 'Mo.M5',\n",
       "     'onset_energy (eV)': 228.0,\n",
       "     'relevance': 'Major'},\n",
       "    'M5': {'factor': 1,\n",
       "     'filename': 'Mo.M5',\n",
       "     'onset_energy (eV)': 227.0,\n",
       "     'relevance': 'Major'}},\n",
       "   'Xray_lines': {'Ka': {'energy (keV)': 17.4793, 'weight': 1.0},\n",
       "    'Kb': {'energy (keV)': 19.6072, 'weight': 0.15},\n",
       "    'La': {'energy (keV)': 2.2932, 'weight': 1.0},\n",
       "    'Lb1': {'energy (keV)': 2.3948, 'weight': 0.32736},\n",
       "    'Lb2': {'energy (keV)': 2.5184, 'weight': 0.04509},\n",
       "    'Lb3': {'energy (keV)': 2.4732, 'weight': 0.06299},\n",
       "    'Lg1': {'energy (keV)': 2.6233, 'weight': 0.01335},\n",
       "    'Lg3': {'energy (keV)': 2.8307, 'weight': 0.0105},\n",
       "    'Ll': {'energy (keV)': 2.0156, 'weight': 0.0415},\n",
       "    'Ln': {'energy (keV)': 2.1205, 'weight': 0.0128}}},\n",
       "  'General_properties': {'Z': 42,\n",
       "   'atomic_weight': 95.96,\n",
       "   'name': 'molybdenum'},\n",
       "  'Physical_properties': {'density (g/cm^3)': 10.28}},\n",
       " 'N': {'Atomic_properties': {'Binding_energies': {'K': {'factor': 1,\n",
       "     'filename': 'N.K1',\n",
       "     'onset_energy (eV)': 401.0,\n",
       "     'relevance': 'Major'}},\n",
       "   'Xray_lines': {'Ka': {'energy (keV)': 0.3924, 'weight': 1.0}}},\n",
       "  'General_properties': {'Z': 7, 'atomic_weight': 14.0067, 'name': 'nitrogen'},\n",
       "  'Physical_properties': {'density (g/cm^3)': 0.001251}},\n",
       " 'Na': {'Atomic_properties': {'Binding_energies': {'K': {'factor': 1,\n",
       "     'filename': 'Na.K1',\n",
       "     'onset_energy (eV)': 1072.0,\n",
       "     'relevance': 'Major'},\n",
       "    'L1': {'factor': 1,\n",
       "     'filename': 'Na.L1',\n",
       "     'onset_energy (eV)': 63.0,\n",
       "     'relevance': 'Minor'},\n",
       "    'L3': {'factor': 1,\n",
       "     'filename': 'Na.L3',\n",
       "     'onset_energy (eV)': 31.0,\n",
       "     'relevance': 'Major'}},\n",
       "   'Xray_lines': {'Ka': {'energy (keV)': 1.041, 'weight': 1.0},\n",
       "    'Kb': {'energy (keV)': 1.0721, 'weight': 0.01}}},\n",
       "  'General_properties': {'Z': 11,\n",
       "   'atomic_weight': 22.98976928,\n",
       "   'name': 'sodium'},\n",
       "  'Physical_properties': {'density (g/cm^3)': 0.968}},\n",
       " 'Nb': {'Atomic_properties': {'Binding_energies': {'L1': {'factor': 1,\n",
       "     'filename': 'Nb.L1',\n",
       "     'onset_energy (eV)': 2698.0,\n",
       "     'relevance': 'Minor'},\n",
       "    'L2': {'factor': 0.5,\n",
       "     'filename': 'Nb.L3',\n",
       "     'onset_energy (eV)': 2465.0,\n",
       "     'relevance': 'Major'},\n",
       "    'L3': {'factor': 1,\n",
       "     'filename': 'Nb.L3',\n",
       "     'onset_energy (eV)': 2371.0,\n",
       "     'relevance': 'Major'},\n",
       "    'M2': {'factor': 0.5,\n",
       "     'filename': 'Nb.M3',\n",
       "     'onset_energy (eV)': 378.0,\n",
       "     'relevance': 'Major'},\n",
       "    'M3': {'factor': 1,\n",
       "     'filename': 'Nb.M3',\n",
       "     'onset_energy (eV)': 363.0,\n",
       "     'relevance': 'Major'},\n",
       "    'M4': {'factor': 0.6666666666666666,\n",
       "     'filename': 'Nb.M5',\n",
       "     'onset_energy (eV)': 205.0,\n",
       "     'relevance': 'Major'},\n",
       "    'M5': {'factor': 1,\n",
       "     'filename': 'Nb.M5',\n",
       "     'onset_energy (eV)': 202.3,\n",
       "     'relevance': 'Major'}},\n",
       "   'Xray_lines': {'Ka': {'energy (keV)': 16.6151, 'weight': 1.0},\n",
       "    'Kb': {'energy (keV)': 18.6226, 'weight': 0.15},\n",
       "    'La': {'energy (keV)': 2.1659, 'weight': 1.0},\n",
       "    'Lb1': {'energy (keV)': 2.2573, 'weight': 0.32519},\n",
       "    'Lb2': {'energy (keV)': 2.3705, 'weight': 0.03299},\n",
       "    'Lb3': {'energy (keV)': 2.3347, 'weight': 0.06429},\n",
       "    'Lg1': {'energy (keV)': 2.4615, 'weight': 0.00975},\n",
       "    'Lg3': {'energy (keV)': 2.6638, 'weight': 0.0103},\n",
       "    'Ll': {'energy (keV)': 1.9021, 'weight': 0.04169},\n",
       "    'Ln': {'energy (keV)': 1.9963, 'weight': 0.0129}}},\n",
       "  'General_properties': {'Z': 41,\n",
       "   'atomic_weight': 92.90638,\n",
       "   'name': 'niobium'},\n",
       "  'Physical_properties': {'density (g/cm^3)': 8.57}},\n",
       " 'Nd': {'Atomic_properties': {'Binding_energies': {'M2': {'factor': 0.5,\n",
       "     'filename': 'Nd.M3',\n",
       "     'onset_energy (eV)': 1403.0,\n",
       "     'relevance': 'Minor'},\n",
       "    'M3': {'factor': 1,\n",
       "     'filename': 'Nd.M3',\n",
       "     'onset_energy (eV)': 1297.0,\n",
       "     'relevance': 'Minor'},\n",
       "    'M4': {'factor': 0.6666666666666666,\n",
       "     'filename': 'Nd.M5',\n",
       "     'onset_energy (eV)': 1000.0,\n",
       "     'relevance': 'Major'},\n",
       "    'M5': {'factor': 1,\n",
       "     'filename': 'Nd.M5',\n",
       "     'onset_energy (eV)': 978.0,\n",
       "     'relevance': 'Major'},\n",
       "    'N4': {'factor': 0.6666666666666666,\n",
       "     'filename': 'Nd.N5',\n",
       "     'onset_energy (eV)': 118.0,\n",
       "     'relevance': 'Major'},\n",
       "    'N5': {'factor': 1,\n",
       "     'filename': 'Nd.N5',\n",
       "     'onset_energy (eV)': 118.0,\n",
       "     'relevance': 'Major'}},\n",
       "   'Xray_lines': {'Ka': {'energy (keV)': 37.361, 'weight': 1.0},\n",
       "    'Kb': {'energy (keV)': 42.2715, 'weight': 0.15},\n",
       "    'La': {'energy (keV)': 5.2302, 'weight': 1.0},\n",
       "    'Lb1': {'energy (keV)': 5.722, 'weight': 0.42672},\n",
       "    'Lb2': {'energy (keV)': 6.0904, 'weight': 0.1957},\n",
       "    'Lb3': {'energy (keV)': 5.8286, 'weight': 0.12869},\n",
       "    'Lb4': {'energy (keV)': 5.7232, 'weight': 0.0858},\n",
       "    'Lg1': {'energy (keV)': 6.604, 'weight': 0.07712},\n",
       "    'Lg3': {'energy (keV)': 6.9014, 'weight': 0.0318},\n",
       "    'Ll': {'energy (keV)': 4.6326, 'weight': 0.04429},\n",
       "    'Ln': {'energy (keV)': 5.1462, 'weight': 0.01469},\n",
       "    'M2N4': {'energy (keV)': 1.2853, 'weight': 0.052},\n",
       "    'Ma': {'energy (keV)': 0.9402, 'weight': 1.0},\n",
       "    'Mb': {'energy (keV)': 0.9965, 'weight': 0.99},\n",
       "    'Mg': {'energy (keV)': 1.1799, 'weight': 0.625},\n",
       "    'Mz': {'energy (keV)': 0.7531, 'weight': 0.069}}},\n",
       "  'General_properties': {'Z': 60,\n",
       "   'atomic_weight': 144.242,\n",
       "   'name': 'neodymium'},\n",
       "  'Physical_properties': {'density (g/cm^3)': 7.01}},\n",
       " 'Ne': {'Atomic_properties': {'Binding_energies': {'K': {'factor': 1,\n",
       "     'filename': 'Ne.K1',\n",
       "     'onset_energy (eV)': 867.0,\n",
       "     'relevance': 'Major'}},\n",
       "   'Xray_lines': {'Ka': {'energy (keV)': 0.8486, 'weight': 1.0},\n",
       "    'Kb': {'energy (keV)': 0.8669, 'weight': 0.01}}},\n",
       "  'General_properties': {'Z': 10, 'atomic_weight': 20.1791, 'name': 'neon'},\n",
       "  'Physical_properties': {'density (g/cm^3)': 0.0009}},\n",
       " 'Ni': {'Atomic_properties': {'Binding_energies': {'L1': {'factor': 1,\n",
       "     'filename': 'Ni.L1',\n",
       "     'onset_energy (eV)': 1008.0,\n",
       "     'relevance': 'Minor'},\n",
       "    'L2': {'factor': 0.5,\n",
       "     'filename': 'Ni.L3',\n",
       "     'onset_energy (eV)': 872.0,\n",
       "     'relevance': 'Major'},\n",
       "    'L3': {'factor': 1,\n",
       "     'filename': 'Ni.L3',\n",
       "     'onset_energy (eV)': 855.0,\n",
       "     'relevance': 'Major'},\n",
       "    'M2': {'factor': 0.5,\n",
       "     'filename': 'Ni.M3',\n",
       "     'onset_energy (eV)': 68.0,\n",
       "     'relevance': 'Major'},\n",
       "    'M3': {'factor': 1,\n",
       "     'filename': 'Ni.M3',\n",
       "     'onset_energy (eV)': 68.0,\n",
       "     'relevance': 'Major'}},\n",
       "   'Xray_lines': {'Ka': {'energy (keV)': 7.4781, 'weight': 1.0},\n",
       "    'Kb': {'energy (keV)': 8.2647, 'weight': 0.1277},\n",
       "    'La': {'energy (keV)': 0.8511, 'weight': 1.0},\n",
       "    'Lb1': {'energy (keV)': 0.8683, 'weight': 0.1677},\n",
       "    'Lb3': {'energy (keV)': 0.94, 'weight': 0.00199},\n",
       "    'Ll': {'energy (keV)': 0.7429, 'weight': 0.14133},\n",
       "    'Ln': {'energy (keV)': 0.7601, 'weight': 0.09693}}},\n",
       "  'General_properties': {'Z': 28, 'atomic_weight': 58.6934, 'name': 'nickel'},\n",
       "  'Physical_properties': {'density (g/cm^3)': 8.908}},\n",
       " 'Np': {'Atomic_properties': {'Xray_lines': {'Ka': {'energy (keV)': 101.059,\n",
       "     'weight': 1.0},\n",
       "    'Kb': {'energy (keV)': 114.234, 'weight': 0.15},\n",
       "    'La': {'energy (keV)': 13.946, 'weight': 1.0},\n",
       "    'Lb1': {'energy (keV)': 17.751, 'weight': 0.40151},\n",
       "    'Ma': {'energy (keV)': 3.25, 'weight': 1.0},\n",
       "    'Mb': {'energy (keV)': 3.435, 'weight': 0.59443}}},\n",
       "  'General_properties': {'Z': 93, 'atomic_weight': 237, 'name': 'neptunium'},\n",
       "  'Physical_properties': {'density (g/cm^3)': 19.38}},\n",
       " 'O': {'Atomic_properties': {'Binding_energies': {'K': {'factor': 1,\n",
       "     'filename': 'O.K1',\n",
       "     'onset_energy (eV)': 532.0,\n",
       "     'relevance': 'Major'}},\n",
       "   'Xray_lines': {'Ka': {'energy (keV)': 0.5249, 'weight': 1.0}}},\n",
       "  'General_properties': {'Z': 8, 'atomic_weight': 15.9994, 'name': 'oxygen'},\n",
       "  'Physical_properties': {'density (g/cm^3)': 0.001429}},\n",
       " 'Os': {'Atomic_properties': {'Binding_energies': {'M4': {'factor': 0.6666666666666666,\n",
       "     'filename': 'Os.M5',\n",
       "     'onset_energy (eV)': 2031.0,\n",
       "     'relevance': 'Major'},\n",
       "    'M5': {'factor': 1,\n",
       "     'filename': 'Os.M5',\n",
       "     'onset_energy (eV)': 1960.0,\n",
       "     'relevance': 'Major'}},\n",
       "   'Xray_lines': {'Ka': {'energy (keV)': 62.9999, 'weight': 1.0},\n",
       "    'Kb': {'energy (keV)': 71.4136, 'weight': 0.15},\n",
       "    'La': {'energy (keV)': 8.9108, 'weight': 1.0},\n",
       "    'Lb1': {'energy (keV)': 10.3542, 'weight': 0.43207},\n",
       "    'Lb2': {'energy (keV)': 10.5981, 'weight': 0.2146},\n",
       "    'Lb3': {'energy (keV)': 10.5108, 'weight': 0.1024},\n",
       "    'Lb4': {'energy (keV)': 10.1758, 'weight': 0.08369},\n",
       "    'Lg1': {'energy (keV)': 12.0956, 'weight': 0.08768},\n",
       "    'Lg3': {'energy (keV)': 12.4998, 'weight': 0.028},\n",
       "    'Ll': {'energy (keV)': 7.8224, 'weight': 0.05389},\n",
       "    'Ln': {'energy (keV)': 9.3365, 'weight': 0.01479},\n",
       "    'M2N4': {'energy (keV)': 2.5028, 'weight': 0.02901},\n",
       "    'M3O4': {'energy (keV)': 2.45015, 'weight': 0.005},\n",
       "    'M3O5': {'energy (keV)': 2.45117, 'weight': 0.01},\n",
       "    'Ma': {'energy (keV)': 1.9138, 'weight': 1.0},\n",
       "    'Mb': {'energy (keV)': 1.9845, 'weight': 0.59443},\n",
       "    'Mg': {'energy (keV)': 2.1844, 'weight': 0.08505},\n",
       "    'Mz': {'energy (keV)': 1.4919, 'weight': 0.01344}}},\n",
       "  'General_properties': {'Z': 76, 'atomic_weight': 190.23, 'name': 'osmium'},\n",
       "  'Physical_properties': {'density (g/cm^3)': 22.59}},\n",
       " 'P': {'Atomic_properties': {'Binding_energies': {'K': {'factor': 1,\n",
       "     'filename': 'P.K1',\n",
       "     'onset_energy (eV)': 2146.0,\n",
       "     'relevance': 'Major'},\n",
       "    'L1': {'factor': 1,\n",
       "     'filename': 'P.L1',\n",
       "     'onset_energy (eV)': 189.0,\n",
       "     'relevance': 'Minor'},\n",
       "    'L3': {'factor': 1,\n",
       "     'filename': 'P.L3',\n",
       "     'onset_energy (eV)': 132.0,\n",
       "     'relevance': 'Major'}},\n",
       "   'Xray_lines': {'Ka': {'energy (keV)': 2.0133, 'weight': 1.0},\n",
       "    'Kb': {'energy (keV)': 2.13916, 'weight': 0.0498}}},\n",
       "  'General_properties': {'Z': 15,\n",
       "   'atomic_weight': 30.973762,\n",
       "   'name': 'phosphorus'},\n",
       "  'Physical_properties': {'density (g/cm^3)': 1.823}},\n",
       " 'Pa': {'Atomic_properties': {'Xray_lines': {'Ka': {'energy (keV)': 95.8679,\n",
       "     'weight': 1.0},\n",
       "    'Kb': {'energy (keV)': 108.4272, 'weight': 0.15},\n",
       "    'La': {'energy (keV)': 13.2913, 'weight': 1.0},\n",
       "    'Lb1': {'energy (keV)': 16.7025, 'weight': 0.4},\n",
       "    'Lb2': {'energy (keV)': 16.0249, 'weight': 0.236},\n",
       "    'Lb3': {'energy (keV)': 16.9308, 'weight': 0.06},\n",
       "    'Lb4': {'energy (keV)': 16.1037, 'weight': 0.04},\n",
       "    'Lg1': {'energy (keV)': 19.5703, 'weight': 0.08},\n",
       "    'Lg3': {'energy (keV)': 20.0979, 'weight': 0.017},\n",
       "    'Ll': {'energy (keV)': 11.3662, 'weight': 0.0682},\n",
       "    'Ln': {'energy (keV)': 14.9468, 'weight': 0.0126},\n",
       "    'M2N4': {'energy (keV)': 4.2575, 'weight': 0.00674},\n",
       "    'M3O4': {'energy (keV)': 4.07712, 'weight': 0.01},\n",
       "    'M3O5': {'energy (keV)': 4.08456, 'weight': 0.01},\n",
       "    'Ma': {'energy (keV)': 3.0823, 'weight': 1.0},\n",
       "    'Mb': {'energy (keV)': 3.24, 'weight': 0.64124},\n",
       "    'Mg': {'energy (keV)': 3.4656, 'weight': 0.33505},\n",
       "    'Mz': {'energy (keV)': 2.4351, 'weight': 0.03512}}},\n",
       "  'General_properties': {'Z': 91,\n",
       "   'atomic_weight': 231.03586,\n",
       "   'name': 'protactinium'},\n",
       "  'Physical_properties': {'density (g/cm^3)': 15.37}},\n",
       " 'Pb': {'Atomic_properties': {'Binding_energies': {'M4': {'factor': 0.6666666666666666,\n",
       "     'filename': 'Pb.M5',\n",
       "     'onset_energy (eV)': 2586.0,\n",
       "     'relevance': 'Major'},\n",
       "    'M5': {'factor': 1,\n",
       "     'filename': 'Pb.M5',\n",
       "     'onset_energy (eV)': 2484.0,\n",
       "     'relevance': 'Major'}},\n",
       "   'Xray_lines': {'Ka': {'energy (keV)': 74.9693, 'weight': 1.0},\n",
       "    'Kb': {'energy (keV)': 84.9381, 'weight': 0.15},\n",
       "    'La': {'energy (keV)': 10.5512, 'weight': 1.0},\n",
       "    'Lb1': {'energy (keV)': 12.6144, 'weight': 0.3836},\n",
       "    'Lb2': {'energy (keV)': 12.6223, 'weight': 0.2244},\n",
       "    'Lb3': {'energy (keV)': 12.7944, 'weight': 0.06049},\n",
       "    'Lb4': {'energy (keV)': 12.3066, 'weight': 0.055},\n",
       "    'Lg1': {'energy (keV)': 14.7648, 'weight': 0.08256},\n",
       "    'Lg3': {'energy (keV)': 15.2163, 'weight': 0.017},\n",
       "    'Ll': {'energy (keV)': 9.1845, 'weight': 0.0586},\n",
       "    'Ln': {'energy (keV)': 11.3493, 'weight': 0.0132},\n",
       "    'M2N4': {'energy (keV)': 3.119, 'weight': 0.00863},\n",
       "    'M3O4': {'energy (keV)': 3.0446, 'weight': 0.01},\n",
       "    'M3O5': {'energy (keV)': 3.0472, 'weight': 0.01},\n",
       "    'Ma': {'energy (keV)': 2.3459, 'weight': 1.0},\n",
       "    'Mb': {'energy (keV)': 2.4427, 'weight': 0.64124},\n",
       "    'Mg': {'energy (keV)': 2.6535, 'weight': 0.21845},\n",
       "    'Mz': {'energy (keV)': 1.8395, 'weight': 0.0058}}},\n",
       "  'General_properties': {'Z': 82, 'atomic_weight': 207.2, 'name': 'lead'},\n",
       "  'Physical_properties': {'density (g/cm^3)': 11.34}},\n",
       " 'Pd': {'Atomic_properties': {'Binding_energies': {'M2': {'factor': 0.5,\n",
       "     'filename': 'Pd.M3',\n",
       "     'onset_energy (eV)': 559.0,\n",
       "     'relevance': 'Minor'},\n",
       "    'M3': {'factor': 1,\n",
       "     'filename': 'Pd.M3',\n",
       "     'onset_energy (eV)': 531.0,\n",
       "     'relevance': 'Minor'},\n",
       "    'M4': {'factor': 0.6666666666666666,\n",
       "     'filename': 'Pd.M5',\n",
       "     'onset_energy (eV)': 340.0,\n",
       "     'relevance': 'Major'},\n",
       "    'M5': {'factor': 1,\n",
       "     'filename': 'Pd.M5',\n",
       "     'onset_energy (eV)': 335.0,\n",
       "     'relevance': 'Major'}},\n",
       "   'Xray_lines': {'Ka': {'energy (keV)': 21.177, 'weight': 1.0},\n",
       "    'Kb': {'energy (keV)': 23.8188, 'weight': 0.15},\n",
       "    'La': {'energy (keV)': 2.8386, 'weight': 1.0},\n",
       "    'Lb1': {'energy (keV)': 2.9903, 'weight': 0.34375},\n",
       "    'Lb2': {'energy (keV)': 3.16828, 'weight': 0.10349},\n",
       "    'Lb3': {'energy (keV)': 3.0728, 'weight': 0.0682},\n",
       "    'Lb4': {'energy (keV)': 3.0452, 'weight': 0.0407},\n",
       "    'Lg1': {'energy (keV)': 3.32485, 'weight': 0.03256},\n",
       "    'Lg3': {'energy (keV)': 3.5532, 'weight': 0.0125},\n",
       "    'Ll': {'energy (keV)': 2.5034, 'weight': 0.0412},\n",
       "    'Ln': {'energy (keV)': 2.6604, 'weight': 0.0129}}},\n",
       "  'General_properties': {'Z': 46,\n",
       "   'atomic_weight': 106.42,\n",
       "   'name': 'palladium'},\n",
       "  'Physical_properties': {'density (g/cm^3)': 12.023}},\n",
       " 'Pm': {'Atomic_properties': {'Xray_lines': {'Ka': {'energy (keV)': 38.7247,\n",
       "     'weight': 1.0},\n",
       "    'Kb': {'energy (keV)': 43.8271, 'weight': 0.15},\n",
       "    'La': {'energy (keV)': 5.4324, 'weight': 1.0},\n",
       "    'Lb1': {'energy (keV)': 5.9613, 'weight': 0.4308},\n",
       "    'Lb2': {'energy (keV)': 6.3389, 'weight': 0.196},\n",
       "    'Lb3': {'energy (keV)': 6.071, 'weight': 0.1247},\n",
       "    'Lb4': {'energy (keV)': 5.9565, 'weight': 0.07799},\n",
       "    'Lg1': {'energy (keV)': 6.8924, 'weight': 0.0784},\n",
       "    'Lg3': {'energy (keV)': 7.1919, 'weight': 0.0311},\n",
       "    'Ll': {'energy (keV)': 4.8128, 'weight': 0.0448},\n",
       "    'Ln': {'energy (keV)': 5.3663, 'weight': 0.01479},\n",
       "    'M2N4': {'energy (keV)': 1.351, 'weight': 0.028},\n",
       "    'Ma': {'energy (keV)': 0.9894, 'weight': 1.0},\n",
       "    'Mb': {'energy (keV)': 1.0475, 'weight': 0.89},\n",
       "    'Mg': {'energy (keV)': 1.2365, 'weight': 0.4},\n",
       "    'Mz': {'energy (keV)': 0.7909, 'weight': 0.068}}},\n",
       "  'General_properties': {'Z': 61, 'atomic_weight': 145, 'name': 'promethium'},\n",
       "  'Physical_properties': {'density (g/cm^3)': 7.264}},\n",
       " 'Po': {'Atomic_properties': {'Xray_lines': {'Ka': {'energy (keV)': 79.2912,\n",
       "     'weight': 1.0},\n",
       "    'Kb': {'energy (keV)': 89.8031, 'weight': 0.15},\n",
       "    'La': {'energy (keV)': 11.1308, 'weight': 1.0},\n",
       "    'Lb1': {'energy (keV)': 13.4463, 'weight': 0.38536},\n",
       "    'Lb2': {'energy (keV)': 13.3404, 'weight': 0.2289},\n",
       "    'Lb3': {'energy (keV)': 13.6374, 'weight': 0.0603},\n",
       "    'Lb4': {'energy (keV)': 13.0852, 'weight': 0.05709},\n",
       "    'Lg1': {'energy (keV)': 15.7441, 'weight': 0.08},\n",
       "    'Lg3': {'energy (keV)': 16.2343, 'weight': 0.017},\n",
       "    'Ll': {'energy (keV)': 9.6644, 'weight': 0.0607},\n",
       "    'Ln': {'energy (keV)': 12.0949, 'weight': 0.0133},\n",
       "    'M2N4': {'energy (keV)': 3.3539, 'weight': 0.00863},\n",
       "    'Mb': {'energy (keV)': 2.62266, 'weight': 0.64124},\n",
       "    'Mg': {'energy (keV)': 2.8285, 'weight': 0.21845},\n",
       "    'Mz': {'energy (keV)': 1.978, 'weight': 0.00354}}},\n",
       "  'General_properties': {'Z': 84, 'atomic_weight': 209, 'name': 'polonium'},\n",
       "  'Physical_properties': {'density (g/cm^3)': 9.196}},\n",
       " 'Pr': {'Atomic_properties': {'Binding_energies': {'M2': {'factor': 0.5,\n",
       "     'filename': 'Pr.M3',\n",
       "     'onset_energy (eV)': 1337.0,\n",
       "     'relevance': 'Minor'},\n",
       "    'M3': {'factor': 1,\n",
       "     'filename': 'Pr.M3',\n",
       "     'onset_energy (eV)': 1242.0,\n",
       "     'relevance': 'Minor'},\n",
       "    'M4': {'factor': 0.6666666666666666,\n",
       "     'filename': 'Pr.M5',\n",
       "     'onset_energy (eV)': 951.0,\n",
       "     'relevance': 'Major'},\n",
       "    'M5': {'factor': 1,\n",
       "     'filename': 'Pr.M5',\n",
       "     'onset_energy (eV)': 931.0,\n",
       "     'relevance': 'Major'},\n",
       "    'N4': {'factor': 0.6666666666666666,\n",
       "     'filename': 'Pr.N5',\n",
       "     'onset_energy (eV)': 114.0,\n",
       "     'relevance': 'Major'},\n",
       "    'N5': {'factor': 1,\n",
       "     'filename': 'Pr.N5',\n",
       "     'onset_energy (eV)': 114.0,\n",
       "     'relevance': 'Major'}},\n",
       "   'Xray_lines': {'Ka': {'energy (keV)': 36.0263, 'weight': 1.0},\n",
       "    'Kb': {'energy (keV)': 40.7484, 'weight': 0.15},\n",
       "    'La': {'energy (keV)': 5.0333, 'weight': 1.0},\n",
       "    'Lb1': {'energy (keV)': 5.4893, 'weight': 0.42872},\n",
       "    'Lb2': {'energy (keV)': 5.8511, 'weight': 0.19519},\n",
       "    'Lb3': {'energy (keV)': 5.5926, 'weight': 0.13089},\n",
       "    'Lb4': {'energy (keV)': 5.4974, 'weight': 0.0864},\n",
       "    'Lg1': {'energy (keV)': 6.3272, 'weight': 0.07687},\n",
       "    'Lg3': {'energy (keV)': 6.6172, 'weight': 0.0321},\n",
       "    'Ll': {'energy (keV)': 4.4533, 'weight': 0.044},\n",
       "    'Ln': {'energy (keV)': 4.9294, 'weight': 0.01489},\n",
       "    'M2N4': {'energy (keV)': 1.2242, 'weight': 0.055},\n",
       "    'Ma': {'energy (keV)': 0.8936, 'weight': 1.0},\n",
       "    'Mb': {'energy (keV)': 0.9476, 'weight': 0.85},\n",
       "    'Mg': {'energy (keV)': 1.129, 'weight': 0.6},\n",
       "    'Mz': {'energy (keV)': 0.7134, 'weight': 0.068}}},\n",
       "  'General_properties': {'Z': 59,\n",
       "   'atomic_weight': 140.90765,\n",
       "   'name': 'praseodymium'},\n",
       "  'Physical_properties': {'density (g/cm^3)': 6.64}},\n",
       " 'Pt': {'Atomic_properties': {'Binding_energies': {'M4': {'factor': 0.6666666666666666,\n",
       "     'filename': 'Pt.M5',\n",
       "     'onset_energy (eV)': 2202.0,\n",
       "     'relevance': 'Major'},\n",
       "    'M5': {'factor': 1,\n",
       "     'filename': 'Pt.M5',\n",
       "     'onset_energy (eV)': 2122.0,\n",
       "     'relevance': 'Major'}},\n",
       "   'Xray_lines': {'Ka': {'energy (keV)': 66.8311, 'weight': 1.0},\n",
       "    'Kb': {'energy (keV)': 75.7494, 'weight': 0.15},\n",
       "    'La': {'energy (keV)': 9.4421, 'weight': 1.0},\n",
       "    'Lb1': {'energy (keV)': 11.0707, 'weight': 0.4088},\n",
       "    'Lb2': {'energy (keV)': 11.2504, 'weight': 0.21829},\n",
       "    'Lb3': {'energy (keV)': 11.2345, 'weight': 0.0783},\n",
       "    'Lb4': {'energy (keV)': 10.8534, 'weight': 0.0662},\n",
       "    'Lg1': {'energy (keV)': 12.9418, 'weight': 0.08448},\n",
       "    'Lg3': {'energy (keV)': 13.3609, 'weight': 0.0218},\n",
       "    'Ll': {'energy (keV)': 8.2677, 'weight': 0.0554},\n",
       "    'Ln': {'energy (keV)': 9.9766, 'weight': 0.01399},\n",
       "    'M2N4': {'energy (keV)': 2.6957, 'weight': 0.02901},\n",
       "    'M3O4': {'energy (keV)': 2.63796, 'weight': 0.005},\n",
       "    'M3O5': {'energy (keV)': 2.63927, 'weight': 0.01},\n",
       "    'Ma': {'energy (keV)': 2.0505, 'weight': 1.0},\n",
       "    'Mb': {'energy (keV)': 2.1276, 'weight': 0.59443},\n",
       "    'Mg': {'energy (keV)': 2.3321, 'weight': 0.08505},\n",
       "    'Mz': {'energy (keV)': 1.6026, 'weight': 0.01344}}},\n",
       "  'General_properties': {'Z': 78,\n",
       "   'atomic_weight': 195.084,\n",
       "   'name': 'platinum'},\n",
       "  'Physical_properties': {'density (g/cm^3)': 21.09}},\n",
       " 'Pu': {'Atomic_properties': {'Xray_lines': {'Ka': {'energy (keV)': 103.734,\n",
       "     'weight': 1.0},\n",
       "    'Kb': {'energy (keV)': 117.228, 'weight': 0.15},\n",
       "    'La': {'energy (keV)': 14.282, 'weight': 1.0},\n",
       "    'Lb1': {'energy (keV)': 18.296, 'weight': 0.40151},\n",
       "    'Ma': {'energy (keV)': 3.339, 'weight': 1.0},\n",
       "    'Mb': {'energy (keV)': 3.534, 'weight': 0.59443}}},\n",
       "  'General_properties': {'Z': 94, 'atomic_weight': 244, 'name': 'neptunium'},\n",
       "  'Physical_properties': {'density (g/cm^3)': 19.816}},\n",
       " 'Ra': {'Atomic_properties': {'Xray_lines': {'Ka': {'energy (keV)': 88.4776,\n",
       "     'weight': 1.0},\n",
       "    'Kb': {'energy (keV)': 100.1302, 'weight': 0.15},\n",
       "    'La': {'energy (keV)': 12.3395, 'weight': 1.0},\n",
       "    'Lb1': {'energy (keV)': 15.2359, 'weight': 0.4},\n",
       "    'Lb2': {'energy (keV)': 14.8417, 'weight': 0.23579},\n",
       "    'Lb3': {'energy (keV)': 15.4449, 'weight': 0.06},\n",
       "    'Lb4': {'energy (keV)': 14.7472, 'weight': 0.06209},\n",
       "    'Lg1': {'energy (keV)': 17.8484, 'weight': 0.08},\n",
       "    'Lg3': {'energy (keV)': 18.3576, 'weight': 0.017},\n",
       "    'Ll': {'energy (keV)': 10.6224, 'weight': 0.06429},\n",
       "    'Ln': {'energy (keV)': 13.6623, 'weight': 0.0133},\n",
       "    'M2N4': {'energy (keV)': 3.8536, 'weight': 0.00674},\n",
       "    'Mb': {'energy (keV)': 2.9495, 'weight': 0.64124},\n",
       "    'Mg': {'energy (keV)': 3.1891, 'weight': 0.33505},\n",
       "    'Mz': {'energy (keV)': 2.2258, 'weight': 0.03512}}},\n",
       "  'General_properties': {'Z': 88, 'atomic_weight': 226, 'name': 'radium'},\n",
       "  'Physical_properties': {'density (g/cm^3)': 5.0}},\n",
       " 'Rb': {'Atomic_properties': {'Binding_energies': {'L1': {'factor': 1,\n",
       "     'filename': 'Rb.L1',\n",
       "     'onset_energy (eV)': 2065.0,\n",
       "     'relevance': 'Minor'},\n",
       "    'L2': {'factor': 0.5,\n",
       "     'filename': 'Rb.L3',\n",
       "     'onset_energy (eV)': 1864.0,\n",
       "     'relevance': 'Major'},\n",
       "    'L3': {'factor': 1,\n",
       "     'filename': 'Rb.L3',\n",
       "     'onset_energy (eV)': 1804.0,\n",
       "     'relevance': 'Major'},\n",
       "    'M2': {'factor': 0.5,\n",
       "     'filename': 'Rb.M3',\n",
       "     'onset_energy (eV)': 247.0,\n",
       "     'relevance': 'Major'},\n",
       "    'M3': {'factor': 1,\n",
       "     'filename': 'Rb.M3',\n",
       "     'onset_energy (eV)': 238.0,\n",
       "     'relevance': 'Major'},\n",
       "    'M4': {'factor': 0.6666666666666666,\n",
       "     'filename': 'Rb.M5',\n",
       "     'onset_energy (eV)': 110.0,\n",
       "     'relevance': 'Major'},\n",
       "    'M5': {'factor': 1,\n",
       "     'filename': 'Rb.M5',\n",
       "     'onset_energy (eV)': 110.0,\n",
       "     'relevance': 'Major'}},\n",
       "   'Xray_lines': {'Ka': {'energy (keV)': 13.3953, 'weight': 1.0},\n",
       "    'Kb': {'energy (keV)': 14.9612, 'weight': 0.1558},\n",
       "    'La': {'energy (keV)': 1.6941, 'weight': 1.0},\n",
       "    'Lb1': {'energy (keV)': 1.7521, 'weight': 0.39095},\n",
       "    'Lb3': {'energy (keV)': 1.8266, 'weight': 0.04709},\n",
       "    'Lg3': {'energy (keV)': 2.0651, 'weight': 0.0058},\n",
       "    'Ll': {'energy (keV)': 1.4823, 'weight': 0.0441},\n",
       "    'Ln': {'energy (keV)': 1.5418, 'weight': 0.01709}}},\n",
       "  'General_properties': {'Z': 37,\n",
       "   'atomic_weight': 85.4678,\n",
       "   'name': 'rubidium'},\n",
       "  'Physical_properties': {'density (g/cm^3)': 1.532}},\n",
       " 'Re': {'Atomic_properties': {'Binding_energies': {'M4': {'factor': 0.6666666666666666,\n",
       "     'filename': 'Re.M5',\n",
       "     'onset_energy (eV)': 1949.0,\n",
       "     'relevance': 'Major'},\n",
       "    'M5': {'factor': 1,\n",
       "     'filename': 'Re.M5',\n",
       "     'onset_energy (eV)': 1883.0,\n",
       "     'relevance': 'Major'}},\n",
       "   'Xray_lines': {'Ka': {'energy (keV)': 61.1411, 'weight': 1.0},\n",
       "    'Kb': {'energy (keV)': 69.3091, 'weight': 0.15},\n",
       "    'La': {'energy (keV)': 8.6524, 'weight': 1.0},\n",
       "    'Lb1': {'energy (keV)': 10.0098, 'weight': 0.4408},\n",
       "    'Lb2': {'energy (keV)': 10.2751, 'weight': 0.21219},\n",
       "    'Lb3': {'energy (keV)': 10.1594, 'weight': 0.1222},\n",
       "    'Lb4': {'energy (keV)': 9.8451, 'weight': 0.09869},\n",
       "    'Lg1': {'energy (keV)': 11.685, 'weight': 0.08864},\n",
       "    'Lg3': {'energy (keV)': 12.0823, 'weight': 0.0331},\n",
       "    'Ll': {'energy (keV)': 7.6036, 'weight': 0.05299},\n",
       "    'Ln': {'energy (keV)': 9.027, 'weight': 0.0151},\n",
       "    'M2N4': {'energy (keV)': 2.4079, 'weight': 0.01},\n",
       "    'M3O4': {'energy (keV)': 2.36124, 'weight': 0.001},\n",
       "    'M3O5': {'energy (keV)': 2.36209, 'weight': 0.01},\n",
       "    'Ma': {'energy (keV)': 1.8423, 'weight': 1.0},\n",
       "    'Mb': {'energy (keV)': 1.9083, 'weight': 0.59443},\n",
       "    'Mg': {'energy (keV)': 2.1071, 'weight': 0.08505},\n",
       "    'Mz': {'energy (keV)': 1.4385, 'weight': 0.01344}}},\n",
       "  'General_properties': {'Z': 75, 'atomic_weight': 186.207, 'name': 'rhenium'},\n",
       "  'Physical_properties': {'density (g/cm^3)': 21.02}},\n",
       " 'Rh': {'Atomic_properties': {'Binding_energies': {'M2': {'factor': 0.5,\n",
       "     'filename': 'Rh.M3',\n",
       "     'onset_energy (eV)': 521.0,\n",
       "     'relevance': 'Minor'},\n",
       "    'M3': {'factor': 1,\n",
       "     'filename': 'Rh.M3',\n",
       "     'onset_energy (eV)': 496.0,\n",
       "     'relevance': 'Minor'},\n",
       "    'M4': {'factor': 0.6666666666666666,\n",
       "     'filename': 'Rh.M5',\n",
       "     'onset_energy (eV)': 312.0,\n",
       "     'relevance': 'Major'},\n",
       "    'M5': {'factor': 1,\n",
       "     'filename': 'Rh.M5',\n",
       "     'onset_energy (eV)': 308.0,\n",
       "     'relevance': 'Major'}},\n",
       "   'Xray_lines': {'Ka': {'energy (keV)': 20.2161, 'weight': 1.0},\n",
       "    'Kb': {'energy (keV)': 22.7237, 'weight': 0.15},\n",
       "    'La': {'energy (keV)': 2.6968, 'weight': 1.0},\n",
       "    'Lb1': {'energy (keV)': 2.8344, 'weight': 0.33463},\n",
       "    'Lb2': {'energy (keV)': 3.0013, 'weight': 0.08539},\n",
       "    'Lb3': {'energy (keV)': 2.9157, 'weight': 0.06669},\n",
       "    'Lb4': {'energy (keV)': 2.8909, 'weight': 0.0395},\n",
       "    'Lg1': {'energy (keV)': 3.1436, 'weight': 0.02623},\n",
       "    'Lg3': {'energy (keV)': 3.364, 'weight': 0.0121},\n",
       "    'Ll': {'energy (keV)': 2.3767, 'weight': 0.0411},\n",
       "    'Ln': {'energy (keV)': 2.519, 'weight': 0.0126}}},\n",
       "  'General_properties': {'Z': 45,\n",
       "   'atomic_weight': 102.9055,\n",
       "   'name': 'rhodium'},\n",
       "  'Physical_properties': {'density (g/cm^3)': 12.45}},\n",
       " 'Rn': {'Atomic_properties': {'Xray_lines': {'Ka': {'energy (keV)': 83.7846,\n",
       "     'weight': 1.0},\n",
       "    'Kb': {'energy (keV)': 94.866, 'weight': 0.15},\n",
       "    'La': {'energy (keV)': 11.727, 'weight': 1.0},\n",
       "    'Lb1': {'energy (keV)': 14.3156, 'weight': 0.38463},\n",
       "    'Lb2': {'energy (keV)': 14.0824, 'weight': 0.2325},\n",
       "    'Lb3': {'energy (keV)': 14.511, 'weight': 0.0607},\n",
       "    'Lb4': {'energy (keV)': 13.89, 'weight': 0.06},\n",
       "    'Lg1': {'energy (keV)': 16.7705, 'weight': 0.08},\n",
       "    'Lg3': {'energy (keV)': 17.281, 'weight': 0.017},\n",
       "    'Ll': {'energy (keV)': 10.1374, 'weight': 0.0625},\n",
       "    'Ln': {'energy (keV)': 12.8551, 'weight': 0.0134},\n",
       "    'M2N4': {'energy (keV)': 3.5924, 'weight': 0.00863},\n",
       "    'Mb': {'energy (keV)': 2.80187, 'weight': 0.64124},\n",
       "    'Mg': {'energy (keV)': 3.001, 'weight': 0.21845},\n",
       "    'Mz': {'energy (keV)': 2.1244, 'weight': 0.0058}}},\n",
       "  'General_properties': {'Z': 86, 'atomic_weight': 222, 'name': 'radon'},\n",
       "  'Physical_properties': {'density (g/cm^3)': 0.00973}},\n",
       " 'Ru': {'Atomic_properties': {'Binding_energies': {'M2': {'factor': 0.5,\n",
       "     'filename': 'Ru.M3',\n",
       "     'onset_energy (eV)': 483.0,\n",
       "     'relevance': 'Minor'},\n",
       "    'M3': {'factor': 1,\n",
       "     'filename': 'Ru.M3',\n",
       "     'onset_energy (eV)': 461.0,\n",
       "     'relevance': 'Minor'},\n",
       "    'M4': {'factor': 0.6666666666666666,\n",
       "     'filename': 'Ru.M5',\n",
       "     'onset_energy (eV)': 279.0,\n",
       "     'relevance': 'Major'},\n",
       "    'M5': {'factor': 1,\n",
       "     'filename': 'Ru.M5',\n",
       "     'onset_energy (eV)': 279.0,\n",
       "     'relevance': 'Major'}},\n",
       "   'Xray_lines': {'Ka': {'energy (keV)': 19.2793, 'weight': 1.0},\n",
       "    'Kb': {'energy (keV)': 21.6566, 'weight': 0.15},\n",
       "    'La': {'energy (keV)': 2.5585, 'weight': 1.0},\n",
       "    'Lb1': {'energy (keV)': 2.6833, 'weight': 0.33039},\n",
       "    'Lb2': {'energy (keV)': 2.8359, 'weight': 0.07259},\n",
       "    'Lb3': {'energy (keV)': 2.7634, 'weight': 0.0654},\n",
       "    'Lg1': {'energy (keV)': 2.9649, 'weight': 0.02176},\n",
       "    'Lg3': {'energy (keV)': 3.1809, 'weight': 0.0115},\n",
       "    'Ll': {'energy (keV)': 2.2529, 'weight': 0.0411},\n",
       "    'Ln': {'energy (keV)': 2.3819, 'weight': 0.0126}}},\n",
       "  'General_properties': {'Z': 44,\n",
       "   'atomic_weight': 101.07,\n",
       "   'name': 'ruthenium'},\n",
       "  'Physical_properties': {'density (g/cm^3)': 12.37}},\n",
       " 'S': {'Atomic_properties': {'Binding_energies': {'L1': {'factor': 1,\n",
       "     'filename': 'S.L1',\n",
       "     'onset_energy (eV)': 229.0,\n",
       "     'relevance': 'Minor'},\n",
       "    'L3': {'factor': 1,\n",
       "     'filename': 'S.L3',\n",
       "     'onset_energy (eV)': 165.0,\n",
       "     'relevance': 'Major'}},\n",
       "   'Xray_lines': {'Ka': {'energy (keV)': 2.3072, 'weight': 1.0},\n",
       "    'Kb': {'energy (keV)': 2.46427, 'weight': 0.06525}}},\n",
       "  'General_properties': {'Z': 16, 'atomic_weight': 32.065, 'name': 'sulfur'},\n",
       "  'Physical_properties': {'density (g/cm^3)': 1.96}},\n",
       " 'Sb': {'Atomic_properties': {'Binding_energies': {'M2': {'factor': 0.5,\n",
       "     'filename': 'Sb.M3',\n",
       "     'onset_energy (eV)': 812.0,\n",
       "     'relevance': 'Minor'},\n",
       "    'M3': {'factor': 1,\n",
       "     'filename': 'Sb.M3',\n",
       "     'onset_energy (eV)': 766.0,\n",
       "     'relevance': 'Minor'},\n",
       "    'M4': {'factor': 0.6666666666666666,\n",
       "     'filename': 'Sb.M5',\n",
       "     'onset_energy (eV)': 537.0,\n",
       "     'relevance': 'Major'},\n",
       "    'M5': {'factor': 1,\n",
       "     'filename': 'Sb.M5',\n",
       "     'onset_energy (eV)': 528.0,\n",
       "     'relevance': 'Major'}},\n",
       "   'Xray_lines': {'Ka': {'energy (keV)': 26.359, 'weight': 1.0},\n",
       "    'Kb': {'energy (keV)': 29.7256, 'weight': 0.15},\n",
       "    'La': {'energy (keV)': 3.6047, 'weight': 1.0},\n",
       "    'Lb1': {'energy (keV)': 3.8435, 'weight': 0.4276},\n",
       "    'Lb2': {'energy (keV)': 4.1008, 'weight': 0.1556},\n",
       "    'Lb3': {'energy (keV)': 3.9327, 'weight': 0.15099},\n",
       "    'Lb4': {'energy (keV)': 3.8864, 'weight': 0.0932},\n",
       "    'Lg1': {'energy (keV)': 4.349, 'weight': 0.06064},\n",
       "    'Lg3': {'energy (keV)': 4.5999, 'weight': 0.0321},\n",
       "    'Ll': {'energy (keV)': 3.1885, 'weight': 0.0419},\n",
       "    'Ln': {'energy (keV)': 3.4367, 'weight': 0.0155}}},\n",
       "  'General_properties': {'Z': 51, 'atomic_weight': 121.76, 'name': 'antimony'},\n",
       "  'Physical_properties': {'density (g/cm^3)': 6.697}},\n",
       " 'Sc': {'Atomic_properties': {'Binding_energies': {'L1': {'factor': 1,\n",
       "     'filename': 'Sc.L1',\n",
       "     'onset_energy (eV)': 500.0,\n",
       "     'relevance': 'Minor'},\n",
       "    'L2': {'factor': 0.5,\n",
       "     'filename': 'Sc.L3',\n",
       "     'onset_energy (eV)': 407.0,\n",
       "     'relevance': 'Major'},\n",
       "    'L3': {'factor': 1,\n",
       "     'filename': 'Sc.L3',\n",
       "     'onset_energy (eV)': 402.0,\n",
       "     'relevance': 'Major'},\n",
       "    'M2': {'factor': 0.5,\n",
       "     'filename': 'Sc.M3',\n",
       "     'onset_energy (eV)': 32.0,\n",
       "     'relevance': 'Major'},\n",
       "    'M3': {'factor': 1,\n",
       "     'filename': 'Sc.M3',\n",
       "     'onset_energy (eV)': 32.0,\n",
       "     'relevance': 'Major'}},\n",
       "   'Xray_lines': {'Ka': {'energy (keV)': 4.0906, 'weight': 1.0},\n",
       "    'Kb': {'energy (keV)': 4.4605, 'weight': 0.12839},\n",
       "    'La': {'energy (keV)': 0.4022, 'weight': 0.308},\n",
       "    'Lb3': {'energy (keV)': 0.4681, 'weight': 0.037},\n",
       "    'Ll': {'energy (keV)': 0.3484, 'weight': 1.0},\n",
       "    'Ln': {'energy (keV)': 0.3529, 'weight': 0.488}}},\n",
       "  'General_properties': {'Z': 21,\n",
       "   'atomic_weight': 44.955912,\n",
       "   'name': 'scandium'},\n",
       "  'Physical_properties': {'density (g/cm^3)': 2.985}},\n",
       " 'Se': {'Atomic_properties': {'Binding_energies': {'L1': {'factor': 1,\n",
       "     'filename': 'Se.L1',\n",
       "     'onset_energy (eV)': 1654.0,\n",
       "     'relevance': 'Minor'},\n",
       "    'L2': {'factor': 0.5,\n",
       "     'filename': 'Se.L3',\n",
       "     'onset_energy (eV)': 1476.0,\n",
       "     'relevance': 'Major'},\n",
       "    'L3': {'factor': 1,\n",
       "     'filename': 'Se.L3',\n",
       "     'onset_energy (eV)': 1436.0,\n",
       "     'relevance': 'Major'}},\n",
       "   'Xray_lines': {'Ka': {'energy (keV)': 11.222, 'weight': 1.0},\n",
       "    'Kb': {'energy (keV)': 12.4959, 'weight': 0.1505},\n",
       "    'La': {'energy (keV)': 1.3791, 'weight': 1.0},\n",
       "    'Lb1': {'energy (keV)': 1.4195, 'weight': 0.38848},\n",
       "    'Lb3': {'energy (keV)': 1.492, 'weight': 0.047},\n",
       "    'Ll': {'energy (keV)': 1.2043, 'weight': 0.04759},\n",
       "    'Ln': {'energy (keV)': 1.2447, 'weight': 0.0187}}},\n",
       "  'General_properties': {'Z': 34, 'atomic_weight': 78.96, 'name': 'selenium'},\n",
       "  'Physical_properties': {'density (g/cm^3)': 4.819}},\n",
       " 'Si': {'Atomic_properties': {'Binding_energies': {'K': {'factor': 1,\n",
       "     'filename': 'Si.K1',\n",
       "     'onset_energy (eV)': 1839.0,\n",
       "     'relevance': 'Major'},\n",
       "    'L1': {'factor': 1,\n",
       "     'filename': 'Si.L1',\n",
       "     'onset_energy (eV)': 149.7,\n",
       "     'relevance': 'Minor'},\n",
       "    'L2': {'factor': 0.5,\n",
       "     'filename': 'Si.L3',\n",
       "     'onset_energy (eV)': 99.8,\n",
       "     'relevance': 'Major'},\n",
       "    'L3': {'factor': 1,\n",
       "     'filename': 'Si.L3',\n",
       "     'onset_energy (eV)': 99.2,\n",
       "     'relevance': 'Major'}},\n",
       "   'Xray_lines': {'Ka': {'energy (keV)': 1.7397, 'weight': 1.0},\n",
       "    'Kb': {'energy (keV)': 1.8389, 'weight': 0.02779}}},\n",
       "  'General_properties': {'Z': 14, 'atomic_weight': 28.0855, 'name': 'silicon'},\n",
       "  'Physical_properties': {'density (g/cm^3)': 2.33}},\n",
       " 'Sm': {'Atomic_properties': {'Binding_energies': {'M2': {'factor': 0.5,\n",
       "     'filename': 'Sm.M3',\n",
       "     'onset_energy (eV)': 1541.0,\n",
       "     'relevance': 'Minor'},\n",
       "    'M3': {'factor': 1,\n",
       "     'filename': 'Sm.M3',\n",
       "     'onset_energy (eV)': 1420.0,\n",
       "     'relevance': 'Minor'},\n",
       "    'M4': {'factor': 0.6666666666666666,\n",
       "     'filename': 'Sm.M5',\n",
       "     'onset_energy (eV)': 1106.0,\n",
       "     'relevance': 'Major'},\n",
       "    'M5': {'factor': 1,\n",
       "     'filename': 'Sm.M5',\n",
       "     'onset_energy (eV)': 1080.0,\n",
       "     'relevance': 'Major'},\n",
       "    'N4': {'factor': 0.6666666666666666,\n",
       "     'filename': 'Sm.N5',\n",
       "     'onset_energy (eV)': 130.0,\n",
       "     'relevance': 'Major'},\n",
       "    'N5': {'factor': 1,\n",
       "     'filename': 'Sm.N5',\n",
       "     'onset_energy (eV)': 130.0,\n",
       "     'relevance': 'Major'}},\n",
       "   'Xray_lines': {'Ka': {'energy (keV)': 40.118, 'weight': 1.0},\n",
       "    'Kb': {'energy (keV)': 45.4144, 'weight': 0.15},\n",
       "    'La': {'energy (keV)': 5.636, 'weight': 1.0},\n",
       "    'Lb1': {'energy (keV)': 6.2058, 'weight': 0.43512},\n",
       "    'Lb2': {'energy (keV)': 6.5872, 'weight': 0.19769},\n",
       "    'Lb3': {'energy (keV)': 6.317, 'weight': 0.12669},\n",
       "    'Lb4': {'energy (keV)': 6.1961, 'weight': 0.08689},\n",
       "    'Lg1': {'energy (keV)': 7.1828, 'weight': 0.07951},\n",
       "    'Lg3': {'energy (keV)': 7.4894, 'weight': 0.0318},\n",
       "    'Ll': {'energy (keV)': 4.9934, 'weight': 0.04519},\n",
       "    'Ln': {'energy (keV)': 5.589, 'weight': 0.01489},\n",
       "    'M2N4': {'energy (keV)': 1.4117, 'weight': 0.012},\n",
       "    'Ma': {'energy (keV)': 1.0428, 'weight': 1.0},\n",
       "    'Mb': {'energy (keV)': 1.1005, 'weight': 0.88},\n",
       "    'Mg': {'energy (keV)': 1.2908, 'weight': 0.26},\n",
       "    'Mz': {'energy (keV)': 0.8328, 'weight': 0.06}}},\n",
       "  'General_properties': {'Z': 62, 'atomic_weight': 150.36, 'name': 'samarium'},\n",
       "  'Physical_properties': {'density (g/cm^3)': 7.353}},\n",
       " 'Sn': {'Atomic_properties': {'Binding_energies': {'M2': {'factor': 0.5,\n",
       "     'filename': 'Sn.M3',\n",
       "     'onset_energy (eV)': 756.0,\n",
       "     'relevance': 'Minor'},\n",
       "    'M3': {'factor': 1,\n",
       "     'filename': 'Sn.M3',\n",
       "     'onset_energy (eV)': 714.0,\n",
       "     'relevance': 'Minor'},\n",
       "    'M4': {'factor': 0.6666666666666666,\n",
       "     'filename': 'Sn.M5',\n",
       "     'onset_energy (eV)': 494.0,\n",
       "     'relevance': 'Major'},\n",
       "    'M5': {'factor': 1,\n",
       "     'filename': 'Sn.M5',\n",
       "     'onset_energy (eV)': 485.0,\n",
       "     'relevance': 'Major'}},\n",
       "   'Xray_lines': {'Ka': {'energy (keV)': 25.2713, 'weight': 1.0},\n",
       "    'Kb': {'energy (keV)': 28.4857, 'weight': 0.15},\n",
       "    'La': {'energy (keV)': 3.444, 'weight': 1.0},\n",
       "    'Lb1': {'energy (keV)': 3.6628, 'weight': 0.43456},\n",
       "    'Lb2': {'energy (keV)': 3.9049, 'weight': 0.14689},\n",
       "    'Lb3': {'energy (keV)': 3.7503, 'weight': 0.1547},\n",
       "    'Lb4': {'energy (keV)': 3.7083, 'weight': 0.0948},\n",
       "    'Lg1': {'energy (keV)': 4.1322, 'weight': 0.058},\n",
       "    'Lg3': {'energy (keV)': 4.3761, 'weight': 0.0321},\n",
       "    'Ll': {'energy (keV)': 3.045, 'weight': 0.0416},\n",
       "    'Ln': {'energy (keV)': 3.2723, 'weight': 0.0158}}},\n",
       "  'General_properties': {'Z': 50, 'atomic_weight': 118.71, 'name': 'tin'},\n",
       "  'Physical_properties': {'density (g/cm^3)': 7.31}},\n",
       " 'Sr': {'Atomic_properties': {'Binding_energies': {'L1': {'factor': 1,\n",
       "     'filename': 'Sr.L1',\n",
       "     'onset_energy (eV)': 2216.0,\n",
       "     'relevance': 'Minor'},\n",
       "    'L2': {'factor': 0.5,\n",
       "     'filename': 'Sr.L3',\n",
       "     'onset_energy (eV)': 2007.0,\n",
       "     'relevance': 'Minor'},\n",
       "    'L3': {'factor': 1,\n",
       "     'filename': 'Sr.L3',\n",
       "     'onset_energy (eV)': 1940.0,\n",
       "     'relevance': 'Minor'},\n",
       "    'M2': {'factor': 0.5,\n",
       "     'filename': 'Sr.M3',\n",
       "     'onset_energy (eV)': 280.0,\n",
       "     'relevance': 'Minor'},\n",
       "    'M3': {'factor': 1,\n",
       "     'filename': 'Sr.M3',\n",
       "     'onset_energy (eV)': 269.0,\n",
       "     'relevance': 'Minor'},\n",
       "    'M4': {'factor': 0.6666666666666666,\n",
       "     'filename': 'Sr.M5',\n",
       "     'onset_energy (eV)': 134.0,\n",
       "     'relevance': 'Major'},\n",
       "    'M5': {'factor': 1,\n",
       "     'filename': 'Sr.M5',\n",
       "     'onset_energy (eV)': 134.0,\n",
       "     'relevance': 'Major'}},\n",
       "   'Xray_lines': {'Ka': {'energy (keV)': 14.165, 'weight': 1.0},\n",
       "    'Kb': {'energy (keV)': 15.8355, 'weight': 0.15},\n",
       "    'La': {'energy (keV)': 1.8065, 'weight': 1.0},\n",
       "    'Lb1': {'energy (keV)': 1.8718, 'weight': 0.37975},\n",
       "    'Lb3': {'energy (keV)': 1.9472, 'weight': 0.047},\n",
       "    'Lg3': {'energy (keV)': 2.1964, 'weight': 0.0065},\n",
       "    'Ll': {'energy (keV)': 1.5821, 'weight': 0.04309},\n",
       "    'Ln': {'energy (keV)': 1.6493, 'weight': 0.01669}}},\n",
       "  'General_properties': {'Z': 38, 'atomic_weight': 87.62, 'name': 'strontium'},\n",
       "  'Physical_properties': {'density (g/cm^3)': 2.63}},\n",
       " 'Ta': {'Atomic_properties': {'Binding_energies': {'M4': {'factor': 0.6666666666666666,\n",
       "     'filename': 'Ta.M5',\n",
       "     'onset_energy (eV)': 1793.0,\n",
       "     'relevance': 'Major'},\n",
       "    'M5': {'factor': 1,\n",
       "     'filename': 'Ta.M5',\n",
       "     'onset_energy (eV)': 1735.0,\n",
       "     'relevance': 'Major'}},\n",
       "   'Xray_lines': {'Ka': {'energy (keV)': 57.5353, 'weight': 1.0},\n",
       "    'Kb': {'energy (keV)': 65.2224, 'weight': 0.15},\n",
       "    'La': {'energy (keV)': 8.146, 'weight': 1.0},\n",
       "    'Lb1': {'energy (keV)': 9.3429, 'weight': 0.46248},\n",
       "    'Lb2': {'energy (keV)': 9.6518, 'weight': 0.2076},\n",
       "    'Lb3': {'energy (keV)': 9.4875, 'weight': 0.1333},\n",
       "    'Lb4': {'energy (keV)': 9.2128, 'weight': 0.10449},\n",
       "    'Lg1': {'energy (keV)': 10.8948, 'weight': 0.09071},\n",
       "    'Lg3': {'energy (keV)': 11.277, 'weight': 0.0354},\n",
       "    'Ll': {'energy (keV)': 7.1731, 'weight': 0.0515},\n",
       "    'Ln': {'energy (keV)': 8.4281, 'weight': 0.0158},\n",
       "    'M2N4': {'energy (keV)': 2.2274, 'weight': 0.01},\n",
       "    'M3O4': {'energy (keV)': 2.1883, 'weight': 0.0001},\n",
       "    'M3O5': {'energy (keV)': 2.194, 'weight': 0.01},\n",
       "    'Ma': {'energy (keV)': 1.7101, 'weight': 1.0},\n",
       "    'Mb': {'energy (keV)': 1.7682, 'weight': 0.59443},\n",
       "    'Mg': {'energy (keV)': 1.9647, 'weight': 0.08505},\n",
       "    'Mz': {'energy (keV)': 1.3306, 'weight': 0.01344}}},\n",
       "  'General_properties': {'Z': 73,\n",
       "   'atomic_weight': 180.94788,\n",
       "   'name': 'tantalum'},\n",
       "  'Physical_properties': {'density (g/cm^3)': 16.65}},\n",
       " 'Tb': {'Atomic_properties': {'Binding_energies': {'M2': {'factor': 0.5,\n",
       "     'filename': 'Tb.M3',\n",
       "     'onset_energy (eV)': 1768.0,\n",
       "     'relevance': 'Minor'},\n",
       "    'M3': {'factor': 1,\n",
       "     'filename': 'Tb.M3',\n",
       "     'onset_energy (eV)': 1611.0,\n",
       "     'relevance': 'Minor'},\n",
       "    'M4': {'factor': 0.6666666666666666,\n",
       "     'filename': 'Tb.M5',\n",
       "     'onset_energy (eV)': 1275.0,\n",
       "     'relevance': 'Major'},\n",
       "    'M5': {'factor': 1,\n",
       "     'filename': 'Tb.M5',\n",
       "     'onset_energy (eV)': 1241.0,\n",
       "     'relevance': 'Major'},\n",
       "    'N4': {'factor': 0.6666666666666666,\n",
       "     'filename': 'Tb.N5',\n",
       "     'onset_energy (eV)': 148.0,\n",
       "     'relevance': 'Major'},\n",
       "    'N5': {'factor': 1,\n",
       "     'filename': 'Tb.N5',\n",
       "     'onset_energy (eV)': 148.0,\n",
       "     'relevance': 'Major'}},\n",
       "   'Xray_lines': {'Ka': {'energy (keV)': 44.4817, 'weight': 1.0},\n",
       "    'Kb': {'energy (keV)': 50.3844, 'weight': 0.15},\n",
       "    'La': {'energy (keV)': 6.2728, 'weight': 1.0},\n",
       "    'Lb1': {'energy (keV)': 6.9766, 'weight': 0.44104},\n",
       "    'Lb2': {'energy (keV)': 7.367, 'weight': 0.19929},\n",
       "    'Lb3': {'energy (keV)': 7.0967, 'weight': 0.124},\n",
       "    'Lb4': {'energy (keV)': 6.9403, 'weight': 0.0874},\n",
       "    'Lg1': {'energy (keV)': 8.1046, 'weight': 0.08168},\n",
       "    'Lg3': {'energy (keV)': 8.423, 'weight': 0.0315},\n",
       "    'Ll': {'energy (keV)': 5.5465, 'weight': 0.0465},\n",
       "    'Ln': {'energy (keV)': 6.2841, 'weight': 0.01479},\n",
       "    'M2N4': {'energy (keV)': 1.6207, 'weight': 0.014},\n",
       "    'Ma': {'energy (keV)': 1.2326, 'weight': 1.0},\n",
       "    'Mb': {'energy (keV)': 1.2656, 'weight': 0.78},\n",
       "    'Mg': {'energy (keV)': 1.4643, 'weight': 0.2615},\n",
       "    'Mz': {'energy (keV)': 0.9562, 'weight': 0.06}}},\n",
       "  'General_properties': {'Z': 65,\n",
       "   'atomic_weight': 158.92535,\n",
       "   'name': 'terbium'},\n",
       "  'Physical_properties': {'density (g/cm^3)': 8.219}},\n",
       " 'Tc': {'Atomic_properties': {'Xray_lines': {'Ka': {'energy (keV)': 18.3671,\n",
       "     'weight': 1.0},\n",
       "    'Kb': {'energy (keV)': 20.619, 'weight': 0.15},\n",
       "    'La': {'energy (keV)': 2.424, 'weight': 1.0},\n",
       "    'Lb1': {'energy (keV)': 2.5368, 'weight': 0.32951},\n",
       "    'Lb2': {'energy (keV)': 2.67017, 'weight': 0.05839},\n",
       "    'Lb3': {'energy (keV)': 2.6175, 'weight': 0.0644},\n",
       "    'Lg1': {'energy (keV)': 2.78619, 'weight': 0.01744},\n",
       "    'Lg3': {'energy (keV)': 3.0036, 'weight': 0.0111},\n",
       "    'Ll': {'energy (keV)': 2.1293, 'weight': 0.0412},\n",
       "    'Ln': {'energy (keV)': 2.2456, 'weight': 0.0127}}},\n",
       "  'General_properties': {'Z': 43, 'atomic_weight': 98, 'name': 'technetium'},\n",
       "  'Physical_properties': {'density (g/cm^3)': 11.5}},\n",
       " 'Te': {'Atomic_properties': {'Binding_energies': {'M2': {'factor': 0.5,\n",
       "     'filename': 'Te.M3',\n",
       "     'onset_energy (eV)': 870.0,\n",
       "     'relevance': 'Minor'},\n",
       "    'M3': {'factor': 1,\n",
       "     'filename': 'Te.M3',\n",
       "     'onset_energy (eV)': 819.0,\n",
       "     'relevance': 'Minor'},\n",
       "    'M4': {'factor': 0.6666666666666666,\n",
       "     'filename': 'Te.M5',\n",
       "     'onset_energy (eV)': 582.0,\n",
       "     'relevance': 'Major'},\n",
       "    'M5': {'factor': 1,\n",
       "     'filename': 'Te.M5',\n",
       "     'onset_energy (eV)': 572.0,\n",
       "     'relevance': 'Major'}},\n",
       "   'Xray_lines': {'Ka': {'energy (keV)': 27.4724, 'weight': 1.0},\n",
       "    'Kb': {'energy (keV)': 30.9951, 'weight': 0.15},\n",
       "    'La': {'energy (keV)': 3.7693, 'weight': 1.0},\n",
       "    'Lb1': {'energy (keV)': 4.0295, 'weight': 0.43183},\n",
       "    'Lb2': {'energy (keV)': 4.3016, 'weight': 0.16269},\n",
       "    'Lb3': {'energy (keV)': 4.1205, 'weight': 0.1458},\n",
       "    'Lb4': {'energy (keV)': 4.0695, 'weight': 0.0906},\n",
       "    'Lg1': {'energy (keV)': 4.5722, 'weight': 0.06375},\n",
       "    'Lg3': {'energy (keV)': 4.829, 'weight': 0.0317},\n",
       "    'Ll': {'energy (keV)': 3.3354, 'weight': 0.0419},\n",
       "    'Ln': {'energy (keV)': 3.606, 'weight': 0.0154}}},\n",
       "  'General_properties': {'Z': 52, 'atomic_weight': 127.6, 'name': 'tellurium'},\n",
       "  'Physical_properties': {'density (g/cm^3)': 6.24}},\n",
       " 'Th': {'Atomic_properties': {'Binding_energies': {'M4': {'factor': 0.6666666666666666,\n",
       "     'filename': 'Th.M5',\n",
       "     'onset_energy (eV)': 3491.0,\n",
       "     'relevance': 'Major'},\n",
       "    'M5': {'factor': 1,\n",
       "     'filename': 'Th.M5',\n",
       "     'onset_energy (eV)': 3332.0,\n",
       "     'relevance': 'Major'},\n",
       "    'O4': {'factor': 0.6666666666666666,\n",
       "     'filename': 'Th.O5',\n",
       "     'onset_energy (eV)': 83.0,\n",
       "     'relevance': 'Major'},\n",
       "    'O5': {'factor': 1,\n",
       "     'filename': 'Th.O5',\n",
       "     'onset_energy (eV)': 83.0,\n",
       "     'relevance': 'Major'}},\n",
       "   'Xray_lines': {'Ka': {'energy (keV)': 93.3507, 'weight': 1.0},\n",
       "    'Kb': {'energy (keV)': 105.6049, 'weight': 0.15},\n",
       "    'La': {'energy (keV)': 12.9683, 'weight': 1.0},\n",
       "    'Lb1': {'energy (keV)': 16.2024, 'weight': 0.4},\n",
       "    'Lb2': {'energy (keV)': 15.6239, 'weight': 0.236},\n",
       "    'Lb3': {'energy (keV)': 16.426, 'weight': 0.06},\n",
       "    'Lb4': {'energy (keV)': 15.6417, 'weight': 0.05},\n",
       "    'Lg1': {'energy (keV)': 18.9791, 'weight': 0.08},\n",
       "    'Lg3': {'energy (keV)': 19.5048, 'weight': 0.017},\n",
       "    'Ll': {'energy (keV)': 11.118, 'weight': 0.06709},\n",
       "    'Ln': {'energy (keV)': 14.5109, 'weight': 0.0134},\n",
       "    'M2N4': {'energy (keV)': 4.1163, 'weight': 0.00674},\n",
       "    'M3O4': {'energy (keV)': 3.9518, 'weight': 0.01},\n",
       "    'M3O5': {'energy (keV)': 3.9582, 'weight': 0.01},\n",
       "    'Ma': {'energy (keV)': 2.9968, 'weight': 1.0},\n",
       "    'Mb': {'energy (keV)': 3.1464, 'weight': 0.64124},\n",
       "    'Mg': {'energy (keV)': 3.3697, 'weight': 0.33505},\n",
       "    'Mz': {'energy (keV)': 2.3647, 'weight': 0.03512}}},\n",
       "  'General_properties': {'Z': 90,\n",
       "   'atomic_weight': 232.03806,\n",
       "   'name': 'thorium'},\n",
       "  'Physical_properties': {'density (g/cm^3)': 11.724}},\n",
       " 'Ti': {'Atomic_properties': {'Binding_energies': {'L1': {'factor': 1,\n",
       "     'filename': 'Ti.L1',\n",
       "     'onset_energy (eV)': 564.0,\n",
       "     'relevance': 'Minor'},\n",
       "    'L2': {'factor': 0.5,\n",
       "     'filename': 'Ti.L3',\n",
       "     'onset_energy (eV)': 462.0,\n",
       "     'relevance': 'Major'},\n",
       "    'L3': {'factor': 1,\n",
       "     'filename': 'Ti.L3',\n",
       "     'onset_energy (eV)': 456.0,\n",
       "     'relevance': 'Major'},\n",
       "    'M2': {'factor': 0.5,\n",
       "     'filename': 'Ti.M3',\n",
       "     'onset_energy (eV)': 47.0,\n",
       "     'relevance': 'Major'},\n",
       "    'M3': {'factor': 1,\n",
       "     'filename': 'Ti.M3',\n",
       "     'onset_energy (eV)': 47.0,\n",
       "     'relevance': 'Major'}},\n",
       "   'Xray_lines': {'Ka': {'energy (keV)': 4.5109, 'weight': 1.0},\n",
       "    'Kb': {'energy (keV)': 4.9318, 'weight': 0.11673},\n",
       "    'La': {'energy (keV)': 0.4555, 'weight': 0.694},\n",
       "    'Lb3': {'energy (keV)': 0.5291, 'weight': 0.166},\n",
       "    'Ll': {'energy (keV)': 0.3952, 'weight': 1.0},\n",
       "    'Ln': {'energy (keV)': 0.4012, 'weight': 0.491}}},\n",
       "  'General_properties': {'Z': 22, 'atomic_weight': 47.867, 'name': 'titanium'},\n",
       "  'Physical_properties': {'density (g/cm^3)': 4.507}},\n",
       " 'Tl': {'Atomic_properties': {'Binding_energies': {'M4': {'factor': 0.6666666666666666,\n",
       "     'filename': 'Tl.M5',\n",
       "     'onset_energy (eV)': 2485.0,\n",
       "     'relevance': 'Major'},\n",
       "    'M5': {'factor': 1,\n",
       "     'filename': 'Tl.M5',\n",
       "     'onset_energy (eV)': 2389.0,\n",
       "     'relevance': 'Major'}},\n",
       "   'Xray_lines': {'Ka': {'energy (keV)': 72.8729, 'weight': 1.0},\n",
       "    'Kb': {'energy (keV)': 82.5738, 'weight': 0.15},\n",
       "    'La': {'energy (keV)': 10.2682, 'weight': 1.0},\n",
       "    'Lb1': {'energy (keV)': 12.2128, 'weight': 0.39112},\n",
       "    'Lb2': {'energy (keV)': 12.2713, 'weight': 0.22289},\n",
       "    'Lb3': {'energy (keV)': 12.3901, 'weight': 0.0607},\n",
       "    'Lb4': {'energy (keV)': 11.931, 'weight': 0.05419},\n",
       "    'Lg1': {'energy (keV)': 14.2913, 'weight': 0.08304},\n",
       "    'Lg3': {'energy (keV)': 14.7377, 'weight': 0.0175},\n",
       "    'Ll': {'energy (keV)': 8.9534, 'weight': 0.0578},\n",
       "    'Ln': {'energy (keV)': 10.9938, 'weight': 0.0134},\n",
       "    'M2N4': {'energy (keV)': 3.0091, 'weight': 0.00863},\n",
       "    'M3O4': {'energy (keV)': 2.9413, 'weight': 0.005},\n",
       "    'M3O5': {'energy (keV)': 2.9435, 'weight': 0.01},\n",
       "    'Ma': {'energy (keV)': 2.2708, 'weight': 1.0},\n",
       "    'Mb': {'energy (keV)': 2.3623, 'weight': 0.64124},\n",
       "    'Mg': {'energy (keV)': 2.5704, 'weight': 0.21845},\n",
       "    'Mz': {'energy (keV)': 1.7803, 'weight': 0.0058}}},\n",
       "  'General_properties': {'Z': 81,\n",
       "   'atomic_weight': 204.3833,\n",
       "   'name': 'thallium'},\n",
       "  'Physical_properties': {'density (g/cm^3)': 11.85}},\n",
       " 'Tm': {'Atomic_properties': {'Binding_energies': {'M2': {'factor': 0.5,\n",
       "     'filename': 'Tm.M3',\n",
       "     'onset_energy (eV)': 2090.0,\n",
       "     'relevance': 'Minor'},\n",
       "    'M3': {'factor': 1,\n",
       "     'filename': 'Tm.M3',\n",
       "     'onset_energy (eV)': 1884.0,\n",
       "     'relevance': 'Minor'},\n",
       "    'M4': {'factor': 0.6666666666666666,\n",
       "     'filename': 'Tm.M5',\n",
       "     'onset_energy (eV)': 1515.0,\n",
       "     'relevance': 'Major'},\n",
       "    'M5': {'factor': 1,\n",
       "     'filename': 'Tm.M5',\n",
       "     'onset_energy (eV)': 1468.0,\n",
       "     'relevance': 'Major'},\n",
       "    'N4': {'factor': 0.6666666666666666,\n",
       "     'filename': 'Tm.N5',\n",
       "     'onset_energy (eV)': 177.0,\n",
       "     'relevance': 'Major'},\n",
       "    'N5': {'factor': 1,\n",
       "     'filename': 'Tm.N5',\n",
       "     'onset_energy (eV)': 177.0,\n",
       "     'relevance': 'Major'}},\n",
       "   'Xray_lines': {'Ka': {'energy (keV)': 50.7416, 'weight': 1.0},\n",
       "    'Kb': {'energy (keV)': 57.5051, 'weight': 0.15},\n",
       "    'La': {'energy (keV)': 7.1803, 'weight': 1.0},\n",
       "    'Lb1': {'energy (keV)': 8.1023, 'weight': 0.45831},\n",
       "    'Lb2': {'energy (keV)': 8.4684, 'weight': 0.20059},\n",
       "    'Lb3': {'energy (keV)': 8.2312, 'weight': 0.1273},\n",
       "    'Lb4': {'energy (keV)': 8.0259, 'weight': 0.09449},\n",
       "    'Lg1': {'energy (keV)': 9.4373, 'weight': 0.08615},\n",
       "    'Lg3': {'energy (keV)': 9.7791, 'weight': 0.0329},\n",
       "    'Ll': {'energy (keV)': 6.3412, 'weight': 0.04889},\n",
       "    'Ln': {'energy (keV)': 7.3101, 'weight': 0.0156},\n",
       "    'M2N4': {'energy (keV)': 1.9102, 'weight': 0.01},\n",
       "    'Ma': {'energy (keV)': 1.4624, 'weight': 1.0},\n",
       "    'Mb': {'energy (keV)': 1.5093, 'weight': 0.59443},\n",
       "    'Mg': {'energy (keV)': 1.7049, 'weight': 0.08505},\n",
       "    'Mz': {'energy (keV)': 1.1311, 'weight': 0.06}}},\n",
       "  'General_properties': {'Z': 69,\n",
       "   'atomic_weight': 168.93421,\n",
       "   'name': 'thulium'},\n",
       "  'Physical_properties': {'density (g/cm^3)': 9.321}},\n",
       " 'U': {'Atomic_properties': {'Binding_energies': {'M4': {'factor': 0.6666666666666666,\n",
       "     'filename': 'U.M5',\n",
       "     'onset_energy (eV)': 3728.0,\n",
       "     'relevance': 'Major'},\n",
       "    'M5': {'factor': 1,\n",
       "     'filename': 'U.M5',\n",
       "     'onset_energy (eV)': 3552.0,\n",
       "     'relevance': 'Major'},\n",
       "    'O4': {'factor': 0.6666666666666666,\n",
       "     'filename': 'U.O5',\n",
       "     'onset_energy (eV)': 96.0,\n",
       "     'relevance': 'Major'},\n",
       "    'O5': {'factor': 1,\n",
       "     'filename': 'U.O5',\n",
       "     'onset_energy (eV)': 96.0,\n",
       "     'relevance': 'Major'}},\n",
       "   'Xray_lines': {'Ka': {'energy (keV)': 98.4397, 'weight': 1.0},\n",
       "    'Kb': {'energy (keV)': 111.3026, 'weight': 0.15},\n",
       "    'La': {'energy (keV)': 13.6146, 'weight': 1.0},\n",
       "    'Lb1': {'energy (keV)': 17.22, 'weight': 0.4},\n",
       "    'Lb2': {'energy (keV)': 16.4286, 'weight': 0.236},\n",
       "    'Lb3': {'energy (keV)': 17.454, 'weight': 0.06},\n",
       "    'Lb4': {'energy (keV)': 16.5752, 'weight': 0.04},\n",
       "    'Lg1': {'energy (keV)': 20.1672, 'weight': 0.08},\n",
       "    'Lg3': {'energy (keV)': 20.7125, 'weight': 0.017},\n",
       "    'Ll': {'energy (keV)': 11.6183, 'weight': 0.069},\n",
       "    'Ln': {'energy (keV)': 15.3996, 'weight': 0.01199},\n",
       "    'M2N4': {'energy (keV)': 4.4018, 'weight': 0.00674},\n",
       "    'M3O4': {'energy (keV)': 4.1984, 'weight': 0.01},\n",
       "    'M3O5': {'energy (keV)': 4.2071, 'weight': 0.01},\n",
       "    'Ma': {'energy (keV)': 3.1708, 'weight': 1.0},\n",
       "    'Mb': {'energy (keV)': 3.3363, 'weight': 0.6086},\n",
       "    'Mg': {'energy (keV)': 3.5657, 'weight': 0.33505},\n",
       "    'Mz': {'energy (keV)': 2.5068, 'weight': 0.03512}}},\n",
       "  'General_properties': {'Z': 92,\n",
       "   'atomic_weight': 238.02891,\n",
       "   'name': 'uranium'},\n",
       "  'Physical_properties': {'density (g/cm^3)': 19.05}},\n",
       " 'V': {'Atomic_properties': {'Binding_energies': {'L1': {'factor': 1,\n",
       "     'filename': 'V.L1',\n",
       "     'onset_energy (eV)': 628.0,\n",
       "     'relevance': 'Minor'},\n",
       "    'L2': {'factor': 0.5,\n",
       "     'filename': 'V.L3',\n",
       "     'onset_energy (eV)': 521.0,\n",
       "     'relevance': 'Major'},\n",
       "    'L3': {'factor': 1,\n",
       "     'filename': 'V.L3',\n",
       "     'onset_energy (eV)': 513.0,\n",
       "     'relevance': 'Major'},\n",
       "    'M2': {'factor': 0.5,\n",
       "     'filename': 'V.M3',\n",
       "     'onset_energy (eV)': 47.0,\n",
       "     'relevance': 'Major'},\n",
       "    'M3': {'factor': 1,\n",
       "     'filename': 'V.M3',\n",
       "     'onset_energy (eV)': 47.0,\n",
       "     'relevance': 'Major'}},\n",
       "   'Xray_lines': {'Ka': {'energy (keV)': 4.9522, 'weight': 1.0},\n",
       "    'Kb': {'energy (keV)': 5.4273, 'weight': 0.1225},\n",
       "    'La': {'energy (keV)': 0.5129, 'weight': 1.0},\n",
       "    'Lb3': {'energy (keV)': 0.5904, 'weight': 0.0154},\n",
       "    'Ll': {'energy (keV)': 0.4464, 'weight': 0.5745},\n",
       "    'Ln': {'energy (keV)': 0.454, 'weight': 0.2805}}},\n",
       "  'General_properties': {'Z': 23,\n",
       "   'atomic_weight': 50.9415,\n",
       "   'name': 'vanadium'},\n",
       "  'Physical_properties': {'density (g/cm^3)': 6.11}},\n",
       " 'W': {'Atomic_properties': {'Binding_energies': {'M4': {'factor': 0.6666666666666666,\n",
       "     'filename': 'W.M5',\n",
       "     'onset_energy (eV)': 1872.0,\n",
       "     'relevance': 'Major'},\n",
       "    'M5': {'factor': 1,\n",
       "     'filename': 'W.M5',\n",
       "     'onset_energy (eV)': 1809.0,\n",
       "     'relevance': 'Major'}},\n",
       "   'Xray_lines': {'Ka': {'energy (keV)': 59.3182, 'weight': 1.0},\n",
       "    'Kb': {'energy (keV)': 67.244, 'weight': 0.15},\n",
       "    'La': {'energy (keV)': 8.3976, 'weight': 1.0},\n",
       "    'Lb1': {'energy (keV)': 9.6724, 'weight': 0.3679},\n",
       "    'Lb2': {'energy (keV)': 9.9614, 'weight': 0.21385},\n",
       "    'Lb3': {'energy (keV)': 9.8188, 'weight': 0.07077},\n",
       "    'Lb4': {'energy (keV)': 9.5249, 'weight': 0.05649},\n",
       "    'Lg1': {'energy (keV)': 11.2852, 'weight': 0.05658},\n",
       "    'Lg3': {'energy (keV)': 11.6745, 'weight': 0.0362},\n",
       "    'Ll': {'energy (keV)': 7.3872, 'weight': 0.04169},\n",
       "    'Ln': {'energy (keV)': 8.7244, 'weight': 0.01155},\n",
       "    'M2N4': {'energy (keV)': 2.3161, 'weight': 0.01},\n",
       "    'M3O4': {'energy (keV)': 2.2749, 'weight': 0.001},\n",
       "    'M3O5': {'energy (keV)': 2.281, 'weight': 0.01},\n",
       "    'Ma': {'energy (keV)': 1.7756, 'weight': 1.0},\n",
       "    'Mb': {'energy (keV)': 1.8351, 'weight': 0.59443},\n",
       "    'Mg': {'energy (keV)': 2.0356, 'weight': 0.08505},\n",
       "    'Mz': {'energy (keV)': 1.3839, 'weight': 0.01344}}},\n",
       "  'General_properties': {'Z': 74, 'atomic_weight': 183.84, 'name': 'tungsten'},\n",
       "  'Physical_properties': {'density (g/cm^3)': 19.25}},\n",
       " 'Xe': {'Atomic_properties': {'Binding_energies': {'M4': {'factor': 0.6666666666666666,\n",
       "     'filename': 'Xe.M5',\n",
       "     'onset_energy (eV)': 685.0,\n",
       "     'relevance': 'Major'},\n",
       "    'M5': {'factor': 1,\n",
       "     'filename': 'Xe.M5',\n",
       "     'onset_energy (eV)': 672.0,\n",
       "     'relevance': 'Major'}},\n",
       "   'Xray_lines': {'Ka': {'energy (keV)': 29.7792, 'weight': 1.0},\n",
       "    'Kb': {'energy (keV)': 33.6244, 'weight': 0.15},\n",
       "    'La': {'energy (keV)': 4.1099, 'weight': 1.0},\n",
       "    'Lb1': {'energy (keV)': 4.4183, 'weight': 0.42248},\n",
       "    'Lb2': {'energy (keV)': 4.7182, 'weight': 0.17699},\n",
       "    'Lb3': {'energy (keV)': 4.5158, 'weight': 0.14119},\n",
       "    'Lb4': {'energy (keV)': 4.4538, 'weight': 0.08929},\n",
       "    'Lg1': {'energy (keV)': 5.0397, 'weight': 0.06848},\n",
       "    'Lg3': {'energy (keV)': 5.3061, 'weight': 0.0323},\n",
       "    'Ll': {'energy (keV)': 3.6376, 'weight': 0.0424},\n",
       "    'Ln': {'energy (keV)': 3.9591, 'weight': 0.015}}},\n",
       "  'General_properties': {'Z': 54, 'atomic_weight': 131.293, 'name': 'xenon'},\n",
       "  'Physical_properties': {'density (g/cm^3)': 0.0059}},\n",
       " 'Y': {'Atomic_properties': {'Binding_energies': {'L1': {'factor': 1,\n",
       "     'filename': 'Y.L1',\n",
       "     'onset_energy (eV)': 2372.0,\n",
       "     'relevance': 'Minor'},\n",
       "    'L2': {'factor': 0.5,\n",
       "     'filename': 'Y.L3',\n",
       "     'onset_energy (eV)': 2155.0,\n",
       "     'relevance': 'Major'},\n",
       "    'L3': {'factor': 1,\n",
       "     'filename': 'Y.L3',\n",
       "     'onset_energy (eV)': 2080.0,\n",
       "     'relevance': 'Major'},\n",
       "    'M2': {'factor': 0.5,\n",
       "     'filename': 'Y.M3',\n",
       "     'onset_energy (eV)': 312.0,\n",
       "     'relevance': 'Minor'},\n",
       "    'M3': {'factor': 1,\n",
       "     'filename': 'Y.M3',\n",
       "     'onset_energy (eV)': 300.0,\n",
       "     'relevance': 'Minor'},\n",
       "    'M4': {'factor': 0.6666666666666666,\n",
       "     'filename': 'Y.M5',\n",
       "     'onset_energy (eV)': 160.0,\n",
       "     'relevance': 'Major'},\n",
       "    'M5': {'factor': 1,\n",
       "     'filename': 'Y.M5',\n",
       "     'onset_energy (eV)': 160.0,\n",
       "     'relevance': 'Major'}},\n",
       "   'Xray_lines': {'Ka': {'energy (keV)': 14.9584, 'weight': 1.0},\n",
       "    'Kb': {'energy (keV)': 16.7381, 'weight': 0.15},\n",
       "    'La': {'energy (keV)': 1.9226, 'weight': 1.0},\n",
       "    'Lb1': {'energy (keV)': 1.9959, 'weight': 0.39127},\n",
       "    'Lb2': {'energy (keV)': 2.08, 'weight': 0.00739},\n",
       "    'Lb3': {'energy (keV)': 2.0722, 'weight': 0.05059},\n",
       "    'Lg1': {'energy (keV)': 2.1555, 'weight': 0.00264},\n",
       "    'Lg3': {'energy (keV)': 2.3469, 'weight': 0.0075},\n",
       "    'Ll': {'energy (keV)': 1.6864, 'weight': 0.0428},\n",
       "    'Ln': {'energy (keV)': 1.7619, 'weight': 0.0162}}},\n",
       "  'General_properties': {'Z': 39,\n",
       "   'atomic_weight': 88.90585,\n",
       "   'name': 'yttrium'},\n",
       "  'Physical_properties': {'density (g/cm^3)': 4.472}},\n",
       " 'Yb': {'Atomic_properties': {'Binding_energies': {'M2': {'factor': 0.5,\n",
       "     'filename': 'Yb.M3',\n",
       "     'onset_energy (eV)': 2173.0,\n",
       "     'relevance': 'Minor'},\n",
       "    'M3': {'factor': 1,\n",
       "     'filename': 'Yb.M3',\n",
       "     'onset_energy (eV)': 1950.0,\n",
       "     'relevance': 'Minor'},\n",
       "    'M4': {'factor': 0.6666666666666666,\n",
       "     'filename': 'Yb.M5',\n",
       "     'onset_energy (eV)': 1576.0,\n",
       "     'relevance': 'Major'},\n",
       "    'M5': {'factor': 1,\n",
       "     'filename': 'Yb.M5',\n",
       "     'onset_energy (eV)': 1528.0,\n",
       "     'relevance': 'Major'},\n",
       "    'N4': {'factor': 0.6666666666666666,\n",
       "     'filename': 'Yb.N5',\n",
       "     'onset_energy (eV)': 184.0,\n",
       "     'relevance': 'Major'},\n",
       "    'N5': {'factor': 1,\n",
       "     'filename': 'Yb.N5',\n",
       "     'onset_energy (eV)': 184.0,\n",
       "     'relevance': 'Major'}},\n",
       "   'Xray_lines': {'Ka': {'energy (keV)': 52.3887, 'weight': 1.0},\n",
       "    'Kb': {'energy (keV)': 59.3825, 'weight': 0.15},\n",
       "    'La': {'energy (keV)': 7.4158, 'weight': 1.0},\n",
       "    'Lb1': {'energy (keV)': 8.4019, 'weight': 0.46224},\n",
       "    'Lb2': {'energy (keV)': 8.7587, 'weight': 0.2017},\n",
       "    'Lb3': {'energy (keV)': 8.5366, 'weight': 0.12789},\n",
       "    'Lb4': {'energy (keV)': 8.3134, 'weight': 0.09589},\n",
       "    'Lg1': {'energy (keV)': 9.7801, 'weight': 0.08728},\n",
       "    'Lg3': {'energy (keV)': 10.1429, 'weight': 0.0331},\n",
       "    'Ll': {'energy (keV)': 6.5455, 'weight': 0.0494},\n",
       "    'Ln': {'energy (keV)': 7.5801, 'weight': 0.0157},\n",
       "    'M2N4': {'energy (keV)': 1.9749, 'weight': 0.01},\n",
       "    'Ma': {'energy (keV)': 1.5215, 'weight': 1.0},\n",
       "    'Mb': {'energy (keV)': 1.57, 'weight': 0.59443},\n",
       "    'Mg': {'energy (keV)': 1.7649, 'weight': 0.08505},\n",
       "    'Mz': {'energy (keV)': 1.1843, 'weight': 0.06}}},\n",
       "  'General_properties': {'Z': 70,\n",
       "   'atomic_weight': 173.054,\n",
       "   'name': 'ytterbium'},\n",
       "  'Physical_properties': {'density (g/cm^3)': 6.57}},\n",
       " 'Zn': {'Atomic_properties': {'Binding_energies': {'L1': {'factor': 1,\n",
       "     'filename': 'Zn.L1',\n",
       "     'onset_energy (eV)': 1194.0,\n",
       "     'relevance': 'Minor'},\n",
       "    'L2': {'factor': 0.5,\n",
       "     'filename': 'Zn.L3',\n",
       "     'onset_energy (eV)': 1043.0,\n",
       "     'relevance': 'Major'},\n",
       "    'L3': {'factor': 1,\n",
       "     'filename': 'Zn.L3',\n",
       "     'onset_energy (eV)': 1020.0,\n",
       "     'relevance': 'Major'},\n",
       "    'M2': {'factor': 0.5,\n",
       "     'filename': 'Zn.M3',\n",
       "     'onset_energy (eV)': 87.0,\n",
       "     'relevance': 'Minor'},\n",
       "    'M3': {'factor': 1,\n",
       "     'filename': 'Zn.M3',\n",
       "     'onset_energy (eV)': 87.0,\n",
       "     'relevance': 'Minor'}},\n",
       "   'Xray_lines': {'Ka': {'energy (keV)': 8.6389, 'weight': 1.0},\n",
       "    'Kb': {'energy (keV)': 9.572, 'weight': 0.12605},\n",
       "    'La': {'energy (keV)': 1.0116, 'weight': 1.0},\n",
       "    'Lb1': {'energy (keV)': 1.0347, 'weight': 0.1679},\n",
       "    'Lb3': {'energy (keV)': 1.107, 'weight': 0.002},\n",
       "    'Ll': {'energy (keV)': 0.8838, 'weight': 0.0603},\n",
       "    'Ln': {'energy (keV)': 0.9069, 'weight': 0.0368}}},\n",
       "  'General_properties': {'Z': 30, 'atomic_weight': 65.38, 'name': 'zinc'},\n",
       "  'Physical_properties': {'density (g/cm^3)': 7.14}},\n",
       " 'Zr': {'Atomic_properties': {'Binding_energies': {'L1': {'factor': 1,\n",
       "     'filename': 'Zr.L1',\n",
       "     'onset_energy (eV)': 2532.0,\n",
       "     'relevance': 'Minor'},\n",
       "    'L2': {'factor': 0.5,\n",
       "     'filename': 'Zr.L3',\n",
       "     'onset_energy (eV)': 2307.0,\n",
       "     'relevance': 'Major'},\n",
       "    'L3': {'factor': 1,\n",
       "     'filename': 'Zr.L3',\n",
       "     'onset_energy (eV)': 2222.0,\n",
       "     'relevance': 'Major'},\n",
       "    'M2': {'factor': 0.5,\n",
       "     'filename': 'Zr.M3',\n",
       "     'onset_energy (eV)': 344.0,\n",
       "     'relevance': 'Minor'},\n",
       "    'M3': {'factor': 1,\n",
       "     'filename': 'Zr.M3',\n",
       "     'onset_energy (eV)': 330.0,\n",
       "     'relevance': 'Minor'},\n",
       "    'M4': {'factor': 0.6666666666666666,\n",
       "     'filename': 'Zr.M5',\n",
       "     'onset_energy (eV)': 181.0,\n",
       "     'relevance': 'Major'},\n",
       "    'M5': {'factor': 1,\n",
       "     'filename': 'Zr.M5',\n",
       "     'onset_energy (eV)': 181.0,\n",
       "     'relevance': 'Major'}},\n",
       "   'Xray_lines': {'Ka': {'energy (keV)': 15.7753, 'weight': 1.0},\n",
       "    'Kb': {'energy (keV)': 17.6671, 'weight': 0.15},\n",
       "    'La': {'energy (keV)': 2.0423, 'weight': 1.0},\n",
       "    'Lb1': {'energy (keV)': 2.1243, 'weight': 0.37912},\n",
       "    'Lb2': {'energy (keV)': 2.2223, 'weight': 0.0177},\n",
       "    'Lb3': {'energy (keV)': 2.2011, 'weight': 0.05219},\n",
       "    'Lg1': {'energy (keV)': 2.30268, 'weight': 0.006},\n",
       "    'Lg3': {'energy (keV)': 2.5029, 'weight': 0.0082},\n",
       "    'Ll': {'energy (keV)': 1.792, 'weight': 0.04209},\n",
       "    'Ln': {'energy (keV)': 1.8764, 'weight': 0.0153}}},\n",
       "  'General_properties': {'Z': 40,\n",
       "   'atomic_weight': 91.224,\n",
       "   'name': 'zirconium'},\n",
       "  'Physical_properties': {'density (g/cm^3)': 6.511}}}"
      ]
     },
     "execution_count": 2,
     "metadata": {},
     "output_type": "execute_result"
    }
   ],
   "source": [
    "xu.elements"
   ]
  },
  {
   "cell_type": "code",
   "execution_count": 36,
   "metadata": {
    "collapsed": false
   },
   "outputs": [
    {
     "data": {
      "text/plain": [
       "['Ka', 1.041, 0.5032900647190275]"
      ]
     },
     "execution_count": 36,
     "metadata": {},
     "output_type": "execute_result"
    }
   ],
   "source": [
    "\n",
    "max(xu.xray_lines_for_plot('Na'), key=lambda x: x[2])"
   ]
  },
  {
   "cell_type": "code",
   "execution_count": 39,
   "metadata": {
    "collapsed": false
   },
   "outputs": [
    {
     "data": {
      "text/plain": [
       "[['Ka', 1.041, 0.5032900647190275]]"
      ]
     },
     "execution_count": 39,
     "metadata": {},
     "output_type": "execute_result"
    }
   ],
   "source": [
    "list(filter(lambda x: x[2] > 0.5, xu.xray_lines_for_plot('Na')))"
   ]
  },
  {
   "cell_type": "code",
   "execution_count": 11,
   "metadata": {
    "collapsed": false
   },
   "outputs": [
    {
     "data": {
      "text/plain": [
       "{'show_hex_on_color': True, 'toolbar_icon_size': None}"
      ]
     },
     "execution_count": 11,
     "metadata": {},
     "output_type": "execute_result"
    }
   ],
   "source": [
    "gui_config"
   ]
  },
  {
   "cell_type": "code",
   "execution_count": 5,
   "metadata": {
    "collapsed": false
   },
   "outputs": [],
   "source": [
    "from gui import spectrum_widget_Qt5 as swidget"
   ]
  },
  {
   "cell_type": "code",
   "execution_count": 6,
   "metadata": {
    "collapsed": false
   },
   "outputs": [],
   "source": [
    "thing1 = swidget.EDSSpectraGUI(icon_size=24)"
   ]
  },
  {
   "cell_type": "code",
   "execution_count": 8,
   "metadata": {
    "collapsed": false
   },
   "outputs": [],
   "source": [
    "thing1.show()"
   ]
  },
  {
   "cell_type": "code",
   "execution_count": 28,
   "metadata": {
    "collapsed": false
   },
   "outputs": [
    {
     "name": "stdout",
     "output_type": "stream",
     "text": [
      "Tc\n",
      "Rh\n"
     ]
    }
   ],
   "source": [
    "thing1.pet.enableElement.connect(kuku)"
   ]
  },
  {
   "cell_type": "code",
   "execution_count": 26,
   "metadata": {
    "collapsed": true
   },
   "outputs": [],
   "source": [
    "def kuku(stringy):\n",
    "    print(stringy)"
   ]
  },
  {
   "cell_type": "code",
   "execution_count": 9,
   "metadata": {
    "collapsed": true
   },
   "outputs": [],
   "source": [
    "thing2 = swidget.EDSSpectraGUI(icon_size=16,pet_opacity=0.9)"
   ]
  },
  {
   "cell_type": "code",
   "execution_count": 27,
   "metadata": {
    "collapsed": false
   },
   "outputs": [],
   "source": [
    "thing2.pet.setParent(None)"
   ]
  },
  {
   "cell_type": "code",
   "execution_count": 10,
   "metadata": {
    "collapsed": true
   },
   "outputs": [],
   "source": [
    "thing2.show()"
   ]
  },
  {
   "cell_type": "code",
   "execution_count": 29,
   "metadata": {
    "collapsed": false
   },
   "outputs": [],
   "source": [
    "thing2.pet.setMinimumWidth(thing2.pet.horizontalHeader().length()+10)"
   ]
  },
  {
   "cell_type": "code",
   "execution_count": 19,
   "metadata": {
    "collapsed": false
   },
   "outputs": [
    {
     "data": {
      "text/plain": [
       "PyQt4.QtCore.QRect(0, 26, 699, 216)"
      ]
     },
     "execution_count": 19,
     "metadata": {},
     "output_type": "execute_result"
    }
   ],
   "source": [
    "thing1.setGeometry()"
   ]
  },
  {
   "cell_type": "code",
   "execution_count": 8,
   "metadata": {
    "collapsed": true
   },
   "outputs": [],
   "source": [
    "import os"
   ]
  },
  {
   "cell_type": "code",
   "execution_count": 8,
   "metadata": {
    "collapsed": false
   },
   "outputs": [],
   "source": [
    "from PyQt4 import QtCore, QtGui"
   ]
  },
  {
   "cell_type": "code",
   "execution_count": 9,
   "metadata": {
    "collapsed": false
   },
   "outputs": [],
   "source": [
    "import pyqtgraph as pg"
   ]
  },
  {
   "cell_type": "code",
   "execution_count": 10,
   "metadata": {
    "collapsed": false
   },
   "outputs": [],
   "source": [
    "w = QtGui.QMainWindow()\n",
    "cw = QtGui.QSplitter(QtCore.Qt.Vertical, w)\n",
    "w.setCentralWidget(cw)"
   ]
  },
  {
   "cell_type": "code",
   "execution_count": 15,
   "metadata": {
    "collapsed": false
   },
   "outputs": [],
   "source": [
    "cw.addWidget(QtGui.QPushButton())"
   ]
  },
  {
   "cell_type": "code",
   "execution_count": 14,
   "metadata": {
    "collapsed": true
   },
   "outputs": [],
   "source": [
    "cw.addWidget(thing1)"
   ]
  },
  {
   "cell_type": "code",
   "execution_count": 16,
   "metadata": {
    "collapsed": false
   },
   "outputs": [],
   "source": [
    "w.show()"
   ]
  },
  {
   "cell_type": "code",
   "execution_count": 35,
   "metadata": {
    "collapsed": false
   },
   "outputs": [
    {
     "data": {
      "text/plain": [
       "True"
      ]
     },
     "execution_count": 35,
     "metadata": {},
     "output_type": "execute_result"
    }
   ],
   "source": [
    "but.close()"
   ]
  },
  {
   "cell_type": "code",
   "execution_count": 17,
   "metadata": {
    "collapsed": true
   },
   "outputs": [],
   "source": [
    "w.show()"
   ]
  },
  {
   "cell_type": "code",
   "execution_count": 9,
   "metadata": {
    "collapsed": true
   },
   "outputs": [],
   "source": [
    "import numpy as np"
   ]
  },
  {
   "cell_type": "code",
   "execution_count": 2,
   "metadata": {
    "collapsed": false
   },
   "outputs": [],
   "source": [
    "item1 = pg.PlotCurveItem(clickable=True)"
   ]
  },
  {
   "cell_type": "code",
   "execution_count": 10,
   "metadata": {
    "collapsed": false
   },
   "outputs": [],
   "source": [
    "x = np.arange(-0.24,10,0.01)\n",
    "y = x * np.random.random(1024)"
   ]
  },
  {
   "cell_type": "code",
   "execution_count": 11,
   "metadata": {
    "collapsed": false
   },
   "outputs": [],
   "source": [
    "item1.setData(x, y, name='Thingy5')"
   ]
  },
  {
   "cell_type": "code",
   "execution_count": 110,
   "metadata": {
    "collapsed": false
   },
   "outputs": [],
   "source": [
    "thing.canvas.p1.addItem(item1)"
   ]
  },
  {
   "cell_type": "code",
   "execution_count": 146,
   "metadata": {
    "collapsed": false
   },
   "outputs": [],
   "source": [
    "class EDXListModel(QtCore.QAbstractTableModel):\n",
    "    def __init__(self, spectras=[[]], headers=['spectras','color'], parent=None):\n",
    "        QtCore.QAbstractTableModel.__init__(self, parent)\n",
    "        self._spectras = spectras\n",
    "        self._headers = headers\n",
    "    \n",
    "    def headerData(self, section, orientation, role):\n",
    "        \n",
    "        if role == QtCore.Qt.DisplayRole:\n",
    "            \n",
    "            if orientation == QtCore.Qt.Horizontal:\n",
    "                return self._headers[section]\n",
    "    \n",
    "    def rowCount(self, parent):\n",
    "        return len(self._spectras)\n",
    "    \n",
    "    def columnCount(self, parent):\n",
    "        return len(self._spectras[0])+1\n",
    "    \n",
    "    def data(self, index, role):\n",
    "        row = index.row()\n",
    "        column = index.column()\n",
    "        if column == 0:\n",
    "            if role == QtCore.Qt.EditRole:\n",
    "                if column == 0:\n",
    "                    return self._spectras[row][0].name()\n",
    "                elif column == 1:\n",
    "                    return self._spectras[row][0].opts['pen'].color()\n",
    "            \n",
    "        if role == QtCore.Qt.BackgroundRole:\n",
    "            if column == 1:\n",
    "                return QtGui.QBrush(self._spectras[row][0].opts['pen'].color())\n",
    "\n",
    "        if role == QtCore.Qt.DisplayRole:\n",
    "            if column == 0:\n",
    "                return self._spectras[row][0].name()\n",
    "            elif column == 1 and gui_config['show_hex_on_color']:\n",
    "                return self._spectras[row][0].opts['pen'].color()\n",
    "            else:\n",
    "                return self._spectras[row][column-1]\n",
    "            \n",
    "        \n",
    "    def flags(self, index):\n",
    "        if index.column() == 0:\n",
    "            return QtCore.Qt.ItemIsEnabled | QtCore.Qt.ItemIsEditable | QtCore.Qt.ItemIsSelectable\n",
    "        elif index.column() == 1:\n",
    "            return QtCore.Qt.ItemIsEnabled | QtCore.Qt.ItemIsEditable\n",
    "        else:\n",
    "            return QtCore.Qt.ItemIsEnabled\n",
    "        \n",
    "    def setData(self, index, value, role = QtCore.Qt.EditRole):\n",
    "        if role == QtCore.Qt.EditRole:\n",
    "            try:\n",
    "                row = index.row()\n",
    "                column= index.column()\n",
    "                if column == 0:\n",
    "                    self._spectras[row][0].opts['name'] = value\n",
    "                    self._spectras[row][0].setToolTip(value)\n",
    "                elif column == 1:\n",
    "                    self._spectras[row][0].opts['pen'].setColor(pg.mkColor(value))\n",
    "                    self._spectras[row][0].update()\n",
    "                else:\n",
    "                    self._spectras[row][column-1] = value\n",
    "                self.dataChanged.emit(index, index)\n",
    "                return True\n",
    "            except:\n",
    "                return False\n",
    "        return False\n",
    "    \n",
    "    def insertRows(self, position, rows, parent=QtCore.QModelIndex()):\n",
    "        \n",
    "        self.beginInsertRows(parent, position,\n",
    "                             position + rows - 1)\n",
    "        \n",
    "        column_count = len(self._spectras[0])\n",
    "        \n",
    "        for i in range(rows):\n",
    "            self._spectras.insert(position, [pg.PlotCurveItem(name='new')])\n",
    "            for j in range(column_count-1):\n",
    "                self._spectras[position].insert(j+1, 0.0)\n",
    "        \n",
    "        self.endInsertRows()\n",
    "        \n",
    "        return True\n",
    "    \n",
    "    def removeRows(self, position, rows, parent=QtCore.QModelIndex()):\n",
    "        self.beginRemoveRows(parent, position,\n",
    "                             position + rows - 1)\n",
    "        \n",
    "        for i in range(rows):\n",
    "            value = self._spectras[position]\n",
    "            self._spectras.remove(value)\n",
    "        \n",
    "        self.endRemoveRows()\n",
    "        \n",
    "        return True\n",
    "    \n",
    "    def insertColumns(self, position, columns, parent = QtCore.QModelIndex(), headers=[]):\n",
    "        self.beginInsertColumns(parent, position, position + columns -1)\n",
    "        \n",
    "        row_count = len(self._spectras)\n",
    "        \n",
    "        for i in range(columns):\n",
    "            self._headers.insert(position, headers[i])\n",
    "            for j in range(row_count):\n",
    "                self._spectras[j].insert(position, 0.0)\n",
    "                \n",
    "        self.endInsertColumns()\n",
    "        \n",
    "        return True\n",
    "    \n",
    "    def removeColumns(self, position, columns, parent=QtCore.QModelIndex()):\n",
    "        self.beginRemoveColumns(parent, position,\n",
    "                             position + columns - 1)\n",
    "        \n",
    "        row_count = len(self._spectras)\n",
    "        \n",
    "        for j in range(columns):\n",
    "            self._headers.remove(self._headers[position])\n",
    "            for i in range(row_count):\n",
    "                value = self._spectras[i][position]\n",
    "                self._spectras[i].remove(value)\n",
    "        \n",
    "        self.endRemoveColumns()\n",
    "        \n",
    "        return True"
   ]
  },
  {
   "cell_type": "code",
   "execution_count": null,
   "metadata": {
    "collapsed": true
   },
   "outputs": [],
   "source": [
    "GenericEDSItem(object):\n",
    "    def __init__(self, stuff):\n",
    "        self.eds_spectra = None\n",
    "        self.\n",
    "        "
   ]
  },
  {
   "cell_type": "code",
   "execution_count": 147,
   "metadata": {
    "collapsed": false
   },
   "outputs": [],
   "source": [
    "model = EDXListModel(spectras=[[item1]])"
   ]
  },
  {
   "cell_type": "code",
   "execution_count": 148,
   "metadata": {
    "collapsed": false
   },
   "outputs": [],
   "source": [
    "thing.spectra_list.setModel(model)\n",
    "#listView.setModel(model)\n",
    "tableView.setModel(model)"
   ]
  },
  {
   "cell_type": "code",
   "execution_count": 104,
   "metadata": {
    "collapsed": true
   },
   "outputs": [],
   "source": [
    "tableView = QtGui.QTableView()\n",
    "tableView.show()"
   ]
  },
  {
   "cell_type": "code",
   "execution_count": 123,
   "metadata": {
    "collapsed": false
   },
   "outputs": [],
   "source": [
    "itemthing = model._spectras[0][0]"
   ]
  },
  {
   "cell_type": "code",
   "execution_count": null,
   "metadata": {
    "collapsed": true
   },
   "outputs": [],
   "source": [
    "item1.update()"
   ]
  },
  {
   "cell_type": "code",
   "execution_count": 145,
   "metadata": {
    "collapsed": false
   },
   "outputs": [],
   "source": [
    "parentio = item1.parentItem()\n",
    "parentio.update()"
   ]
  },
  {
   "cell_type": "code",
   "execution_count": 144,
   "metadata": {
    "collapsed": false
   },
   "outputs": [],
   "source": [
    "parpar = parentio.parentItem()\n",
    "parpar.update()"
   ]
  },
  {
   "cell_type": "code",
   "execution_count": 146,
   "metadata": {
    "collapsed": false
   },
   "outputs": [],
   "source": [
    "item1.show()"
   ]
  },
  {
   "cell_type": "code",
   "execution_count": 135,
   "metadata": {
    "collapsed": false,
    "scrolled": true
   },
   "outputs": [
    {
     "data": {
      "text/plain": [
       "PyQt4.QtCore.QRectF(-0.24, -0.20359824149171718, 10.23000000000001, 9.747530133175472)"
      ]
     },
     "execution_count": 135,
     "metadata": {},
     "output_type": "execute_result"
    }
   ],
   "source": [
    "hh.boundingRect()"
   ]
  },
  {
   "cell_type": "code",
   "execution_count": 186,
   "metadata": {
    "collapsed": false
   },
   "outputs": [
    {
     "data": {
      "text/plain": [
       "True"
      ]
     },
     "execution_count": 186,
     "metadata": {},
     "output_type": "execute_result"
    }
   ],
   "source": [
    "model.insertColumns(1, 1, headers=['af4b4'])"
   ]
  },
  {
   "cell_type": "code",
   "execution_count": 101,
   "metadata": {
    "collapsed": false
   },
   "outputs": [
    {
     "data": {
      "text/plain": [
       "True"
      ]
     },
     "execution_count": 101,
     "metadata": {},
     "output_type": "execute_result"
    }
   ],
   "source": [
    "model.insertRows(1,5)"
   ]
  },
  {
   "cell_type": "code",
   "execution_count": 188,
   "metadata": {
    "collapsed": false
   },
   "outputs": [
    {
     "data": {
      "text/plain": [
       "True"
      ]
     },
     "execution_count": 188,
     "metadata": {},
     "output_type": "execute_result"
    }
   ],
   "source": [
    "model.removeColumns(1, 2)"
   ]
  },
  {
   "cell_type": "code",
   "execution_count": 216,
   "metadata": {
    "collapsed": false
   },
   "outputs": [],
   "source": [
    "pg.PlotCurveItem??"
   ]
  },
  {
   "cell_type": "code",
   "execution_count": 238,
   "metadata": {
    "collapsed": false
   },
   "outputs": [],
   "source": [
    "pen = item1.opts['pen']"
   ]
  },
  {
   "cell_type": "code",
   "execution_count": 248,
   "metadata": {
    "collapsed": false
   },
   "outputs": [],
   "source": [
    "pen.setColor(QtCore.Qt.red)"
   ]
  },
  {
   "cell_type": "code",
   "execution_count": 237,
   "metadata": {
    "collapsed": true
   },
   "outputs": [],
   "source": [
    "pixmap = QtGui.QPixmap(26, 26)\n"
   ]
  },
  {
   "cell_type": "code",
   "execution_count": 241,
   "metadata": {
    "collapsed": true
   },
   "outputs": [],
   "source": [
    "pixmap.fill(pen.color())"
   ]
  },
  {
   "cell_type": "code",
   "execution_count": 255,
   "metadata": {
    "collapsed": false
   },
   "outputs": [],
   "source": [
    "item1.setToolTip"
   ]
  },
  {
   "cell_type": "code",
   "execution_count": 130,
   "metadata": {
    "collapsed": false
   },
   "outputs": [
    {
     "data": {
      "text/plain": [
       "True"
      ]
     },
     "execution_count": 130,
     "metadata": {},
     "output_type": "execute_result"
    }
   ],
   "source": [
    "model.insertRows(1, 5)"
   ]
  },
  {
   "cell_type": "code",
   "execution_count": 136,
   "metadata": {
    "collapsed": false
   },
   "outputs": [
    {
     "ename": "NameError",
     "evalue": "name 'rows' is not defined",
     "output_type": "error",
     "traceback": [
      "\u001b[1;31m---------------------------------------------------------------------------\u001b[0m",
      "\u001b[1;31mNameError\u001b[0m                                 Traceback (most recent call last)",
      "\u001b[1;32m<ipython-input-121-e466f3df3453>\u001b[0m in \u001b[0;36mremoveColumns\u001b[1;34m(self, position, columns, parent)\u001b[0m\n\u001b[0;32m    113\u001b[0m         \u001b[0mrow_count\u001b[0m \u001b[1;33m=\u001b[0m \u001b[0mlen\u001b[0m\u001b[1;33m(\u001b[0m\u001b[0mself\u001b[0m\u001b[1;33m.\u001b[0m\u001b[0m_spectras\u001b[0m\u001b[1;33m)\u001b[0m\u001b[1;33m\u001b[0m\u001b[0m\n\u001b[0;32m    114\u001b[0m \u001b[1;33m\u001b[0m\u001b[0m\n\u001b[1;32m--> 115\u001b[1;33m         \u001b[1;32mfor\u001b[0m \u001b[0mi\u001b[0m \u001b[1;32min\u001b[0m \u001b[0mrange\u001b[0m\u001b[1;33m(\u001b[0m\u001b[0mrows\u001b[0m\u001b[1;33m)\u001b[0m\u001b[1;33m:\u001b[0m\u001b[1;33m\u001b[0m\u001b[0m\n\u001b[0m\u001b[0;32m    116\u001b[0m             \u001b[1;32mfor\u001b[0m \u001b[0mj\u001b[0m \u001b[1;32min\u001b[0m \u001b[0mrange\u001b[0m\u001b[1;33m(\u001b[0m\u001b[0mcolumns\u001b[0m\u001b[1;33m)\u001b[0m\u001b[1;33m:\u001b[0m\u001b[1;33m\u001b[0m\u001b[0m\n\u001b[0;32m    117\u001b[0m                 \u001b[0mvalue\u001b[0m \u001b[1;33m=\u001b[0m \u001b[0mself\u001b[0m\u001b[1;33m.\u001b[0m\u001b[0m_spectras\u001b[0m\u001b[1;33m[\u001b[0m\u001b[0mi\u001b[0m\u001b[1;33m]\u001b[0m\u001b[1;33m[\u001b[0m\u001b[0mposition\u001b[0m\u001b[1;33m]\u001b[0m\u001b[1;33m\u001b[0m\u001b[0m\n",
      "\u001b[1;31mNameError\u001b[0m: name 'rows' is not defined"
     ]
    },
    {
     "data": {
      "text/plain": [
       "False"
      ]
     },
     "execution_count": 136,
     "metadata": {},
     "output_type": "execute_result"
    }
   ],
   "source": [
    "model.removeColumn(1)"
   ]
  },
  {
   "cell_type": "code",
   "execution_count": 133,
   "metadata": {
    "collapsed": true
   },
   "outputs": [],
   "source": [
    "listView = QtGui.QListView()"
   ]
  },
  {
   "cell_type": "code",
   "execution_count": 39,
   "metadata": {
    "collapsed": false
   },
   "outputs": [],
   "source": [
    "listView.setModel(model)"
   ]
  },
  {
   "cell_type": "code",
   "execution_count": 22,
   "metadata": {
    "collapsed": false
   },
   "outputs": [],
   "source": [
    "listView.show()"
   ]
  },
  {
   "cell_type": "code",
   "execution_count": 228,
   "metadata": {
    "collapsed": false
   },
   "outputs": [],
   "source": [
    "tableView.setItemDelegateForColumn(1, ButtonDelegate(tableView))"
   ]
  },
  {
   "cell_type": "code",
   "execution_count": 163,
   "metadata": {
    "collapsed": false
   },
   "outputs": [],
   "source": [
    "class TableView(QtGui.QTableView):\n",
    "    \"\"\"\n",
    "    A simple table to demonstrate the QComboBox delegate.\n",
    "    \"\"\"\n",
    "    def __init__(self, *args, model=None, **kwargs):\n",
    "        QtGui.QTableView.__init__(self, *args, **kwargs)\n",
    "        self.setModel(model)\n",
    "        self.setContextMenuPolicy(QtCore.Qt.DefaultContextMenu)\n",
    "        # Set the delegate for column 1 of our table\n",
    "        #self.setItemDelegateForColumn(1, ButtonDelegate(self))\n",
    "        #self.initial_editor()\n",
    "    \n",
    "    #def initial_editor(self):\n",
    "    #    for row in range(self.model().rowCount(self)):\n",
    "    #        self.openPersistentEditor(self.model().index(row, 1))\n",
    "    #    \n",
    "    #def add_editor(self, index):\n",
    "    #    row = index.row()\n",
    "    #    self.openPersistentEditor(index(row, 1))\n",
    "    #        \n",
    "    #def remove_editor(self, index):\n",
    "    #    row = index.row()\n",
    "    #    self.closePersistentEditor(index(row, 1))\n",
    "    def contextMenuEvent(self, event):\n",
    "        handled = False\n",
    "        index = self.indexAt(event.pos())\n",
    "        menu = QtGui.QMenu()\n",
    "        #an action for everyone\n",
    "        every = QtGui.QAction(\"I'm for everyone\", menu)\n",
    "        if index.column() == 1:  #treat the Nth column special row...\n",
    "            action_1 = QtGui.QAction(\"Something Awesome\", menu)\n",
    "            action_2 = QtGui.QAction(\"Something Else Awesome\", menu)\n",
    "            menu.addActions([action_1, action_2])\n",
    "            handled = True\n",
    "            pass\n",
    "\n",
    "        if handled:\n",
    "            menu.addAction(every)\n",
    "            menu.exec_(event.globalPos())\n",
    "            event.accept() #TELL QT IVE HANDLED THIS THING\n",
    "            pass\n",
    "        else:\n",
    "            event.ignore() #GIVE SOMEONE ELSE A CHANCE TO HANDLE IT\n",
    "            pass\n",
    "        return\n",
    "            \n",
    "    def openAction(self, row, column):\n",
    "        pass\n",
    "\n",
    "    def deleteSelected(self):\n",
    "        # TODO\n",
    "        pass  "
   ]
  },
  {
   "cell_type": "code",
   "execution_count": 161,
   "metadata": {
    "collapsed": false
   },
   "outputs": [],
   "source": [
    "tableView.show()"
   ]
  },
  {
   "cell_type": "code",
   "execution_count": 164,
   "metadata": {
    "collapsed": false
   },
   "outputs": [],
   "source": [
    "tableView = TableView(model=model)\n",
    "tableView.show()"
   ]
  },
  {
   "cell_type": "code",
   "execution_count": 44,
   "metadata": {
    "collapsed": false
   },
   "outputs": [],
   "source": [
    "tableView.setModel(model)"
   ]
  },
  {
   "cell_type": "code",
   "execution_count": 383,
   "metadata": {
    "collapsed": false
   },
   "outputs": [
    {
     "data": {
      "text/plain": [
       "<PyQt4.QtCore.QModelIndex at 0x7ff57e577978>"
      ]
     },
     "execution_count": 383,
     "metadata": {},
     "output_type": "execute_result"
    }
   ],
   "source": [
    "model.index(0,0)"
   ]
  },
  {
   "cell_type": "code",
   "execution_count": 382,
   "metadata": {
    "collapsed": false
   },
   "outputs": [
    {
     "data": {
      "text/plain": [
       "<PyQt4.QtCore.QModelIndex at 0x7ff57e562978>"
      ]
     },
     "execution_count": 382,
     "metadata": {},
     "output_type": "execute_result"
    }
   ],
   "source": [
    "tableView.model().index(0,0)"
   ]
  },
  {
   "cell_type": "code",
   "execution_count": 24,
   "metadata": {
    "collapsed": false
   },
   "outputs": [],
   "source": [
    "tableView.setModel(model)\n",
    "#for row in range(model.rowCount(tableView)):\n",
    "#    tableView.openPersistentEditor(model.index(row, 1))"
   ]
  },
  {
   "cell_type": "code",
   "execution_count": 31,
   "metadata": {
    "collapsed": false
   },
   "outputs": [
    {
     "ename": "AttributeError",
     "evalue": "'TableView' object has no attribute 'update_color'",
     "output_type": "error",
     "traceback": [
      "\u001b[1;31m---------------------------------------------------------------------------\u001b[0m",
      "\u001b[1;31mAttributeError\u001b[0m                            Traceback (most recent call last)",
      "\u001b[1;32m<ipython-input-31-8a5bc4cb718e>\u001b[0m in \u001b[0;36m<module>\u001b[1;34m()\u001b[0m\n\u001b[1;32m----> 1\u001b[1;33m \u001b[0mtableView\u001b[0m\u001b[1;33m.\u001b[0m\u001b[0mupdate_color\u001b[0m\u001b[1;33m(\u001b[0m\u001b[1;33m)\u001b[0m\u001b[1;33m\u001b[0m\u001b[0m\n\u001b[0m",
      "\u001b[1;31mAttributeError\u001b[0m: 'TableView' object has no attribute 'update_color'"
     ]
    }
   ],
   "source": [
    "tableView.update_color()"
   ]
  },
  {
   "cell_type": "code",
   "execution_count": 32,
   "metadata": {
    "collapsed": false
   },
   "outputs": [],
   "source": [
    "tableView.setEditTriggers(QtGui.QAbstractItemView.AllEditTriggers)"
   ]
  },
  {
   "cell_type": "code",
   "execution_count": 34,
   "metadata": {
    "collapsed": false
   },
   "outputs": [],
   "source": [
    "aa = QtGui.QAbstractItemView.editTriggers(tableView)"
   ]
  },
  {
   "cell_type": "code",
   "execution_count": 37,
   "metadata": {
    "collapsed": false
   },
   "outputs": [
    {
     "data": {
      "text/plain": [
       "PyQt4.QtGui.QStyledItemDelegate"
      ]
     },
     "execution_count": 37,
     "metadata": {},
     "output_type": "execute_result"
    }
   ],
   "source": [
    "QtGui.QStyledItemDelegate"
   ]
  },
  {
   "cell_type": "code",
   "execution_count": 268,
   "metadata": {
    "collapsed": false
   },
   "outputs": [
    {
     "data": {
      "text/plain": [
       "<__main__.EDXListModel at 0x7ff57e594288>"
      ]
     },
     "execution_count": 268,
     "metadata": {},
     "output_type": "execute_result"
    }
   ],
   "source": [
    "tableView.model()"
   ]
  },
  {
   "cell_type": "code",
   "execution_count": 348,
   "metadata": {
    "collapsed": false
   },
   "outputs": [],
   "source": [
    "tableView.update_color()"
   ]
  },
  {
   "cell_type": "code",
   "execution_count": 37,
   "metadata": {
    "collapsed": false
   },
   "outputs": [
    {
     "data": {
      "text/plain": [
       "True"
      ]
     },
     "execution_count": 37,
     "metadata": {},
     "output_type": "execute_result"
    }
   ],
   "source": [
    "model.insertRows(1,2)"
   ]
  },
  {
   "cell_type": "code",
   "execution_count": 359,
   "metadata": {
    "collapsed": false
   },
   "outputs": [
    {
     "data": {
      "text/plain": [
       "0"
      ]
     },
     "execution_count": 359,
     "metadata": {},
     "output_type": "execute_result"
    }
   ],
   "source": [
    "tableView."
   ]
  },
  {
   "cell_type": "code",
   "execution_count": 63,
   "metadata": {
    "collapsed": false
   },
   "outputs": [
    {
     "data": {
      "text/plain": [
       "[[<pyqtgraph.graphicsItems.PlotCurveItem.PlotCurveItem at 0x7ff583215438>,\n",
       "  '56',\n",
       "  '5'],\n",
       " [<pyqtgraph.graphicsItems.PlotCurveItem.PlotCurveItem at 0x7ff58332d318>,\n",
       "  0.0],\n",
       " [<pyqtgraph.graphicsItems.PlotCurveItem.PlotCurveItem at 0x7ff5831bf5e8>]]"
      ]
     },
     "execution_count": 63,
     "metadata": {},
     "output_type": "execute_result"
    }
   ],
   "source": [
    "model._spectras"
   ]
  },
  {
   "cell_type": "code",
   "execution_count": 96,
   "metadata": {
    "collapsed": true
   },
   "outputs": [],
   "source": [
    "a = pandas.DataFrame()"
   ]
  },
  {
   "cell_type": "code",
   "execution_count": 99,
   "metadata": {
    "collapsed": false
   },
   "outputs": [],
   "source": [
    "a = a.append(['thingy','thingsy','awesome'])"
   ]
  },
  {
   "cell_type": "code",
   "execution_count": 115,
   "metadata": {
    "collapsed": false
   },
   "outputs": [],
   "source": [
    "a = pandas.concat([a, pandas.DataFrame([item1, item1, item1])], axis=1)"
   ]
  },
  {
   "cell_type": "code",
   "execution_count": 117,
   "metadata": {
    "collapsed": false
   },
   "outputs": [
    {
     "data": {
      "text/plain": [
       "0     thingy\n",
       "1    thingsy\n",
       "2     awsome\n",
       "Name: spectra, dtype: object"
      ]
     },
     "execution_count": 117,
     "metadata": {},
     "output_type": "execute_result"
    }
   ],
   "source": [
    "a.spectra"
   ]
  },
  {
   "cell_type": "code",
   "execution_count": 114,
   "metadata": {
    "collapsed": false
   },
   "outputs": [
    {
     "ename": "TypeError",
     "evalue": "append() got an unexpected keyword argument 'index'",
     "output_type": "error",
     "traceback": [
      "\u001b[1;31m---------------------------------------------------------------------------\u001b[0m",
      "\u001b[1;31mTypeError\u001b[0m                                 Traceback (most recent call last)",
      "\u001b[1;32m<ipython-input-114-87bc8931c10e>\u001b[0m in \u001b[0;36m<module>\u001b[1;34m()\u001b[0m\n\u001b[1;32m----> 1\u001b[1;33m \u001b[0ma\u001b[0m\u001b[1;33m.\u001b[0m\u001b[0mappend\u001b[0m\u001b[1;33m(\u001b[0m\u001b[1;33m[\u001b[0m\u001b[0mitem1\u001b[0m\u001b[1;33m,\u001b[0m \u001b[0mitem1\u001b[0m\u001b[1;33m,\u001b[0m \u001b[0mitem1\u001b[0m\u001b[1;33m]\u001b[0m\u001b[1;33m,\u001b[0m \u001b[0mindex\u001b[0m\u001b[1;33m=\u001b[0m\u001b[1;33m[\u001b[0m\u001b[1;36m0\u001b[0m\u001b[1;33m,\u001b[0m\u001b[1;36m1\u001b[0m\u001b[1;33m,\u001b[0m\u001b[1;36m2\u001b[0m\u001b[1;33m]\u001b[0m \u001b[1;33m)\u001b[0m\u001b[1;33m\u001b[0m\u001b[0m\n\u001b[0m",
      "\u001b[1;31mTypeError\u001b[0m: append() got an unexpected keyword argument 'index'"
     ]
    }
   ],
   "source": [
    "a.append([item1, item1, item1], index=[0,1,2] )"
   ]
  },
  {
   "cell_type": "code",
   "execution_count": 189,
   "metadata": {
    "collapsed": true
   },
   "outputs": [],
   "source": [
    "hdhd = [1,2,3,4,5,6,7,8]"
   ]
  },
  {
   "cell_type": "code",
   "execution_count": 190,
   "metadata": {
    "collapsed": false
   },
   "outputs": [
    {
     "data": {
      "text/plain": [
       "5"
      ]
     },
     "execution_count": 190,
     "metadata": {},
     "output_type": "execute_result"
    }
   ],
   "source": [
    "hdhd.pop(4)"
   ]
  },
  {
   "cell_type": "code",
   "execution_count": 200,
   "metadata": {
    "collapsed": false
   },
   "outputs": [
    {
     "data": {
      "text/plain": [
       "<function QPen.setColor>"
      ]
     },
     "execution_count": 200,
     "metadata": {},
     "output_type": "execute_result"
    }
   ],
   "source": [
    "item1.opts['pen'].setColor"
   ]
  },
  {
   "cell_type": "code",
   "execution_count": 61,
   "metadata": {
    "collapsed": true
   },
   "outputs": [],
   "source": []
  },
  {
   "cell_type": "code",
   "execution_count": null,
   "metadata": {
    "collapsed": true
   },
   "outputs": [],
   "source": [
    "class ColorDelegate(QtGui.QAbstractItemDelegate):\n",
    "    def __init__(self, parent):\n",
    "        QtGui.QItemDelegate.__init__(self, parent)\n",
    "        \n",
    "    def paint(self, painter, option, index):\n",
    "        if index.column() == 1:\n",
    "            "
   ]
  },
  {
   "cell_type": "code",
   "execution_count": 15,
   "metadata": {
    "collapsed": true
   },
   "outputs": [],
   "source": [
    "class ButtonDelegate(QtGui.QStyledItemDelegate):\n",
    "\n",
    "    def __init__(self, parent):\n",
    "        QtGui.QItemDelegate.__init__(self, parent)\n",
    "\n",
    "    def createEditor(self, parent, option, index):\n",
    "        combo = pg.ColorButton(parent, index.data())\n",
    "\n",
    "        #self.connect(combo, QtCore.SIGNAL(\"currentIndexChanged(int)\"), self, QtCore.SLOT(\"currentIndexChanged()\"))\n",
    "        combo.sigColorChanged.connect(self.currentIndexChanged)\n",
    "        return combo\n",
    "        \n",
    "    def setEditorData(self, editor, index):\n",
    "        editor.blockSignals(True)\n",
    "        #editor.setColor(index.data(index))\n",
    "        editor.blockSignals(False)\n",
    "        \n",
    "    def setModelData(self, editor, model, index):\n",
    "        model.setData(index, editor.color())\n",
    "        \n",
    "    @QtCore.pyqtSlot()\n",
    "    def currentIndexChanged(self):\n",
    "        self.commitData.emit(self.sender())"
   ]
  },
  {
   "cell_type": "code",
   "execution_count": 211,
   "metadata": {
    "collapsed": true
   },
   "outputs": [],
   "source": [
    "class ButtonDelegate(QtGui.QItemDelegate):\n",
    "\n",
    "    def __init__(self, parent):\n",
    "        QtGui.QItemDelegate.__init__(self, parent)\n",
    "\n",
    "    def createEditor(self, parent, option, index):\n",
    "        combo = pg.ColorButton(parent, index.data())\n",
    "\n",
    "        #self.connect(combo, QtCore.SIGNAL(\"currentIndexChanged(int)\"), self, QtCore.SLOT(\"currentIndexChanged()\"))\n",
    "        combo.clicked.connect(self.currentIndexChanged)\n",
    "        return combo\n",
    "        \n",
    "    def setEditorData(self, editor, index):\n",
    "        editor.blockSignals(True)\n",
    "        editor.setColor(int(index.model().data(index)))\n",
    "        editor.blockSignals(False)\n",
    "        \n",
    "    def setModelData(self, editor, model, index):\n",
    "        model.setData(index, editor.color())\n",
    "        \n",
    "    @QtCore.pyqtSlot()\n",
    "    def currentIndexChanged(self):\n",
    "        self.commitData.emit(self.sender())"
   ]
  },
  {
   "cell_type": "code",
   "execution_count": 202,
   "metadata": {
    "collapsed": true
   },
   "outputs": [],
   "source": [
    "but = pg.ColorButton()"
   ]
  },
  {
   "cell_type": "code",
   "execution_count": 203,
   "metadata": {
    "collapsed": true
   },
   "outputs": [],
   "source": [
    "but.show()"
   ]
  },
  {
   "cell_type": "code",
   "execution_count": 208,
   "metadata": {
    "collapsed": false
   },
   "outputs": [],
   "source": [
    "but.setColor(pg.mkColor('r'))"
   ]
  },
  {
   "cell_type": "code",
   "execution_count": 207,
   "metadata": {
    "collapsed": false
   },
   "outputs": [
    {
     "data": {
      "text/plain": [
       "<PyQt4.QtGui.QColor at 0x7ff587983588>"
      ]
     },
     "execution_count": 207,
     "metadata": {},
     "output_type": "execute_result"
    }
   ],
   "source": [
    "pg.mkColor('r')"
   ]
  },
  {
   "cell_type": "code",
   "execution_count": 210,
   "metadata": {
    "collapsed": false
   },
   "outputs": [
    {
     "data": {
      "text/plain": [
       "<PyQt4.QtGui.QColor at 0x7ff57ee8cf98>"
      ]
     },
     "execution_count": 210,
     "metadata": {},
     "output_type": "execute_result"
    }
   ],
   "source": [
    "but.color()"
   ]
  },
  {
   "cell_type": "code",
   "execution_count": 234,
   "metadata": {
    "collapsed": false
   },
   "outputs": [],
   "source": [
    "kaka = ButtonDelegate(None)"
   ]
  },
  {
   "cell_type": "code",
   "execution_count": 235,
   "metadata": {
    "collapsed": false
   },
   "outputs": [
    {
     "data": {
      "text/plain": [
       "<__main__.ButtonDelegate at 0x7ff57ecd0ee8>"
      ]
     },
     "execution_count": 235,
     "metadata": {},
     "output_type": "execute_result"
    }
   ],
   "source": []
  },
  {
   "cell_type": "code",
   "execution_count": 236,
   "metadata": {
    "collapsed": false
   },
   "outputs": [
    {
     "ename": "TypeError",
     "evalue": "colorSelected() missing 1 required positional argument: 'color'",
     "output_type": "error",
     "traceback": [
      "\u001b[1;31m---------------------------------------------------------------------------\u001b[0m",
      "\u001b[1;31mTypeError\u001b[0m                                 Traceback (most recent call last)",
      "\u001b[1;32m<ipython-input-236-b29f564d5c8f>\u001b[0m in \u001b[0;36m<module>\u001b[1;34m()\u001b[0m\n\u001b[1;32m----> 1\u001b[1;33m \u001b[0mbut\u001b[0m\u001b[1;33m.\u001b[0m\u001b[0mcolorSelected\u001b[0m\u001b[1;33m(\u001b[0m\u001b[1;33m)\u001b[0m\u001b[1;33m\u001b[0m\u001b[0m\n\u001b[0m",
      "\u001b[1;31mTypeError\u001b[0m: colorSelected() missing 1 required positional argument: 'color'"
     ]
    }
   ],
   "source": [
    "but.sigColorChanged."
   ]
  },
  {
   "cell_type": "code",
   "execution_count": 325,
   "metadata": {
    "collapsed": false
   },
   "outputs": [],
   "source": [
    "index = model.index(0,1)"
   ]
  },
  {
   "cell_type": "code",
   "execution_count": 329,
   "metadata": {
    "collapsed": false
   },
   "outputs": [
    {
     "data": {
      "text/plain": [
       "<PyQt4.QtGui.QColor at 0x7ff57e577748>"
      ]
     },
     "execution_count": 329,
     "metadata": {},
     "output_type": "execute_result"
    }
   ],
   "source": [
    "index.data()"
   ]
  },
  {
   "cell_type": "code",
   "execution_count": 5,
   "metadata": {
    "collapsed": false
   },
   "outputs": [
    {
     "ename": "SyntaxError",
     "evalue": "invalid syntax (<ipython-input-5-e3e1f4881366>, line 1)",
     "output_type": "error",
     "traceback": [
      "\u001b[1;36m  File \u001b[1;32m\"<ipython-input-5-e3e1f4881366>\"\u001b[1;36m, line \u001b[1;32m1\u001b[0m\n\u001b[1;33m    TableView.\u001b[0m\n\u001b[1;37m              ^\u001b[0m\n\u001b[1;31mSyntaxError\u001b[0m\u001b[1;31m:\u001b[0m invalid syntax\n"
     ]
    }
   ],
   "source": [
    "TableView."
   ]
  },
  {
   "cell_type": "code",
   "execution_count": 12,
   "metadata": {
    "collapsed": false
   },
   "outputs": [],
   "source": [
    "class ComboBox(QtGui.QWidget):\n",
    "    def __init__(self, color_dict, parent=None):\n",
    "        QtGui.QWidget.__init__(self, parent)\n",
    "        # setGeometry(x_pos, y_pos, width, height)\n",
    "        self.setGeometry(320, 200, 340, 220)\n",
    "        self.setWindowTitle('Select a color from the combo box')\n",
    "        self.combo = QtGui.QComboBox(self)\n",
    "        self.frame = QtGui.QFrame(self)\n",
    "        self.frame.setFrameStyle(QtGui.QFrame.Box | QtGui.QFrame.Sunken)\n",
    "        grid = QtGui.QGridLayout()\n",
    "        # addWidget(QWidget, row, column, rowSpan, columnSpan)\n",
    "        grid.addWidget(self.combo, 1, 1, 1, 1)\n",
    "        grid.addWidget(self.frame, 1, 2, 3, 2)\n",
    "        self.setLayout(grid)\n",
    "        self.color_dict = color_dict\n",
    "        # create a sorted color list\n",
    "        self.color_list = sorted(color_dict.keys())\n",
    "        # load the combobox\n",
    "        for color in self.color_list:\n",
    "            self.combo.addItem(color)\n",
    "        # bind/connect selection to an action method\n",
    "        self.connect(self.combo, QtCore.SIGNAL('currentIndexChanged(QString)'),\n",
    "            self.changedIndex)\n",
    "    def changedIndex(self, value):\n",
    "        \"\"\"\n",
    "        item in the combox has been changed/selected\n",
    "        \"\"\"\n",
    "        #print(\"value = %s\" % value)  # test\n",
    "        color = value\n",
    "        # change color of widget self.frame\n",
    "        style_str = \"QWidget {background-color: %s}\"\n",
    "        self.frame.setStyleSheet(style_str % self.color_dict[color])\n",
    "# colors are in HTML '#RRGGBB' format --> Red, Green, Blue hex 00 to ff\n",
    "color_dict = {\n",
    "'red': '#ff0000',\n",
    "'green': '#00ff00',\n",
    "'blue': '#0000ff',\n",
    "'yellow': '#ffff00',\n",
    "'gold': '#ffd700',\n",
    "'pink': '#ffc0cb',\n",
    "'bisque': '#ffe4c4',\n",
    "'ivory': '#fffff0',\n",
    "'black': '#000000',\n",
    "'white': '#ffffff',\n",
    "'violet': '#ee82ee',\n",
    "'silver': '#c0c0c0',\n",
    "'forestgreen': '#228b22',\n",
    "'brown': '#a52a3a',\n",
    "'chocolate': '#d2691e',\n",
    "'azure': '#fffff0',\n",
    "'orange': '#ffa500'\n",
    "}\n",
    "\n",
    "combo = ComboBox(color_dict)\n",
    "combo.show()"
   ]
  },
  {
   "cell_type": "code",
   "execution_count": 13,
   "metadata": {
    "collapsed": true
   },
   "outputs": [],
   "source": [
    "asdasd = QtGui.QColorDialog()"
   ]
  },
  {
   "cell_type": "code",
   "execution_count": 14,
   "metadata": {
    "collapsed": true
   },
   "outputs": [],
   "source": [
    "asdasd.show()"
   ]
  },
  {
   "cell_type": "code",
   "execution_count": null,
   "metadata": {
    "collapsed": true
   },
   "outputs": [],
   "source": [
    "class QtColorPicker(QtGui.QPushButton):\n",
    "    sigColorChanging = QtCore.Signal(object)  ## emitted whenever a new color is picked in the color dialog\n",
    "    sigColorChanged = QtCore.Signal(object)   ## emitted when the selected color is accepted (user clicks OK)\n",
    "    \n",
    "    def __init__(self, parent=None, columns=-1, enableColorDialog=True, color=):\n",
    "        QtGui.QPushButton.__init__(self, parent)"
   ]
  },
  {
   "cell_type": "code",
   "execution_count": 11,
   "metadata": {
    "collapsed": true
   },
   "outputs": [],
   "source": [
    "kaka = ColorButton()\n",
    "kaka.show()"
   ]
  },
  {
   "cell_type": "code",
   "execution_count": 8,
   "metadata": {
    "collapsed": false
   },
   "outputs": [
    {
     "ename": "ImportError",
     "evalue": "No module named 'PyKDE4'",
     "output_type": "error",
     "traceback": [
      "\u001b[1;31m---------------------------------------------------------------------------\u001b[0m",
      "\u001b[1;31mImportError\u001b[0m                               Traceback (most recent call last)",
      "\u001b[1;32m<ipython-input-8-63766842a16f>\u001b[0m in \u001b[0;36m<module>\u001b[1;34m()\u001b[0m\n\u001b[1;32m----> 1\u001b[1;33m \u001b[1;32mfrom\u001b[0m \u001b[0mPyKDE4\u001b[0m\u001b[1;33m.\u001b[0m\u001b[0mkdeui\u001b[0m \u001b[1;32mimport\u001b[0m \u001b[0mKColorCells\u001b[0m\u001b[1;33m\u001b[0m\u001b[0m\n\u001b[0m",
      "\u001b[1;31mImportError\u001b[0m: No module named 'PyKDE4'"
     ]
    }
   ],
   "source": [
    "from PyKDE4.kdeui import KColorCells"
   ]
  },
  {
   "cell_type": "code",
   "execution_count": 15,
   "metadata": {
    "collapsed": true
   },
   "outputs": [],
   "source": [
    "img_dummy = pg.ImageItem()\n",
    "plt_dummy = pg.PlotCurveItem()"
   ]
  },
  {
   "cell_type": "code",
   "execution_count": 34,
   "metadata": {
    "collapsed": false
   },
   "outputs": [
    {
     "data": {
      "text/plain": [
       "True"
      ]
     },
     "execution_count": 34,
     "metadata": {},
     "output_type": "execute_result"
    }
   ],
   "source": [
    "type(img_dummy) == pg.ImageItem"
   ]
  },
  {
   "cell_type": "code",
   "execution_count": 9,
   "metadata": {
    "collapsed": false
   },
   "outputs": [],
   "source": [
    "from parsers import bxml, bcf"
   ]
  },
  {
   "cell_type": "code",
   "execution_count": 10,
   "metadata": {
    "collapsed": true
   },
   "outputs": [],
   "source": [
    "from lxml import objectify"
   ]
  },
  {
   "cell_type": "code",
   "execution_count": 15,
   "metadata": {
    "collapsed": true
   },
   "outputs": [],
   "source": [
    "from glob import glob\n",
    "import pyqtgraph as pg"
   ]
  },
  {
   "cell_type": "code",
   "execution_count": 16,
   "metadata": {
    "collapsed": false
   },
   "outputs": [],
   "source": [
    "spx_list = glob('test/*.spx')"
   ]
  },
  {
   "cell_type": "code",
   "execution_count": 17,
   "metadata": {
    "collapsed": false
   },
   "outputs": [],
   "source": [
    "plt = {}\n",
    "for i in spx_list[:2]:\n",
    "    root = objectify.parse(i)\n",
    "    rot = root.getroot()\n",
    "    eds = rot.ClassInstance\n",
    "    thingy = bxml.AnalysedEDXSpectrum(eds)\n",
    "    plt[i] = pg.PlotWidget()\n",
    "    plt[i].addItem(pg.PlotDataItem(thingy.energy, thingy.data))\n",
    "    for k in thingy.roi_results:\n",
    "        if 'Energy' in thingy.roi_results[k]:\n",
    "            bounds = thingy.make_roi(thingy.roi_results[k]['Energy'])\n",
    "            plt[i].addItem(pg.LinearRegionItem(values=bounds))\n",
    "    plt[i].show()\n",
    "    \n",
    "    #for j in thingy.roi_results:\n",
    "    #    if j not in ['O', 'Al', 'Si', 'Th', 'Ti', 'Sm', 'Fe']:\n",
    "    #        print(j, thingy.roi_results[j]['Energy'], thingy.roi_results[j]['Width'])"
   ]
  },
  {
   "cell_type": "code",
   "execution_count": 11,
   "metadata": {
    "collapsed": false
   },
   "outputs": [],
   "source": [
    "root = objectify.parse('test/notcompressed_proj.rtx')"
   ]
  },
  {
   "cell_type": "code",
   "execution_count": 12,
   "metadata": {
    "collapsed": false
   },
   "outputs": [],
   "source": [
    "rot = root.getroot()"
   ]
  },
  {
   "cell_type": "code",
   "execution_count": 13,
   "metadata": {
    "collapsed": false
   },
   "outputs": [],
   "source": [
    "eds = rot.ClassInstance.ChildClassInstances.ClassInstance[0].ChildClassInstances.ClassInstance[1]"
   ]
  },
  {
   "cell_type": "code",
   "execution_count": 14,
   "metadata": {
    "collapsed": false
   },
   "outputs": [],
   "source": [
    "thingy = bxml.AnalysedEDXSpectrum(eds)"
   ]
  },
  {
   "cell_type": "code",
   "execution_count": 16,
   "metadata": {
    "collapsed": false
   },
   "outputs": [
    {
     "data": {
      "text/plain": [
       "28400.204528683335"
      ]
     },
     "execution_count": 16,
     "metadata": {},
     "output_type": "execute_result"
    }
   ],
   "source": [
    "thingy.data[thingy.meta.energy_to_channel(\n",
    "    thingy.roi_results['Al']['Energy'] - (thingy.roi_results['Al']['Width']/2)):\n",
    " thingy.meta.energy_to_channel(\n",
    "    thingy.roi_results['Al']['Energy'] + (thingy.roi_results['Al']['Width']/2))+1].sum() / 1.01671803"
   ]
  },
  {
   "cell_type": "code",
   "execution_count": 9,
   "metadata": {
    "collapsed": true
   },
   "outputs": [],
   "source": [
    "from periodictable import elements"
   ]
  },
  {
   "cell_type": "code",
   "execution_count": 10,
   "metadata": {
    "collapsed": false
   },
   "outputs": [
    {
     "data": {
      "text/plain": [
       "1.9373"
      ]
     },
     "execution_count": 10,
     "metadata": {},
     "output_type": "execute_result"
    }
   ],
   "source": [
    "elements.Fe.K_alpha"
   ]
  },
  {
   "cell_type": "code",
   "execution_count": 17,
   "metadata": {
    "collapsed": false
   },
   "outputs": [
    {
     "data": {
      "text/plain": [
       "{'Al': {'Counts': 28875,\n",
       "  'Description': 'Al-KA',\n",
       "  'Energy': 1.486366126,\n",
       "  'Line': 'KA',\n",
       "  'NetCounts': 28278,\n",
       "  'ROI': [1.4413575687408464, 1.5313746832591537],\n",
       "  'Width': 0.09886848539},\n",
       " 'C': {'Counts': 4709,\n",
       "  'Description': 'C-K',\n",
       "  'Energy': 0.277,\n",
       "  'Line': 'K',\n",
       "  'NetCounts': 4635,\n",
       "  'ROI': [0.2554931938821738, 0.29850680611782626],\n",
       "  'Width': 0.05651262782},\n",
       " 'Ca': {'Counts': 4488,\n",
       "  'Description': 'Ca-KA',\n",
       "  'Energy': 3.691130226,\n",
       "  'Line': 'KA',\n",
       "  'NetCounts': 3853,\n",
       "  'ROI': [3.6185055773805446, 3.763754874619455],\n",
       "  'Width': 0.1475573642},\n",
       " 'Fe': {'Counts': 1153,\n",
       "  'Description': 'Fe-KA',\n",
       "  'Energy': 6.400794531,\n",
       "  'Line': 'KA',\n",
       "  'NetCounts': 885,\n",
       "  'ROI': [6.305928272406555, 6.495660789593445],\n",
       "  'Width': 0.1910994811},\n",
       " 'Na': {'Counts': 2248,\n",
       "  'Energy': 1.041,\n",
       "  'Line': 'Ka',\n",
       "  'NetCounts': 2248,\n",
       "  'ROI': [1.0035926106667439, 1.078407389333256]},\n",
       " 'O': {'Counts': 28833,\n",
       "  'Description': 'O-K',\n",
       "  'Energy': 0.5249,\n",
       "  'Line': 'K',\n",
       "  'NetCounts': 28635,\n",
       "  'ROI': [0.497746406001112, 0.5520535939988881],\n",
       "  'Width': 0.06739981099},\n",
       " 'Si': {'Counts': 80180,\n",
       "  'Description': 'Si-KA',\n",
       "  'Energy': 1.7396,\n",
       "  'Line': 'KA',\n",
       "  'NetCounts': 79532,\n",
       "  'ROI': [1.690672472576375, 1.788527527423625],\n",
       "  'Width': 0.1056080558}}"
      ]
     },
     "execution_count": 17,
     "metadata": {},
     "output_type": "execute_result"
    }
   ],
   "source": [
    "thingy.roi_results"
   ]
  },
  {
   "cell_type": "code",
   "execution_count": 21,
   "metadata": {
    "collapsed": false
   },
   "outputs": [
    {
     "data": {
      "text/plain": [
       "<parsers.bxml.AnalysedEDXSpectrum at 0x7f3958aef278>"
      ]
     },
     "execution_count": 21,
     "metadata": {},
     "output_type": "execute_result"
    }
   ],
   "source": [
    "thingy"
   ]
  },
  {
   "cell_type": "code",
   "execution_count": 23,
   "metadata": {
    "collapsed": false
   },
   "outputs": [
    {
     "data": {
      "text/plain": [
       "<parsers.bxml.AnalysedEDXSpectrum at 0x7f67d40f33c8>"
      ]
     },
     "execution_count": 23,
     "metadata": {},
     "output_type": "execute_result"
    }
   ],
   "source": [
    "thingy"
   ]
  },
  {
   "cell_type": "code",
   "execution_count": 17,
   "metadata": {
    "collapsed": true
   },
   "outputs": [],
   "source": [
    "thingy._estimate_abc_for_2_sigmas()"
   ]
  },
  {
   "cell_type": "code",
   "execution_count": 13,
   "metadata": {
    "collapsed": false
   },
   "outputs": [
    {
     "data": {
      "text/plain": [
       "[6.305928272406555, 6.495660789593445]"
      ]
     },
     "execution_count": 13,
     "metadata": {},
     "output_type": "execute_result"
    }
   ],
   "source": [
    "thingy.make_roi(6.400794531)"
   ]
  },
  {
   "cell_type": "code",
   "execution_count": 11,
   "metadata": {
    "collapsed": true
   },
   "outputs": [],
   "source": [
    "import numpy as np"
   ]
  },
  {
   "cell_type": "code",
   "execution_count": 17,
   "metadata": {
    "collapsed": true
   },
   "outputs": [],
   "source": [
    "from scipy.interpolate import UnivariateSpline"
   ]
  },
  {
   "cell_type": "code",
   "execution_count": 19,
   "metadata": {
    "collapsed": false
   },
   "outputs": [],
   "source": [
    "hoho = UnivariateSpline(thingy.energy[:2*thingy.zeroPeakPosition], thingy.data[:2*thingy.zeroPeakPosition]-np.max(thingy.data[thingy.zeroPeakPosition-3:thingy.zeroPeakPosition+3])/2)"
   ]
  },
  {
   "cell_type": "code",
   "execution_count": 23,
   "metadata": {
    "collapsed": false
   },
   "outputs": [
    {
     "data": {
      "text/plain": [
       "array([ 0.02660204])"
      ]
     },
     "execution_count": 23,
     "metadata": {},
     "output_type": "execute_result"
    }
   ],
   "source": [
    "np.diff(hoho.roots())"
   ]
  },
  {
   "cell_type": "code",
   "execution_count": 22,
   "metadata": {
    "collapsed": false
   },
   "outputs": [
    {
     "data": {
      "text/plain": [
       "array([   0,    0,    0,    0,    0,    0,    0,    0,    0,    0,    0,\n",
       "          0,    0,    0,    0,    0,    0,    0,    0,    0,    0,    0,\n",
       "          0,    0,    0,    0,    0,    0,    0,    0,    0,    0,    0,\n",
       "          0,    0,    0,    0,    0,    0,    0,    0,    0,    0,    0,\n",
       "          0,    0,    0,    0,    0,    0,    0,    0,    0,    0,    0,\n",
       "          0,    0,    0,    1,    0,    0,    0,    0,    0,    0,    0,\n",
       "          0,    0,    0,    0,    0,    0,    0,    0,    0,    0,    0,\n",
       "          2,    0,    2,   11,   16,   36,   71,  101,  162,  251,  423,\n",
       "        598,  810, 1090, 1374, 1597, 1918, 2124, 2248, 2153, 2068, 1800,\n",
       "       1657, 1337, 1060,  799,  584,  391,  283,  164,  118,   68,   28,\n",
       "         18,    8,    6,    0,    0,    0,    2,    1,    1,    0,    1,\n",
       "          2,    1,    1,    1,    0,    1,    0,    0,    1,    0,    0,\n",
       "          0,    2,    1,    0,    0,    0,    0,    0,    0,    0,    0,\n",
       "          0,    0,   17,   38,   25,   21,   35,   28,   21,   22,   30,\n",
       "         27,   33,   36,   30,   34,   25,   41,   49,   52,   56,   47,\n",
       "         63,   64,   73,   71,   80,   94,   72,   91,   99,  104,   99,\n",
       "        117,  140,  141,  143,  153,  146,  165,  155,  188,  189,  194,\n",
       "        214,  220,  240], dtype=uint64)"
      ]
     },
     "execution_count": 22,
     "metadata": {},
     "output_type": "execute_result"
    }
   ],
   "source": [
    "thingy.data[:2*thingy.zeroPeakPosition]"
   ]
  },
  {
   "cell_type": "code",
   "execution_count": 55,
   "metadata": {
    "collapsed": false
   },
   "outputs": [
    {
     "data": {
      "text/plain": [
       "array([-0.01893184,  0.01955399])"
      ]
     },
     "execution_count": 55,
     "metadata": {},
     "output_type": "execute_result"
    }
   ],
   "source": [
    "hoho.roots()"
   ]
  },
  {
   "cell_type": "code",
   "execution_count": 53,
   "metadata": {
    "collapsed": false
   },
   "outputs": [
    {
     "data": {
      "text/plain": [
       "array([ 0.03848604])"
      ]
     },
     "execution_count": 53,
     "metadata": {},
     "output_type": "execute_result"
    }
   ],
   "source": [
    "np.diff(hoho.roots())"
   ]
  },
  {
   "cell_type": "code",
   "execution_count": 3,
   "metadata": {
    "collapsed": true
   },
   "outputs": [],
   "source": [
    "import pyqtgraph as pg"
   ]
  },
  {
   "cell_type": "code",
   "execution_count": 44,
   "metadata": {
    "collapsed": true
   },
   "outputs": [],
   "source": [
    "plt = pg.PlotWidget()"
   ]
  },
  {
   "cell_type": "code",
   "execution_count": 45,
   "metadata": {
    "collapsed": true
   },
   "outputs": [],
   "source": [
    "plt.show()"
   ]
  },
  {
   "cell_type": "code",
   "execution_count": 46,
   "metadata": {
    "collapsed": true
   },
   "outputs": [],
   "source": [
    "crv = pg.PlotDataItem(thingy.energy, thingy.data)\n",
    "vreg = pg.LinearRegionItem(values=hoho.roots())"
   ]
  },
  {
   "cell_type": "code",
   "execution_count": 48,
   "metadata": {
    "collapsed": true
   },
   "outputs": [],
   "source": [
    "plt.addItem(crv)"
   ]
  },
  {
   "cell_type": "code",
   "execution_count": 51,
   "metadata": {
    "collapsed": false
   },
   "outputs": [],
   "source": [
    "vreg = pg.LinearRegionItem(values=hoho.roots())\n",
    "plt.addItem(vreg)"
   ]
  },
  {
   "cell_type": "code",
   "execution_count": 168,
   "metadata": {
    "collapsed": false
   },
   "outputs": [
    {
     "data": {
      "text/plain": [
       "0.045139602714378321"
      ]
     },
     "execution_count": 168,
     "metadata": {},
     "output_type": "execute_result"
    }
   ],
   "source": [
    "np.diff(hoho.roots()/2.355 *4)[0] "
   ]
  },
  {
   "cell_type": "code",
   "execution_count": 149,
   "metadata": {
    "collapsed": true
   },
   "outputs": [],
   "source": [
    "from math import log, exp"
   ]
  },
  {
   "cell_type": "code",
   "execution_count": 132,
   "metadata": {
    "collapsed": false
   },
   "outputs": [],
   "source": [
    "kaka = lambda x: -0.0612674 + 0.11484 * log(x + 2.53485)"
   ]
  },
  {
   "cell_type": "code",
   "execution_count": 155,
   "metadata": {
    "collapsed": false
   },
   "outputs": [
    {
     "data": {
      "text/plain": [
       "0.06114394281968168"
      ]
     },
     "execution_count": 155,
     "metadata": {},
     "output_type": "execute_result"
    }
   ],
   "source": [
    "(exp(1)-2.53485) / 3"
   ]
  },
  {
   "cell_type": "code",
   "execution_count": 161,
   "metadata": {
    "collapsed": false
   },
   "outputs": [],
   "source": [
    "for i in thingy.roi_results:\n",
    "    try:\n",
    "        ghg = pg.LinearRegionItem(values=[thingy.roi_results[i]['Energy'] - thingy.roi_results[i]['Width']/2,\n",
    "                                          thingy.roi_results[i]['Energy'] + thingy.roi_results[i]['Width']/2])\n",
    "        plt.addItem(ghg)\n",
    "    except:\n",
    "        pass"
   ]
  },
  {
   "cell_type": "code",
   "execution_count": 17,
   "metadata": {
    "collapsed": false,
    "scrolled": true
   },
   "outputs": [
    {
     "data": {
      "text/plain": [
       "{'Al': {'Counts': 28875,\n",
       "  'Description': 'Al-KA',\n",
       "  'Energy': 1.486366126,\n",
       "  'Line': 'KA',\n",
       "  'NetCounts': 28278,\n",
       "  'Width': 0.09886848539},\n",
       " 'C': {'Counts': 4709,\n",
       "  'Description': 'C-K',\n",
       "  'Energy': 0.277,\n",
       "  'Line': 'K',\n",
       "  'NetCounts': 4635,\n",
       "  'Width': 0.05651262782},\n",
       " 'Ca': {'Counts': 4488,\n",
       "  'Description': 'Ca-KA',\n",
       "  'Energy': 3.691130226,\n",
       "  'Line': 'KA',\n",
       "  'NetCounts': 3853,\n",
       "  'Width': 0.1475573642},\n",
       " 'Fe': {'Counts': 1153,\n",
       "  'Description': 'Fe-KA',\n",
       "  'Energy': 6.400794531,\n",
       "  'Line': 'KA',\n",
       "  'NetCounts': 885,\n",
       "  'Width': 0.1910994811},\n",
       " 'Na': {'Counts': 2248, 'NetCounts': 2248},\n",
       " 'O': {'Counts': 28833,\n",
       "  'Description': 'O-K',\n",
       "  'Energy': 0.5249,\n",
       "  'Line': 'K',\n",
       "  'NetCounts': 28635,\n",
       "  'Width': 0.06739981099},\n",
       " 'Si': {'Counts': 80180,\n",
       "  'Description': 'Si-KA',\n",
       "  'Energy': 1.7396,\n",
       "  'Line': 'KA',\n",
       "  'NetCounts': 79532,\n",
       "  'Width': 0.1056080558}}"
      ]
     },
     "execution_count": 17,
     "metadata": {},
     "output_type": "execute_result"
    }
   ],
   "source": [
    "thingy.roi_results"
   ]
  },
  {
   "cell_type": "code",
   "execution_count": 92,
   "metadata": {
    "collapsed": false
   },
   "outputs": [
    {
     "data": {
      "text/plain": [
       "6"
      ]
     },
     "execution_count": 92,
     "metadata": {},
     "output_type": "execute_result"
    }
   ],
   "source": [
    "c = elements.symbol(i)\n",
    "c.number"
   ]
  },
  {
   "cell_type": "code",
   "execution_count": 20,
   "metadata": {
    "collapsed": true
   },
   "outputs": [],
   "source": [
    "import pyqtgraph as pg"
   ]
  },
  {
   "cell_type": "code",
   "execution_count": 21,
   "metadata": {
    "collapsed": false
   },
   "outputs": [
    {
     "data": {
      "text/plain": [
       "<pyqtgraph.graphicsWindows.PlotWindow at 0x7f1b7292bdc8>"
      ]
     },
     "execution_count": 21,
     "metadata": {},
     "output_type": "execute_result"
    }
   ],
   "source": [
    "pg.plot(thingy.energy, thingy.data)"
   ]
  },
  {
   "cell_type": "code",
   "execution_count": 94,
   "metadata": {
    "collapsed": false
   },
   "outputs": [
    {
     "data": {
      "text/plain": [
       "{'Counts': 28875,\n",
       " 'Description': 'Al-KA',\n",
       " 'Energy': 1.486366126,\n",
       " 'Line': 'KA',\n",
       " 'NetCounts': 28278,\n",
       " 'Width': 0.09886848539}"
      ]
     },
     "execution_count": 94,
     "metadata": {},
     "output_type": "execute_result"
    }
   ],
   "source": [
    "thingy.roi_results['Al']"
   ]
  },
  {
   "cell_type": "code",
   "execution_count": 65,
   "metadata": {
    "collapsed": false
   },
   "outputs": [
    {
     "ename": "TypeError",
     "evalue": "'PeriodicTable' object is not callable",
     "output_type": "error",
     "traceback": [
      "\u001b[1;31m---------------------------------------------------------------------------\u001b[0m",
      "\u001b[1;31mTypeError\u001b[0m                                 Traceback (most recent call last)",
      "\u001b[1;32m<ipython-input-65-9b694af4e991>\u001b[0m in \u001b[0;36m<module>\u001b[1;34m()\u001b[0m\n\u001b[1;32m----> 1\u001b[1;33m \u001b[0melements\u001b[0m\u001b[1;33m(\u001b[0m\u001b[1;34m'Al'\u001b[0m\u001b[1;33m)\u001b[0m\u001b[1;33m\u001b[0m\u001b[0m\n\u001b[0m",
      "\u001b[1;31mTypeError\u001b[0m: 'PeriodicTable' object is not callable"
     ]
    }
   ],
   "source": []
  },
  {
   "cell_type": "code",
   "execution_count": 22,
   "metadata": {
    "collapsed": false,
    "scrolled": true
   },
   "outputs": [],
   "source": [
    "kaka = bcf.BCF_reader('/home/petras/bulk-data/hackingBCF/P50_situation.bcf')"
   ]
  },
  {
   "cell_type": "code",
   "execution_count": 32,
   "metadata": {
    "collapsed": true
   },
   "outputs": [],
   "source": [
    "from copy import copy"
   ]
  },
  {
   "cell_type": "code",
   "execution_count": 33,
   "metadata": {
    "collapsed": false
   },
   "outputs": [],
   "source": [
    "gogo = copy(thingy)"
   ]
  },
  {
   "cell_type": "code",
   "execution_count": 38,
   "metadata": {
    "collapsed": false
   },
   "outputs": [
    {
     "data": {
      "text/plain": [
       "(20000, 20000)"
      ]
     },
     "execution_count": 38,
     "metadata": {},
     "output_type": "execute_result"
    }
   ],
   "source": [
    "gogo.meta.amplification = 20000\n",
    "gogo.meta.amplification, thingy.meta.amplification"
   ]
  },
  {
   "cell_type": "code",
   "execution_count": 10,
   "metadata": {
    "collapsed": true
   },
   "outputs": [],
   "source": [
    "def parse_line(line_string):\n",
    "    if len(line_string) == 1:\n",
    "        line_string = line_string + 'a'\n",
    "    return line_string.capitalize()"
   ]
  },
  {
   "cell_type": "code",
   "execution_count": 15,
   "metadata": {
    "collapsed": false
   },
   "outputs": [
    {
     "data": {
      "text/plain": [
       "['Na_Ka',\n",
       " 'C_Ka',\n",
       " 'Mg_Ka',\n",
       " 'Ti_Ka',\n",
       " 'Fe_Ka',\n",
       " 'Al_Ka',\n",
       " 'Si_Ka',\n",
       " 'P_Ka',\n",
       " 'O_Ka',\n",
       " 'K_Ka',\n",
       " 'Zr_Ka',\n",
       " 'Mn_Ka',\n",
       " 'Cr_Ka',\n",
       " 'Ca_Ka']"
      ]
     },
     "execution_count": 15,
     "metadata": {},
     "output_type": "execute_result"
    }
   ],
   "source": [
    "['_'.join([i,parse_line(kaka.header.elements[i]['line'])])\n",
    "                              for i in kaka.header.elements]"
   ]
  },
  {
   "cell_type": "code",
   "execution_count": 18,
   "metadata": {
    "collapsed": false
   },
   "outputs": [],
   "source": [
    "asdas = kaka.header.get_spectra_metadata()"
   ]
  },
  {
   "cell_type": "code",
   "execution_count": 19,
   "metadata": {
    "collapsed": false
   },
   "outputs": [
    {
     "data": {
      "text/plain": [
       "[]"
      ]
     },
     "execution_count": 19,
     "metadata": {},
     "output_type": "execute_result"
    }
   ],
   "source": [
    "asdas.elements"
   ]
  },
  {
   "cell_type": "code",
   "execution_count": 12,
   "metadata": {
    "collapsed": false
   },
   "outputs": [
    {
     "data": {
      "text/plain": [
       "True"
      ]
     },
     "execution_count": 12,
     "metadata": {},
     "output_type": "execute_result"
    }
   ],
   "source": [
    "type(kaka.header.get_spectra_metadata()) == bcf.BasicEDXSpectrum"
   ]
  },
  {
   "cell_type": "code",
   "execution_count": 1,
   "metadata": {
    "collapsed": true
   },
   "outputs": [],
   "source": [
    "import pandas as pd"
   ]
  },
  {
   "cell_type": "code",
   "execution_count": 73,
   "metadata": {
    "collapsed": false
   },
   "outputs": [
    {
     "ename": "SyntaxError",
     "evalue": "invalid syntax (<ipython-input-73-c7b83d58a1ac>, line 1)",
     "output_type": "error",
     "traceback": [
      "\u001b[1;36m  File \u001b[1;32m\"<ipython-input-73-c7b83d58a1ac>\"\u001b[1;36m, line \u001b[1;32m1\u001b[0m\n\u001b[1;33m    import periodictable.formula( \"CaO\" )\u001b[0m\n\u001b[1;37m                                ^\u001b[0m\n\u001b[1;31mSyntaxError\u001b[0m\u001b[1;31m:\u001b[0m invalid syntax\n"
     ]
    }
   ],
   "source": [
    "import periodictable"
   ]
  },
  {
   "cell_type": "code",
   "execution_count": 86,
   "metadata": {
    "collapsed": false
   },
   "outputs": [
    {
     "data": {
      "text/plain": [
       "Fe"
      ]
     },
     "execution_count": 86,
     "metadata": {},
     "output_type": "execute_result"
    }
   ],
   "source": [
    "periodictable.elements.symbol('Fe')"
   ]
  },
  {
   "cell_type": "code",
   "execution_count": 51,
   "metadata": {
    "collapsed": true
   },
   "outputs": [],
   "source": [
    "from periodictable import elements"
   ]
  },
  {
   "cell_type": "code",
   "execution_count": 9,
   "metadata": {
    "collapsed": false
   },
   "outputs": [
    {
     "data": {
      "text/plain": [
       "'B'"
      ]
     },
     "execution_count": 9,
     "metadata": {},
     "output_type": "execute_result"
    }
   ],
   "source": [
    "str(elements[5])"
   ]
  },
  {
   "cell_type": "code",
   "execution_count": 30,
   "metadata": {
    "collapsed": true
   },
   "outputs": [],
   "source": [
    "thing = {'Al': [0.544,0.666], 'Si':[0.789, 0.899], 'Ga':[1.0,1.05], 'Hf':[2.1, 2.3]}"
   ]
  },
  {
   "cell_type": "code",
   "execution_count": 35,
   "metadata": {
    "collapsed": false
   },
   "outputs": [
    {
     "data": {
      "text/plain": [
       "[0.544, 0.666]"
      ]
     },
     "execution_count": 35,
     "metadata": {},
     "output_type": "execute_result"
    }
   ],
   "source": [
    "thing.update()"
   ]
  },
  {
   "cell_type": "code",
   "execution_count": 36,
   "metadata": {
    "collapsed": false
   },
   "outputs": [
    {
     "data": {
      "text/plain": [
       "{'Ga': [1.0, 1.05], 'Hf': [2.1, 2.3], 'Si': [0.789, 0.899]}"
      ]
     },
     "execution_count": 36,
     "metadata": {},
     "output_type": "execute_result"
    }
   ],
   "source": [
    "thing"
   ]
  },
  {
   "cell_type": "code",
   "execution_count": 26,
   "metadata": {
    "collapsed": false
   },
   "outputs": [
    {
     "data": {
      "text/plain": [
       "False"
      ]
     },
     "execution_count": 26,
     "metadata": {},
     "output_type": "execute_result"
    }
   ],
   "source": [
    "thingy.roi_results is False"
   ]
  },
  {
   "cell_type": "code",
   "execution_count": 1,
   "metadata": {
    "collapsed": false
   },
   "outputs": [],
   "source": [
    "from math import exp"
   ]
  },
  {
   "cell_type": "code",
   "execution_count": 5,
   "metadata": {
    "collapsed": true
   },
   "outputs": [],
   "source": [
    "a = exp(1)\n",
    "b = 1"
   ]
  },
  {
   "cell_type": "code",
   "execution_count": 7,
   "metadata": {
    "collapsed": false
   },
   "outputs": [
    {
     "name": "stdout",
     "output_type": "stream",
     "text": [
      "10000000 loops, best of 3: 42.8 ns per loop\n"
     ]
    }
   ],
   "source": [
    "%%timeit\n",
    "a"
   ]
  },
  {
   "cell_type": "code",
   "execution_count": null,
   "metadata": {
    "collapsed": true
   },
   "outputs": [],
   "source": [
    "thingy = {'asd': 5}"
   ]
  },
  {
   "cell_type": "code",
   "execution_count": 9,
   "metadata": {
    "collapsed": false
   },
   "outputs": [
    {
     "name": "stdout",
     "output_type": "stream",
     "text": [
      "Ce\n",
      "\tMa {'energy (keV)': 0.8455, 'weight': 1.0}\n",
      "\tLg1 {'energy (keV)': 6.0542, 'weight': 0.0764}\n",
      "\tLb3 {'energy (keV)': 5.3634, 'weight': 0.1325}\n",
      "\tMb {'energy (keV)': 0.8154, 'weight': 0.91}\n",
      "\tLa {'energy (keV)': 4.8401, 'weight': 1.0}\n",
      "\tMg {'energy (keV)': 1.0754, 'weight': 0.5}\n",
      "\tLn {'energy (keV)': 4.7296, 'weight': 0.015}\n",
      "\tKb {'energy (keV)': 39.2576, 'weight': 0.15}\n",
      "\tLl {'energy (keV)': 4.2888, 'weight': 0.0436}\n",
      "\tLb1 {'energy (keV)': 5.2629, 'weight': 0.43}\n",
      "\tLb2 {'energy (keV)': 5.6134, 'weight': 0.19399}\n",
      "\tLg3 {'energy (keV)': 6.3416, 'weight': 0.0324}\n",
      "\tKa {'energy (keV)': 34.7196, 'weight': 1.0}\n",
      "\tMz {'energy (keV)': 0.6761, 'weight': 0.07}\n",
      "\tM2N4 {'energy (keV)': 1.1628, 'weight': 0.08}\n",
      "\tLb4 {'energy (keV)': 5.276, 'weight': 0.08699}\n",
      "Ga\n",
      "\tKb {'energy (keV)': 10.2642, 'weight': 0.1287}\n",
      "\tLb3 {'energy (keV)': 1.1948, 'weight': 0.0461}\n",
      "\tLl {'energy (keV)': 0.9573, 'weight': 0.0544}\n",
      "\tLb1 {'energy (keV)': 1.1249, 'weight': 0.16704}\n",
      "\tKa {'energy (keV)': 9.2517, 'weight': 1.0}\n",
      "\tLa {'energy (keV)': 1.098, 'weight': 1.0}\n",
      "\tLn {'energy (keV)': 0.9842, 'weight': 0.02509}\n",
      "W\n",
      "\tLb3 {'energy (keV)': 9.8188, 'weight': 0.07077}\n",
      "\tMa {'energy (keV)': 1.7756, 'weight': 1.0}\n",
      "\tM3O5 {'energy (keV)': 2.281, 'weight': 0.01}\n",
      "\tMz {'energy (keV)': 1.3839, 'weight': 0.01344}\n",
      "\tM3O4 {'energy (keV)': 2.2749, 'weight': 0.001}\n",
      "\tMb {'energy (keV)': 1.8351, 'weight': 0.59443}\n",
      "\tLa {'energy (keV)': 8.3976, 'weight': 1.0}\n",
      "\tMg {'energy (keV)': 2.0356, 'weight': 0.08505}\n",
      "\tLn {'energy (keV)': 8.7244, 'weight': 0.01155}\n",
      "\tKb {'energy (keV)': 67.244, 'weight': 0.15}\n",
      "\tLl {'energy (keV)': 7.3872, 'weight': 0.04169}\n",
      "\tLb1 {'energy (keV)': 9.6724, 'weight': 0.3679}\n",
      "\tLb2 {'energy (keV)': 9.9614, 'weight': 0.21385}\n",
      "\tLg3 {'energy (keV)': 11.6745, 'weight': 0.0362}\n",
      "\tKa {'energy (keV)': 59.3182, 'weight': 1.0}\n",
      "\tLg1 {'energy (keV)': 11.2852, 'weight': 0.05658}\n",
      "\tM2N4 {'energy (keV)': 2.3161, 'weight': 0.01}\n",
      "\tLb4 {'energy (keV)': 9.5249, 'weight': 0.05649}\n",
      "Pu\n",
      "\tKb {'energy (keV)': 117.228, 'weight': 0.15}\n",
      "\tMa {'energy (keV)': 3.339, 'weight': 1.0}\n",
      "\tLb1 {'energy (keV)': 18.296, 'weight': 0.40151}\n",
      "\tKa {'energy (keV)': 103.734, 'weight': 1.0}\n",
      "\tMb {'energy (keV)': 3.534, 'weight': 0.59443}\n",
      "\tLa {'energy (keV)': 14.282, 'weight': 1.0}\n",
      "Tm\n",
      "\tMa {'energy (keV)': 1.4624, 'weight': 1.0}\n",
      "\tLg1 {'energy (keV)': 9.4373, 'weight': 0.08615}\n",
      "\tLb3 {'energy (keV)': 8.2312, 'weight': 0.1273}\n",
      "\tMb {'energy (keV)': 1.5093, 'weight': 0.59443}\n",
      "\tLa {'energy (keV)': 7.1803, 'weight': 1.0}\n",
      "\tMg {'energy (keV)': 1.7049, 'weight': 0.08505}\n",
      "\tLn {'energy (keV)': 7.3101, 'weight': 0.0156}\n",
      "\tKb {'energy (keV)': 57.5051, 'weight': 0.15}\n",
      "\tLl {'energy (keV)': 6.3412, 'weight': 0.04889}\n",
      "\tLb1 {'energy (keV)': 8.1023, 'weight': 0.45831}\n",
      "\tLb2 {'energy (keV)': 8.4684, 'weight': 0.20059}\n",
      "\tLg3 {'energy (keV)': 9.7791, 'weight': 0.0329}\n",
      "\tKa {'energy (keV)': 50.7416, 'weight': 1.0}\n",
      "\tMz {'energy (keV)': 1.1311, 'weight': 0.06}\n",
      "\tM2N4 {'energy (keV)': 1.9102, 'weight': 0.01}\n",
      "\tLb4 {'energy (keV)': 8.0259, 'weight': 0.09449}\n",
      "Al\n",
      "\tKb {'energy (keV)': 1.5596, 'weight': 0.0132}\n",
      "\tKa {'energy (keV)': 1.4865, 'weight': 1.0}\n",
      "B\n",
      "\tKa {'energy (keV)': 0.1833, 'weight': 1.0}\n",
      "Ge\n",
      "\tKb {'energy (keV)': 10.9823, 'weight': 0.1322}\n",
      "\tLb3 {'energy (keV)': 1.2935, 'weight': 0.04429}\n",
      "\tLl {'energy (keV)': 1.0367, 'weight': 0.0511}\n",
      "\tLb1 {'energy (keV)': 1.2191, 'weight': 0.16704}\n",
      "\tKa {'energy (keV)': 9.8864, 'weight': 1.0}\n",
      "\tLa {'energy (keV)': 1.188, 'weight': 1.0}\n",
      "\tLn {'energy (keV)': 1.0678, 'weight': 0.02}\n",
      "Er\n",
      "\tMa {'energy (keV)': 1.405, 'weight': 1.0}\n",
      "\tLg1 {'energy (keV)': 9.0876, 'weight': 0.08487}\n",
      "\tLb3 {'energy (keV)': 7.9395, 'weight': 0.1258}\n",
      "\tMb {'energy (keV)': 1.449, 'weight': 0.59443}\n",
      "\tLa {'energy (keV)': 6.9486, 'weight': 1.0}\n",
      "\tMg {'energy (keV)': 1.6442, 'weight': 0.08505}\n",
      "\tLn {'energy (keV)': 7.0578, 'weight': 0.0153}\n",
      "\tKb {'energy (keV)': 55.6737, 'weight': 0.15}\n",
      "\tLl {'energy (keV)': 6.1514, 'weight': 0.0482}\n",
      "\tLb1 {'energy (keV)': 7.811, 'weight': 0.45263}\n",
      "\tLb2 {'energy (keV)': 8.1903, 'weight': 0.2005}\n",
      "\tLg3 {'energy (keV)': 9.4313, 'weight': 0.0324}\n",
      "\tKa {'energy (keV)': 49.1276, 'weight': 1.0}\n",
      "\tMz {'energy (keV)': 1.0893, 'weight': 0.06}\n",
      "\tM2N4 {'energy (keV)': 1.8291, 'weight': 0.0045}\n",
      "\tLb4 {'energy (keV)': 7.7455, 'weight': 0.0922}\n",
      "Ir\n",
      "\tLb3 {'energy (keV)': 10.8678, 'weight': 0.0874}\n",
      "\tMa {'energy (keV)': 1.9799, 'weight': 1.0}\n",
      "\tM3O5 {'energy (keV)': 2.54385, 'weight': 0.01}\n",
      "\tMz {'energy (keV)': 1.5461, 'weight': 0.01344}\n",
      "\tM3O4 {'energy (keV)': 2.54264, 'weight': 0.005}\n",
      "\tMb {'energy (keV)': 2.0527, 'weight': 0.59443}\n",
      "\tLa {'energy (keV)': 9.1748, 'weight': 1.0}\n",
      "\tMg {'energy (keV)': 2.2558, 'weight': 0.08505}\n",
      "\tLn {'energy (keV)': 9.6504, 'weight': 0.01429}\n",
      "\tKb {'energy (keV)': 73.5603, 'weight': 0.15}\n",
      "\tLl {'energy (keV)': 8.0415, 'weight': 0.05429}\n",
      "\tLb1 {'energy (keV)': 10.708, 'weight': 0.4168}\n",
      "\tLb2 {'energy (keV)': 10.9203, 'weight': 0.216}\n",
      "\tLg3 {'energy (keV)': 12.9242, 'weight': 0.024}\n",
      "\tKa {'energy (keV)': 64.8958, 'weight': 1.0}\n",
      "\tLg1 {'energy (keV)': 12.5127, 'weight': 0.08543}\n",
      "\tM2N4 {'energy (keV)': 2.5973, 'weight': 0.02901}\n",
      "\tLb4 {'energy (keV)': 10.5098, 'weight': 0.07269}\n",
      "Th\n",
      "\tLb3 {'energy (keV)': 16.426, 'weight': 0.06}\n",
      "\tMa {'energy (keV)': 2.9968, 'weight': 1.0}\n",
      "\tM3O5 {'energy (keV)': 3.9582, 'weight': 0.01}\n",
      "\tMz {'energy (keV)': 2.3647, 'weight': 0.03512}\n",
      "\tM3O4 {'energy (keV)': 3.9518, 'weight': 0.01}\n",
      "\tMb {'energy (keV)': 3.1464, 'weight': 0.64124}\n",
      "\tLa {'energy (keV)': 12.9683, 'weight': 1.0}\n",
      "\tMg {'energy (keV)': 3.3697, 'weight': 0.33505}\n",
      "\tLn {'energy (keV)': 14.5109, 'weight': 0.0134}\n",
      "\tKb {'energy (keV)': 105.6049, 'weight': 0.15}\n",
      "\tLl {'energy (keV)': 11.118, 'weight': 0.06709}\n",
      "\tLb1 {'energy (keV)': 16.2024, 'weight': 0.4}\n",
      "\tLb2 {'energy (keV)': 15.6239, 'weight': 0.236}\n",
      "\tLg3 {'energy (keV)': 19.5048, 'weight': 0.017}\n",
      "\tKa {'energy (keV)': 93.3507, 'weight': 1.0}\n",
      "\tLg1 {'energy (keV)': 18.9791, 'weight': 0.08}\n",
      "\tM2N4 {'energy (keV)': 4.1163, 'weight': 0.00674}\n",
      "\tLb4 {'energy (keV)': 15.6417, 'weight': 0.05}\n",
      "Pt\n",
      "\tLb3 {'energy (keV)': 11.2345, 'weight': 0.0783}\n",
      "\tMa {'energy (keV)': 2.0505, 'weight': 1.0}\n",
      "\tM3O5 {'energy (keV)': 2.63927, 'weight': 0.01}\n",
      "\tMz {'energy (keV)': 1.6026, 'weight': 0.01344}\n",
      "\tM3O4 {'energy (keV)': 2.63796, 'weight': 0.005}\n",
      "\tMb {'energy (keV)': 2.1276, 'weight': 0.59443}\n",
      "\tLa {'energy (keV)': 9.4421, 'weight': 1.0}\n",
      "\tMg {'energy (keV)': 2.3321, 'weight': 0.08505}\n",
      "\tLn {'energy (keV)': 9.9766, 'weight': 0.01399}\n",
      "\tKb {'energy (keV)': 75.7494, 'weight': 0.15}\n",
      "\tLl {'energy (keV)': 8.2677, 'weight': 0.0554}\n",
      "\tLb1 {'energy (keV)': 11.0707, 'weight': 0.4088}\n",
      "\tLb2 {'energy (keV)': 11.2504, 'weight': 0.21829}\n",
      "\tLg3 {'energy (keV)': 13.3609, 'weight': 0.0218}\n",
      "\tKa {'energy (keV)': 66.8311, 'weight': 1.0}\n",
      "\tLg1 {'energy (keV)': 12.9418, 'weight': 0.08448}\n",
      "\tM2N4 {'energy (keV)': 2.6957, 'weight': 0.02901}\n",
      "\tLb4 {'energy (keV)': 10.8534, 'weight': 0.0662}\n",
      "Zn\n",
      "\tKb {'energy (keV)': 9.572, 'weight': 0.12605}\n",
      "\tLb3 {'energy (keV)': 1.107, 'weight': 0.002}\n",
      "\tLl {'energy (keV)': 0.8838, 'weight': 0.0603}\n",
      "\tLb1 {'energy (keV)': 1.0347, 'weight': 0.1679}\n",
      "\tKa {'energy (keV)': 8.6389, 'weight': 1.0}\n",
      "\tLa {'energy (keV)': 1.0116, 'weight': 1.0}\n",
      "\tLn {'energy (keV)': 0.9069, 'weight': 0.0368}\n",
      "K\n",
      "\tKb {'energy (keV)': 3.5896, 'weight': 0.1039}\n",
      "\tKa {'energy (keV)': 3.3138, 'weight': 1.0}\n",
      "Hf\n",
      "\tMa {'energy (keV)': 1.6446, 'weight': 1.0}\n",
      "\tLg1 {'energy (keV)': 10.5156, 'weight': 0.08968}\n",
      "\tLb3 {'energy (keV)': 9.1631, 'weight': 0.1316}\n",
      "\tMb {'energy (keV)': 1.6993, 'weight': 0.59443}\n",
      "\tLa {'energy (keV)': 7.899, 'weight': 1.0}\n",
      "\tMg {'energy (keV)': 1.8939, 'weight': 0.08505}\n",
      "\tLn {'energy (keV)': 8.1385, 'weight': 0.0158}\n",
      "\tKb {'energy (keV)': 63.2432, 'weight': 0.15}\n",
      "\tLl {'energy (keV)': 6.9598, 'weight': 0.05089}\n",
      "\tLb1 {'energy (keV)': 9.023, 'weight': 0.46231}\n",
      "\tLb2 {'energy (keV)': 9.347, 'weight': 0.2048}\n",
      "\tLg3 {'energy (keV)': 10.8903, 'weight': 0.0347}\n",
      "\tKa {'energy (keV)': 55.7901, 'weight': 1.0}\n",
      "\tMz {'energy (keV)': 1.2813, 'weight': 0.06}\n",
      "\tM2N4 {'energy (keV)': 2.1416, 'weight': 0.01}\n",
      "\tLb4 {'energy (keV)': 8.9053, 'weight': 0.10189}\n",
      "Fr\n",
      "\tLg1 {'energy (keV)': 17.3032, 'weight': 0.08}\n",
      "\tLb3 {'energy (keV)': 14.976, 'weight': 0.05969}\n",
      "\tMb {'energy (keV)': 2.88971, 'weight': 0.64124}\n",
      "\tLa {'energy (keV)': 12.0315, 'weight': 1.0}\n",
      "\tMg {'energy (keV)': 3.086, 'weight': 0.21845}\n",
      "\tLn {'energy (keV)': 13.2545, 'weight': 0.0134}\n",
      "\tKb {'energy (keV)': 97.474, 'weight': 0.15}\n",
      "\tLl {'energy (keV)': 10.3792, 'weight': 0.06339}\n",
      "\tLb1 {'energy (keV)': 14.7703, 'weight': 0.38327}\n",
      "\tLb2 {'energy (keV)': 14.4542, 'weight': 0.2337}\n",
      "\tLg3 {'energy (keV)': 17.829, 'weight': 0.017}\n",
      "\tKa {'energy (keV)': 86.1058, 'weight': 1.0}\n",
      "\tMz {'energy (keV)': 2.1897, 'weight': 0.0058}\n",
      "\tM2N4 {'energy (keV)': 3.7237, 'weight': 0.00674}\n",
      "\tLb4 {'energy (keV)': 14.312, 'weight': 0.0603}\n",
      "Gd\n",
      "\tMa {'energy (keV)': 1.17668, 'weight': 1.0}\n",
      "\tLg1 {'energy (keV)': 7.7898, 'weight': 0.08207}\n",
      "\tLb3 {'energy (keV)': 6.8316, 'weight': 0.1255}\n",
      "\tMb {'energy (keV)': 1.20792, 'weight': 0.88}\n",
      "\tLa {'energy (keV)': 6.0576, 'weight': 1.0}\n",
      "\tMg {'energy (keV)': 1.4035, 'weight': 0.261}\n",
      "\tLn {'energy (keV)': 6.0495, 'weight': 0.01489}\n",
      "\tKb {'energy (keV)': 48.6951, 'weight': 0.15}\n",
      "\tLl {'energy (keV)': 5.362, 'weight': 0.04629}\n",
      "\tLb1 {'energy (keV)': 6.7131, 'weight': 0.44127}\n",
      "\tLb2 {'energy (keV)': 7.1023, 'weight': 0.2014}\n",
      "\tLg3 {'energy (keV)': 8.1047, 'weight': 0.032}\n",
      "\tKa {'energy (keV)': 42.9963, 'weight': 1.0}\n",
      "\tMz {'energy (keV)': 0.9143, 'weight': 0.06}\n",
      "\tM2N4 {'energy (keV)': 1.5478, 'weight': 0.014}\n",
      "\tLb4 {'energy (keV)': 6.6873, 'weight': 0.08789}\n",
      "Ne\n",
      "\tKb {'energy (keV)': 0.8669, 'weight': 0.01}\n",
      "\tKa {'energy (keV)': 0.8486, 'weight': 1.0}\n",
      "Ag\n",
      "\tKb {'energy (keV)': 24.9426, 'weight': 0.15}\n",
      "\tLb3 {'energy (keV)': 3.2344, 'weight': 0.0737}\n",
      "\tLl {'energy (keV)': 2.6336, 'weight': 0.04129}\n",
      "\tLb1 {'energy (keV)': 3.1509, 'weight': 0.35175}\n",
      "\tLb2 {'energy (keV)': 3.3478, 'weight': 0.1165}\n",
      "\tLg1 {'energy (keV)': 3.5204, 'weight': 0.03735}\n",
      "\tLg3 {'energy (keV)': 3.7499, 'weight': 0.014}\n",
      "\tKa {'energy (keV)': 22.1629, 'weight': 1.0}\n",
      "\tLn {'energy (keV)': 2.8062, 'weight': 0.0131}\n",
      "\tLa {'energy (keV)': 2.9844, 'weight': 1.0}\n",
      "\tLb4 {'energy (keV)': 3.2034, 'weight': 0.0444}\n",
      "Zr\n",
      "\tKb {'energy (keV)': 17.6671, 'weight': 0.15}\n",
      "\tLb3 {'energy (keV)': 2.2011, 'weight': 0.05219}\n",
      "\tLl {'energy (keV)': 1.792, 'weight': 0.04209}\n",
      "\tLb1 {'energy (keV)': 2.1243, 'weight': 0.37912}\n",
      "\tLb2 {'energy (keV)': 2.2223, 'weight': 0.0177}\n",
      "\tLg3 {'energy (keV)': 2.5029, 'weight': 0.0082}\n",
      "\tKa {'energy (keV)': 15.7753, 'weight': 1.0}\n",
      "\tLg1 {'energy (keV)': 2.30268, 'weight': 0.006}\n",
      "\tLa {'energy (keV)': 2.0423, 'weight': 1.0}\n",
      "\tLn {'energy (keV)': 1.8764, 'weight': 0.0153}\n",
      "U\n",
      "\tLb3 {'energy (keV)': 17.454, 'weight': 0.06}\n",
      "\tMa {'energy (keV)': 3.1708, 'weight': 1.0}\n",
      "\tM3O5 {'energy (keV)': 4.2071, 'weight': 0.01}\n",
      "\tMz {'energy (keV)': 2.5068, 'weight': 0.03512}\n",
      "\tM3O4 {'energy (keV)': 4.1984, 'weight': 0.01}\n",
      "\tMb {'energy (keV)': 3.3363, 'weight': 0.6086}\n",
      "\tLa {'energy (keV)': 13.6146, 'weight': 1.0}\n",
      "\tMg {'energy (keV)': 3.5657, 'weight': 0.33505}\n",
      "\tLn {'energy (keV)': 15.3996, 'weight': 0.01199}\n",
      "\tKb {'energy (keV)': 111.3026, 'weight': 0.15}\n",
      "\tLl {'energy (keV)': 11.6183, 'weight': 0.069}\n",
      "\tLb1 {'energy (keV)': 17.22, 'weight': 0.4}\n",
      "\tLb2 {'energy (keV)': 16.4286, 'weight': 0.236}\n",
      "\tLg3 {'energy (keV)': 20.7125, 'weight': 0.017}\n",
      "\tKa {'energy (keV)': 98.4397, 'weight': 1.0}\n",
      "\tLg1 {'energy (keV)': 20.1672, 'weight': 0.08}\n",
      "\tM2N4 {'energy (keV)': 4.4018, 'weight': 0.00674}\n",
      "\tLb4 {'energy (keV)': 16.5752, 'weight': 0.04}\n",
      "Cs\n",
      "\tKb {'energy (keV)': 34.987, 'weight': 0.15}\n",
      "\tLb3 {'energy (keV)': 4.7167, 'weight': 0.1399}\n",
      "\tLl {'energy (keV)': 3.7948, 'weight': 0.04269}\n",
      "\tLb1 {'energy (keV)': 4.6199, 'weight': 0.42983}\n",
      "\tLb2 {'energy (keV)': 4.9354, 'weight': 0.19589}\n",
      "\tLg1 {'energy (keV)': 5.2806, 'weight': 0.07215}\n",
      "\tLg3 {'energy (keV)': 5.5527, 'weight': 0.0325}\n",
      "\tKa {'energy (keV)': 30.9727, 'weight': 1.0}\n",
      "\tLn {'energy (keV)': 4.1423, 'weight': 0.0152}\n",
      "\tLa {'energy (keV)': 4.2864, 'weight': 1.0}\n",
      "\tLb4 {'energy (keV)': 4.6493, 'weight': 0.08869}\n",
      "Sn\n",
      "\tKb {'energy (keV)': 28.4857, 'weight': 0.15}\n",
      "\tLb3 {'energy (keV)': 3.7503, 'weight': 0.1547}\n",
      "\tLl {'energy (keV)': 3.045, 'weight': 0.0416}\n",
      "\tLb1 {'energy (keV)': 3.6628, 'weight': 0.43456}\n",
      "\tLb2 {'energy (keV)': 3.9049, 'weight': 0.14689}\n",
      "\tLg1 {'energy (keV)': 4.1322, 'weight': 0.058}\n",
      "\tLg3 {'energy (keV)': 4.3761, 'weight': 0.0321}\n",
      "\tKa {'energy (keV)': 25.2713, 'weight': 1.0}\n",
      "\tLn {'energy (keV)': 3.2723, 'weight': 0.0158}\n",
      "\tLa {'energy (keV)': 3.444, 'weight': 1.0}\n",
      "\tLb4 {'energy (keV)': 3.7083, 'weight': 0.0948}\n",
      "Au\n",
      "\tLb3 {'energy (keV)': 11.6098, 'weight': 0.069}\n",
      "\tMa {'energy (keV)': 2.1229, 'weight': 1.0}\n",
      "\tM3O5 {'energy (keV)': 2.73621, 'weight': 0.01}\n",
      "\tMz {'energy (keV)': 1.6603, 'weight': 0.01344}\n",
      "\tM3O4 {'energy (keV)': 2.73469, 'weight': 0.005}\n",
      "\tMb {'energy (keV)': 2.2047, 'weight': 0.59443}\n",
      "\tLa {'energy (keV)': 9.713, 'weight': 1.0}\n",
      "\tMg {'energy (keV)': 2.4091, 'weight': 0.08505}\n",
      "\tLn {'energy (keV)': 10.3087, 'weight': 0.01379}\n",
      "\tKb {'energy (keV)': 77.9819, 'weight': 0.15}\n",
      "\tLl {'energy (keV)': 8.4938, 'weight': 0.0562}\n",
      "\tLb1 {'energy (keV)': 11.4425, 'weight': 0.40151}\n",
      "\tLb2 {'energy (keV)': 11.5848, 'weight': 0.21949}\n",
      "\tLg3 {'energy (keV)': 13.8074, 'weight': 0.0194}\n",
      "\tKa {'energy (keV)': 68.8062, 'weight': 1.0}\n",
      "\tLg1 {'energy (keV)': 13.3816, 'weight': 0.08407}\n",
      "\tM2N4 {'energy (keV)': 2.7958, 'weight': 0.02901}\n",
      "\tLb4 {'energy (keV)': 11.205, 'weight': 0.0594}\n",
      "F\n",
      "\tKa {'energy (keV)': 0.6768, 'weight': 1.0}\n",
      "Si\n",
      "\tKb {'energy (keV)': 1.8389, 'weight': 0.02779}\n",
      "\tKa {'energy (keV)': 1.7397, 'weight': 1.0}\n",
      "N\n",
      "\tKa {'energy (keV)': 0.3924, 'weight': 1.0}\n",
      "Nb\n",
      "\tKb {'energy (keV)': 18.6226, 'weight': 0.15}\n",
      "\tLb3 {'energy (keV)': 2.3347, 'weight': 0.06429}\n",
      "\tLl {'energy (keV)': 1.9021, 'weight': 0.04169}\n",
      "\tLb1 {'energy (keV)': 2.2573, 'weight': 0.32519}\n",
      "\tLb2 {'energy (keV)': 2.3705, 'weight': 0.03299}\n",
      "\tLg3 {'energy (keV)': 2.6638, 'weight': 0.0103}\n",
      "\tKa {'energy (keV)': 16.6151, 'weight': 1.0}\n",
      "\tLg1 {'energy (keV)': 2.4615, 'weight': 0.00975}\n",
      "\tLa {'energy (keV)': 2.1659, 'weight': 1.0}\n",
      "\tLn {'energy (keV)': 1.9963, 'weight': 0.0129}\n",
      "Co\n",
      "\tKb {'energy (keV)': 7.6494, 'weight': 0.1277}\n",
      "\tLb3 {'energy (keV)': 0.8661, 'weight': 0.0238}\n",
      "\tLl {'energy (keV)': 0.6779, 'weight': 0.2157}\n",
      "\tKa {'energy (keV)': 6.9303, 'weight': 1.0}\n",
      "\tLa {'energy (keV)': 0.7757, 'weight': 1.0}\n",
      "\tLn {'energy (keV)': 0.6929, 'weight': 0.0833}\n",
      "Mn\n",
      "\tKb {'energy (keV)': 6.4904, 'weight': 0.1252}\n",
      "\tLb3 {'energy (keV)': 0.7204, 'weight': 0.0263}\n",
      "\tLl {'energy (keV)': 0.5564, 'weight': 0.3898}\n",
      "\tKa {'energy (keV)': 5.8987, 'weight': 1.0}\n",
      "\tLa {'energy (keV)': 0.63316, 'weight': 1.0}\n",
      "\tLn {'energy (keV)': 0.5675, 'weight': 0.1898}\n",
      "I\n",
      "\tKb {'energy (keV)': 32.2948, 'weight': 0.15}\n",
      "\tLb3 {'energy (keV)': 4.3135, 'weight': 0.1464}\n",
      "\tLl {'energy (keV)': 3.485, 'weight': 0.0423}\n",
      "\tLb1 {'energy (keV)': 4.2208, 'weight': 0.43087}\n",
      "\tLb2 {'energy (keV)': 4.5075, 'weight': 0.17059}\n",
      "\tLg1 {'energy (keV)': 4.8025, 'weight': 0.06704}\n",
      "\tLg3 {'energy (keV)': 5.0654, 'weight': 0.0327}\n",
      "\tKa {'energy (keV)': 28.6123, 'weight': 1.0}\n",
      "\tLn {'energy (keV)': 3.78, 'weight': 0.0154}\n",
      "\tLa {'energy (keV)': 3.9377, 'weight': 1.0}\n",
      "\tLb4 {'energy (keV)': 4.2576, 'weight': 0.09189}\n",
      "As\n",
      "\tKb {'energy (keV)': 11.7262, 'weight': 0.14589}\n",
      "\tLb3 {'energy (keV)': 1.386, 'weight': 0.04769}\n",
      "\tLl {'energy (keV)': 1.1196, 'weight': 0.04929}\n",
      "\tLb1 {'energy (keV)': 1.3174, 'weight': 0.16704}\n",
      "\tKa {'energy (keV)': 10.5436, 'weight': 1.0}\n",
      "\tLa {'energy (keV)': 1.2819, 'weight': 1.0}\n",
      "\tLn {'energy (keV)': 1.1551, 'weight': 0.01929}\n",
      "Y\n",
      "\tKb {'energy (keV)': 16.7381, 'weight': 0.15}\n",
      "\tLb3 {'energy (keV)': 2.0722, 'weight': 0.05059}\n",
      "\tLl {'energy (keV)': 1.6864, 'weight': 0.0428}\n",
      "\tLb1 {'energy (keV)': 1.9959, 'weight': 0.39127}\n",
      "\tLb2 {'energy (keV)': 2.08, 'weight': 0.00739}\n",
      "\tLg3 {'energy (keV)': 2.3469, 'weight': 0.0075}\n",
      "\tKa {'energy (keV)': 14.9584, 'weight': 1.0}\n",
      "\tLg1 {'energy (keV)': 2.1555, 'weight': 0.00264}\n",
      "\tLa {'energy (keV)': 1.9226, 'weight': 1.0}\n",
      "\tLn {'energy (keV)': 1.7619, 'weight': 0.0162}\n",
      "Ta\n",
      "\tLb3 {'energy (keV)': 9.4875, 'weight': 0.1333}\n",
      "\tMa {'energy (keV)': 1.7101, 'weight': 1.0}\n",
      "\tM3O5 {'energy (keV)': 2.194, 'weight': 0.01}\n",
      "\tMz {'energy (keV)': 1.3306, 'weight': 0.01344}\n",
      "\tM3O4 {'energy (keV)': 2.1883, 'weight': 0.0001}\n",
      "\tMb {'energy (keV)': 1.7682, 'weight': 0.59443}\n",
      "\tLa {'energy (keV)': 8.146, 'weight': 1.0}\n",
      "\tMg {'energy (keV)': 1.9647, 'weight': 0.08505}\n",
      "\tLn {'energy (keV)': 8.4281, 'weight': 0.0158}\n",
      "\tKb {'energy (keV)': 65.2224, 'weight': 0.15}\n",
      "\tLl {'energy (keV)': 7.1731, 'weight': 0.0515}\n",
      "\tLb1 {'energy (keV)': 9.3429, 'weight': 0.46248}\n",
      "\tLb2 {'energy (keV)': 9.6518, 'weight': 0.2076}\n",
      "\tLg3 {'energy (keV)': 11.277, 'weight': 0.0354}\n",
      "\tKa {'energy (keV)': 57.5353, 'weight': 1.0}\n",
      "\tLg1 {'energy (keV)': 10.8948, 'weight': 0.09071}\n",
      "\tM2N4 {'energy (keV)': 2.2274, 'weight': 0.01}\n",
      "\tLb4 {'energy (keV)': 9.2128, 'weight': 0.10449}\n",
      "At\n",
      "\tLg1 {'energy (keV)': 16.2515, 'weight': 0.08}\n",
      "\tLb3 {'energy (keV)': 14.067, 'weight': 0.06}\n",
      "\tMb {'energy (keV)': 2.71162, 'weight': 0.64124}\n",
      "\tLa {'energy (keV)': 11.4268, 'weight': 1.0}\n",
      "\tMg {'energy (keV)': 2.95061, 'weight': 0.21845}\n",
      "\tLn {'energy (keV)': 12.4677, 'weight': 0.0132}\n",
      "\tKb {'energy (keV)': 92.3039, 'weight': 0.15}\n",
      "\tLl {'energy (keV)': 9.8965, 'weight': 0.06179}\n",
      "\tLb1 {'energy (keV)': 13.876, 'weight': 0.38048}\n",
      "\tLb2 {'energy (keV)': 13.73812, 'weight': 0.2305}\n",
      "\tLg3 {'energy (keV)': 16.753, 'weight': 0.017}\n",
      "\tKa {'energy (keV)': 81.5164, 'weight': 1.0}\n",
      "\tMz {'energy (keV)': 2.0467, 'weight': 0.00354}\n",
      "\tM2N4 {'energy (keV)': 3.4748, 'weight': 0.00863}\n",
      "\tLb4 {'energy (keV)': 13.485, 'weight': 0.05809}\n",
      "S\n",
      "\tKb {'energy (keV)': 2.46427, 'weight': 0.06525}\n",
      "\tKa {'energy (keV)': 2.3072, 'weight': 1.0}\n",
      "Ac\n",
      "\tMa {'energy (keV)': 2.9239330000000003, 'weight': 1.0}\n",
      "\tM3O5 {'energy (keV)': 3.83206, 'weight': 0.01}\n",
      "\tMz {'energy (keV)': 2.329, 'weight': 0.03512}\n",
      "\tLb3 {'energy (keV)': 15.931, 'weight': 0.06}\n",
      "\tMb {'energy (keV)': 3.06626, 'weight': 0.64124}\n",
      "\tLa {'energy (keV)': 12.652, 'weight': 1.0}\n",
      "\tMg {'energy (keV)': 3.272, 'weight': 0.33505}\n",
      "\tLn {'energy (keV)': 14.0812, 'weight': 0.0133}\n",
      "\tKb {'energy (keV)': 102.846, 'weight': 0.15}\n",
      "\tLl {'energy (keV)': 10.869, 'weight': 0.06549}\n",
      "\tLb1 {'energy (keV)': 15.713, 'weight': 0.4}\n",
      "\tLb2 {'energy (keV)': 15.234, 'weight': 0.236}\n",
      "\tLg3 {'energy (keV)': 18.95, 'weight': 0.017}\n",
      "\tKa {'energy (keV)': 90.884, 'weight': 1.0}\n",
      "\tLg1 {'energy (keV)': 18.4083, 'weight': 0.08}\n",
      "\tM2N4 {'energy (keV)': 3.9811, 'weight': 0.00674}\n",
      "\tM3O4 {'energy (keV)': 3.82586, 'weight': 0.01}\n",
      "Ru\n",
      "\tKb {'energy (keV)': 21.6566, 'weight': 0.15}\n",
      "\tLb3 {'energy (keV)': 2.7634, 'weight': 0.0654}\n",
      "\tLl {'energy (keV)': 2.2529, 'weight': 0.0411}\n",
      "\tLb1 {'energy (keV)': 2.6833, 'weight': 0.33039}\n",
      "\tLb2 {'energy (keV)': 2.8359, 'weight': 0.07259}\n",
      "\tLg3 {'energy (keV)': 3.1809, 'weight': 0.0115}\n",
      "\tKa {'energy (keV)': 19.2793, 'weight': 1.0}\n",
      "\tLg1 {'energy (keV)': 2.9649, 'weight': 0.02176}\n",
      "\tLa {'energy (keV)': 2.5585, 'weight': 1.0}\n",
      "\tLn {'energy (keV)': 2.3819, 'weight': 0.0126}\n",
      "Dy\n",
      "\tMa {'energy (keV)': 1.2907, 'weight': 1.0}\n",
      "\tLg1 {'energy (keV)': 8.4264, 'weight': 0.08295}\n",
      "\tLb3 {'energy (keV)': 7.3702, 'weight': 0.12529}\n",
      "\tMb {'energy (keV)': 1.3283, 'weight': 0.76}\n",
      "\tLa {'energy (keV)': 6.4952, 'weight': 1.0}\n",
      "\tMg {'energy (keV)': 1.5214, 'weight': 0.08505}\n",
      "\tLn {'energy (keV)': 6.5338, 'weight': 0.01489}\n",
      "\tKb {'energy (keV)': 52.1129, 'weight': 0.15}\n",
      "\tLl {'energy (keV)': 5.7433, 'weight': 0.0473}\n",
      "\tLb1 {'energy (keV)': 7.2481, 'weight': 0.444}\n",
      "\tLb2 {'energy (keV)': 7.6359, 'weight': 0.2}\n",
      "\tLg3 {'energy (keV)': 8.7529, 'weight': 0.0319}\n",
      "\tKa {'energy (keV)': 45.9984, 'weight': 1.0}\n",
      "\tMz {'energy (keV)': 1.002, 'weight': 0.06}\n",
      "\tM2N4 {'energy (keV)': 1.6876, 'weight': 0.008}\n",
      "\tLb4 {'energy (keV)': 7.204, 'weight': 0.0891}\n",
      "Nd\n",
      "\tMa {'energy (keV)': 0.9402, 'weight': 1.0}\n",
      "\tLg1 {'energy (keV)': 6.604, 'weight': 0.07712}\n",
      "\tLb3 {'energy (keV)': 5.8286, 'weight': 0.12869}\n",
      "\tMb {'energy (keV)': 0.9965, 'weight': 0.99}\n",
      "\tLa {'energy (keV)': 5.2302, 'weight': 1.0}\n",
      "\tMg {'energy (keV)': 1.1799, 'weight': 0.625}\n",
      "\tLn {'energy (keV)': 5.1462, 'weight': 0.01469}\n",
      "\tKb {'energy (keV)': 42.2715, 'weight': 0.15}\n",
      "\tLl {'energy (keV)': 4.6326, 'weight': 0.04429}\n",
      "\tLb1 {'energy (keV)': 5.722, 'weight': 0.42672}\n",
      "\tLb2 {'energy (keV)': 6.0904, 'weight': 0.1957}\n",
      "\tLg3 {'energy (keV)': 6.9014, 'weight': 0.0318}\n",
      "\tKa {'energy (keV)': 37.361, 'weight': 1.0}\n",
      "\tMz {'energy (keV)': 0.7531, 'weight': 0.069}\n",
      "\tM2N4 {'energy (keV)': 1.2853, 'weight': 0.052}\n",
      "\tLb4 {'energy (keV)': 5.7232, 'weight': 0.0858}\n",
      "Re\n",
      "\tLb3 {'energy (keV)': 10.1594, 'weight': 0.1222}\n",
      "\tMa {'energy (keV)': 1.8423, 'weight': 1.0}\n",
      "\tM3O5 {'energy (keV)': 2.36209, 'weight': 0.01}\n",
      "\tMz {'energy (keV)': 1.4385, 'weight': 0.01344}\n",
      "\tM3O4 {'energy (keV)': 2.36124, 'weight': 0.001}\n",
      "\tMb {'energy (keV)': 1.9083, 'weight': 0.59443}\n",
      "\tLa {'energy (keV)': 8.6524, 'weight': 1.0}\n",
      "\tMg {'energy (keV)': 2.1071, 'weight': 0.08505}\n",
      "\tLn {'energy (keV)': 9.027, 'weight': 0.0151}\n",
      "\tKb {'energy (keV)': 69.3091, 'weight': 0.15}\n",
      "\tLl {'energy (keV)': 7.6036, 'weight': 0.05299}\n",
      "\tLb1 {'energy (keV)': 10.0098, 'weight': 0.4408}\n",
      "\tLb2 {'energy (keV)': 10.2751, 'weight': 0.21219}\n",
      "\tLg3 {'energy (keV)': 12.0823, 'weight': 0.0331}\n",
      "\tKa {'energy (keV)': 61.1411, 'weight': 1.0}\n",
      "\tLg1 {'energy (keV)': 11.685, 'weight': 0.08864}\n",
      "\tM2N4 {'energy (keV)': 2.4079, 'weight': 0.01}\n",
      "\tLb4 {'energy (keV)': 9.8451, 'weight': 0.09869}\n",
      "Na\n",
      "\tKb {'energy (keV)': 1.0721, 'weight': 0.01}\n",
      "\tKa {'energy (keV)': 1.041, 'weight': 1.0}\n",
      "Pd\n",
      "\tKb {'energy (keV)': 23.8188, 'weight': 0.15}\n",
      "\tLb3 {'energy (keV)': 3.0728, 'weight': 0.0682}\n",
      "\tLl {'energy (keV)': 2.5034, 'weight': 0.0412}\n",
      "\tLb1 {'energy (keV)': 2.9903, 'weight': 0.34375}\n",
      "\tLb2 {'energy (keV)': 3.16828, 'weight': 0.10349}\n",
      "\tLg1 {'energy (keV)': 3.32485, 'weight': 0.03256}\n",
      "\tLg3 {'energy (keV)': 3.5532, 'weight': 0.0125}\n",
      "\tKa {'energy (keV)': 21.177, 'weight': 1.0}\n",
      "\tLn {'energy (keV)': 2.6604, 'weight': 0.0129}\n",
      "\tLa {'energy (keV)': 2.8386, 'weight': 1.0}\n",
      "\tLb4 {'energy (keV)': 3.0452, 'weight': 0.0407}\n",
      "Fe\n",
      "\tKb {'energy (keV)': 7.058, 'weight': 0.1272}\n",
      "\tLb3 {'energy (keV)': 0.7921, 'weight': 0.02448}\n",
      "\tLl {'energy (keV)': 0.6152, 'weight': 0.3086}\n",
      "\tKa {'energy (keV)': 6.4039, 'weight': 1.0}\n",
      "\tLa {'energy (keV)': 0.7045, 'weight': 1.0}\n",
      "\tLn {'energy (keV)': 0.6282, 'weight': 0.12525}\n",
      "Ti\n",
      "\tKb {'energy (keV)': 4.9318, 'weight': 0.11673}\n",
      "\tLb3 {'energy (keV)': 0.5291, 'weight': 0.166}\n",
      "\tLl {'energy (keV)': 0.3952, 'weight': 1.0}\n",
      "\tKa {'energy (keV)': 4.5109, 'weight': 1.0}\n",
      "\tLa {'energy (keV)': 0.4555, 'weight': 0.694}\n",
      "\tLn {'energy (keV)': 0.4012, 'weight': 0.491}\n",
      "Te\n",
      "\tKb {'energy (keV)': 30.9951, 'weight': 0.15}\n",
      "\tLb3 {'energy (keV)': 4.1205, 'weight': 0.1458}\n",
      "\tLl {'energy (keV)': 3.3354, 'weight': 0.0419}\n",
      "\tLb1 {'energy (keV)': 4.0295, 'weight': 0.43183}\n",
      "\tLb2 {'energy (keV)': 4.3016, 'weight': 0.16269}\n",
      "\tLg1 {'energy (keV)': 4.5722, 'weight': 0.06375}\n",
      "\tLg3 {'energy (keV)': 4.829, 'weight': 0.0317}\n",
      "\tKa {'energy (keV)': 27.4724, 'weight': 1.0}\n",
      "\tLn {'energy (keV)': 3.606, 'weight': 0.0154}\n",
      "\tLa {'energy (keV)': 3.7693, 'weight': 1.0}\n",
      "\tLb4 {'energy (keV)': 4.0695, 'weight': 0.0906}\n",
      "Ra\n",
      "\tLg1 {'energy (keV)': 17.8484, 'weight': 0.08}\n",
      "\tLb3 {'energy (keV)': 15.4449, 'weight': 0.06}\n",
      "\tMb {'energy (keV)': 2.9495, 'weight': 0.64124}\n",
      "\tLa {'energy (keV)': 12.3395, 'weight': 1.0}\n",
      "\tMg {'energy (keV)': 3.1891, 'weight': 0.33505}\n",
      "\tLn {'energy (keV)': 13.6623, 'weight': 0.0133}\n",
      "\tKb {'energy (keV)': 100.1302, 'weight': 0.15}\n",
      "\tLl {'energy (keV)': 10.6224, 'weight': 0.06429}\n",
      "\tLb1 {'energy (keV)': 15.2359, 'weight': 0.4}\n",
      "\tLb2 {'energy (keV)': 14.8417, 'weight': 0.23579}\n",
      "\tLg3 {'energy (keV)': 18.3576, 'weight': 0.017}\n",
      "\tKa {'energy (keV)': 88.4776, 'weight': 1.0}\n",
      "\tMz {'energy (keV)': 2.2258, 'weight': 0.03512}\n",
      "\tM2N4 {'energy (keV)': 3.8536, 'weight': 0.00674}\n",
      "\tLb4 {'energy (keV)': 14.7472, 'weight': 0.06209}\n",
      "Sc\n",
      "\tKb {'energy (keV)': 4.4605, 'weight': 0.12839}\n",
      "\tLb3 {'energy (keV)': 0.4681, 'weight': 0.037}\n",
      "\tLl {'energy (keV)': 0.3484, 'weight': 1.0}\n",
      "\tKa {'energy (keV)': 4.0906, 'weight': 1.0}\n",
      "\tLa {'energy (keV)': 0.4022, 'weight': 0.308}\n",
      "\tLn {'energy (keV)': 0.3529, 'weight': 0.488}\n",
      "Ni\n",
      "\tKb {'energy (keV)': 8.2647, 'weight': 0.1277}\n",
      "\tLb3 {'energy (keV)': 0.94, 'weight': 0.00199}\n",
      "\tLl {'energy (keV)': 0.7429, 'weight': 0.14133}\n",
      "\tLb1 {'energy (keV)': 0.8683, 'weight': 0.1677}\n",
      "\tKa {'energy (keV)': 7.4781, 'weight': 1.0}\n",
      "\tLa {'energy (keV)': 0.8511, 'weight': 1.0}\n",
      "\tLn {'energy (keV)': 0.7601, 'weight': 0.09693}\n",
      "Ba\n",
      "\tKb {'energy (keV)': 36.3784, 'weight': 0.15}\n",
      "\tLb3 {'energy (keV)': 4.9266, 'weight': 0.13779}\n",
      "\tLl {'energy (keV)': 3.9542, 'weight': 0.04299}\n",
      "\tLb1 {'energy (keV)': 4.8275, 'weight': 0.43048}\n",
      "\tLb2 {'energy (keV)': 5.1571, 'weight': 0.1905}\n",
      "\tLg1 {'energy (keV)': 5.5311, 'weight': 0.07487}\n",
      "\tLg3 {'energy (keV)': 5.8091, 'weight': 0.0331}\n",
      "\tKa {'energy (keV)': 32.1936, 'weight': 1.0}\n",
      "\tLn {'energy (keV)': 4.3308, 'weight': 0.0151}\n",
      "\tLa {'energy (keV)': 4.4663, 'weight': 1.0}\n",
      "\tLb4 {'energy (keV)': 4.8521, 'weight': 0.08859}\n",
      "P\n",
      "\tKb {'energy (keV)': 2.13916, 'weight': 0.0498}\n",
      "\tKa {'energy (keV)': 2.0133, 'weight': 1.0}\n",
      "Eu\n",
      "\tMa {'energy (keV)': 1.0991, 'weight': 1.0}\n",
      "\tLg1 {'energy (keV)': 7.4839, 'weight': 0.08064}\n",
      "\tLb3 {'energy (keV)': 6.5714, 'weight': 0.1265}\n",
      "\tMb {'energy (keV)': 1.15769, 'weight': 0.87}\n",
      "\tLa {'energy (keV)': 5.846, 'weight': 1.0}\n",
      "\tMg {'energy (keV)': 1.3474, 'weight': 0.26}\n",
      "\tLn {'energy (keV)': 5.8171, 'weight': 0.015}\n",
      "\tKb {'energy (keV)': 47.0384, 'weight': 0.15}\n",
      "\tLl {'energy (keV)': 5.1769, 'weight': 0.04559}\n",
      "\tLb1 {'energy (keV)': 6.4565, 'weight': 0.43904}\n",
      "\tLb2 {'energy (keV)': 6.8437, 'weight': 0.1985}\n",
      "\tLg3 {'energy (keV)': 7.7954, 'weight': 0.0318}\n",
      "\tKa {'energy (keV)': 41.5421, 'weight': 1.0}\n",
      "\tMz {'energy (keV)': 0.8743, 'weight': 0.06}\n",
      "\tM2N4 {'energy (keV)': 1.4807, 'weight': 0.013}\n",
      "\tLb4 {'energy (keV)': 6.4381, 'weight': 0.0874}\n",
      "Pb\n",
      "\tLb3 {'energy (keV)': 12.7944, 'weight': 0.06049}\n",
      "\tMa {'energy (keV)': 2.3459, 'weight': 1.0}\n",
      "\tM3O5 {'energy (keV)': 3.0472, 'weight': 0.01}\n",
      "\tMz {'energy (keV)': 1.8395, 'weight': 0.0058}\n",
      "\tM3O4 {'energy (keV)': 3.0446, 'weight': 0.01}\n",
      "\tMb {'energy (keV)': 2.4427, 'weight': 0.64124}\n",
      "\tLa {'energy (keV)': 10.5512, 'weight': 1.0}\n",
      "\tMg {'energy (keV)': 2.6535, 'weight': 0.21845}\n",
      "\tLn {'energy (keV)': 11.3493, 'weight': 0.0132}\n",
      "\tKb {'energy (keV)': 84.9381, 'weight': 0.15}\n",
      "\tLl {'energy (keV)': 9.1845, 'weight': 0.0586}\n",
      "\tLb1 {'energy (keV)': 12.6144, 'weight': 0.3836}\n",
      "\tLb2 {'energy (keV)': 12.6223, 'weight': 0.2244}\n",
      "\tLg3 {'energy (keV)': 15.2163, 'weight': 0.017}\n",
      "\tKa {'energy (keV)': 74.9693, 'weight': 1.0}\n",
      "\tLg1 {'energy (keV)': 14.7648, 'weight': 0.08256}\n",
      "\tM2N4 {'energy (keV)': 3.119, 'weight': 0.00863}\n",
      "\tLb4 {'energy (keV)': 12.3066, 'weight': 0.055}\n",
      "Rh\n",
      "\tKb {'energy (keV)': 22.7237, 'weight': 0.15}\n",
      "\tLb3 {'energy (keV)': 2.9157, 'weight': 0.06669}\n",
      "\tLl {'energy (keV)': 2.3767, 'weight': 0.0411}\n",
      "\tLb1 {'energy (keV)': 2.8344, 'weight': 0.33463}\n",
      "\tLb2 {'energy (keV)': 3.0013, 'weight': 0.08539}\n",
      "\tLg1 {'energy (keV)': 3.1436, 'weight': 0.02623}\n",
      "\tLg3 {'energy (keV)': 3.364, 'weight': 0.0121}\n",
      "\tKa {'energy (keV)': 20.2161, 'weight': 1.0}\n",
      "\tLn {'energy (keV)': 2.519, 'weight': 0.0126}\n",
      "\tLa {'energy (keV)': 2.6968, 'weight': 1.0}\n",
      "\tLb4 {'energy (keV)': 2.8909, 'weight': 0.0395}\n",
      "Np\n",
      "\tKb {'energy (keV)': 114.234, 'weight': 0.15}\n",
      "\tMa {'energy (keV)': 3.25, 'weight': 1.0}\n",
      "\tLb1 {'energy (keV)': 17.751, 'weight': 0.40151}\n",
      "\tKa {'energy (keV)': 101.059, 'weight': 1.0}\n",
      "\tMb {'energy (keV)': 3.435, 'weight': 0.59443}\n",
      "\tLa {'energy (keV)': 13.946, 'weight': 1.0}\n",
      "Be\n",
      "\tKa {'energy (keV)': 0.10258, 'weight': 1.0}\n",
      "Rb\n",
      "\tKb {'energy (keV)': 14.9612, 'weight': 0.1558}\n",
      "\tLb3 {'energy (keV)': 1.8266, 'weight': 0.04709}\n",
      "\tLl {'energy (keV)': 1.4823, 'weight': 0.0441}\n",
      "\tLb1 {'energy (keV)': 1.7521, 'weight': 0.39095}\n",
      "\tLg3 {'energy (keV)': 2.0651, 'weight': 0.0058}\n",
      "\tKa {'energy (keV)': 13.3953, 'weight': 1.0}\n",
      "\tLa {'energy (keV)': 1.6941, 'weight': 1.0}\n",
      "\tLn {'energy (keV)': 1.5418, 'weight': 0.01709}\n",
      "Ar\n",
      "\tKb {'energy (keV)': 3.1905, 'weight': 0.10169}\n",
      "\tKa {'energy (keV)': 2.9577, 'weight': 1.0}\n",
      "Mo\n",
      "\tKb {'energy (keV)': 19.6072, 'weight': 0.15}\n",
      "\tLb3 {'energy (keV)': 2.4732, 'weight': 0.06299}\n",
      "\tLl {'energy (keV)': 2.0156, 'weight': 0.0415}\n",
      "\tLb1 {'energy (keV)': 2.3948, 'weight': 0.32736}\n",
      "\tLb2 {'energy (keV)': 2.5184, 'weight': 0.04509}\n",
      "\tLg3 {'energy (keV)': 2.8307, 'weight': 0.0105}\n",
      "\tKa {'energy (keV)': 17.4793, 'weight': 1.0}\n",
      "\tLg1 {'energy (keV)': 2.6233, 'weight': 0.01335}\n",
      "\tLa {'energy (keV)': 2.2932, 'weight': 1.0}\n",
      "\tLn {'energy (keV)': 2.1205, 'weight': 0.0128}\n",
      "Pa\n",
      "\tLb3 {'energy (keV)': 16.9308, 'weight': 0.06}\n",
      "\tMa {'energy (keV)': 3.0823, 'weight': 1.0}\n",
      "\tM3O5 {'energy (keV)': 4.08456, 'weight': 0.01}\n",
      "\tMz {'energy (keV)': 2.4351, 'weight': 0.03512}\n",
      "\tM3O4 {'energy (keV)': 4.07712, 'weight': 0.01}\n",
      "\tMb {'energy (keV)': 3.24, 'weight': 0.64124}\n",
      "\tLa {'energy (keV)': 13.2913, 'weight': 1.0}\n",
      "\tMg {'energy (keV)': 3.4656, 'weight': 0.33505}\n",
      "\tLn {'energy (keV)': 14.9468, 'weight': 0.0126}\n",
      "\tKb {'energy (keV)': 108.4272, 'weight': 0.15}\n",
      "\tLl {'energy (keV)': 11.3662, 'weight': 0.0682}\n",
      "\tLb1 {'energy (keV)': 16.7025, 'weight': 0.4}\n",
      "\tLb2 {'energy (keV)': 16.0249, 'weight': 0.236}\n",
      "\tLg3 {'energy (keV)': 20.0979, 'weight': 0.017}\n",
      "\tKa {'energy (keV)': 95.8679, 'weight': 1.0}\n",
      "\tLg1 {'energy (keV)': 19.5703, 'weight': 0.08}\n",
      "\tM2N4 {'energy (keV)': 4.2575, 'weight': 0.00674}\n",
      "\tLb4 {'energy (keV)': 16.1037, 'weight': 0.04}\n",
      "La\n",
      "\tMa {'energy (keV)': 0.8173, 'weight': 1.0}\n",
      "\tLg1 {'energy (keV)': 5.7917, 'weight': 0.07656}\n",
      "\tLb3 {'energy (keV)': 5.1429, 'weight': 0.1341}\n",
      "\tMb {'energy (keV)': 0.8162, 'weight': 0.9}\n",
      "\tLa {'energy (keV)': 4.651, 'weight': 1.0}\n",
      "\tMg {'energy (keV)': 1.0245, 'weight': 0.4}\n",
      "\tLn {'energy (keV)': 4.5293, 'weight': 0.015}\n",
      "\tKb {'energy (keV)': 37.8012, 'weight': 0.15}\n",
      "\tLl {'energy (keV)': 4.1214, 'weight': 0.0432}\n",
      "\tLb1 {'energy (keV)': 5.0421, 'weight': 0.42631}\n",
      "\tLb2 {'energy (keV)': 5.3838, 'weight': 0.19579}\n",
      "\tLg3 {'energy (keV)': 6.0749, 'weight': 0.0329}\n",
      "\tKa {'energy (keV)': 33.4419, 'weight': 1.0}\n",
      "\tMz {'energy (keV)': 0.6403, 'weight': 0.06}\n",
      "\tM2N4 {'energy (keV)': 1.1055, 'weight': 0.022}\n",
      "\tLb4 {'energy (keV)': 5.0619, 'weight': 0.0872}\n",
      "Cd\n",
      "\tKb {'energy (keV)': 26.0947, 'weight': 0.15}\n",
      "\tLb3 {'energy (keV)': 3.4015, 'weight': 0.07719}\n",
      "\tLl {'energy (keV)': 2.7673, 'weight': 0.04169}\n",
      "\tLb1 {'energy (keV)': 3.3165, 'weight': 0.35704}\n",
      "\tLb2 {'energy (keV)': 3.5282, 'weight': 0.1288}\n",
      "\tLg1 {'energy (keV)': 3.7177, 'weight': 0.0416}\n",
      "\tLg3 {'energy (keV)': 3.9511, 'weight': 0.0151}\n",
      "\tKa {'energy (keV)': 23.1737, 'weight': 1.0}\n",
      "\tLn {'energy (keV)': 2.9568, 'weight': 0.0132}\n",
      "\tLa {'energy (keV)': 3.1338, 'weight': 1.0}\n",
      "\tLb4 {'energy (keV)': 3.3673, 'weight': 0.0469}\n",
      "Cu\n",
      "\tKb {'energy (keV)': 8.9053, 'weight': 0.13157}\n",
      "\tLb3 {'energy (keV)': 1.0225, 'weight': 0.00114}\n",
      "\tLl {'energy (keV)': 0.8113, 'weight': 0.08401}\n",
      "\tLb1 {'energy (keV)': 0.9494, 'weight': 0.03197}\n",
      "\tKa {'energy (keV)': 8.0478, 'weight': 1.0}\n",
      "\tLa {'energy (keV)': 0.9295, 'weight': 1.0}\n",
      "\tLn {'energy (keV)': 0.8312, 'weight': 0.01984}\n",
      "Pm\n",
      "\tMa {'energy (keV)': 0.9894, 'weight': 1.0}\n",
      "\tLg1 {'energy (keV)': 6.8924, 'weight': 0.0784}\n",
      "\tLb3 {'energy (keV)': 6.071, 'weight': 0.1247}\n",
      "\tMb {'energy (keV)': 1.0475, 'weight': 0.89}\n",
      "\tLa {'energy (keV)': 5.4324, 'weight': 1.0}\n",
      "\tMg {'energy (keV)': 1.2365, 'weight': 0.4}\n",
      "\tLn {'energy (keV)': 5.3663, 'weight': 0.01479}\n",
      "\tKb {'energy (keV)': 43.8271, 'weight': 0.15}\n",
      "\tLl {'energy (keV)': 4.8128, 'weight': 0.0448}\n",
      "\tLb1 {'energy (keV)': 5.9613, 'weight': 0.4308}\n",
      "\tLb2 {'energy (keV)': 6.3389, 'weight': 0.196}\n",
      "\tLg3 {'energy (keV)': 7.1919, 'weight': 0.0311}\n",
      "\tKa {'energy (keV)': 38.7247, 'weight': 1.0}\n",
      "\tMz {'energy (keV)': 0.7909, 'weight': 0.068}\n",
      "\tM2N4 {'energy (keV)': 1.351, 'weight': 0.028}\n",
      "\tLb4 {'energy (keV)': 5.9565, 'weight': 0.07799}\n",
      "Os\n",
      "\tLb3 {'energy (keV)': 10.5108, 'weight': 0.1024}\n",
      "\tMa {'energy (keV)': 1.9138, 'weight': 1.0}\n",
      "\tM3O5 {'energy (keV)': 2.45117, 'weight': 0.01}\n",
      "\tMz {'energy (keV)': 1.4919, 'weight': 0.01344}\n",
      "\tM3O4 {'energy (keV)': 2.45015, 'weight': 0.005}\n",
      "\tMb {'energy (keV)': 1.9845, 'weight': 0.59443}\n",
      "\tLa {'energy (keV)': 8.9108, 'weight': 1.0}\n",
      "\tMg {'energy (keV)': 2.1844, 'weight': 0.08505}\n",
      "\tLn {'energy (keV)': 9.3365, 'weight': 0.01479}\n",
      "\tKb {'energy (keV)': 71.4136, 'weight': 0.15}\n",
      "\tLl {'energy (keV)': 7.8224, 'weight': 0.05389}\n",
      "\tLb1 {'energy (keV)': 10.3542, 'weight': 0.43207}\n",
      "\tLb2 {'energy (keV)': 10.5981, 'weight': 0.2146}\n",
      "\tLg3 {'energy (keV)': 12.4998, 'weight': 0.028}\n",
      "\tKa {'energy (keV)': 62.9999, 'weight': 1.0}\n",
      "\tLg1 {'energy (keV)': 12.0956, 'weight': 0.08768}\n",
      "\tM2N4 {'energy (keV)': 2.5028, 'weight': 0.02901}\n",
      "\tLb4 {'energy (keV)': 10.1758, 'weight': 0.08369}\n",
      "O\n",
      "\tKa {'energy (keV)': 0.5249, 'weight': 1.0}\n",
      "Tl\n",
      "\tLb3 {'energy (keV)': 12.3901, 'weight': 0.0607}\n",
      "\tMa {'energy (keV)': 2.2708, 'weight': 1.0}\n",
      "\tM3O5 {'energy (keV)': 2.9435, 'weight': 0.01}\n",
      "\tMz {'energy (keV)': 1.7803, 'weight': 0.0058}\n",
      "\tM3O4 {'energy (keV)': 2.9413, 'weight': 0.005}\n",
      "\tMb {'energy (keV)': 2.3623, 'weight': 0.64124}\n",
      "\tLa {'energy (keV)': 10.2682, 'weight': 1.0}\n",
      "\tMg {'energy (keV)': 2.5704, 'weight': 0.21845}\n",
      "\tLn {'energy (keV)': 10.9938, 'weight': 0.0134}\n",
      "\tKb {'energy (keV)': 82.5738, 'weight': 0.15}\n",
      "\tLl {'energy (keV)': 8.9534, 'weight': 0.0578}\n",
      "\tLb1 {'energy (keV)': 12.2128, 'weight': 0.39112}\n",
      "\tLb2 {'energy (keV)': 12.2713, 'weight': 0.22289}\n",
      "\tLg3 {'energy (keV)': 14.7377, 'weight': 0.0175}\n",
      "\tKa {'energy (keV)': 72.8729, 'weight': 1.0}\n",
      "\tLg1 {'energy (keV)': 14.2913, 'weight': 0.08304}\n",
      "\tM2N4 {'energy (keV)': 3.0091, 'weight': 0.00863}\n",
      "\tLb4 {'energy (keV)': 11.931, 'weight': 0.05419}\n",
      "Se\n",
      "\tKb {'energy (keV)': 12.4959, 'weight': 0.1505}\n",
      "\tLb3 {'energy (keV)': 1.492, 'weight': 0.047}\n",
      "\tLl {'energy (keV)': 1.2043, 'weight': 0.04759}\n",
      "\tLb1 {'energy (keV)': 1.4195, 'weight': 0.38848}\n",
      "\tKa {'energy (keV)': 11.222, 'weight': 1.0}\n",
      "\tLa {'energy (keV)': 1.3791, 'weight': 1.0}\n",
      "\tLn {'energy (keV)': 1.2447, 'weight': 0.0187}\n",
      "Sb\n",
      "\tKb {'energy (keV)': 29.7256, 'weight': 0.15}\n",
      "\tLb3 {'energy (keV)': 3.9327, 'weight': 0.15099}\n",
      "\tLl {'energy (keV)': 3.1885, 'weight': 0.0419}\n",
      "\tLb1 {'energy (keV)': 3.8435, 'weight': 0.4276}\n",
      "\tLb2 {'energy (keV)': 4.1008, 'weight': 0.1556}\n",
      "\tLg1 {'energy (keV)': 4.349, 'weight': 0.06064}\n",
      "\tLg3 {'energy (keV)': 4.5999, 'weight': 0.0321}\n",
      "\tKa {'energy (keV)': 26.359, 'weight': 1.0}\n",
      "\tLn {'energy (keV)': 3.4367, 'weight': 0.0155}\n",
      "\tLa {'energy (keV)': 3.6047, 'weight': 1.0}\n",
      "\tLb4 {'energy (keV)': 3.8864, 'weight': 0.0932}\n",
      "Cl\n",
      "\tKb {'energy (keV)': 2.8156, 'weight': 0.0838}\n",
      "\tKa {'energy (keV)': 2.6224, 'weight': 1.0}\n",
      "Pr\n",
      "\tMa {'energy (keV)': 0.8936, 'weight': 1.0}\n",
      "\tLg1 {'energy (keV)': 6.3272, 'weight': 0.07687}\n",
      "\tLb3 {'energy (keV)': 5.5926, 'weight': 0.13089}\n",
      "\tMb {'energy (keV)': 0.9476, 'weight': 0.85}\n",
      "\tLa {'energy (keV)': 5.0333, 'weight': 1.0}\n",
      "\tMg {'energy (keV)': 1.129, 'weight': 0.6}\n",
      "\tLn {'energy (keV)': 4.9294, 'weight': 0.01489}\n",
      "\tKb {'energy (keV)': 40.7484, 'weight': 0.15}\n",
      "\tLl {'energy (keV)': 4.4533, 'weight': 0.044}\n",
      "\tLb1 {'energy (keV)': 5.4893, 'weight': 0.42872}\n",
      "\tLb2 {'energy (keV)': 5.8511, 'weight': 0.19519}\n",
      "\tLg3 {'energy (keV)': 6.6172, 'weight': 0.0321}\n",
      "\tKa {'energy (keV)': 36.0263, 'weight': 1.0}\n",
      "\tMz {'energy (keV)': 0.7134, 'weight': 0.068}\n",
      "\tM2N4 {'energy (keV)': 1.2242, 'weight': 0.055}\n",
      "\tLb4 {'energy (keV)': 5.4974, 'weight': 0.0864}\n",
      "Xe\n",
      "\tKb {'energy (keV)': 33.6244, 'weight': 0.15}\n",
      "\tLb3 {'energy (keV)': 4.5158, 'weight': 0.14119}\n",
      "\tLl {'energy (keV)': 3.6376, 'weight': 0.0424}\n",
      "\tLb1 {'energy (keV)': 4.4183, 'weight': 0.42248}\n",
      "\tLb2 {'energy (keV)': 4.7182, 'weight': 0.17699}\n",
      "\tLg1 {'energy (keV)': 5.0397, 'weight': 0.06848}\n",
      "\tLg3 {'energy (keV)': 5.3061, 'weight': 0.0323}\n",
      "\tKa {'energy (keV)': 29.7792, 'weight': 1.0}\n",
      "\tLn {'energy (keV)': 3.9591, 'weight': 0.015}\n",
      "\tLa {'energy (keV)': 4.1099, 'weight': 1.0}\n",
      "\tLb4 {'energy (keV)': 4.4538, 'weight': 0.08929}\n",
      "Hg\n",
      "\tLb3 {'energy (keV)': 11.9922, 'weight': 0.06469}\n",
      "\tMa {'energy (keV)': 2.1964, 'weight': 1.0}\n",
      "\tM3O5 {'energy (keV)': 2.8407, 'weight': 0.01}\n",
      "\tMz {'energy (keV)': 1.7239, 'weight': 0.01344}\n",
      "\tM3O4 {'energy (keV)': 2.8407, 'weight': 0.005}\n",
      "\tMb {'energy (keV)': 2.2827, 'weight': 0.64124}\n",
      "\tLa {'energy (keV)': 9.989, 'weight': 1.0}\n",
      "\tMg {'energy (keV)': 2.4873, 'weight': 0.08505}\n",
      "\tLn {'energy (keV)': 10.6471, 'weight': 0.0136}\n",
      "\tKb {'energy (keV)': 80.2552, 'weight': 0.15}\n",
      "\tLl {'energy (keV)': 8.7223, 'weight': 0.05709}\n",
      "\tLb1 {'energy (keV)': 11.8238, 'weight': 0.39504}\n",
      "\tLb2 {'energy (keV)': 11.9241, 'weight': 0.2221}\n",
      "\tLg3 {'energy (keV)': 14.2683, 'weight': 0.0184}\n",
      "\tKa {'energy (keV)': 70.8184, 'weight': 1.0}\n",
      "\tLg1 {'energy (keV)': 13.8304, 'weight': 0.0832}\n",
      "\tM2N4 {'energy (keV)': 2.9002, 'weight': 0.02901}\n",
      "\tLb4 {'energy (keV)': 11.5608, 'weight': 0.0566}\n",
      "Kr\n",
      "\tKb {'energy (keV)': 14.1118, 'weight': 0.1538}\n",
      "\tLb3 {'energy (keV)': 1.7072, 'weight': 0.0465}\n",
      "\tLl {'energy (keV)': 1.38657, 'weight': 0.04509}\n",
      "\tLb1 {'energy (keV)': 1.6383, 'weight': 0.39031}\n",
      "\tLg3 {'energy (keV)': 1.921, 'weight': 0.005}\n",
      "\tKa {'energy (keV)': 12.6507, 'weight': 1.0}\n",
      "\tLa {'energy (keV)': 1.586, 'weight': 1.0}\n",
      "\tLn {'energy (keV)': 1.43887, 'weight': 0.0175}\n",
      "Br\n",
      "\tKb {'energy (keV)': 13.2922, 'weight': 0.15289}\n",
      "\tLb3 {'energy (keV)': 1.6005, 'weight': 0.04629}\n",
      "\tLl {'energy (keV)': 1.2934, 'weight': 0.0462}\n",
      "\tLb1 {'energy (keV)': 1.5259, 'weight': 0.39175}\n",
      "\tKa {'energy (keV)': 11.9238, 'weight': 1.0}\n",
      "\tLa {'energy (keV)': 1.4809, 'weight': 1.0}\n",
      "\tLn {'energy (keV)': 1.3395, 'weight': 0.0182}\n",
      "Mg\n",
      "\tKb {'energy (keV)': 1.305, 'weight': 0.01}\n",
      "\tKa {'energy (keV)': 1.2536, 'weight': 1.0}\n",
      "Po\n",
      "\tLg1 {'energy (keV)': 15.7441, 'weight': 0.08}\n",
      "\tLb3 {'energy (keV)': 13.6374, 'weight': 0.0603}\n",
      "\tMb {'energy (keV)': 2.62266, 'weight': 0.64124}\n",
      "\tLa {'energy (keV)': 11.1308, 'weight': 1.0}\n",
      "\tMg {'energy (keV)': 2.8285, 'weight': 0.21845}\n",
      "\tLn {'energy (keV)': 12.0949, 'weight': 0.0133}\n",
      "\tKb {'energy (keV)': 89.8031, 'weight': 0.15}\n",
      "\tLl {'energy (keV)': 9.6644, 'weight': 0.0607}\n",
      "\tLb1 {'energy (keV)': 13.4463, 'weight': 0.38536}\n",
      "\tLb2 {'energy (keV)': 13.3404, 'weight': 0.2289}\n",
      "\tLg3 {'energy (keV)': 16.2343, 'weight': 0.017}\n",
      "\tKa {'energy (keV)': 79.2912, 'weight': 1.0}\n",
      "\tMz {'energy (keV)': 1.978, 'weight': 0.00354}\n",
      "\tM2N4 {'energy (keV)': 3.3539, 'weight': 0.00863}\n",
      "\tLb4 {'energy (keV)': 13.0852, 'weight': 0.05709}\n",
      "Tc\n",
      "\tKb {'energy (keV)': 20.619, 'weight': 0.15}\n",
      "\tLb3 {'energy (keV)': 2.6175, 'weight': 0.0644}\n",
      "\tLl {'energy (keV)': 2.1293, 'weight': 0.0412}\n",
      "\tLb1 {'energy (keV)': 2.5368, 'weight': 0.32951}\n",
      "\tLb2 {'energy (keV)': 2.67017, 'weight': 0.05839}\n",
      "\tLg3 {'energy (keV)': 3.0036, 'weight': 0.0111}\n",
      "\tKa {'energy (keV)': 18.3671, 'weight': 1.0}\n",
      "\tLg1 {'energy (keV)': 2.78619, 'weight': 0.01744}\n",
      "\tLa {'energy (keV)': 2.424, 'weight': 1.0}\n",
      "\tLn {'energy (keV)': 2.2456, 'weight': 0.0127}\n",
      "Cr\n",
      "\tKb {'energy (keV)': 5.9467, 'weight': 0.134}\n",
      "\tLb3 {'energy (keV)': 0.6521, 'weight': 0.0309}\n",
      "\tLl {'energy (keV)': 0.5004, 'weight': 0.6903}\n",
      "\tKa {'energy (keV)': 5.4147, 'weight': 1.0}\n",
      "\tLa {'energy (keV)': 0.5722, 'weight': 1.0}\n",
      "\tLn {'energy (keV)': 0.5096, 'weight': 0.2353}\n",
      "V\n",
      "\tKb {'energy (keV)': 5.4273, 'weight': 0.1225}\n",
      "\tLb3 {'energy (keV)': 0.5904, 'weight': 0.0154}\n",
      "\tLl {'energy (keV)': 0.4464, 'weight': 0.5745}\n",
      "\tKa {'energy (keV)': 4.9522, 'weight': 1.0}\n",
      "\tLa {'energy (keV)': 0.5129, 'weight': 1.0}\n",
      "\tLn {'energy (keV)': 0.454, 'weight': 0.2805}\n",
      "Ca\n",
      "\tKb {'energy (keV)': 4.0127, 'weight': 0.112}\n",
      "\tKa {'energy (keV)': 3.6917, 'weight': 1.0}\n",
      "\tLl {'energy (keV)': 0.3027, 'weight': 1.0}\n",
      "\tLa {'energy (keV)': 0.3464, 'weight': 0.0}\n",
      "\tLn {'energy (keV)': 0.3063, 'weight': 0.23}\n",
      "Ho\n",
      "\tMa {'energy (keV)': 1.3477, 'weight': 1.0}\n",
      "\tLg1 {'energy (keV)': 8.7568, 'weight': 0.08448}\n",
      "\tLb3 {'energy (keV)': 7.653, 'weight': 0.06}\n",
      "\tMb {'energy (keV)': 1.3878, 'weight': 0.59443}\n",
      "\tLa {'energy (keV)': 6.7197, 'weight': 1.0}\n",
      "\tMg {'energy (keV)': 1.5802, 'weight': 0.1418}\n",
      "\tLn {'energy (keV)': 6.7895, 'weight': 0.0151}\n",
      "\tKb {'energy (keV)': 53.8765, 'weight': 0.15}\n",
      "\tLl {'energy (keV)': 5.9428, 'weight': 0.04759}\n",
      "\tLb1 {'energy (keV)': 7.5263, 'weight': 0.45056}\n",
      "\tLb2 {'energy (keV)': 7.9101, 'weight': 0.23563}\n",
      "\tLg3 {'energy (keV)': 9.0876, 'weight': 0.0321}\n",
      "\tKa {'energy (keV)': 47.5466, 'weight': 1.0}\n",
      "\tMz {'energy (keV)': 1.0448, 'weight': 0.6629}\n",
      "\tM2N4 {'energy (keV)': 1.7618, 'weight': 0.072}\n",
      "\tLb4 {'energy (keV)': 7.4714, 'weight': 0.09039}\n",
      "Tb\n",
      "\tMa {'energy (keV)': 1.2326, 'weight': 1.0}\n",
      "\tLg1 {'energy (keV)': 8.1046, 'weight': 0.08168}\n",
      "\tLb3 {'energy (keV)': 7.0967, 'weight': 0.124}\n",
      "\tMb {'energy (keV)': 1.2656, 'weight': 0.78}\n",
      "\tLa {'energy (keV)': 6.2728, 'weight': 1.0}\n",
      "\tMg {'energy (keV)': 1.4643, 'weight': 0.2615}\n",
      "\tLn {'energy (keV)': 6.2841, 'weight': 0.01479}\n",
      "\tKb {'energy (keV)': 50.3844, 'weight': 0.15}\n",
      "\tLl {'energy (keV)': 5.5465, 'weight': 0.0465}\n",
      "\tLb1 {'energy (keV)': 6.9766, 'weight': 0.44104}\n",
      "\tLb2 {'energy (keV)': 7.367, 'weight': 0.19929}\n",
      "\tLg3 {'energy (keV)': 8.423, 'weight': 0.0315}\n",
      "\tKa {'energy (keV)': 44.4817, 'weight': 1.0}\n",
      "\tMz {'energy (keV)': 0.9562, 'weight': 0.06}\n",
      "\tM2N4 {'energy (keV)': 1.6207, 'weight': 0.014}\n",
      "\tLb4 {'energy (keV)': 6.9403, 'weight': 0.0874}\n",
      "Bi\n",
      "\tLb3 {'energy (keV)': 13.2106, 'weight': 0.0607}\n",
      "\tMa {'energy (keV)': 2.4222, 'weight': 1.0}\n",
      "\tM3O5 {'energy (keV)': 3.1525, 'weight': 0.01}\n",
      "\tMz {'energy (keV)': 1.9007, 'weight': 0.0058}\n",
      "\tM3O4 {'energy (keV)': 3.1504, 'weight': 0.01}\n",
      "\tMb {'energy (keV)': 2.5257, 'weight': 0.64124}\n",
      "\tLa {'energy (keV)': 10.839, 'weight': 1.0}\n",
      "\tMg {'energy (keV)': 2.7369, 'weight': 0.21845}\n",
      "\tLn {'energy (keV)': 11.712, 'weight': 0.0134}\n",
      "\tKb {'energy (keV)': 87.349, 'weight': 0.15}\n",
      "\tLl {'energy (keV)': 9.4195, 'weight': 0.06}\n",
      "\tLb1 {'energy (keV)': 13.0235, 'weight': 0.4}\n",
      "\tLb2 {'energy (keV)': 12.9786, 'weight': 0.2278}\n",
      "\tLg3 {'energy (keV)': 15.7086, 'weight': 0.017}\n",
      "\tKa {'energy (keV)': 77.1073, 'weight': 1.0}\n",
      "\tLg1 {'energy (keV)': 15.2475, 'weight': 0.08}\n",
      "\tM2N4 {'energy (keV)': 3.2327, 'weight': 0.00863}\n",
      "\tLb4 {'energy (keV)': 12.6912, 'weight': 0.05639}\n",
      "Rn\n",
      "\tLg1 {'energy (keV)': 16.7705, 'weight': 0.08}\n",
      "\tLb3 {'energy (keV)': 14.511, 'weight': 0.0607}\n",
      "\tMb {'energy (keV)': 2.80187, 'weight': 0.64124}\n",
      "\tLa {'energy (keV)': 11.727, 'weight': 1.0}\n",
      "\tMg {'energy (keV)': 3.001, 'weight': 0.21845}\n",
      "\tLn {'energy (keV)': 12.8551, 'weight': 0.0134}\n",
      "\tKb {'energy (keV)': 94.866, 'weight': 0.15}\n",
      "\tLl {'energy (keV)': 10.1374, 'weight': 0.0625}\n",
      "\tLb1 {'energy (keV)': 14.3156, 'weight': 0.38463}\n",
      "\tLb2 {'energy (keV)': 14.0824, 'weight': 0.2325}\n",
      "\tLg3 {'energy (keV)': 17.281, 'weight': 0.017}\n",
      "\tKa {'energy (keV)': 83.7846, 'weight': 1.0}\n",
      "\tMz {'energy (keV)': 2.1244, 'weight': 0.0058}\n",
      "\tM2N4 {'energy (keV)': 3.5924, 'weight': 0.00863}\n",
      "\tLb4 {'energy (keV)': 13.89, 'weight': 0.06}\n",
      "Lu\n",
      "\tMa {'energy (keV)': 1.5816, 'weight': 1.0}\n",
      "\tLg1 {'energy (keV)': 10.1438, 'weight': 0.08968}\n",
      "\tLb3 {'energy (keV)': 8.8468, 'weight': 0.13099}\n",
      "\tMb {'energy (keV)': 1.6325, 'weight': 0.59443}\n",
      "\tLa {'energy (keV)': 7.6556, 'weight': 1.0}\n",
      "\tMg {'energy (keV)': 1.8286, 'weight': 0.08505}\n",
      "\tLn {'energy (keV)': 7.8574, 'weight': 0.016}\n",
      "\tKb {'energy (keV)': 61.2902, 'weight': 0.15}\n",
      "\tLl {'energy (keV)': 6.7529, 'weight': 0.05009}\n",
      "\tLb1 {'energy (keV)': 8.7092, 'weight': 0.46975}\n",
      "\tLb2 {'energy (keV)': 9.0491, 'weight': 0.20359}\n",
      "\tLg3 {'energy (keV)': 10.5111, 'weight': 0.0342}\n",
      "\tKa {'energy (keV)': 54.0697, 'weight': 1.0}\n",
      "\tMz {'energy (keV)': 1.2292, 'weight': 0.06}\n",
      "\tM2N4 {'energy (keV)': 2.0587, 'weight': 0.01}\n",
      "\tLb4 {'energy (keV)': 8.6069, 'weight': 0.0996}\n",
      "C\n",
      "\tKa {'energy (keV)': 0.2774, 'weight': 1.0}\n",
      "Sm\n",
      "\tMa {'energy (keV)': 1.0428, 'weight': 1.0}\n",
      "\tLg1 {'energy (keV)': 7.1828, 'weight': 0.07951}\n",
      "\tLb3 {'energy (keV)': 6.317, 'weight': 0.12669}\n",
      "\tMb {'energy (keV)': 1.1005, 'weight': 0.88}\n",
      "\tLa {'energy (keV)': 5.636, 'weight': 1.0}\n",
      "\tMg {'energy (keV)': 1.2908, 'weight': 0.26}\n",
      "\tLn {'energy (keV)': 5.589, 'weight': 0.01489}\n",
      "\tKb {'energy (keV)': 45.4144, 'weight': 0.15}\n",
      "\tLl {'energy (keV)': 4.9934, 'weight': 0.04519}\n",
      "\tLb1 {'energy (keV)': 6.2058, 'weight': 0.43512}\n",
      "\tLb2 {'energy (keV)': 6.5872, 'weight': 0.19769}\n",
      "\tLg3 {'energy (keV)': 7.4894, 'weight': 0.0318}\n",
      "\tKa {'energy (keV)': 40.118, 'weight': 1.0}\n",
      "\tMz {'energy (keV)': 0.8328, 'weight': 0.06}\n",
      "\tM2N4 {'energy (keV)': 1.4117, 'weight': 0.012}\n",
      "\tLb4 {'energy (keV)': 6.1961, 'weight': 0.08689}\n",
      "Yb\n",
      "\tMa {'energy (keV)': 1.5215, 'weight': 1.0}\n",
      "\tLg1 {'energy (keV)': 9.7801, 'weight': 0.08728}\n",
      "\tLb3 {'energy (keV)': 8.5366, 'weight': 0.12789}\n",
      "\tMb {'energy (keV)': 1.57, 'weight': 0.59443}\n",
      "\tLa {'energy (keV)': 7.4158, 'weight': 1.0}\n",
      "\tMg {'energy (keV)': 1.7649, 'weight': 0.08505}\n",
      "\tLn {'energy (keV)': 7.5801, 'weight': 0.0157}\n",
      "\tKb {'energy (keV)': 59.3825, 'weight': 0.15}\n",
      "\tLl {'energy (keV)': 6.5455, 'weight': 0.0494}\n",
      "\tLb1 {'energy (keV)': 8.4019, 'weight': 0.46224}\n",
      "\tLb2 {'energy (keV)': 8.7587, 'weight': 0.2017}\n",
      "\tLg3 {'energy (keV)': 10.1429, 'weight': 0.0331}\n",
      "\tKa {'energy (keV)': 52.3887, 'weight': 1.0}\n",
      "\tMz {'energy (keV)': 1.1843, 'weight': 0.06}\n",
      "\tM2N4 {'energy (keV)': 1.9749, 'weight': 0.01}\n",
      "\tLb4 {'energy (keV)': 8.3134, 'weight': 0.09589}\n",
      "Sr\n",
      "\tKb {'energy (keV)': 15.8355, 'weight': 0.15}\n",
      "\tLb3 {'energy (keV)': 1.9472, 'weight': 0.047}\n",
      "\tLl {'energy (keV)': 1.5821, 'weight': 0.04309}\n",
      "\tLb1 {'energy (keV)': 1.8718, 'weight': 0.37975}\n",
      "\tLg3 {'energy (keV)': 2.1964, 'weight': 0.0065}\n",
      "\tKa {'energy (keV)': 14.165, 'weight': 1.0}\n",
      "\tLa {'energy (keV)': 1.8065, 'weight': 1.0}\n",
      "\tLn {'energy (keV)': 1.6493, 'weight': 0.01669}\n",
      "In\n",
      "\tKb {'energy (keV)': 27.2756, 'weight': 0.15}\n",
      "\tLb3 {'energy (keV)': 3.5732, 'weight': 0.08779}\n",
      "\tLl {'energy (keV)': 2.9045, 'weight': 0.0415}\n",
      "\tLb1 {'energy (keV)': 3.4872, 'weight': 0.3616}\n",
      "\tLb2 {'energy (keV)': 3.7139, 'weight': 0.1371}\n",
      "\tLg1 {'energy (keV)': 3.9218, 'weight': 0.04535}\n",
      "\tLg3 {'energy (keV)': 4.1601, 'weight': 0.0177}\n",
      "\tKa {'energy (keV)': 24.2098, 'weight': 1.0}\n",
      "\tLn {'energy (keV)': 3.1124, 'weight': 0.0132}\n",
      "\tLa {'energy (keV)': 3.287, 'weight': 1.0}\n",
      "\tLb4 {'energy (keV)': 3.5353, 'weight': 0.05349}\n"
     ]
    }
   ],
   "source": [
    "new_dict = {}\n",
    "for i in xu.elements:\n",
    "    new_dict[i]\n",
    "    for j in xu.elements[i]['Atomic_properties']['Xray_lines']:\n",
    "        print('\\t'+j, xu.elements[i]['Atomic_properties']['Xray_lines'][j])"
   ]
  },
  {
   "cell_type": "markdown",
   "metadata": {},
   "source": []
  }
 ],
 "metadata": {
  "kernelspec": {
   "display_name": "Python 3",
   "language": "python",
   "name": "python3"
  },
  "language_info": {
   "codemirror_mode": {
    "name": "ipython",
    "version": 3
   },
   "file_extension": ".py",
   "mimetype": "text/x-python",
   "name": "python",
   "nbconvert_exporter": "python",
   "pygments_lexer": "ipython3",
   "version": "3.5.2rc1"
  }
 },
 "nbformat": 4,
 "nbformat_minor": 0
}

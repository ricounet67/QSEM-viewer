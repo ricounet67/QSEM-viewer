{
 "cells": [
  {
   "cell_type": "code",
   "execution_count": 1,
   "metadata": {
    "collapsed": true
   },
   "outputs": [],
   "source": [
    "%gui qt4"
   ]
  },
  {
   "cell_type": "code",
   "execution_count": 2,
   "metadata": {
    "collapsed": false
   },
   "outputs": [],
   "source": [
    "from gui import spectrum_widget as swidget"
   ]
  },
  {
   "cell_type": "code",
   "execution_count": 3,
   "metadata": {
    "collapsed": false
   },
   "outputs": [],
   "source": [
    "thing = swidget.EDSSpectraGUI()"
   ]
  },
  {
   "cell_type": "code",
   "execution_count": 257,
   "metadata": {
    "collapsed": false
   },
   "outputs": [],
   "source": [
    "thing.show()"
   ]
  },
  {
   "cell_type": "code",
   "execution_count": 7,
   "metadata": {
    "collapsed": true
   },
   "outputs": [],
   "source": [
    "import os"
   ]
  },
  {
   "cell_type": "code",
   "execution_count": 5,
   "metadata": {
    "collapsed": false
   },
   "outputs": [],
   "source": [
    "from PyQt4 import QtCore, QtGui"
   ]
  },
  {
   "cell_type": "code",
   "execution_count": 8,
   "metadata": {
    "collapsed": false
   },
   "outputs": [],
   "source": [
    "import pyqtgraph as pg"
   ]
  },
  {
   "cell_type": "code",
   "execution_count": 9,
   "metadata": {
    "collapsed": false
   },
   "outputs": [],
   "source": [
    "item1 = pg.PlotCurveItem(clickable=True)"
   ]
  },
  {
   "cell_type": "code",
   "execution_count": 10,
   "metadata": {
    "collapsed": true
   },
   "outputs": [],
   "source": [
    "import numpy as np"
   ]
  },
  {
   "cell_type": "code",
   "execution_count": 11,
   "metadata": {
    "collapsed": false
   },
   "outputs": [],
   "source": [
    "x = np.arange(-0.24,10,0.01)\n",
    "y = x * np.random.random(1024)"
   ]
  },
  {
   "cell_type": "code",
   "execution_count": 12,
   "metadata": {
    "collapsed": false
   },
   "outputs": [],
   "source": [
    "item1.setData(x, y, name='Thingy5')"
   ]
  },
  {
   "cell_type": "code",
   "execution_count": 67,
   "metadata": {
    "collapsed": true
   },
   "outputs": [],
   "source": [
    "thing.canvas.p1.addItem(item1)"
   ]
  },
  {
   "cell_type": "code",
   "execution_count": 360,
   "metadata": {
    "collapsed": false
   },
   "outputs": [],
   "source": [
    "class EDXListModel(QtCore.QAbstractTableModel):\n",
    "    def __init__(self, spectras=[[]], headers=[], parent=None):\n",
    "        QtCore.QAbstractTableModel.__init__(self, parent)\n",
    "        self._spectras = spectras\n",
    "        self._headers = headers\n",
    "    \n",
    "    def headerData(self, section, orientation, role):\n",
    "        \n",
    "        if role == QtCore.Qt.DisplayRole:\n",
    "            \n",
    "            if orientation == QtCore.Qt.Horizontal:\n",
    "                return self._headers[section]\n",
    "    \n",
    "    def rowCount(self, parent):\n",
    "        return len(self._spectras)\n",
    "    \n",
    "    def columnCount(self, parent):\n",
    "        return len(self._spectras[0])+1\n",
    "    \n",
    "    def data(self, index, role):\n",
    "        row = index.row()\n",
    "        column = index.column()\n",
    "        if column == 0:\n",
    "            if role == QtCore.Qt.EditRole:\n",
    "                return self._spectras[row][column].name()\n",
    "\n",
    "            if role == QtCore.Qt.DecorationRole:\n",
    "                color = self._spectras[row][column].opts['pen'].color()\n",
    "\n",
    "                pixmap = QtGui.QPixmap(26, 26)\n",
    "                pixmap.fill(color)\n",
    "                icon = QtGui.QIcon(pixmap)\n",
    "\n",
    "                return icon\n",
    "\n",
    "        if role == QtCore.Qt.DisplayRole:\n",
    "            if column == 0:\n",
    "                return self._spectras[row][0].name()\n",
    "            elif column == 1:\n",
    "                return self._spectras[row][0].opts['pen'].color()\n",
    "            else:\n",
    "                return self._spectras[row][column-1]\n",
    "            \n",
    "        \n",
    "    def flags(self, index):\n",
    "        return QtCore.Qt.ItemIsEnabled | QtCore.Qt.ItemIsEditable | QtCore.Qt.ItemIsSelectable\n",
    "\n",
    "        \n",
    "    def setData(self, index, value, role = QtCore.Qt.EditRole):\n",
    "        if role == QtCore.Qt.EditRole:\n",
    "            try:\n",
    "                row = index.row()\n",
    "                column= index.column()\n",
    "                if column == 0:\n",
    "                    self._spectras[row][0].opts['name'] = value\n",
    "                    self._spectras[row][column].setToolTip(value)\n",
    "                elif column == 1:\n",
    "                    self._spectras[row][0].opts['pen'].setColor(value)\n",
    "                else:\n",
    "                    self._spectras[row][column-1] = value\n",
    "                self.dataChanged.emit(index, index)\n",
    "                return True\n",
    "            except:\n",
    "                return False\n",
    "        return False\n",
    "    \n",
    "    def insertRows(self, position, rows, parent=QtCore.QModelIndex()):\n",
    "        \n",
    "        self.beginInsertRows(parent, position,\n",
    "                             position + rows - 1)\n",
    "        \n",
    "        column_count = len(self._spectras[0])\n",
    "        \n",
    "        for i in range(rows):\n",
    "            self._spectras.insert(position, [pg.PlotCurveItem(name='new')])\n",
    "            for j in range(column_count-1):\n",
    "                self._spectras[position].insert(j+1, 0.0)\n",
    "        \n",
    "        self.endInsertRows()\n",
    "        \n",
    "        return True\n",
    "    \n",
    "    def removeRows(self, position, rows, parent=QtCore.QModelIndex()):\n",
    "        self.beginRemoveRows(parent, position,\n",
    "                             position + rows - 1)\n",
    "        \n",
    "        for i in range(rows):\n",
    "            value = self._spectras[position]\n",
    "            self._spectras.remove(value)\n",
    "        \n",
    "        self.endRemoveRows()\n",
    "        \n",
    "        return True\n",
    "    \n",
    "    def insertColumns(self, position, columns, parent = QtCore.QModelIndex(), headers=[]):\n",
    "        self.beginInsertColumns(parent, position, position + columns -1)\n",
    "        \n",
    "        row_count = len(self._spectras)\n",
    "        \n",
    "        for i in range(columns):\n",
    "            self._headers.insert(position, headers[i])\n",
    "            for j in range(row_count):\n",
    "                self._spectras[j].insert(position, 0.0)\n",
    "                \n",
    "        self.endInsertColumns()\n",
    "        \n",
    "        return True\n",
    "    \n",
    "    def removeColumns(self, position, columns, parent=QtCore.QModelIndex()):\n",
    "        self.beginRemoveColumns(parent, position,\n",
    "                             position + columns - 1)\n",
    "        \n",
    "        row_count = len(self._spectras)\n",
    "        \n",
    "        for j in range(columns):\n",
    "            self._headers.remove(self._headers[position])\n",
    "            for i in range(row_count):\n",
    "                value = self._spectras[i][position]\n",
    "                self._spectras[i].remove(value)\n",
    "        \n",
    "        self.endRemoveColumns()\n",
    "        \n",
    "        return True"
   ]
  },
  {
   "cell_type": "code",
   "execution_count": 361,
   "metadata": {
    "collapsed": true
   },
   "outputs": [],
   "source": [
    "model = EDXListModel(spectras=[[item1]], headers=['spectras','color'])"
   ]
  },
  {
   "cell_type": "code",
   "execution_count": 362,
   "metadata": {
    "collapsed": false
   },
   "outputs": [],
   "source": [
    "thing.spectra_list.setModel(model)\n",
    "listView.setModel(model)\n",
    "tableView.setModel(model)"
   ]
  },
  {
   "cell_type": "code",
   "execution_count": 172,
   "metadata": {
    "collapsed": true
   },
   "outputs": [],
   "source": [
    "item1.setData()"
   ]
  },
  {
   "cell_type": "code",
   "execution_count": 146,
   "metadata": {
    "collapsed": false
   },
   "outputs": [],
   "source": [
    "item1.show()"
   ]
  },
  {
   "cell_type": "code",
   "execution_count": 135,
   "metadata": {
    "collapsed": false
   },
   "outputs": [
    {
     "data": {
      "text/plain": [
       "PyQt4.QtCore.QRectF(-0.24, -0.20359824149171718, 10.23000000000001, 9.747530133175472)"
      ]
     },
     "execution_count": 135,
     "metadata": {},
     "output_type": "execute_result"
    }
   ],
   "source": [
    "hh.boundingRect()"
   ]
  },
  {
   "cell_type": "code",
   "execution_count": 186,
   "metadata": {
    "collapsed": false
   },
   "outputs": [
    {
     "data": {
      "text/plain": [
       "True"
      ]
     },
     "execution_count": 186,
     "metadata": {},
     "output_type": "execute_result"
    }
   ],
   "source": [
    "model.insertColumns(1, 1, headers=['af4b4'])"
   ]
  },
  {
   "cell_type": "code",
   "execution_count": 187,
   "metadata": {
    "collapsed": false
   },
   "outputs": [
    {
     "data": {
      "text/plain": [
       "True"
      ]
     },
     "execution_count": 187,
     "metadata": {},
     "output_type": "execute_result"
    }
   ],
   "source": [
    "model.insertRows(1,5)"
   ]
  },
  {
   "cell_type": "code",
   "execution_count": 188,
   "metadata": {
    "collapsed": false
   },
   "outputs": [
    {
     "data": {
      "text/plain": [
       "True"
      ]
     },
     "execution_count": 188,
     "metadata": {},
     "output_type": "execute_result"
    }
   ],
   "source": [
    "model.removeColumns(1, 2)"
   ]
  },
  {
   "cell_type": "code",
   "execution_count": 216,
   "metadata": {
    "collapsed": false
   },
   "outputs": [],
   "source": [
    "pg.PlotCurveItem??"
   ]
  },
  {
   "cell_type": "code",
   "execution_count": 238,
   "metadata": {
    "collapsed": false
   },
   "outputs": [],
   "source": [
    "pen = item1.opts['pen']"
   ]
  },
  {
   "cell_type": "code",
   "execution_count": 248,
   "metadata": {
    "collapsed": false
   },
   "outputs": [],
   "source": [
    "pen.setColor(QtCore.Qt.red)"
   ]
  },
  {
   "cell_type": "code",
   "execution_count": 237,
   "metadata": {
    "collapsed": true
   },
   "outputs": [],
   "source": [
    "pixmap = QtGui.QPixmap(26, 26)\n"
   ]
  },
  {
   "cell_type": "code",
   "execution_count": 241,
   "metadata": {
    "collapsed": true
   },
   "outputs": [],
   "source": [
    "pixmap.fill(pen.color())"
   ]
  },
  {
   "cell_type": "code",
   "execution_count": 255,
   "metadata": {
    "collapsed": false
   },
   "outputs": [],
   "source": [
    "item1.setToolTip"
   ]
  },
  {
   "cell_type": "code",
   "execution_count": 130,
   "metadata": {
    "collapsed": false
   },
   "outputs": [
    {
     "data": {
      "text/plain": [
       "True"
      ]
     },
     "execution_count": 130,
     "metadata": {},
     "output_type": "execute_result"
    }
   ],
   "source": [
    "model.insertRows(1, 5)"
   ]
  },
  {
   "cell_type": "code",
   "execution_count": 136,
   "metadata": {
    "collapsed": false
   },
   "outputs": [
    {
     "ename": "NameError",
     "evalue": "name 'rows' is not defined",
     "output_type": "error",
     "traceback": [
      "\u001b[1;31m---------------------------------------------------------------------------\u001b[0m",
      "\u001b[1;31mNameError\u001b[0m                                 Traceback (most recent call last)",
      "\u001b[1;32m<ipython-input-121-e466f3df3453>\u001b[0m in \u001b[0;36mremoveColumns\u001b[1;34m(self, position, columns, parent)\u001b[0m\n\u001b[0;32m    113\u001b[0m         \u001b[0mrow_count\u001b[0m \u001b[1;33m=\u001b[0m \u001b[0mlen\u001b[0m\u001b[1;33m(\u001b[0m\u001b[0mself\u001b[0m\u001b[1;33m.\u001b[0m\u001b[0m_spectras\u001b[0m\u001b[1;33m)\u001b[0m\u001b[1;33m\u001b[0m\u001b[0m\n\u001b[0;32m    114\u001b[0m \u001b[1;33m\u001b[0m\u001b[0m\n\u001b[1;32m--> 115\u001b[1;33m         \u001b[1;32mfor\u001b[0m \u001b[0mi\u001b[0m \u001b[1;32min\u001b[0m \u001b[0mrange\u001b[0m\u001b[1;33m(\u001b[0m\u001b[0mrows\u001b[0m\u001b[1;33m)\u001b[0m\u001b[1;33m:\u001b[0m\u001b[1;33m\u001b[0m\u001b[0m\n\u001b[0m\u001b[0;32m    116\u001b[0m             \u001b[1;32mfor\u001b[0m \u001b[0mj\u001b[0m \u001b[1;32min\u001b[0m \u001b[0mrange\u001b[0m\u001b[1;33m(\u001b[0m\u001b[0mcolumns\u001b[0m\u001b[1;33m)\u001b[0m\u001b[1;33m:\u001b[0m\u001b[1;33m\u001b[0m\u001b[0m\n\u001b[0;32m    117\u001b[0m                 \u001b[0mvalue\u001b[0m \u001b[1;33m=\u001b[0m \u001b[0mself\u001b[0m\u001b[1;33m.\u001b[0m\u001b[0m_spectras\u001b[0m\u001b[1;33m[\u001b[0m\u001b[0mi\u001b[0m\u001b[1;33m]\u001b[0m\u001b[1;33m[\u001b[0m\u001b[0mposition\u001b[0m\u001b[1;33m]\u001b[0m\u001b[1;33m\u001b[0m\u001b[0m\n",
      "\u001b[1;31mNameError\u001b[0m: name 'rows' is not defined"
     ]
    },
    {
     "data": {
      "text/plain": [
       "False"
      ]
     },
     "execution_count": 136,
     "metadata": {},
     "output_type": "execute_result"
    }
   ],
   "source": [
    "model.removeColumn(1)"
   ]
  },
  {
   "cell_type": "code",
   "execution_count": 133,
   "metadata": {
    "collapsed": true
   },
   "outputs": [],
   "source": [
    "listView = QtGui.QListView()"
   ]
  },
  {
   "cell_type": "code",
   "execution_count": 39,
   "metadata": {
    "collapsed": false
   },
   "outputs": [],
   "source": [
    "listView.setModel(model)"
   ]
  },
  {
   "cell_type": "code",
   "execution_count": 22,
   "metadata": {
    "collapsed": false
   },
   "outputs": [],
   "source": [
    "listView.show()"
   ]
  },
  {
   "cell_type": "code",
   "execution_count": 228,
   "metadata": {
    "collapsed": false
   },
   "outputs": [],
   "source": [
    "tableView.setItemDelegateForColumn(1, ButtonDelegate(tableView))"
   ]
  },
  {
   "cell_type": "code",
   "execution_count": 386,
   "metadata": {
    "collapsed": false
   },
   "outputs": [],
   "source": [
    "class TableView(QtGui.QTableView):\n",
    "    \"\"\"\n",
    "    A simple table to demonstrate the QComboBox delegate.\n",
    "    \"\"\"\n",
    "    def __init__(self, *args, model=None, **kwargs):\n",
    "        QtGui.QTableView.__init__(self, *args, **kwargs)\n",
    "        self.setModel(model)\n",
    "        # Set the delegate for column 1 of our table\n",
    "        self.setItemDelegateForColumn(1, ButtonDelegate(self))\n",
    "        self.initial_editor()\n",
    "    \n",
    "    def initial_editor(self):\n",
    "        for row in range(self.model().rowCount(self)):\n",
    "            self.openPersistentEditor(self.model().index(row, 1))\n",
    "        \n",
    "    def add_editor(self, index):\n",
    "        row = index.row()\n",
    "        self.openPersistentEditor(index(row, 1))\n",
    "            \n",
    "    def remove_editor(self, index):\n",
    "        row = index.row()\n",
    "        self.closePersistentEditor(index(row, 1))\n",
    "        "
   ]
  },
  {
   "cell_type": "code",
   "execution_count": 388,
   "metadata": {
    "collapsed": false
   },
   "outputs": [],
   "source": [
    "tableView = TableView(model=model)\n",
    "tableView.show()"
   ]
  },
  {
   "cell_type": "code",
   "execution_count": 379,
   "metadata": {
    "collapsed": false
   },
   "outputs": [],
   "source": [
    "tableView.setModel(None)"
   ]
  },
  {
   "cell_type": "code",
   "execution_count": 383,
   "metadata": {
    "collapsed": false
   },
   "outputs": [
    {
     "data": {
      "text/plain": [
       "<PyQt4.QtCore.QModelIndex at 0x7ff57e577978>"
      ]
     },
     "execution_count": 383,
     "metadata": {},
     "output_type": "execute_result"
    }
   ],
   "source": [
    "model.index(0,0)"
   ]
  },
  {
   "cell_type": "code",
   "execution_count": 382,
   "metadata": {
    "collapsed": false
   },
   "outputs": [
    {
     "data": {
      "text/plain": [
       "<PyQt4.QtCore.QModelIndex at 0x7ff57e562978>"
      ]
     },
     "execution_count": 382,
     "metadata": {},
     "output_type": "execute_result"
    }
   ],
   "source": [
    "tableView.model().index(0,0)"
   ]
  },
  {
   "cell_type": "code",
   "execution_count": 380,
   "metadata": {
    "collapsed": false
   },
   "outputs": [],
   "source": [
    "tableView.setModel(model)\n",
    "#for row in range(model.rowCount(tableView)):\n",
    "#    tableView.openPersistentEditor(model.index(row, 1))"
   ]
  },
  {
   "cell_type": "code",
   "execution_count": 377,
   "metadata": {
    "collapsed": false
   },
   "outputs": [],
   "source": [
    "tableView.update_color()"
   ]
  },
  {
   "cell_type": "code",
   "execution_count": 268,
   "metadata": {
    "collapsed": false
   },
   "outputs": [
    {
     "data": {
      "text/plain": [
       "<__main__.EDXListModel at 0x7ff57e594288>"
      ]
     },
     "execution_count": 268,
     "metadata": {},
     "output_type": "execute_result"
    }
   ],
   "source": [
    "tableView.model()"
   ]
  },
  {
   "cell_type": "code",
   "execution_count": 348,
   "metadata": {
    "collapsed": false
   },
   "outputs": [],
   "source": [
    "tableView.update_color()"
   ]
  },
  {
   "cell_type": "code",
   "execution_count": 389,
   "metadata": {
    "collapsed": false
   },
   "outputs": [
    {
     "data": {
      "text/plain": [
       "True"
      ]
     },
     "execution_count": 389,
     "metadata": {},
     "output_type": "execute_result"
    }
   ],
   "source": [
    "model.insertRows(1,2)"
   ]
  },
  {
   "cell_type": "code",
   "execution_count": 359,
   "metadata": {
    "collapsed": false
   },
   "outputs": [
    {
     "data": {
      "text/plain": [
       "0"
      ]
     },
     "execution_count": 359,
     "metadata": {},
     "output_type": "execute_result"
    }
   ],
   "source": [
    "tableView."
   ]
  },
  {
   "cell_type": "code",
   "execution_count": 63,
   "metadata": {
    "collapsed": false
   },
   "outputs": [
    {
     "data": {
      "text/plain": [
       "[[<pyqtgraph.graphicsItems.PlotCurveItem.PlotCurveItem at 0x7ff583215438>,\n",
       "  '56',\n",
       "  '5'],\n",
       " [<pyqtgraph.graphicsItems.PlotCurveItem.PlotCurveItem at 0x7ff58332d318>,\n",
       "  0.0],\n",
       " [<pyqtgraph.graphicsItems.PlotCurveItem.PlotCurveItem at 0x7ff5831bf5e8>]]"
      ]
     },
     "execution_count": 63,
     "metadata": {},
     "output_type": "execute_result"
    }
   ],
   "source": [
    "model._spectras"
   ]
  },
  {
   "cell_type": "code",
   "execution_count": 96,
   "metadata": {
    "collapsed": true
   },
   "outputs": [],
   "source": [
    "a = pandas.DataFrame()"
   ]
  },
  {
   "cell_type": "code",
   "execution_count": 99,
   "metadata": {
    "collapsed": false
   },
   "outputs": [],
   "source": [
    "a = a.append(['thingy','thingsy','awesome'])"
   ]
  },
  {
   "cell_type": "code",
   "execution_count": 115,
   "metadata": {
    "collapsed": false
   },
   "outputs": [],
   "source": [
    "a = pandas.concat([a, pandas.DataFrame([item1, item1, item1])], axis=1)"
   ]
  },
  {
   "cell_type": "code",
   "execution_count": 117,
   "metadata": {
    "collapsed": false
   },
   "outputs": [
    {
     "data": {
      "text/plain": [
       "0     thingy\n",
       "1    thingsy\n",
       "2     awsome\n",
       "Name: spectra, dtype: object"
      ]
     },
     "execution_count": 117,
     "metadata": {},
     "output_type": "execute_result"
    }
   ],
   "source": [
    "a.spectra"
   ]
  },
  {
   "cell_type": "code",
   "execution_count": 114,
   "metadata": {
    "collapsed": false
   },
   "outputs": [
    {
     "ename": "TypeError",
     "evalue": "append() got an unexpected keyword argument 'index'",
     "output_type": "error",
     "traceback": [
      "\u001b[1;31m---------------------------------------------------------------------------\u001b[0m",
      "\u001b[1;31mTypeError\u001b[0m                                 Traceback (most recent call last)",
      "\u001b[1;32m<ipython-input-114-87bc8931c10e>\u001b[0m in \u001b[0;36m<module>\u001b[1;34m()\u001b[0m\n\u001b[1;32m----> 1\u001b[1;33m \u001b[0ma\u001b[0m\u001b[1;33m.\u001b[0m\u001b[0mappend\u001b[0m\u001b[1;33m(\u001b[0m\u001b[1;33m[\u001b[0m\u001b[0mitem1\u001b[0m\u001b[1;33m,\u001b[0m \u001b[0mitem1\u001b[0m\u001b[1;33m,\u001b[0m \u001b[0mitem1\u001b[0m\u001b[1;33m]\u001b[0m\u001b[1;33m,\u001b[0m \u001b[0mindex\u001b[0m\u001b[1;33m=\u001b[0m\u001b[1;33m[\u001b[0m\u001b[1;36m0\u001b[0m\u001b[1;33m,\u001b[0m\u001b[1;36m1\u001b[0m\u001b[1;33m,\u001b[0m\u001b[1;36m2\u001b[0m\u001b[1;33m]\u001b[0m \u001b[1;33m)\u001b[0m\u001b[1;33m\u001b[0m\u001b[0m\n\u001b[0m",
      "\u001b[1;31mTypeError\u001b[0m: append() got an unexpected keyword argument 'index'"
     ]
    }
   ],
   "source": [
    "a.append([item1, item1, item1], index=[0,1,2] )"
   ]
  },
  {
   "cell_type": "code",
   "execution_count": 189,
   "metadata": {
    "collapsed": true
   },
   "outputs": [],
   "source": [
    "hdhd = [1,2,3,4,5,6,7,8]"
   ]
  },
  {
   "cell_type": "code",
   "execution_count": 190,
   "metadata": {
    "collapsed": false
   },
   "outputs": [
    {
     "data": {
      "text/plain": [
       "5"
      ]
     },
     "execution_count": 190,
     "metadata": {},
     "output_type": "execute_result"
    }
   ],
   "source": [
    "hdhd.pop(4)"
   ]
  },
  {
   "cell_type": "code",
   "execution_count": 200,
   "metadata": {
    "collapsed": false
   },
   "outputs": [
    {
     "data": {
      "text/plain": [
       "<function QPen.setColor>"
      ]
     },
     "execution_count": 200,
     "metadata": {},
     "output_type": "execute_result"
    }
   ],
   "source": [
    "item1.opts['pen'].setColor"
   ]
  },
  {
   "cell_type": "code",
   "execution_count": 330,
   "metadata": {
    "collapsed": true
   },
   "outputs": [],
   "source": [
    "class ButtonDelegate(QtGui.QItemDelegate):\n",
    "\n",
    "    def __init__(self, parent):\n",
    "        QtGui.QItemDelegate.__init__(self, parent)\n",
    "\n",
    "    def createEditor(self, parent, option, index):\n",
    "        combo = pg.ColorButton(parent, index.data())\n",
    "\n",
    "        #self.connect(combo, QtCore.SIGNAL(\"currentIndexChanged(int)\"), self, QtCore.SLOT(\"currentIndexChanged()\"))\n",
    "        combo.sigColorChanged.connect(self.currentIndexChanged)\n",
    "        return combo\n",
    "        \n",
    "    def setEditorData(self, editor, index):\n",
    "        editor.blockSignals(True)\n",
    "        #editor.setColor(index.data(index))\n",
    "        editor.blockSignals(False)\n",
    "        \n",
    "    def setModelData(self, editor, model, index):\n",
    "        model.setData(index, editor.color())\n",
    "        \n",
    "    @QtCore.pyqtSlot()\n",
    "    def currentIndexChanged(self):\n",
    "        self.commitData.emit(self.sender())"
   ]
  },
  {
   "cell_type": "code",
   "execution_count": 211,
   "metadata": {
    "collapsed": true
   },
   "outputs": [],
   "source": [
    "class ButtonDelegate(QtGui.QItemDelegate):\n",
    "\n",
    "    def __init__(self, parent):\n",
    "        QtGui.QItemDelegate.__init__(self, parent)\n",
    "\n",
    "    def createEditor(self, parent, option, index):\n",
    "        combo = pg.ColorButton(parent, index.data())\n",
    "\n",
    "        #self.connect(combo, QtCore.SIGNAL(\"currentIndexChanged(int)\"), self, QtCore.SLOT(\"currentIndexChanged()\"))\n",
    "        combo.clicked.connect(self.currentIndexChanged)\n",
    "        return combo\n",
    "        \n",
    "    def setEditorData(self, editor, index):\n",
    "        editor.blockSignals(True)\n",
    "        editor.setColor(int(index.model().data(index)))\n",
    "        editor.blockSignals(False)\n",
    "        \n",
    "    def setModelData(self, editor, model, index):\n",
    "        model.setData(index, editor.color())\n",
    "        \n",
    "    @QtCore.pyqtSlot()\n",
    "    def currentIndexChanged(self):\n",
    "        self.commitData.emit(self.sender())"
   ]
  },
  {
   "cell_type": "code",
   "execution_count": 202,
   "metadata": {
    "collapsed": true
   },
   "outputs": [],
   "source": [
    "but = pg.ColorButton()"
   ]
  },
  {
   "cell_type": "code",
   "execution_count": 203,
   "metadata": {
    "collapsed": true
   },
   "outputs": [],
   "source": [
    "but.show()"
   ]
  },
  {
   "cell_type": "code",
   "execution_count": 208,
   "metadata": {
    "collapsed": false
   },
   "outputs": [],
   "source": [
    "but.setColor(pg.mkColor('r'))"
   ]
  },
  {
   "cell_type": "code",
   "execution_count": 207,
   "metadata": {
    "collapsed": false
   },
   "outputs": [
    {
     "data": {
      "text/plain": [
       "<PyQt4.QtGui.QColor at 0x7ff587983588>"
      ]
     },
     "execution_count": 207,
     "metadata": {},
     "output_type": "execute_result"
    }
   ],
   "source": [
    "pg.mkColor('r')"
   ]
  },
  {
   "cell_type": "code",
   "execution_count": 210,
   "metadata": {
    "collapsed": false
   },
   "outputs": [
    {
     "data": {
      "text/plain": [
       "<PyQt4.QtGui.QColor at 0x7ff57ee8cf98>"
      ]
     },
     "execution_count": 210,
     "metadata": {},
     "output_type": "execute_result"
    }
   ],
   "source": [
    "but.color()"
   ]
  },
  {
   "cell_type": "code",
   "execution_count": 234,
   "metadata": {
    "collapsed": false
   },
   "outputs": [],
   "source": [
    "kaka = ButtonDelegate(None)"
   ]
  },
  {
   "cell_type": "code",
   "execution_count": 235,
   "metadata": {
    "collapsed": false
   },
   "outputs": [
    {
     "data": {
      "text/plain": [
       "<__main__.ButtonDelegate at 0x7ff57ecd0ee8>"
      ]
     },
     "execution_count": 235,
     "metadata": {},
     "output_type": "execute_result"
    }
   ],
   "source": []
  },
  {
   "cell_type": "code",
   "execution_count": 236,
   "metadata": {
    "collapsed": false
   },
   "outputs": [
    {
     "ename": "TypeError",
     "evalue": "colorSelected() missing 1 required positional argument: 'color'",
     "output_type": "error",
     "traceback": [
      "\u001b[1;31m---------------------------------------------------------------------------\u001b[0m",
      "\u001b[1;31mTypeError\u001b[0m                                 Traceback (most recent call last)",
      "\u001b[1;32m<ipython-input-236-b29f564d5c8f>\u001b[0m in \u001b[0;36m<module>\u001b[1;34m()\u001b[0m\n\u001b[1;32m----> 1\u001b[1;33m \u001b[0mbut\u001b[0m\u001b[1;33m.\u001b[0m\u001b[0mcolorSelected\u001b[0m\u001b[1;33m(\u001b[0m\u001b[1;33m)\u001b[0m\u001b[1;33m\u001b[0m\u001b[0m\n\u001b[0m",
      "\u001b[1;31mTypeError\u001b[0m: colorSelected() missing 1 required positional argument: 'color'"
     ]
    }
   ],
   "source": [
    "but.sigColorChanged."
   ]
  },
  {
   "cell_type": "code",
   "execution_count": 325,
   "metadata": {
    "collapsed": false
   },
   "outputs": [],
   "source": [
    "index = model.index(0,1)"
   ]
  },
  {
   "cell_type": "code",
   "execution_count": 329,
   "metadata": {
    "collapsed": false
   },
   "outputs": [
    {
     "data": {
      "text/plain": [
       "<PyQt4.QtGui.QColor at 0x7ff57e577748>"
      ]
     },
     "execution_count": 329,
     "metadata": {},
     "output_type": "execute_result"
    }
   ],
   "source": [
    "index.data()"
   ]
  },
  {
   "cell_type": "code",
   "execution_count": null,
   "metadata": {
    "collapsed": true
   },
   "outputs": [],
   "source": [
    "TableView."
   ]
  }
 ],
 "metadata": {
  "kernelspec": {
   "display_name": "Python 3",
   "language": "python",
   "name": "python3"
  },
  "language_info": {
   "codemirror_mode": {
    "name": "ipython",
    "version": 3
   },
   "file_extension": ".py",
   "mimetype": "text/x-python",
   "name": "python",
   "nbconvert_exporter": "python",
   "pygments_lexer": "ipython3",
   "version": "3.4.2"
  }
 },
 "nbformat": 4,
 "nbformat_minor": 0
}
